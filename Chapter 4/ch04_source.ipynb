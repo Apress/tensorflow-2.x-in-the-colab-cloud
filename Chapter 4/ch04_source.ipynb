{
  "nbformat": 4,
  "nbformat_minor": 0,
  "metadata": {
    "accelerator": "GPU",
    "colab": {
      "name": "ch4.ipynb",
      "provenance": [],
      "collapsed_sections": []
    },
    "kernelspec": {
      "display_name": "Python 3",
      "language": "python",
      "name": "python3"
    },
    "language_info": {
      "codemirror_mode": {
        "name": "ipython",
        "version": 3
      },
      "file_extension": ".py",
      "mimetype": "text/x-python",
      "name": "python",
      "nbconvert_exporter": "python",
      "pygments_lexer": "ipython3",
      "version": "3.7.3"
    }
  },
  "cells": [
    {
      "cell_type": "markdown",
      "metadata": {
        "colab_type": "text",
        "id": "MmHHkv6nyW_d"
      },
      "source": [
        "# Working with Other Data\n",
        "\n",
        "In the previous chapter, we showed you how to work with TensorFlow Datasets. But, what if you have another type of dataset? In this chapter, we will show you how to work with other types of data with TensorFlow."
      ]
    },
    {
      "cell_type": "markdown",
      "metadata": {
        "colab_type": "text",
        "id": "WQjIlVlBB41e"
      },
      "source": [
        "# Build TensorFlow input pipelines with tf.data\n",
        "\n",
        "Although our content is designed for a beginner, TensorFlow is a very complex module. So, we must introduce the reader to complex terminology. But, don't get worried! The examples we show are simple, clear, and explained in detail so that even a beginner should be able to grasp the content.\n",
        "\n",
        "Let's begin with terminology surrounding the tf.data API. The **tf.data** API enables you to build simple to complex input pipelines from simple and reusable pieces. For example, the pipeline for an image model might aggregate data from files in a distributed file system, apply random perturbations to each image, and merge randomly selected images into a batch for training.\n",
        "\n",
        "**Data perturbation** is a form of privacy-preserving data mining for electronic health records (EHR). There are two main types of data perturbation appropriate for EHR data protection. The first type is known as the probability distribution approach and the second type is called the value distortion approach. Data pertubation is considered a relatively easy and effective technique in for protecting sensitive electronic data from unauthorized use.\n",
        "\n",
        "The pipeline for a text model might involve extracting symbols from raw text data, converting them to embedding identifiers with a lookup table, and batching together sequences of different lengths. The tf.data API makes it possible to handle large amounts of data, read from different data formats, and perform complex transformations.\n",
        "\n",
        "The tf.data API introduces a tf.data.Dataset abstraction that represents a sequence of elements where each element consists of one or more components. For example, in an image pipeline, an element might be a single training example, with a pair of tensor components representing the image and its label.\n",
        "\n",
        "There are **two** distinct ways to create a dataset:\n",
        "\n",
        "1. A data source constructs a Dataset from data stored in memory or in one or more files.\n",
        "\n",
        "2. A data transformation constructs a dataset from one or more tf.data.Dataset objects.\n",
        "\n",
        "You can explore this topic in more depth by perusing this URL:\n",
        "\n",
        "* https://www.tensorflow.org/guide/data"
      ]
    },
    {
      "cell_type": "markdown",
      "metadata": {
        "colab_type": "text",
        "id": "Zdhydm1ivbFa"
      },
      "source": [
        "# Enable the GPU"
      ]
    },
    {
      "cell_type": "markdown",
      "metadata": {
        "id": "HY03RT3bB-wH",
        "colab_type": "text"
      },
      "source": [
        "Enable the GPU (if not already enabled):\n",
        "1.\tclick **Runtime** in the top left menu\n",
        "2.\tclick **Change runtime type** from the drop-down menu\n",
        "3.\tchoose **GPU** from the *Hardware accelerator* drop-down menu\n",
        "4.\tclick **SAVE**"
      ]
    },
    {
      "cell_type": "code",
      "metadata": {
        "id": "bno7BxKF53qZ",
        "colab_type": "code",
        "colab": {
          "base_uri": "https://localhost:8080/",
          "height": 34
        },
        "outputId": "dc28d8ee-83e8-40f4-9e42-d5551c24c5dd"
      },
      "source": [
        "import tensorflow as tf\n",
        "\n",
        "# display tf version and test if GPU is active\n",
        "\n",
        "tf.__version__, tf.test.gpu_device_name()"
      ],
      "execution_count": 1,
      "outputs": [
        {
          "output_type": "execute_result",
          "data": {
            "text/plain": [
              "('2.3.0', '/device:GPU:0')"
            ]
          },
          "metadata": {
            "tags": []
          },
          "execution_count": 1
        }
      ]
    },
    {
      "cell_type": "markdown",
      "metadata": {
        "id": "CFtZ81KtCL7k",
        "colab_type": "text"
      },
      "source": [
        "Import the tensorflow library. If '/device:GPU:0' is displayed, the GPU is active. If '..' is displayed, the regular CPU is active."
      ]
    },
    {
      "cell_type": "markdown",
      "metadata": {
        "colab_type": "text",
        "id": "8Kzui8OhFHld"
      },
      "source": [
        "# Basic mechanics\n",
        "\n",
        "To create an input pipeline, we must start with a data source. To construct a Dataset from data in memory that TensorFlow can work with, we can use **tf.data.Dataset.from_tensor_slices()** or **tf.data.Dataset.from_tensors()**. *from_tensor_slices* creates a dataset with a separate element for each piece of the input tensor. *from_tensors* combines the input and returns a dataset with a single element."
      ]
    },
    {
      "cell_type": "markdown",
      "metadata": {
        "colab_type": "text",
        "id": "Xaz04dHKHGyb"
      },
      "source": [
        "The Dataset object is a Python iterable. This makes it possible to consume its elements using a for loop. So, let's first create a tensor with **tf.data.Dataset.from_tensor_slices()**:"
      ]
    },
    {
      "cell_type": "code",
      "metadata": {
        "colab_type": "code",
        "id": "qkI7BMNKHLnS",
        "colab": {
          "base_uri": "https://localhost:8080/",
          "height": 34
        },
        "outputId": "dffc976a-33f8-48cf-c775-693ea80fc3dc"
      },
      "source": [
        "# create a 1D tensor\n",
        "\n",
        "ds = tf.data.Dataset.from_tensor_slices([8, 3, 0, 8, 2, 1])\n",
        "ds.element_spec"
      ],
      "execution_count": 3,
      "outputs": [
        {
          "output_type": "execute_result",
          "data": {
            "text/plain": [
              "TensorSpec(shape=(), dtype=tf.int32, name=None)"
            ]
          },
          "metadata": {
            "tags": []
          },
          "execution_count": 3
        }
      ]
    },
    {
      "cell_type": "markdown",
      "metadata": {
        "colab_type": "text",
        "id": "7rsPWlnUiBCq"
      },
      "source": [
        "We take the list [8, 3, 0, 8, 2, 1] and create a TensorSpec for TensorFlow consumption. That is, TensorFlow can only work with data created in a specific manner like we just did in this example."
      ]
    },
    {
      "cell_type": "markdown",
      "metadata": {
        "colab_type": "text",
        "id": "CWTWsbeEP4E5"
      },
      "source": [
        "Now, let's iterate it:"
      ]
    },
    {
      "cell_type": "code",
      "metadata": {
        "colab_type": "code",
        "id": "Lqv_66NYHVPh",
        "colab": {
          "base_uri": "https://localhost:8080/",
          "height": 247
        },
        "outputId": "8c338533-b605-4c89-aa45-a11890202398"
      },
      "source": [
        "# iterate and display tensor values\n",
        "\n",
        "for elem in ds:\n",
        "  print(elem.numpy())\n",
        "\n",
        "print ()\n",
        "\n",
        "# iterate without numpy method\n",
        "\n",
        "for elem in ds:\n",
        "  print(elem)"
      ],
      "execution_count": 4,
      "outputs": [
        {
          "output_type": "stream",
          "text": [
            "8\n",
            "3\n",
            "0\n",
            "8\n",
            "2\n",
            "1\n",
            "\n",
            "tf.Tensor(8, shape=(), dtype=int32)\n",
            "tf.Tensor(3, shape=(), dtype=int32)\n",
            "tf.Tensor(0, shape=(), dtype=int32)\n",
            "tf.Tensor(8, shape=(), dtype=int32)\n",
            "tf.Tensor(2, shape=(), dtype=int32)\n",
            "tf.Tensor(1, shape=(), dtype=int32)\n"
          ],
          "name": "stdout"
        }
      ]
    },
    {
      "cell_type": "markdown",
      "metadata": {
        "colab_type": "text",
        "id": "sGhiUxbZTXqy"
      },
      "source": [
        "As expected, *from_tensor_slices* creates a dataset with a **separate** element for each piece of the input tensor."
      ]
    },
    {
      "cell_type": "markdown",
      "metadata": {
        "colab_type": "text",
        "id": "AqsRpihtJJFI"
      },
      "source": [
        "The **numpy** method provides a convenient way to view tensor values."
      ]
    },
    {
      "cell_type": "markdown",
      "metadata": {
        "colab_type": "text",
        "id": "S600jGVaHa46"
      },
      "source": [
        "We can also create a Python iterator using **iter** and consuming its elements using **next**:"
      ]
    },
    {
      "cell_type": "code",
      "metadata": {
        "colab_type": "code",
        "id": "QoYG9RUPHkTS",
        "colab": {
          "base_uri": "https://localhost:8080/",
          "height": 34
        },
        "outputId": "773231ac-6d2f-4c94-d31f-12edbbf249ba"
      },
      "source": [
        "it = iter(ds)\n",
        "\n",
        "# display the first element\n",
        "\n",
        "next(it).numpy()"
      ],
      "execution_count": 5,
      "outputs": [
        {
          "output_type": "execute_result",
          "data": {
            "text/plain": [
              "8"
            ]
          },
          "metadata": {
            "tags": []
          },
          "execution_count": 5
        }
      ]
    },
    {
      "cell_type": "markdown",
      "metadata": {
        "colab_type": "text",
        "id": "fDYaVLLiSZ7J"
      },
      "source": [
        "Now, let's create a tensor with **tf.data.Dataset.from_tensors()**:"
      ]
    },
    {
      "cell_type": "code",
      "metadata": {
        "colab_type": "code",
        "id": "U-hvrwgPSeLx",
        "colab": {
          "base_uri": "https://localhost:8080/",
          "height": 34
        },
        "outputId": "8bcaa709-4a8d-4ad3-f38d-c492cf0d6615"
      },
      "source": [
        "# create a 1D tensor\n",
        "\n",
        "ds = tf.data.Dataset.from_tensors([8, 3, 0, 8, 2, 1])\n",
        "ds.element_spec"
      ],
      "execution_count": 6,
      "outputs": [
        {
          "output_type": "execute_result",
          "data": {
            "text/plain": [
              "TensorSpec(shape=(6,), dtype=tf.int32, name=None)"
            ]
          },
          "metadata": {
            "tags": []
          },
          "execution_count": 6
        }
      ]
    },
    {
      "cell_type": "markdown",
      "metadata": {
        "colab_type": "text",
        "id": "iSOa5r0Biwgz"
      },
      "source": [
        "Notice that the shape is different that the one we did before. The dataset created is a 1D tensor with six elements."
      ]
    },
    {
      "cell_type": "code",
      "metadata": {
        "colab_type": "code",
        "id": "9UMZ1LODTMwt",
        "colab": {
          "base_uri": "https://localhost:8080/",
          "height": 70
        },
        "outputId": "a0e432e3-2689-4430-e11c-107616108811"
      },
      "source": [
        "# iterate and display tensor values\n",
        "\n",
        "for elem in ds:\n",
        "  print(elem.numpy())\n",
        "\n",
        "print ()\n",
        "\n",
        "# iterate without numpy method\n",
        "\n",
        "for elem in ds:\n",
        "  print(elem)"
      ],
      "execution_count": 7,
      "outputs": [
        {
          "output_type": "stream",
          "text": [
            "[8 3 0 8 2 1]\n",
            "\n",
            "tf.Tensor([8 3 0 8 2 1], shape=(6,), dtype=int32)\n"
          ],
          "name": "stdout"
        }
      ]
    },
    {
      "cell_type": "markdown",
      "metadata": {
        "colab_type": "text",
        "id": "JyK7Wv7CTfX7"
      },
      "source": [
        "As expected, *from_tensors* combines the input and returns a dataset with a **single** element."
      ]
    },
    {
      "cell_type": "markdown",
      "metadata": {
        "colab_type": "text",
        "id": "ZxSSqRAiKq2P"
      },
      "source": [
        "# TensorFlow Dataset Structure\n",
        "\n",
        "A dataset contains elements that each have the same (nested) structure and the individual components of the structure can have any type representable by tf.TypeSpec, including tf.Tensor, tf.sparse.SparseTensor, tf.RaggedTensor, tf.TensorArray or tf.data.Dataset. The Dataset.element_spec property allows us to inspect the type of each element component. The property returns a nested structure of **tf.TypeSpec** objects that match the structure of the element. The element may be a single component, a tuple of components, or a nested tuple of components."
      ]
    },
    {
      "cell_type": "markdown",
      "metadata": {
        "id": "Tpn7io_P3YNq",
        "colab_type": "text"
      },
      "source": [
        "We can better undertand the structure with an example:"
      ]
    },
    {
      "cell_type": "code",
      "metadata": {
        "colab_type": "code",
        "id": "I71orJy1LGZU",
        "colab": {
          "base_uri": "https://localhost:8080/",
          "height": 496
        },
        "outputId": "7435e649-7e62-4a5e-a484-7cb834df8baa"
      },
      "source": [
        "br = '\\n'  # enter a line break in Colab\n",
        "\n",
        "# create random uniform numbers\n",
        "\n",
        "scope = tf.random.uniform([4, 10])\n",
        "\n",
        "print ('shape:', scope.shape, br)\n",
        "\n",
        "ds = tf.data.Dataset.from_tensor_slices(scope)\n",
        "\n",
        "print (ds.element_spec, br)\n",
        "\n",
        "# Let's look at the first element:\n",
        "\n",
        "it = iter(ds)\n",
        "\n",
        "# print first element\n",
        "\n",
        "print ('first element with an iterator:', br)\n",
        "print (next(it).numpy(), br)\n",
        "\n",
        "print ('all four elements:', br)\n",
        "for i, row in enumerate(ds):\n",
        "  print ('element ' + str(i+1))  # add 1 as index starts at 0\n",
        "  print (row.numpy(), br)"
      ],
      "execution_count": 8,
      "outputs": [
        {
          "output_type": "stream",
          "text": [
            "shape: (4, 10) \n",
            "\n",
            "TensorSpec(shape=(10,), dtype=tf.float32, name=None) \n",
            "\n",
            "first element with an iterator: \n",
            "\n",
            "[0.0581578  0.79309857 0.69896996 0.81702125 0.98984766 0.86179256\n",
            " 0.14303482 0.40547097 0.47149003 0.34676874] \n",
            "\n",
            "all four elements: \n",
            "\n",
            "element 1\n",
            "[0.0581578  0.79309857 0.69896996 0.81702125 0.98984766 0.86179256\n",
            " 0.14303482 0.40547097 0.47149003 0.34676874] \n",
            "\n",
            "element 2\n",
            "[0.48216057 0.7784362  0.00329268 0.4117632  0.98375726 0.6739497\n",
            " 0.83714855 0.4739735  0.64531016 0.614542  ] \n",
            "\n",
            "element 3\n",
            "[0.4155928  0.01736057 0.8834257  0.04957199 0.3123219  0.30262208\n",
            " 0.1989646  0.7061436  0.31533206 0.61756516] \n",
            "\n",
            "element 4\n",
            "[0.6816633  0.15938675 0.6550262  0.11743009 0.6207055  0.18460059\n",
            " 0.6497991  0.00868285 0.9807471  0.93145454] \n",
            "\n"
          ],
          "name": "stdout"
        }
      ]
    },
    {
      "cell_type": "markdown",
      "metadata": {
        "colab_type": "text",
        "id": "A9QN0FEXjUmC"
      },
      "source": [
        "Since we used *from_tensor_slices*, the dataset consists of 4 separate 1D tensors each containing 10 elements."
      ]
    },
    {
      "cell_type": "markdown",
      "metadata": {
        "colab_type": "text",
        "id": "JnHa9GgTlgT0"
      },
      "source": [
        "# Reading Input Data\n",
        "\n",
        "If all of your input data fits in memory, the simplest way to create a Dataset for TensorFlow consumption is to convert them to tf.Tensor objects with **Dataset.from_tensor_slices()**.\n",
        "\n",
        "# Colab Abends\n",
        "\n",
        "As noted in chapters 1 and 2, we've noticed that when we run Google Colab for a long time (several hours) without pause or load large datasets into memory and process said data, it has the tendency to crash (or abend). When this happens, you have two choices that we know of:\n",
        "\n",
        "1. Restart all runtimes.\n",
        "\n",
        "2. Close the program and restart it from scratch.\n",
        "\n",
        "To restart all runtimes, click the **Runtime** on the top menu, click **Restart all runtimes...**, and click **Yes** when prompted. Google Colab recommends this option. If we are going to restart from scratch, we clear browser history first and then start Google Colab from scratch.\n",
        "\n",
        "# Batch Size\n",
        "\n",
        "**Batch size** is the number of training examples *processed* by the neural network model in one pass. Don't get batch size confused with epochs! An **epoch** is a complete pass through the training dataset. So, the number of epochs is the number of complete passes through the training dataset. Epochs have nothing to do with the processing of training examples! They just represent the number of passes through the network. Simply, during each pass (epoch) through the network, a *batch* of the training dataset is processed.\n",
        "\n",
        "The size of a batch must be more than or equal to one and less than or equal to the number of samples in the training dataset. This makes sense because you can't have a batch that is bigger than the total number of training examples.\n",
        "\n",
        "TensorFlow is **optimized** to run batches of training data much greater than one. So, a batch size of **one** is *very inefficient*! Since a batch size of one represents the entire training dataset, we are not really batching data. So, unless you don't want to batch data, don't use a batch size of one!"
      ]
    },
    {
      "cell_type": "markdown",
      "metadata": {
        "id": "Fy54-tYianKU",
        "colab_type": "text"
      },
      "source": [
        "# Keras Data\n",
        "\n",
        "Let's grab the MNIST dataset from Keras instead of using *tf.load* and *tfds.builder* like we did in chapter 2. Let's begin by reading a **Keras** dataset into memory:"
      ]
    },
    {
      "cell_type": "code",
      "metadata": {
        "id": "kwdA61kCBHQb",
        "colab_type": "code",
        "colab": {
          "base_uri": "https://localhost:8080/",
          "height": 52
        },
        "outputId": "03929770-ca94-40a1-bac8-5e629ce6821e"
      },
      "source": [
        "train, test = tf.keras.datasets.mnist.load_data(path='mnist.npz')"
      ],
      "execution_count": 9,
      "outputs": [
        {
          "output_type": "stream",
          "text": [
            "Downloading data from https://storage.googleapis.com/tensorflow/tf-keras-datasets/mnist.npz\n",
            "11493376/11490434 [==============================] - 0s 0us/step\n"
          ],
          "name": "stdout"
        }
      ]
    },
    {
      "cell_type": "markdown",
      "metadata": {
        "colab_type": "text",
        "id": "yvnzW69osWn9"
      },
      "source": [
        "Both train and test data contain MNIST images and labels in a tuple. We can prove this with the following example:"
      ]
    },
    {
      "cell_type": "code",
      "metadata": {
        "colab_type": "code",
        "id": "675ja1aHs3f3",
        "colab": {
          "base_uri": "https://localhost:8080/",
          "height": 34
        },
        "outputId": "8c9a730d-e5fc-49e2-ead8-8d1917ae5a9b"
      },
      "source": [
        "type(train), type(test)"
      ],
      "execution_count": 11,
      "outputs": [
        {
          "output_type": "execute_result",
          "data": {
            "text/plain": [
              "(tuple, tuple)"
            ]
          },
          "metadata": {
            "tags": []
          },
          "execution_count": 11
        }
      ]
    },
    {
      "cell_type": "markdown",
      "metadata": {
        "colab_type": "text",
        "id": "Ce-rXjeos7f_"
      },
      "source": [
        "Let's explore the shapes of the train and test datasets:"
      ]
    },
    {
      "cell_type": "code",
      "metadata": {
        "colab_type": "code",
        "id": "R6m6iBdisW4L",
        "colab": {
          "base_uri": "https://localhost:8080/",
          "height": 176
        },
        "outputId": "0896b7c2-819a-4d58-8214-9e8fb28568a6"
      },
      "source": [
        "print ('train data:', br)\n",
        "print (train[0].shape)\n",
        "print (train[1].shape, br)\n",
        "print ('test data:', br)\n",
        "print (test[0].shape)\n",
        "print (test[1].shape)"
      ],
      "execution_count": 12,
      "outputs": [
        {
          "output_type": "stream",
          "text": [
            "train data: \n",
            "\n",
            "(60000, 28, 28)\n",
            "(60000,) \n",
            "\n",
            "test data: \n",
            "\n",
            "(10000, 28, 28)\n",
            "(10000,)\n"
          ],
          "name": "stdout"
        }
      ]
    },
    {
      "cell_type": "markdown",
      "metadata": {
        "colab_type": "text",
        "id": "FMykr5ZJtpEr"
      },
      "source": [
        "As we can see, train data consists of 60000 28x28 feature images and 60000 labels. And, test data consists of 10000 28x28 feature images and 10000 labels."
      ]
    },
    {
      "cell_type": "markdown",
      "metadata": {
        "colab_type": "text",
        "id": "4jxJQooIm6bY"
      },
      "source": [
        "## Build the Input Pipeline\n",
        "\n",
        "To prepare training data properly for TensorFlow consumption, we need to grab the images and labels and scale the images. Since pixel data is represented by a range from [0, 255], we divide each of the feature images by 255 to scale. Once we have the images and labels, we can convert it to a tf.Tensor object with *from_tensor_slices*: "
      ]
    },
    {
      "cell_type": "code",
      "metadata": {
        "colab_type": "code",
        "id": "FOEzYRUyl7eM",
        "colab": {
          "base_uri": "https://localhost:8080/",
          "height": 52
        },
        "outputId": "a445f885-b694-4527-ecab-5c2e0fb84c78"
      },
      "source": [
        "train_images, train_labels = train\n",
        "\n",
        "train_images = train_images / 255  # divide by 255 to scale\n",
        "\n",
        "train_k = tf.data.Dataset.from_tensor_slices(\n",
        "    (train_images, train_labels))\n",
        "train_k.element_spec"
      ],
      "execution_count": 13,
      "outputs": [
        {
          "output_type": "execute_result",
          "data": {
            "text/plain": [
              "(TensorSpec(shape=(28, 28), dtype=tf.float64, name=None),\n",
              " TensorSpec(shape=(), dtype=tf.uint8, name=None))"
            ]
          },
          "metadata": {
            "tags": []
          },
          "execution_count": 13
        }
      ]
    },
    {
      "cell_type": "markdown",
      "metadata": {
        "colab_type": "text",
        "id": "Mu24sogLnmYz"
      },
      "source": [
        "Let's also create a TensorFlow test dataset:"
      ]
    },
    {
      "cell_type": "code",
      "metadata": {
        "colab_type": "code",
        "id": "LoAG3NhUvO3p",
        "colab": {
          "base_uri": "https://localhost:8080/",
          "height": 34
        },
        "outputId": "d9b107d7-95e1-491d-c073-be7170bb8d46"
      },
      "source": [
        "test_images, test_labels = test\n",
        "\n",
        "test_images = test_images / 255  # divide by 255 to scale\n",
        "\n",
        "test_k = tf.data.Dataset.from_tensor_slices(\n",
        "    (test_images, test_labels))\n",
        "test_k"
      ],
      "execution_count": 14,
      "outputs": [
        {
          "output_type": "execute_result",
          "data": {
            "text/plain": [
              "<TensorSliceDataset shapes: ((28, 28), ()), types: (tf.float64, tf.uint8)>"
            ]
          },
          "metadata": {
            "tags": []
          },
          "execution_count": 14
        }
      ]
    },
    {
      "cell_type": "markdown",
      "metadata": {
        "colab_type": "text",
        "id": "8Dv4fPD91IIX"
      },
      "source": [
        "## Shuffling, Batching, and Prefetching\n",
        "\n",
        "Let's shuffle, batch, and prefectch data. We can adjust the batch size higher to see what happens. Changing batch size to 128 and buffer size to 1000 should help the model run faster and be more efficient. As discussed earlier in the chapter, don't ever use a batch size of one!"
      ]
    },
    {
      "cell_type": "code",
      "metadata": {
        "colab_type": "code",
        "id": "WEGSTDm2wH30",
        "colab": {}
      },
      "source": [
        "BATCH_SIZE = 128\n",
        "SHUFFLE_BUFFER_SIZE = 1000\n",
        "\n",
        "train_kd = train_k.shuffle(\n",
        "    SHUFFLE_BUFFER_SIZE).batch(BATCH_SIZE).prefetch(1)\n",
        "test_kd = test_k.batch(BATCH_SIZE).prefetch(1)"
      ],
      "execution_count": 15,
      "outputs": []
    },
    {
      "cell_type": "markdown",
      "metadata": {
        "colab_type": "text",
        "id": "RRnsoq1r1mJo"
      },
      "source": [
        "## Create the Model\n",
        "\n",
        "Now that we have the data prepared for training, let's go ahead and verify that all is well by creating a simple model and training the data."
      ]
    },
    {
      "cell_type": "code",
      "metadata": {
        "id": "I7JjbBuvG_nR",
        "colab_type": "code",
        "colab": {}
      },
      "source": [
        "from tensorflow.keras.models import Sequential\n",
        "from tensorflow.keras.layers import Dense, Flatten, Dropout\n",
        "from tensorflow import keras"
      ],
      "execution_count": 16,
      "outputs": []
    },
    {
      "cell_type": "code",
      "metadata": {
        "id": "jggXBltCHB7G",
        "colab_type": "code",
        "colab": {}
      },
      "source": [
        "# clear any previous models\n",
        "\n",
        "tf.keras.backend.clear_session()"
      ],
      "execution_count": 17,
      "outputs": []
    },
    {
      "cell_type": "code",
      "metadata": {
        "colab_type": "code",
        "id": "uoZP3QZk_e-2",
        "colab": {}
      },
      "source": [
        "model = Sequential([\n",
        "  Flatten(input_shape=[28, 28]),\n",
        "  Dense(512, activation='relu'),\n",
        "  Dropout(0.5),\n",
        "  Dense(10, activation='softmax')\n",
        "])"
      ],
      "execution_count": 18,
      "outputs": []
    },
    {
      "cell_type": "markdown",
      "metadata": {
        "colab_type": "text",
        "id": "iAI6q6DM_314"
      },
      "source": [
        "The model is a feedforward network with densely connected layers. That is, all neurons see the data. The first layer accepts 28 x 28 images and flattens each image into a 1D array consisting of 784 pixels. The second layer accepts data into 512 neurons and uses **relu** activation to minimize loss. The third layer uses **dropout** to mitigate overfitting. The fourth layer is the output layer. It accepts data into 10 neurons because our data has 10 class labels. It uses **softmax** activation to reduce loss."
      ]
    },
    {
      "cell_type": "markdown",
      "metadata": {
        "id": "VrgNRmnJIA9V",
        "colab_type": "text"
      },
      "source": [
        "# Model Summary"
      ]
    },
    {
      "cell_type": "code",
      "metadata": {
        "id": "JnbKHxsMIBEI",
        "colab_type": "code",
        "colab": {
          "base_uri": "https://localhost:8080/",
          "height": 301
        },
        "outputId": "5b0163e2-a6a4-4c85-c044-7abed4e5e712"
      },
      "source": [
        "model.summary()"
      ],
      "execution_count": 19,
      "outputs": [
        {
          "output_type": "stream",
          "text": [
            "Model: \"sequential\"\n",
            "_________________________________________________________________\n",
            "Layer (type)                 Output Shape              Param #   \n",
            "=================================================================\n",
            "flatten (Flatten)            (None, 784)               0         \n",
            "_________________________________________________________________\n",
            "dense (Dense)                (None, 512)               401920    \n",
            "_________________________________________________________________\n",
            "dropout (Dropout)            (None, 512)               0         \n",
            "_________________________________________________________________\n",
            "dense_1 (Dense)              (None, 10)                5130      \n",
            "=================================================================\n",
            "Total params: 407,050\n",
            "Trainable params: 407,050\n",
            "Non-trainable params: 0\n",
            "_________________________________________________________________\n"
          ],
          "name": "stdout"
        }
      ]
    },
    {
      "cell_type": "markdown",
      "metadata": {
        "colab_type": "text",
        "id": "d1MYJYceAzKo"
      },
      "source": [
        "## Compile the Model\n",
        "\n",
        "Now, we need to compile the model:"
      ]
    },
    {
      "cell_type": "code",
      "metadata": {
        "colab_type": "code",
        "id": "x5WuUtyLA4Du",
        "colab": {}
      },
      "source": [
        "model.compile(optimizer='adam',\n",
        "              loss='sparse_categorical_crossentropy',\n",
        "              metrics=['accuracy'])"
      ],
      "execution_count": 20,
      "outputs": []
    },
    {
      "cell_type": "markdown",
      "metadata": {
        "colab_type": "text",
        "id": "d6jqXGDhA5pG"
      },
      "source": [
        "We use the **sparse_categorical_crossentropy** function to mitigate loss and the **adam** function to tweak loss down even further."
      ]
    },
    {
      "cell_type": "markdown",
      "metadata": {
        "id": "k0UlAgDFbI4a",
        "colab_type": "text"
      },
      "source": [
        "## Train the Model"
      ]
    },
    {
      "cell_type": "code",
      "metadata": {
        "colab_type": "code",
        "id": "AReoY-evA7xm",
        "colab": {
          "base_uri": "https://localhost:8080/",
          "height": 372
        },
        "outputId": "629faaa2-1242-4550-b1a7-53b7bf8f48e2"
      },
      "source": [
        "epochs = 10\n",
        "history = model.fit(train_kd, epochs=epochs, verbose=1,\n",
        "                    validation_data=test_kd)"
      ],
      "execution_count": 21,
      "outputs": [
        {
          "output_type": "stream",
          "text": [
            "Epoch 1/10\n",
            "469/469 [==============================] - 2s 5ms/step - loss: 0.3355 - accuracy: 0.9028 - val_loss: 0.1520 - val_accuracy: 0.9543\n",
            "Epoch 2/10\n",
            "469/469 [==============================] - 2s 4ms/step - loss: 0.1613 - accuracy: 0.9528 - val_loss: 0.1078 - val_accuracy: 0.9671\n",
            "Epoch 3/10\n",
            "469/469 [==============================] - 2s 4ms/step - loss: 0.1224 - accuracy: 0.9633 - val_loss: 0.0903 - val_accuracy: 0.9723\n",
            "Epoch 4/10\n",
            "469/469 [==============================] - 2s 4ms/step - loss: 0.0979 - accuracy: 0.9713 - val_loss: 0.0794 - val_accuracy: 0.9753\n",
            "Epoch 5/10\n",
            "469/469 [==============================] - 2s 4ms/step - loss: 0.0831 - accuracy: 0.9746 - val_loss: 0.0737 - val_accuracy: 0.9757\n",
            "Epoch 6/10\n",
            "469/469 [==============================] - 2s 4ms/step - loss: 0.0712 - accuracy: 0.9778 - val_loss: 0.0684 - val_accuracy: 0.9780\n",
            "Epoch 7/10\n",
            "469/469 [==============================] - 2s 4ms/step - loss: 0.0638 - accuracy: 0.9799 - val_loss: 0.0683 - val_accuracy: 0.9770\n",
            "Epoch 8/10\n",
            "469/469 [==============================] - 2s 4ms/step - loss: 0.0562 - accuracy: 0.9822 - val_loss: 0.0644 - val_accuracy: 0.9804\n",
            "Epoch 9/10\n",
            "469/469 [==============================] - 2s 4ms/step - loss: 0.0520 - accuracy: 0.9835 - val_loss: 0.0628 - val_accuracy: 0.9809\n",
            "Epoch 10/10\n",
            "469/469 [==============================] - 2s 4ms/step - loss: 0.0476 - accuracy: 0.9850 - val_loss: 0.0622 - val_accuracy: 0.9804\n"
          ],
          "name": "stdout"
        }
      ]
    },
    {
      "cell_type": "markdown",
      "metadata": {
        "colab_type": "text",
        "id": "SQY00STgB4WO"
      },
      "source": [
        "Since epochs is set at 10, our model processes the dataset **10 times**. Notice that our model did quite well given that accuracy is quite high and loss is low. And, we don't have bad overfitting because our train and test accuracies are pretty close. "
      ]
    },
    {
      "cell_type": "markdown",
      "metadata": {
        "colab_type": "text",
        "id": "ceukE3k4pVhE"
      },
      "source": [
        "# Scikit-Learn Data\n",
        "\n",
        "We can also read in datasets from the Scikit-Learn library. First, we need to import the dataset. We can then grab the dataset:"
      ]
    },
    {
      "cell_type": "code",
      "metadata": {
        "colab_type": "code",
        "id": "Tx0Qg0y9phzY",
        "colab": {
          "base_uri": "https://localhost:8080/",
          "height": 87
        },
        "outputId": "140306e3-2454-45fa-c2e2-66cfe807fe23"
      },
      "source": [
        "from sklearn.datasets import fetch_lfw_people\n",
        "\n",
        "faces = fetch_lfw_people(min_faces_per_person=70, resize=0.4)"
      ],
      "execution_count": 22,
      "outputs": [
        {
          "output_type": "stream",
          "text": [
            "Downloading LFW metadata: https://ndownloader.figshare.com/files/5976012\n",
            "Downloading LFW metadata: https://ndownloader.figshare.com/files/5976009\n",
            "Downloading LFW metadata: https://ndownloader.figshare.com/files/5976006\n",
            "Downloading LFW data (~200MB): https://ndownloader.figshare.com/files/5976015\n"
          ],
          "name": "stderr"
        }
      ]
    },
    {
      "cell_type": "markdown",
      "metadata": {
        "colab_type": "text",
        "id": "NFSEw3uc4Dfm"
      },
      "source": [
        "The **fetch_lfw_people** dataset is a collection of JPEG pictures of famous people collected over the internet. All details are available on the official website:\n",
        "\n",
        "* http://vis-www.cs.umass.edu/lfw/\n",
        "\n",
        "Each picture is centered on a single face. The typical machine learning task is face verification. So, given a pair of pictures, we predict whether the two images are of the same person.\n",
        "\n",
        "An alternative machine learning task is face recognition (or face identification). So, given the picture of the face of an unknown person, we identify the name of the person by referring to a gallery of previously seen pictures of identified persons."
      ]
    },
    {
      "cell_type": "markdown",
      "metadata": {
        "colab_type": "text",
        "id": "nf4G4ufS3M5n"
      },
      "source": [
        "## Get Information about the Data\n",
        "\n",
        "Scikit-Learn datasets can contain several types of data and information. To explore the contents of a Scikit-Learn dataset, we can display its keys:"
      ]
    },
    {
      "cell_type": "code",
      "metadata": {
        "colab_type": "code",
        "id": "uu2UbwPh3NBI",
        "colab": {
          "base_uri": "https://localhost:8080/",
          "height": 34
        },
        "outputId": "84839c75-c953-4904-8dab-becb5476c19a"
      },
      "source": [
        "# get available keys from dataset\n",
        "\n",
        "print (faces.keys())"
      ],
      "execution_count": 23,
      "outputs": [
        {
          "output_type": "stream",
          "text": [
            "dict_keys(['data', 'images', 'target', 'target_names', 'DESCR'])\n"
          ],
          "name": "stdout"
        }
      ]
    },
    {
      "cell_type": "markdown",
      "metadata": {
        "colab_type": "text",
        "id": "BuqtQDPc3z0P"
      },
      "source": [
        "So, this dataset contains feature images and targets. It also contains target names and a description of the dataset. The *data* key happens to contain flattened vectors of each image. Let's display the data shapes:"
      ]
    },
    {
      "cell_type": "code",
      "metadata": {
        "colab_type": "code",
        "id": "T0Z0wnuy5LbH",
        "colab": {
          "base_uri": "https://localhost:8080/",
          "height": 336
        },
        "outputId": "491485ad-3e0c-42c4-beb6-d1fc0f97576e"
      },
      "source": [
        "image, target = faces.images, faces.target\n",
        "data = faces.data\n",
        "names = faces.target_names\n",
        "\n",
        "print ('feature image tensor:', br)\n",
        "print (image.shape, br)\n",
        "print ('target tensor:', br)\n",
        "print (target.shape, br)\n",
        "print ('flattened image tensor:', br)\n",
        "print (data.shape, br)\n",
        "print ('target names:', br)\n",
        "print (names, br)\n",
        "print ('class labels:', len(names))"
      ],
      "execution_count": 24,
      "outputs": [
        {
          "output_type": "stream",
          "text": [
            "feature image tensor: \n",
            "\n",
            "(1288, 50, 37) \n",
            "\n",
            "target tensor: \n",
            "\n",
            "(1288,) \n",
            "\n",
            "flattened image tensor: \n",
            "\n",
            "(1288, 1850) \n",
            "\n",
            "target names: \n",
            "\n",
            "['Ariel Sharon' 'Colin Powell' 'Donald Rumsfeld' 'George W Bush'\n",
            " 'Gerhard Schroeder' 'Hugo Chavez' 'Tony Blair'] \n",
            "\n",
            "class labels: 7\n"
          ],
          "name": "stdout"
        }
      ]
    },
    {
      "cell_type": "markdown",
      "metadata": {
        "colab_type": "text",
        "id": "iv0rVwTe7zj3"
      },
      "source": [
        "The feature image tensor consists of 1288 50x37 face images. The target tensor consists of 1288 targets. Finally, the data shape consists of 1288 flattened vectors each with 1850 elements. We get 1850 by multiplying 50 by 37."
      ]
    },
    {
      "cell_type": "markdown",
      "metadata": {
        "colab_type": "text",
        "id": "krHwEIxG8n-u"
      },
      "source": [
        "## Explore the First Example\n",
        "\n",
        "Now, let's explore the first example:"
      ]
    },
    {
      "cell_type": "code",
      "metadata": {
        "colab_type": "code",
        "id": "f_o6EE0J78i9",
        "colab": {
          "base_uri": "https://localhost:8080/",
          "height": 725
        },
        "outputId": "8e7a4282-2964-4572-83c7-b0e930c71b05"
      },
      "source": [
        "# display the first data example\n",
        "\n",
        "i = 0\n",
        "\n",
        "print ('first image example:', br)\n",
        "print (image[i], br)\n",
        "\n",
        "print ('first target example:', br)\n",
        "print (target[i], br)\n",
        "\n",
        "print ('name of first target:', br)\n",
        "print (names[target[i]], br)\n",
        "\n",
        "print ('first data example (flattened image):', br)\n",
        "print (data[i], br)\n",
        "\n",
        "print ('first image:', br)\n",
        "\n",
        "import matplotlib.pyplot as plt\n",
        "\n",
        "# display the first image in the dataset\n",
        "\n",
        "plt.imshow(image[i], cmap='bone')\n",
        "plt.title(names[target[i]])"
      ],
      "execution_count": 25,
      "outputs": [
        {
          "output_type": "stream",
          "text": [
            "first image example: \n",
            "\n",
            "[[254.       254.       251.66667  ...  65.333336  50.666668  40.333332]\n",
            " [253.33333  251.33333  247.33333  ...  66.666664  52.        42.666668]\n",
            " [240.66667  231.66667  211.66667  ...  62.        49.        42.      ]\n",
            " ...\n",
            " [ 74.333336  54.        31.666666 ...  97.666664  93.        90.      ]\n",
            " [ 65.333336  47.        30.333334 ...  91.666664  92.        86.333336]\n",
            " [ 59.333332  44.333332  32.333332 ...  87.333336  88.666664  86.666664]] \n",
            "\n",
            "first target example: \n",
            "\n",
            "5 \n",
            "\n",
            "name of first target: \n",
            "\n",
            "Hugo Chavez \n",
            "\n",
            "first data example (flattened image): \n",
            "\n",
            "[254.       254.       251.66667  ...  87.333336  88.666664  86.666664] \n",
            "\n",
            "first image: \n",
            "\n"
          ],
          "name": "stdout"
        },
        {
          "output_type": "execute_result",
          "data": {
            "text/plain": [
              "Text(0.5, 1.0, 'Hugo Chavez')"
            ]
          },
          "metadata": {
            "tags": []
          },
          "execution_count": 25
        },
        {
          "output_type": "display_data",
          "data": {
            "image/png": "[encoded data removed]",
            "text/plain": [
              "<Figure size 432x288 with 1 Axes>"
            ]
          },
          "metadata": {
            "tags": [],
            "needs_background": "light"
          }
        }
      ]
    },
    {
      "cell_type": "markdown",
      "metadata": {
        "colab_type": "text",
        "id": "PEW97JIh696X"
      },
      "source": [
        "Each image is represented by a 2D matrix. The target for the first image is **5**, which just happens to be an image of **Hugo Chavez**. We also display the first image as a flattened vector."
      ]
    },
    {
      "cell_type": "markdown",
      "metadata": {
        "colab_type": "text",
        "id": "YVu4_-hO9QFa"
      },
      "source": [
        "## Build the Input Pipeline\n",
        "\n",
        "Now, let's prepare this dataset for TensorFlow consumption. First, we need to create train and test datsets. Next, we need to scale image data. Finally, we can create TensorFlow tensors and prepare them for training:"
      ]
    },
    {
      "cell_type": "code",
      "metadata": {
        "colab_type": "code",
        "id": "iMj19T529UTz",
        "colab": {
          "base_uri": "https://localhost:8080/",
          "height": 212
        },
        "outputId": "97d1ea58-582e-4f79-85f4-f5ffa0cec775"
      },
      "source": [
        "from sklearn.model_selection import train_test_split\n",
        "\n",
        "# create train and test data\n",
        "X_train, X_test, y_train, y_test = train_test_split(\n",
        "    image, target, test_size=0.33, random_state=0)\n",
        "\n",
        "# scale feature image data and create TensorFlow tensors\n",
        "x_train = X_train / 255.0\n",
        "x_test = X_test / 255.0\n",
        "\n",
        "# get shapes\n",
        "print ('x_train shape:', end=' ')\n",
        "print (x_train.shape)\n",
        "print ('x_test shape:', end=' ')\n",
        "print (x_test.shape)\n",
        "\n",
        "# get sample entries\n",
        "print (x_train[0])\n",
        "print (X_train[0][0][0])\n",
        "print (x_train[0][0][0])"
      ],
      "execution_count": 35,
      "outputs": [
        {
          "output_type": "stream",
          "text": [
            "x_train shape: (862, 50, 37)\n",
            "x_test shape: (426, 50, 37)\n",
            "[[0.35424837 0.3895425  0.44575164 ... 0.5816993  0.55947715 0.6       ]\n",
            " [0.3712418  0.4013072  0.45620915 ... 0.64052284 0.5647059  0.5346405 ]\n",
            " [0.3647059  0.40392157 0.46666667 ... 0.6431373  0.593464   0.49673203]\n",
            " ...\n",
            " [0.81830066 0.7124183  0.50980395 ... 0.10326798 0.10196079 0.10849673]\n",
            " [0.8496732  0.85490197 0.779085   ... 0.09411765 0.09803922 0.10588235]\n",
            " [0.848366   0.8771242  0.89542484 ... 0.09150327 0.09803922 0.10588235]]\n",
            "90.333336\n",
            "0.35424837\n"
          ],
          "name": "stdout"
        }
      ]
    },
    {
      "cell_type": "markdown",
      "metadata": {
        "id": "OKng7KfLR8YG",
        "colab_type": "text"
      },
      "source": [
        "Slice data into TensorFlow consumable pieces:"
      ]
    },
    {
      "cell_type": "code",
      "metadata": {
        "colab_type": "code",
        "id": "4uDPZX1W-BqQ",
        "colab": {}
      },
      "source": [
        "faces_train = tf.data.Dataset.from_tensor_slices(\n",
        "    (X_train, y_train))\n",
        "faces_test = tf.data.Dataset.from_tensor_slices(\n",
        "    (X_test, y_test))"
      ],
      "execution_count": 36,
      "outputs": []
    },
    {
      "cell_type": "markdown",
      "metadata": {
        "id": "WJwy59gOEk3t",
        "colab_type": "text"
      },
      "source": [
        "Set batch and buffer sizes:"
      ]
    },
    {
      "cell_type": "code",
      "metadata": {
        "id": "M-PcBQ_WEk_A",
        "colab_type": "code",
        "colab": {}
      },
      "source": [
        "BATCH_SIZE = 16\n",
        "SHUFFLE_BUFFER_SIZE = 100"
      ],
      "execution_count": 40,
      "outputs": []
    },
    {
      "cell_type": "markdown",
      "metadata": {
        "colab_type": "text",
        "id": "54lSQCAqc3IN"
      },
      "source": [
        "Now, let's shuffle, batch and prefetch."
      ]
    },
    {
      "cell_type": "code",
      "metadata": {
        "colab_type": "code",
        "id": "JHY0JQ3r-Pta",
        "colab": {}
      },
      "source": [
        "faces_train_ds = (faces_train\n",
        "                  .shuffle(SHUFFLE_BUFFER_SIZE)\n",
        "                  .batch(BATCH_SIZE).prefetch(1))\n",
        "faces_test_ds = (faces_test\n",
        "                 .batch(BATCH_SIZE).prefetch(1))"
      ],
      "execution_count": 43,
      "outputs": []
    },
    {
      "cell_type": "markdown",
      "metadata": {
        "colab_type": "text",
        "id": "cwV03OwI_sMo"
      },
      "source": [
        "Now, we have the data ready for training. Notice that our batch size is smaller at 16 because our dataset is only 1288 samples."
      ]
    },
    {
      "cell_type": "markdown",
      "metadata": {
        "id": "N71xurv5FBYG",
        "colab_type": "text"
      },
      "source": [
        "Inspect tensors:"
      ]
    },
    {
      "cell_type": "code",
      "metadata": {
        "id": "gQyWiP4uFBdr",
        "colab_type": "code",
        "colab": {
          "base_uri": "https://localhost:8080/",
          "height": 52
        },
        "outputId": "520a037b-0bee-43a6-e096-3420463d37f6"
      },
      "source": [
        "faces_train_ds, faces_test_ds"
      ],
      "execution_count": 44,
      "outputs": [
        {
          "output_type": "execute_result",
          "data": {
            "text/plain": [
              "(<PrefetchDataset shapes: ((None, 50, 37), (None,)), types: (tf.float32, tf.int64)>,\n",
              " <PrefetchDataset shapes: ((None, 50, 37), (None,)), types: (tf.float32, tf.int64)>)"
            ]
          },
          "metadata": {
            "tags": []
          },
          "execution_count": 44
        }
      ]
    },
    {
      "cell_type": "markdown",
      "metadata": {
        "colab_type": "text",
        "id": "4PFGUkLREnip"
      },
      "source": [
        "## Build the Model\n",
        "\n",
        "Again, let's build a simple model and train the data to verify that we prepared the data properly."
      ]
    },
    {
      "cell_type": "code",
      "metadata": {
        "colab_type": "code",
        "id": "U-xncGYIE4WE",
        "colab": {}
      },
      "source": [
        "import numpy as np\n",
        "\n",
        "class_labels = len(names)\n",
        "\n",
        "# clear previous model and generate a seed\n",
        "tf.keras.backend.clear_session()\n",
        "np.random.seed(0)\n",
        "tf.random.set_seed(0)\n",
        "\n",
        "model = Sequential([\n",
        "  Flatten(input_shape=[50, 37]),\n",
        "  Dense(16, activation='relu'),\n",
        "  Dense(class_labels, activation='softmax')\n",
        "])"
      ],
      "execution_count": 45,
      "outputs": []
    },
    {
      "cell_type": "markdown",
      "metadata": {
        "colab_type": "text",
        "id": "FbucVBjZaOE7"
      },
      "source": [
        "## Model Summary"
      ]
    },
    {
      "cell_type": "code",
      "metadata": {
        "colab_type": "code",
        "id": "Qtj9zOsoaOOC",
        "colab": {
          "base_uri": "https://localhost:8080/",
          "height": 265
        },
        "outputId": "1fb5ff1a-c490-4749-efc7-b7809b3a0013"
      },
      "source": [
        "model.summary()"
      ],
      "execution_count": 46,
      "outputs": [
        {
          "output_type": "stream",
          "text": [
            "Model: \"sequential\"\n",
            "_________________________________________________________________\n",
            "Layer (type)                 Output Shape              Param #   \n",
            "=================================================================\n",
            "flatten (Flatten)            (None, 1850)              0         \n",
            "_________________________________________________________________\n",
            "dense (Dense)                (None, 16)                29616     \n",
            "_________________________________________________________________\n",
            "dense_1 (Dense)              (None, 7)                 119       \n",
            "=================================================================\n",
            "Total params: 29,735\n",
            "Trainable params: 29,735\n",
            "Non-trainable params: 0\n",
            "_________________________________________________________________\n"
          ],
          "name": "stdout"
        }
      ]
    },
    {
      "cell_type": "markdown",
      "metadata": {
        "colab_type": "text",
        "id": "VWHf-fCrFmxC"
      },
      "source": [
        "## Compile the Model"
      ]
    },
    {
      "cell_type": "code",
      "metadata": {
        "colab_type": "code",
        "id": "4NWEnYLiFoXu",
        "colab": {}
      },
      "source": [
        "model.compile(optimizer='adam',\n",
        "              loss='sparse_categorical_crossentropy',\n",
        "              metrics=['accuracy'])"
      ],
      "execution_count": 47,
      "outputs": []
    },
    {
      "cell_type": "markdown",
      "metadata": {
        "colab_type": "text",
        "id": "Cd33Q7mAKx13"
      },
      "source": [
        "## Train the Model"
      ]
    },
    {
      "cell_type": "code",
      "metadata": {
        "colab_type": "code",
        "id": "GeFoMuEVU6MY",
        "colab": {
          "base_uri": "https://localhost:8080/",
          "height": 372
        },
        "outputId": "25130ffe-4e3c-4cab-a24e-a9802a81801f"
      },
      "source": [
        "history = model.fit(faces_train_ds, epochs=10,\n",
        "                    validation_data=faces_test_ds)"
      ],
      "execution_count": 48,
      "outputs": [
        {
          "output_type": "stream",
          "text": [
            "Epoch 1/10\n",
            "54/54 [==============================] - 0s 6ms/step - loss: 11.5957 - accuracy: 0.3550 - val_loss: 1.9478 - val_accuracy: 0.4061\n",
            "Epoch 2/10\n",
            "54/54 [==============================] - 0s 4ms/step - loss: 1.9163 - accuracy: 0.4130 - val_loss: 1.9267 - val_accuracy: 0.4061\n",
            "Epoch 3/10\n",
            "54/54 [==============================] - 0s 4ms/step - loss: 1.8953 - accuracy: 0.4130 - val_loss: 1.9066 - val_accuracy: 0.4061\n",
            "Epoch 4/10\n",
            "54/54 [==============================] - 0s 4ms/step - loss: 1.8755 - accuracy: 0.4130 - val_loss: 1.8872 - val_accuracy: 0.4061\n",
            "Epoch 5/10\n",
            "54/54 [==============================] - 0s 4ms/step - loss: 1.8567 - accuracy: 0.4130 - val_loss: 1.8694 - val_accuracy: 0.4061\n",
            "Epoch 6/10\n",
            "54/54 [==============================] - 0s 4ms/step - loss: 1.8392 - accuracy: 0.4130 - val_loss: 1.8528 - val_accuracy: 0.4061\n",
            "Epoch 7/10\n",
            "54/54 [==============================] - 0s 4ms/step - loss: 1.8231 - accuracy: 0.4130 - val_loss: 1.8374 - val_accuracy: 0.4061\n",
            "Epoch 8/10\n",
            "54/54 [==============================] - 0s 4ms/step - loss: 1.8081 - accuracy: 0.4130 - val_loss: 1.8232 - val_accuracy: 0.4061\n",
            "Epoch 9/10\n",
            "54/54 [==============================] - 0s 4ms/step - loss: 1.7943 - accuracy: 0.4130 - val_loss: 1.8103 - val_accuracy: 0.4061\n",
            "Epoch 10/10\n",
            "54/54 [==============================] - 0s 4ms/step - loss: 1.7817 - accuracy: 0.4130 - val_loss: 1.7988 - val_accuracy: 0.4061\n"
          ],
          "name": "stdout"
        }
      ]
    },
    {
      "cell_type": "markdown",
      "metadata": {
        "colab_type": "text",
        "id": "bom6oyJAJKkW"
      },
      "source": [
        "To get better performance, we need to build a better model. But, we just want to show you how to model this dataset."
      ]
    },
    {
      "cell_type": "markdown",
      "metadata": {
        "colab_type": "text",
        "id": "p1-uD8fM_74Q"
      },
      "source": [
        "# Numpy Data\n",
        "\n",
        "Let's read MNIST from a numpy file and process:"
      ]
    },
    {
      "cell_type": "code",
      "metadata": {
        "colab_type": "code",
        "id": "7ABsw7YpAG_4",
        "colab": {}
      },
      "source": [
        "DATA_URL = 'https://storage.googleapis.com/\\\n",
        "tensorflow/tf-keras-datasets/mnist.npz'\n",
        "\n",
        "path = tf.keras.utils.get_file('mnist.npz', DATA_URL)\n",
        "with np.load(path) as data:\n",
        "  train_examples = data['x_train']\n",
        "  train_labels = data['y_train']\n",
        "  test_examples = data['x_test']\n",
        "  test_labels = data['y_test']\n",
        "\n",
        "train_scaled = train_examples / 255.\n",
        "test_scaled = test_examples / 255."
      ],
      "execution_count": 49,
      "outputs": []
    },
    {
      "cell_type": "markdown",
      "metadata": {
        "colab_type": "text",
        "id": "CNJmfxTyAp7v"
      },
      "source": [
        "## Load NumPy arrays with tf.data.Dataset\n",
        "\n",
        "Assuming you have an array of examples and a corresponding array of labels, pass the two arrays as a tuple into tf.data.Dataset.from_tensor_slices to create a tf.data.Dataset."
      ]
    },
    {
      "cell_type": "code",
      "metadata": {
        "colab_type": "code",
        "id": "bF9LFu-cAu15",
        "colab": {}
      },
      "source": [
        "train_dataset = tf.data.Dataset.from_tensor_slices(\n",
        "    (train_scaled, train_labels))\n",
        "test_dataset = tf.data.Dataset.from_tensor_slices(\n",
        "    (test_scaled, test_labels))"
      ],
      "execution_count": 52,
      "outputs": []
    },
    {
      "cell_type": "markdown",
      "metadata": {
        "colab_type": "text",
        "id": "jvC8mmz2A270"
      },
      "source": [
        "## Prepare Data for Training"
      ]
    },
    {
      "cell_type": "code",
      "metadata": {
        "colab_type": "code",
        "id": "t97Lo0SxA1Xj",
        "colab": {}
      },
      "source": [
        "BATCH_SIZE = 128\n",
        "SHUFFLE_BUFFER_SIZE = 1000\n",
        "\n",
        "train_np = train_dataset.shuffle(\n",
        "    SHUFFLE_BUFFER_SIZE).batch(BATCH_SIZE).prefetch(1)\n",
        "test_np = test_dataset.batch(BATCH_SIZE).prefetch(1)"
      ],
      "execution_count": 53,
      "outputs": []
    },
    {
      "cell_type": "markdown",
      "metadata": {
        "id": "rppfHGAWFsp3",
        "colab_type": "text"
      },
      "source": [
        "Inspect tensors:"
      ]
    },
    {
      "cell_type": "code",
      "metadata": {
        "id": "G9Rmp_VXFsvP",
        "colab_type": "code",
        "colab": {
          "base_uri": "https://localhost:8080/",
          "height": 52
        },
        "outputId": "902b4a82-2e87-4408-82da-eb1e47276d3e"
      },
      "source": [
        "train_np, test_np"
      ],
      "execution_count": 54,
      "outputs": [
        {
          "output_type": "execute_result",
          "data": {
            "text/plain": [
              "(<PrefetchDataset shapes: ((None, 28, 28), (None,)), types: (tf.float64, tf.uint8)>,\n",
              " <PrefetchDataset shapes: ((None, 28, 28), (None,)), types: (tf.float64, tf.uint8)>)"
            ]
          },
          "metadata": {
            "tags": []
          },
          "execution_count": 54
        }
      ]
    },
    {
      "cell_type": "markdown",
      "metadata": {
        "colab_type": "text",
        "id": "Sdnl76gdJw6t"
      },
      "source": [
        "## Create Model"
      ]
    },
    {
      "cell_type": "code",
      "metadata": {
        "colab_type": "code",
        "id": "r3vVM0GEJyq7",
        "colab": {}
      },
      "source": [
        "keras.backend.clear_session()\n",
        "np.random.seed(0)\n",
        "tf.random.set_seed(0)\n",
        "\n",
        "model = Sequential([\n",
        "  Flatten(input_shape=[28, 28]),\n",
        "  Dense(512, activation='relu'),\n",
        "  Dropout(0.5),\n",
        "  Dense(10, activation='softmax')\n",
        "])"
      ],
      "execution_count": 55,
      "outputs": []
    },
    {
      "cell_type": "markdown",
      "metadata": {
        "id": "vFc59sErZOY5",
        "colab_type": "text"
      },
      "source": [
        "## Model Summary"
      ]
    },
    {
      "cell_type": "code",
      "metadata": {
        "colab_type": "code",
        "id": "facIQ1pQabTG",
        "colab": {
          "base_uri": "https://localhost:8080/",
          "height": 301
        },
        "outputId": "bd3022e1-d423-4b4d-e98e-ff874f55a375"
      },
      "source": [
        "model.summary()"
      ],
      "execution_count": 56,
      "outputs": [
        {
          "output_type": "stream",
          "text": [
            "Model: \"sequential\"\n",
            "_________________________________________________________________\n",
            "Layer (type)                 Output Shape              Param #   \n",
            "=================================================================\n",
            "flatten (Flatten)            (None, 784)               0         \n",
            "_________________________________________________________________\n",
            "dense (Dense)                (None, 512)               401920    \n",
            "_________________________________________________________________\n",
            "dropout (Dropout)            (None, 512)               0         \n",
            "_________________________________________________________________\n",
            "dense_1 (Dense)              (None, 10)                5130      \n",
            "=================================================================\n",
            "Total params: 407,050\n",
            "Trainable params: 407,050\n",
            "Non-trainable params: 0\n",
            "_________________________________________________________________\n"
          ],
          "name": "stdout"
        }
      ]
    },
    {
      "cell_type": "markdown",
      "metadata": {
        "id": "EVTU0J-jZLAy",
        "colab_type": "text"
      },
      "source": [
        "## Compile the Model"
      ]
    },
    {
      "cell_type": "code",
      "metadata": {
        "colab_type": "code",
        "id": "l8SF2ngEJ4zR",
        "colab": {}
      },
      "source": [
        "model.compile(optimizer='adam',\n",
        "              loss='sparse_categorical_crossentropy',\n",
        "              metrics=['accuracy'])"
      ],
      "execution_count": 57,
      "outputs": []
    },
    {
      "cell_type": "markdown",
      "metadata": {
        "id": "wpo_p0y_ZTCE",
        "colab_type": "text"
      },
      "source": [
        "## Train the Model"
      ]
    },
    {
      "cell_type": "code",
      "metadata": {
        "colab_type": "code",
        "id": "rkhAu7GjJ-J9",
        "colab": {
          "base_uri": "https://localhost:8080/",
          "height": 372
        },
        "outputId": "a83e2d16-02ae-4a9e-cc21-e69872a6de46"
      },
      "source": [
        "epochs = 10\n",
        "history = model.fit(train_np, epochs=epochs, verbose=1,\n",
        "                    validation_data=test_np)"
      ],
      "execution_count": 58,
      "outputs": [
        {
          "output_type": "stream",
          "text": [
            "Epoch 1/10\n",
            "469/469 [==============================] - 2s 4ms/step - loss: 0.3373 - accuracy: 0.9007 - val_loss: 0.1587 - val_accuracy: 0.9517\n",
            "Epoch 2/10\n",
            "469/469 [==============================] - 2s 4ms/step - loss: 0.1607 - accuracy: 0.9528 - val_loss: 0.1078 - val_accuracy: 0.9687\n",
            "Epoch 3/10\n",
            "469/469 [==============================] - 2s 4ms/step - loss: 0.1197 - accuracy: 0.9639 - val_loss: 0.0931 - val_accuracy: 0.9705\n",
            "Epoch 4/10\n",
            "469/469 [==============================] - 2s 4ms/step - loss: 0.0972 - accuracy: 0.9704 - val_loss: 0.0814 - val_accuracy: 0.9740\n",
            "Epoch 5/10\n",
            "469/469 [==============================] - 2s 4ms/step - loss: 0.0837 - accuracy: 0.9740 - val_loss: 0.0729 - val_accuracy: 0.9772\n",
            "Epoch 6/10\n",
            "469/469 [==============================] - 2s 4ms/step - loss: 0.0755 - accuracy: 0.9765 - val_loss: 0.0738 - val_accuracy: 0.9764\n",
            "Epoch 7/10\n",
            "469/469 [==============================] - 2s 4ms/step - loss: 0.0641 - accuracy: 0.9798 - val_loss: 0.0698 - val_accuracy: 0.9777\n",
            "Epoch 8/10\n",
            "469/469 [==============================] - 2s 4ms/step - loss: 0.0585 - accuracy: 0.9815 - val_loss: 0.0642 - val_accuracy: 0.9805\n",
            "Epoch 9/10\n",
            "469/469 [==============================] - 2s 4ms/step - loss: 0.0537 - accuracy: 0.9826 - val_loss: 0.0619 - val_accuracy: 0.9799\n",
            "Epoch 10/10\n",
            "469/469 [==============================] - 2s 4ms/step - loss: 0.0490 - accuracy: 0.9846 - val_loss: 0.0612 - val_accuracy: 0.9802\n"
          ],
          "name": "stdout"
        }
      ]
    },
    {
      "cell_type": "markdown",
      "metadata": {
        "id": "zlJ4Nzad59LF",
        "colab_type": "text"
      },
      "source": [
        "# Get Data from GitHub\n",
        "\n",
        "You can access any free standing dataset for this book directly from GitHub with a few simple steps:\n",
        "\n",
        "1. visit the book URL: https://github.com/paperd/tensorflow\n",
        "2. locate the dataset and click on it\n",
        "3. click the **Raw** button\n",
        "4. copy the URL to Colab and assign it to a variable\n",
        "5. read the dataset with Pandas **read_csv** method"
      ]
    },
    {
      "cell_type": "markdown",
      "metadata": {
        "id": "w26vDAUb7wxI",
        "colab_type": "text"
      },
      "source": [
        "\n",
        "\n",
        "For example, let's read a CSV dataset from GitHub. We've already located the appropriate URL and assigned to a variable as so:\n"
      ]
    },
    {
      "cell_type": "code",
      "metadata": {
        "id": "PLGAGeN259TE",
        "colab_type": "code",
        "colab": {}
      },
      "source": [
        "url = 'https://raw.githubusercontent.com/paperd/tensorflow/\\\n",
        "master/chapter4/data/winequality-red.csv'"
      ],
      "execution_count": 59,
      "outputs": []
    },
    {
      "cell_type": "markdown",
      "metadata": {
        "id": "MVqr28M18KNZ",
        "colab_type": "text"
      },
      "source": [
        "Read the dataset into a Pandas DataFrame:"
      ]
    },
    {
      "cell_type": "code",
      "metadata": {
        "id": "_vymKwNt8KV2",
        "colab_type": "code",
        "colab": {}
      },
      "source": [
        "import pandas as pd\n",
        "\n",
        "wine = pd.read_csv(url, sep = ';')"
      ],
      "execution_count": 61,
      "outputs": []
    },
    {
      "cell_type": "markdown",
      "metadata": {
        "id": "D0V6dYLu8Usw",
        "colab_type": "text"
      },
      "source": [
        "Verify that data was read properly:"
      ]
    },
    {
      "cell_type": "code",
      "metadata": {
        "id": "TTy4GVMG8UzP",
        "colab_type": "code",
        "colab": {
          "base_uri": "https://localhost:8080/",
          "height": 197
        },
        "outputId": "7ebc64fa-92b3-485c-f6f5-6af58eb94848"
      },
      "source": [
        "wine.head()"
      ],
      "execution_count": 62,
      "outputs": [
        {
          "output_type": "execute_result",
          "data": {
            "text/html": [
              "<div>\n",
              "<style scoped>\n",
              "    .dataframe tbody tr th:only-of-type {\n",
              "        vertical-align: middle;\n",
              "    }\n",
              "\n",
              "    .dataframe tbody tr th {\n",
              "        vertical-align: top;\n",
              "    }\n",
              "\n",
              "    .dataframe thead th {\n",
              "        text-align: right;\n",
              "    }\n",
              "</style>\n",
              "<table border=\"1\" class=\"dataframe\">\n",
              "  <thead>\n",
              "    <tr style=\"text-align: right;\">\n",
              "      <th></th>\n",
              "      <th>fixed acidity</th>\n",
              "      <th>volatile acidity</th>\n",
              "      <th>citric acid</th>\n",
              "      <th>residual sugar</th>\n",
              "      <th>chlorides</th>\n",
              "      <th>free sulfur dioxide</th>\n",
              "      <th>total sulfur dioxide</th>\n",
              "      <th>density</th>\n",
              "      <th>pH</th>\n",
              "      <th>sulphates</th>\n",
              "      <th>alcohol</th>\n",
              "      <th>quality</th>\n",
              "    </tr>\n",
              "  </thead>\n",
              "  <tbody>\n",
              "    <tr>\n",
              "      <th>0</th>\n",
              "      <td>7.4</td>\n",
              "      <td>0.70</td>\n",
              "      <td>0.00</td>\n",
              "      <td>1.9</td>\n",
              "      <td>0.076</td>\n",
              "      <td>11.0</td>\n",
              "      <td>34.0</td>\n",
              "      <td>0.9978</td>\n",
              "      <td>3.51</td>\n",
              "      <td>0.56</td>\n",
              "      <td>9.4</td>\n",
              "      <td>5</td>\n",
              "    </tr>\n",
              "    <tr>\n",
              "      <th>1</th>\n",
              "      <td>7.8</td>\n",
              "      <td>0.88</td>\n",
              "      <td>0.00</td>\n",
              "      <td>2.6</td>\n",
              "      <td>0.098</td>\n",
              "      <td>25.0</td>\n",
              "      <td>67.0</td>\n",
              "      <td>0.9968</td>\n",
              "      <td>3.20</td>\n",
              "      <td>0.68</td>\n",
              "      <td>9.8</td>\n",
              "      <td>5</td>\n",
              "    </tr>\n",
              "    <tr>\n",
              "      <th>2</th>\n",
              "      <td>7.8</td>\n",
              "      <td>0.76</td>\n",
              "      <td>0.04</td>\n",
              "      <td>2.3</td>\n",
              "      <td>0.092</td>\n",
              "      <td>15.0</td>\n",
              "      <td>54.0</td>\n",
              "      <td>0.9970</td>\n",
              "      <td>3.26</td>\n",
              "      <td>0.65</td>\n",
              "      <td>9.8</td>\n",
              "      <td>5</td>\n",
              "    </tr>\n",
              "    <tr>\n",
              "      <th>3</th>\n",
              "      <td>11.2</td>\n",
              "      <td>0.28</td>\n",
              "      <td>0.56</td>\n",
              "      <td>1.9</td>\n",
              "      <td>0.075</td>\n",
              "      <td>17.0</td>\n",
              "      <td>60.0</td>\n",
              "      <td>0.9980</td>\n",
              "      <td>3.16</td>\n",
              "      <td>0.58</td>\n",
              "      <td>9.8</td>\n",
              "      <td>6</td>\n",
              "    </tr>\n",
              "    <tr>\n",
              "      <th>4</th>\n",
              "      <td>7.4</td>\n",
              "      <td>0.70</td>\n",
              "      <td>0.00</td>\n",
              "      <td>1.9</td>\n",
              "      <td>0.076</td>\n",
              "      <td>11.0</td>\n",
              "      <td>34.0</td>\n",
              "      <td>0.9978</td>\n",
              "      <td>3.51</td>\n",
              "      <td>0.56</td>\n",
              "      <td>9.4</td>\n",
              "      <td>5</td>\n",
              "    </tr>\n",
              "  </tbody>\n",
              "</table>\n",
              "</div>"
            ],
            "text/plain": [
              "   fixed acidity  volatile acidity  citric acid  ...  sulphates  alcohol  quality\n",
              "0            7.4              0.70         0.00  ...       0.56      9.4        5\n",
              "1            7.8              0.88         0.00  ...       0.68      9.8        5\n",
              "2            7.8              0.76         0.04  ...       0.65      9.8        5\n",
              "3           11.2              0.28         0.56  ...       0.58      9.8        6\n",
              "4            7.4              0.70         0.00  ...       0.56      9.4        5\n",
              "\n",
              "[5 rows x 12 columns]"
            ]
          },
          "metadata": {
            "tags": []
          },
          "execution_count": 62
        }
      ]
    },
    {
      "cell_type": "markdown",
      "metadata": {
        "colab_type": "text",
        "id": "dOOnG4J2T7AF"
      },
      "source": [
        "# CSV data\n",
        "\n",
        "A **CSV** dataset is a comma-separated values file that allows data to be saved in a tabular format. CSV data looks like a conventional spreadsheet but with a **.csv** extension. CSV files can be used with any spreadsheet program that we know of including Microsoft Excel or Google Spreadsheets.\n",
        "\n",
        "\n",
        "Let's grab a CSV dataset commonly used for machine learning applications. A great place to start is the UCI Machine Learning Repository. The **UCI Machine Learning Repository** is a collection of databases, domain theories, and data generators that are used by the machine learning community for the empirical analysis of machine learning algorithms.\n",
        "\n",
        "The main site for the repository is located at the following URL:\n",
        "\n",
        "* https://archive.ics.uci.edu/ml/datasets.php\n",
        "\n",
        "You can explore this cite to identify a dataset for many different machine learning applications.\n",
        "\n",
        "We have worked with a specific dataset that we like and that is very commonly cited in the machine learning literature. It is also popular within the machine learning community for running simple machine learning experiments.\n",
        "\n",
        "The dataset is *winequality-red.csv* and it can be accessed at the following URL:\n",
        "\n",
        "* https://archive.ics.uci.edu/ml/machine-learning-databases/wine-quality/"
      ]
    },
    {
      "cell_type": "markdown",
      "metadata": {
        "id": "9rtz5_53GvMB",
        "colab_type": "text"
      },
      "source": [
        "## Dataset Characteristics\n",
        "\n",
        "The dataset is related to red variants of Portuguese 'Vinho Verde' wine. The dataset consists of eleven independent feature variables and one target variable.\n",
        "\n",
        "Feature variables include:\n",
        "\n",
        "* fixed acidity\n",
        "* volatile acidity\n",
        "* citric acid\n",
        "* residual sugar\n",
        "* chlorides\n",
        "* free sulfur dioxide\n",
        "* total sulfur dioxide\n",
        "* density\n",
        "* pH\n",
        "* sulphates\n",
        "* alcohol\n",
        "\n",
        "The target variable is:\n",
        "\n",
        "* quality\n",
        "\n",
        "The target variable (quality) can take on a score between 0 and 10. A score of 0 means that the quality is very low, whereas a score of 10 means that the quality is very high. The dataset contains 1599 examples."
      ]
    },
    {
      "cell_type": "markdown",
      "metadata": {
        "id": "0YrcJm1_XZuc",
        "colab_type": "text"
      },
      "source": [
        "## Get Data\n",
        "\n",
        "We can also get wine data directly from the UCI repository.\n",
        "\n",
        "Identify the dataset URL:"
      ]
    },
    {
      "cell_type": "code",
      "metadata": {
        "id": "Aw7HxYBSXVyG",
        "colab_type": "code",
        "colab": {}
      },
      "source": [
        "url = 'http://archive.ics.uci.edu/ml/machine-learning-databases/wine-quality/winequality-red.csv'"
      ],
      "execution_count": 63,
      "outputs": []
    },
    {
      "cell_type": "markdown",
      "metadata": {
        "id": "ZPaT52MuKaMK",
        "colab_type": "text"
      },
      "source": [
        "Use the **get_file** method to establish the path to the dataset:"
      ]
    },
    {
      "cell_type": "code",
      "metadata": {
        "id": "pTOocrz3W5OX",
        "colab_type": "code",
        "colab": {
          "base_uri": "https://localhost:8080/",
          "height": 71
        },
        "outputId": "54512e63-5c68-4750-8f34-eaa32f07d593"
      },
      "source": [
        "path = tf.keras.utils.get_file('winequality-red.csv', url)\n",
        "path"
      ],
      "execution_count": 64,
      "outputs": [
        {
          "output_type": "stream",
          "text": [
            "Downloading data from http://archive.ics.uci.edu/ml/machine-learning-databases/wine-quality/winequality-red.csv\n",
            "90112/84199 [================================] - 0s 3us/step\n"
          ],
          "name": "stdout"
        },
        {
          "output_type": "execute_result",
          "data": {
            "application/vnd.google.colaboratory.intrinsic+json": {
              "type": "string"
            },
            "text/plain": [
              "'/root/.keras/datasets/winequality-red.csv'"
            ]
          },
          "metadata": {
            "tags": []
          },
          "execution_count": 64
        }
      ]
    },
    {
      "cell_type": "markdown",
      "metadata": {
        "id": "FLy74hBrL4s6",
        "colab_type": "text"
      },
      "source": [
        "Create a pandas DataFrame from the CSV file and place it into a Python variable:"
      ]
    },
    {
      "cell_type": "code",
      "metadata": {
        "id": "n0iiCBNrW5RL",
        "colab_type": "code",
        "colab": {}
      },
      "source": [
        "import pandas as pd\n",
        "\n",
        "data = pd.read_csv(path, sep = ';')"
      ],
      "execution_count": 65,
      "outputs": []
    },
    {
      "cell_type": "markdown",
      "metadata": {
        "id": "XhoNEwqSL_vI",
        "colab_type": "text"
      },
      "source": [
        "View records from the beginning of the DataFrame:"
      ]
    },
    {
      "cell_type": "code",
      "metadata": {
        "id": "zxlRgwAxW5UN",
        "colab_type": "code",
        "colab": {
          "base_uri": "https://localhost:8080/",
          "height": 197
        },
        "outputId": "c9e75fa3-b895-4063-f5fe-7894c15cedcd"
      },
      "source": [
        "data.head()"
      ],
      "execution_count": 66,
      "outputs": [
        {
          "output_type": "execute_result",
          "data": {
            "text/html": [
              "<div>\n",
              "<style scoped>\n",
              "    .dataframe tbody tr th:only-of-type {\n",
              "        vertical-align: middle;\n",
              "    }\n",
              "\n",
              "    .dataframe tbody tr th {\n",
              "        vertical-align: top;\n",
              "    }\n",
              "\n",
              "    .dataframe thead th {\n",
              "        text-align: right;\n",
              "    }\n",
              "</style>\n",
              "<table border=\"1\" class=\"dataframe\">\n",
              "  <thead>\n",
              "    <tr style=\"text-align: right;\">\n",
              "      <th></th>\n",
              "      <th>fixed acidity</th>\n",
              "      <th>volatile acidity</th>\n",
              "      <th>citric acid</th>\n",
              "      <th>residual sugar</th>\n",
              "      <th>chlorides</th>\n",
              "      <th>free sulfur dioxide</th>\n",
              "      <th>total sulfur dioxide</th>\n",
              "      <th>density</th>\n",
              "      <th>pH</th>\n",
              "      <th>sulphates</th>\n",
              "      <th>alcohol</th>\n",
              "      <th>quality</th>\n",
              "    </tr>\n",
              "  </thead>\n",
              "  <tbody>\n",
              "    <tr>\n",
              "      <th>0</th>\n",
              "      <td>7.4</td>\n",
              "      <td>0.70</td>\n",
              "      <td>0.00</td>\n",
              "      <td>1.9</td>\n",
              "      <td>0.076</td>\n",
              "      <td>11.0</td>\n",
              "      <td>34.0</td>\n",
              "      <td>0.9978</td>\n",
              "      <td>3.51</td>\n",
              "      <td>0.56</td>\n",
              "      <td>9.4</td>\n",
              "      <td>5</td>\n",
              "    </tr>\n",
              "    <tr>\n",
              "      <th>1</th>\n",
              "      <td>7.8</td>\n",
              "      <td>0.88</td>\n",
              "      <td>0.00</td>\n",
              "      <td>2.6</td>\n",
              "      <td>0.098</td>\n",
              "      <td>25.0</td>\n",
              "      <td>67.0</td>\n",
              "      <td>0.9968</td>\n",
              "      <td>3.20</td>\n",
              "      <td>0.68</td>\n",
              "      <td>9.8</td>\n",
              "      <td>5</td>\n",
              "    </tr>\n",
              "    <tr>\n",
              "      <th>2</th>\n",
              "      <td>7.8</td>\n",
              "      <td>0.76</td>\n",
              "      <td>0.04</td>\n",
              "      <td>2.3</td>\n",
              "      <td>0.092</td>\n",
              "      <td>15.0</td>\n",
              "      <td>54.0</td>\n",
              "      <td>0.9970</td>\n",
              "      <td>3.26</td>\n",
              "      <td>0.65</td>\n",
              "      <td>9.8</td>\n",
              "      <td>5</td>\n",
              "    </tr>\n",
              "    <tr>\n",
              "      <th>3</th>\n",
              "      <td>11.2</td>\n",
              "      <td>0.28</td>\n",
              "      <td>0.56</td>\n",
              "      <td>1.9</td>\n",
              "      <td>0.075</td>\n",
              "      <td>17.0</td>\n",
              "      <td>60.0</td>\n",
              "      <td>0.9980</td>\n",
              "      <td>3.16</td>\n",
              "      <td>0.58</td>\n",
              "      <td>9.8</td>\n",
              "      <td>6</td>\n",
              "    </tr>\n",
              "    <tr>\n",
              "      <th>4</th>\n",
              "      <td>7.4</td>\n",
              "      <td>0.70</td>\n",
              "      <td>0.00</td>\n",
              "      <td>1.9</td>\n",
              "      <td>0.076</td>\n",
              "      <td>11.0</td>\n",
              "      <td>34.0</td>\n",
              "      <td>0.9978</td>\n",
              "      <td>3.51</td>\n",
              "      <td>0.56</td>\n",
              "      <td>9.4</td>\n",
              "      <td>5</td>\n",
              "    </tr>\n",
              "  </tbody>\n",
              "</table>\n",
              "</div>"
            ],
            "text/plain": [
              "   fixed acidity  volatile acidity  citric acid  ...  sulphates  alcohol  quality\n",
              "0            7.4              0.70         0.00  ...       0.56      9.4        5\n",
              "1            7.8              0.88         0.00  ...       0.68      9.8        5\n",
              "2            7.8              0.76         0.04  ...       0.65      9.8        5\n",
              "3           11.2              0.28         0.56  ...       0.58      9.8        6\n",
              "4            7.4              0.70         0.00  ...       0.56      9.4        5\n",
              "\n",
              "[5 rows x 12 columns]"
            ]
          },
          "metadata": {
            "tags": []
          },
          "execution_count": 66
        }
      ]
    },
    {
      "cell_type": "markdown",
      "metadata": {
        "id": "SegZC8yPMVto",
        "colab_type": "text"
      },
      "source": [
        "View records from the end of the DataFrame:"
      ]
    },
    {
      "cell_type": "code",
      "metadata": {
        "id": "3q6S6lZ2XKyj",
        "colab_type": "code",
        "colab": {
          "base_uri": "https://localhost:8080/",
          "height": 197
        },
        "outputId": "2439a8e6-8e3f-46f4-e8ad-ffe1b7d424e9"
      },
      "source": [
        "data.tail()"
      ],
      "execution_count": 67,
      "outputs": [
        {
          "output_type": "execute_result",
          "data": {
            "text/html": [
              "<div>\n",
              "<style scoped>\n",
              "    .dataframe tbody tr th:only-of-type {\n",
              "        vertical-align: middle;\n",
              "    }\n",
              "\n",
              "    .dataframe tbody tr th {\n",
              "        vertical-align: top;\n",
              "    }\n",
              "\n",
              "    .dataframe thead th {\n",
              "        text-align: right;\n",
              "    }\n",
              "</style>\n",
              "<table border=\"1\" class=\"dataframe\">\n",
              "  <thead>\n",
              "    <tr style=\"text-align: right;\">\n",
              "      <th></th>\n",
              "      <th>fixed acidity</th>\n",
              "      <th>volatile acidity</th>\n",
              "      <th>citric acid</th>\n",
              "      <th>residual sugar</th>\n",
              "      <th>chlorides</th>\n",
              "      <th>free sulfur dioxide</th>\n",
              "      <th>total sulfur dioxide</th>\n",
              "      <th>density</th>\n",
              "      <th>pH</th>\n",
              "      <th>sulphates</th>\n",
              "      <th>alcohol</th>\n",
              "      <th>quality</th>\n",
              "    </tr>\n",
              "  </thead>\n",
              "  <tbody>\n",
              "    <tr>\n",
              "      <th>1594</th>\n",
              "      <td>6.2</td>\n",
              "      <td>0.600</td>\n",
              "      <td>0.08</td>\n",
              "      <td>2.0</td>\n",
              "      <td>0.090</td>\n",
              "      <td>32.0</td>\n",
              "      <td>44.0</td>\n",
              "      <td>0.99490</td>\n",
              "      <td>3.45</td>\n",
              "      <td>0.58</td>\n",
              "      <td>10.5</td>\n",
              "      <td>5</td>\n",
              "    </tr>\n",
              "    <tr>\n",
              "      <th>1595</th>\n",
              "      <td>5.9</td>\n",
              "      <td>0.550</td>\n",
              "      <td>0.10</td>\n",
              "      <td>2.2</td>\n",
              "      <td>0.062</td>\n",
              "      <td>39.0</td>\n",
              "      <td>51.0</td>\n",
              "      <td>0.99512</td>\n",
              "      <td>3.52</td>\n",
              "      <td>0.76</td>\n",
              "      <td>11.2</td>\n",
              "      <td>6</td>\n",
              "    </tr>\n",
              "    <tr>\n",
              "      <th>1596</th>\n",
              "      <td>6.3</td>\n",
              "      <td>0.510</td>\n",
              "      <td>0.13</td>\n",
              "      <td>2.3</td>\n",
              "      <td>0.076</td>\n",
              "      <td>29.0</td>\n",
              "      <td>40.0</td>\n",
              "      <td>0.99574</td>\n",
              "      <td>3.42</td>\n",
              "      <td>0.75</td>\n",
              "      <td>11.0</td>\n",
              "      <td>6</td>\n",
              "    </tr>\n",
              "    <tr>\n",
              "      <th>1597</th>\n",
              "      <td>5.9</td>\n",
              "      <td>0.645</td>\n",
              "      <td>0.12</td>\n",
              "      <td>2.0</td>\n",
              "      <td>0.075</td>\n",
              "      <td>32.0</td>\n",
              "      <td>44.0</td>\n",
              "      <td>0.99547</td>\n",
              "      <td>3.57</td>\n",
              "      <td>0.71</td>\n",
              "      <td>10.2</td>\n",
              "      <td>5</td>\n",
              "    </tr>\n",
              "    <tr>\n",
              "      <th>1598</th>\n",
              "      <td>6.0</td>\n",
              "      <td>0.310</td>\n",
              "      <td>0.47</td>\n",
              "      <td>3.6</td>\n",
              "      <td>0.067</td>\n",
              "      <td>18.0</td>\n",
              "      <td>42.0</td>\n",
              "      <td>0.99549</td>\n",
              "      <td>3.39</td>\n",
              "      <td>0.66</td>\n",
              "      <td>11.0</td>\n",
              "      <td>6</td>\n",
              "    </tr>\n",
              "  </tbody>\n",
              "</table>\n",
              "</div>"
            ],
            "text/plain": [
              "      fixed acidity  volatile acidity  citric acid  ...  sulphates  alcohol  quality\n",
              "1594            6.2             0.600         0.08  ...       0.58     10.5        5\n",
              "1595            5.9             0.550         0.10  ...       0.76     11.2        6\n",
              "1596            6.3             0.510         0.13  ...       0.75     11.0        6\n",
              "1597            5.9             0.645         0.12  ...       0.71     10.2        5\n",
              "1598            6.0             0.310         0.47  ...       0.66     11.0        6\n",
              "\n",
              "[5 rows x 12 columns]"
            ]
          },
          "metadata": {
            "tags": []
          },
          "execution_count": 67
        }
      ]
    },
    {
      "cell_type": "markdown",
      "metadata": {
        "id": "14onpoPFMqIg",
        "colab_type": "text"
      },
      "source": [
        "Identify class labels used in dataset:"
      ]
    },
    {
      "cell_type": "code",
      "metadata": {
        "id": "82H2kKAfXK0-",
        "colab_type": "code",
        "colab": {
          "base_uri": "https://localhost:8080/",
          "height": 34
        },
        "outputId": "cacb3cb5-ef34-4492-c1c4-b0d1bd123bbc"
      },
      "source": [
        "data.quality.unique()"
      ],
      "execution_count": 68,
      "outputs": [
        {
          "output_type": "execute_result",
          "data": {
            "text/plain": [
              "array([5, 6, 7, 4, 8, 3])"
            ]
          },
          "metadata": {
            "tags": []
          },
          "execution_count": 68
        }
      ]
    },
    {
      "cell_type": "markdown",
      "metadata": {
        "id": "tSbxXTE3M2e7",
        "colab_type": "text"
      },
      "source": [
        "We have six class labels in the dataset. However, quality can take on scores between 0 and 10, so there are **eleven** possible class labels."
      ]
    },
    {
      "cell_type": "markdown",
      "metadata": {
        "id": "DAPKSuicNPqH",
        "colab_type": "text"
      },
      "source": [
        "Display datatypes:"
      ]
    },
    {
      "cell_type": "code",
      "metadata": {
        "id": "SKRBNJH6XK6b",
        "colab_type": "code",
        "colab": {
          "base_uri": "https://localhost:8080/",
          "height": 247
        },
        "outputId": "e6c7c568-2c27-4b11-fda8-c3cf537a2d87"
      },
      "source": [
        "data.dtypes"
      ],
      "execution_count": 69,
      "outputs": [
        {
          "output_type": "execute_result",
          "data": {
            "text/plain": [
              "fixed acidity           float64\n",
              "volatile acidity        float64\n",
              "citric acid             float64\n",
              "residual sugar          float64\n",
              "chlorides               float64\n",
              "free sulfur dioxide     float64\n",
              "total sulfur dioxide    float64\n",
              "density                 float64\n",
              "pH                      float64\n",
              "sulphates               float64\n",
              "alcohol                 float64\n",
              "quality                   int64\n",
              "dtype: object"
            ]
          },
          "metadata": {
            "tags": []
          },
          "execution_count": 69
        }
      ]
    },
    {
      "cell_type": "markdown",
      "metadata": {
        "id": "YBP4pDPOOR7u",
        "colab_type": "text"
      },
      "source": [
        "Display number of examples in the dataset:"
      ]
    },
    {
      "cell_type": "code",
      "metadata": {
        "id": "mlNA6RVDXK-X",
        "colab_type": "code",
        "colab": {
          "base_uri": "https://localhost:8080/",
          "height": 34
        },
        "outputId": "88b5ab53-9394-46a5-9e3b-f942d95ba030"
      },
      "source": [
        "len(data)"
      ],
      "execution_count": 70,
      "outputs": [
        {
          "output_type": "execute_result",
          "data": {
            "text/plain": [
              "1599"
            ]
          },
          "metadata": {
            "tags": []
          },
          "execution_count": 70
        }
      ]
    },
    {
      "cell_type": "markdown",
      "metadata": {
        "id": "OmwdvUnhOjbe",
        "colab_type": "text"
      },
      "source": [
        "## Visualize a DataFrame\n",
        "\n",
        "A pandas DataFrame is an excellent tool to clean, wrangle, and massage a dataset. It also allows us to create visualizations.\n",
        "\n",
        "Let’s plot the first three features against the target:"
      ]
    },
    {
      "cell_type": "code",
      "metadata": {
        "id": "JzbbZpIIOjh0",
        "colab_type": "code",
        "colab": {
          "base_uri": "https://localhost:8080/",
          "height": 602
        },
        "outputId": "aa145d63-7eab-4eae-fafb-6dd75954ae8e"
      },
      "source": [
        "import matplotlib.pyplot as plt\n",
        "import seaborn as sns\n",
        "\n",
        "features = sns.pairplot(\n",
        "    data, vars=['fixed acidity', 'volatile acidity',\n",
        "                'citric acid'], hue='quality')"
      ],
      "execution_count": 71,
      "outputs": [
        {
          "output_type": "stream",
          "text": [
            "/usr/local/lib/python3.6/dist-packages/statsmodels/tools/_testing.py:19: FutureWarning: pandas.util.testing is deprecated. Use the functions in the public API at pandas.testing instead.\n",
            "  import pandas.util.testing as tm\n"
          ],
          "name": "stderr"
        },
        {
          "output_type": "display_data",
          "data": {
            "image/png": "[encoded data removed]",
            "text/plain": [
              "<Figure size 582.375x540 with 12 Axes>"
            ]
          },
          "metadata": {
            "tags": [],
            "needs_background": "light"
          }
        }
      ]
    },
    {
      "cell_type": "markdown",
      "metadata": {
        "id": "fwCbIEPNV8Z8",
        "colab_type": "text"
      },
      "source": [
        "Visualize the quality distribution:"
      ]
    },
    {
      "cell_type": "code",
      "metadata": {
        "id": "QZR3guijV8gA",
        "colab_type": "code",
        "colab": {
          "base_uri": "https://localhost:8080/",
          "height": 278
        },
        "outputId": "464e40e8-5b7d-4aa4-d078-64f17249f466"
      },
      "source": [
        "import seaborn as sns\n",
        "\n",
        "quality_dist = sns.countplot(x=\"quality\", data=data)"
      ],
      "execution_count": 72,
      "outputs": [
        {
          "output_type": "display_data",
          "data": {
            "image/png": "[encoded data removed]",
            "text/plain": [
              "<Figure size 432x288 with 1 Axes>"
            ]
          },
          "metadata": {
            "tags": [],
            "needs_background": "light"
          }
        }
      ]
    },
    {
      "cell_type": "markdown",
      "metadata": {
        "id": "lZKDqJUyWXwM",
        "colab_type": "text"
      },
      "source": [
        "Visualize the distributions of each feature:"
      ]
    },
    {
      "cell_type": "code",
      "metadata": {
        "id": "ZFdtBjlzV8oM",
        "colab_type": "code",
        "colab": {
          "base_uri": "https://localhost:8080/",
          "height": 354
        },
        "outputId": "bd87d5e2-fa4e-4925-ea56-d245f46f95ec"
      },
      "source": [
        "data.hist(bins=15, color='steelblue',\n",
        "          edgecolor='black', linewidth=1.0,\n",
        "          xlabelsize=8, ylabelsize=8, grid=False)\n",
        "plt.tight_layout(rect=(0, 0, 1.2, 1.2))"
      ],
      "execution_count": 73,
      "outputs": [
        {
          "output_type": "display_data",
          "data": {
            "image/png": "[encoded data removed]",
            "text/plain": [
              "<Figure size 432x288 with 12 Axes>"
            ]
          },
          "metadata": {
            "tags": [],
            "needs_background": "light"
          }
        }
      ]
    },
    {
      "cell_type": "markdown",
      "metadata": {
        "colab_type": "text",
        "id": "M-a_ebNy3t27"
      },
      "source": [
        "## Prepare Data for TensorFlow Consumption\n",
        "\n",
        "We need to create the feature set and target from the data, so let's do that now:"
      ]
    },
    {
      "cell_type": "code",
      "metadata": {
        "colab_type": "code",
        "id": "tpLA7PVm6yT7",
        "colab": {
          "base_uri": "https://localhost:8080/",
          "height": 123
        },
        "outputId": "fdf5f6e2-3788-45ab-af7f-693cbaae8ed5"
      },
      "source": [
        "# create a copy of the DataFrame\n",
        "\n",
        "df = data.copy()\n",
        "\n",
        "# create the target\n",
        "\n",
        "target = df.pop('quality')\n",
        "target.head()"
      ],
      "execution_count": 74,
      "outputs": [
        {
          "output_type": "execute_result",
          "data": {
            "text/plain": [
              "0    5\n",
              "1    5\n",
              "2    5\n",
              "3    6\n",
              "4    5\n",
              "Name: quality, dtype: int64"
            ]
          },
          "metadata": {
            "tags": []
          },
          "execution_count": 74
        }
      ]
    },
    {
      "cell_type": "markdown",
      "metadata": {
        "colab_type": "text",
        "id": "Ju9bjapF7TmJ"
      },
      "source": [
        "Create a copy of the original DataFrame since the **pop** method removes the column!"
      ]
    },
    {
      "cell_type": "code",
      "metadata": {
        "colab_type": "code",
        "id": "9cmTH5qW7QZ6",
        "colab": {
          "base_uri": "https://localhost:8080/",
          "height": 197
        },
        "outputId": "80644ba6-4019-4f29-8aa0-cf68010398fd"
      },
      "source": [
        "df.head()"
      ],
      "execution_count": 75,
      "outputs": [
        {
          "output_type": "execute_result",
          "data": {
            "text/html": [
              "<div>\n",
              "<style scoped>\n",
              "    .dataframe tbody tr th:only-of-type {\n",
              "        vertical-align: middle;\n",
              "    }\n",
              "\n",
              "    .dataframe tbody tr th {\n",
              "        vertical-align: top;\n",
              "    }\n",
              "\n",
              "    .dataframe thead th {\n",
              "        text-align: right;\n",
              "    }\n",
              "</style>\n",
              "<table border=\"1\" class=\"dataframe\">\n",
              "  <thead>\n",
              "    <tr style=\"text-align: right;\">\n",
              "      <th></th>\n",
              "      <th>fixed acidity</th>\n",
              "      <th>volatile acidity</th>\n",
              "      <th>citric acid</th>\n",
              "      <th>residual sugar</th>\n",
              "      <th>chlorides</th>\n",
              "      <th>free sulfur dioxide</th>\n",
              "      <th>total sulfur dioxide</th>\n",
              "      <th>density</th>\n",
              "      <th>pH</th>\n",
              "      <th>sulphates</th>\n",
              "      <th>alcohol</th>\n",
              "    </tr>\n",
              "  </thead>\n",
              "  <tbody>\n",
              "    <tr>\n",
              "      <th>0</th>\n",
              "      <td>7.4</td>\n",
              "      <td>0.70</td>\n",
              "      <td>0.00</td>\n",
              "      <td>1.9</td>\n",
              "      <td>0.076</td>\n",
              "      <td>11.0</td>\n",
              "      <td>34.0</td>\n",
              "      <td>0.9978</td>\n",
              "      <td>3.51</td>\n",
              "      <td>0.56</td>\n",
              "      <td>9.4</td>\n",
              "    </tr>\n",
              "    <tr>\n",
              "      <th>1</th>\n",
              "      <td>7.8</td>\n",
              "      <td>0.88</td>\n",
              "      <td>0.00</td>\n",
              "      <td>2.6</td>\n",
              "      <td>0.098</td>\n",
              "      <td>25.0</td>\n",
              "      <td>67.0</td>\n",
              "      <td>0.9968</td>\n",
              "      <td>3.20</td>\n",
              "      <td>0.68</td>\n",
              "      <td>9.8</td>\n",
              "    </tr>\n",
              "    <tr>\n",
              "      <th>2</th>\n",
              "      <td>7.8</td>\n",
              "      <td>0.76</td>\n",
              "      <td>0.04</td>\n",
              "      <td>2.3</td>\n",
              "      <td>0.092</td>\n",
              "      <td>15.0</td>\n",
              "      <td>54.0</td>\n",
              "      <td>0.9970</td>\n",
              "      <td>3.26</td>\n",
              "      <td>0.65</td>\n",
              "      <td>9.8</td>\n",
              "    </tr>\n",
              "    <tr>\n",
              "      <th>3</th>\n",
              "      <td>11.2</td>\n",
              "      <td>0.28</td>\n",
              "      <td>0.56</td>\n",
              "      <td>1.9</td>\n",
              "      <td>0.075</td>\n",
              "      <td>17.0</td>\n",
              "      <td>60.0</td>\n",
              "      <td>0.9980</td>\n",
              "      <td>3.16</td>\n",
              "      <td>0.58</td>\n",
              "      <td>9.8</td>\n",
              "    </tr>\n",
              "    <tr>\n",
              "      <th>4</th>\n",
              "      <td>7.4</td>\n",
              "      <td>0.70</td>\n",
              "      <td>0.00</td>\n",
              "      <td>1.9</td>\n",
              "      <td>0.076</td>\n",
              "      <td>11.0</td>\n",
              "      <td>34.0</td>\n",
              "      <td>0.9978</td>\n",
              "      <td>3.51</td>\n",
              "      <td>0.56</td>\n",
              "      <td>9.4</td>\n",
              "    </tr>\n",
              "  </tbody>\n",
              "</table>\n",
              "</div>"
            ],
            "text/plain": [
              "   fixed acidity  volatile acidity  citric acid  ...    pH  sulphates  alcohol\n",
              "0            7.4              0.70         0.00  ...  3.51       0.56      9.4\n",
              "1            7.8              0.88         0.00  ...  3.20       0.68      9.8\n",
              "2            7.8              0.76         0.04  ...  3.26       0.65      9.8\n",
              "3           11.2              0.28         0.56  ...  3.16       0.58      9.8\n",
              "4            7.4              0.70         0.00  ...  3.51       0.56      9.4\n",
              "\n",
              "[5 rows x 11 columns]"
            ]
          },
          "metadata": {
            "tags": []
          },
          "execution_count": 75
        }
      ]
    },
    {
      "cell_type": "markdown",
      "metadata": {
        "colab_type": "text",
        "id": "AaevofKh8N6s"
      },
      "source": [
        "Convert Pandas DataFrame values to Numpy with the *values* method:"
      ]
    },
    {
      "cell_type": "code",
      "metadata": {
        "colab_type": "code",
        "id": "w3QMYaTz8FjT",
        "colab": {}
      },
      "source": [
        "features = df.values\n",
        "labels = target.values"
      ],
      "execution_count": 76,
      "outputs": []
    },
    {
      "cell_type": "markdown",
      "metadata": {
        "colab_type": "text",
        "id": "r9mWsvP5aqcq"
      },
      "source": [
        "## Split into train/test, and scale feature data"
      ]
    },
    {
      "cell_type": "code",
      "metadata": {
        "colab_type": "code",
        "id": "o8l4ThFcatf3",
        "colab": {}
      },
      "source": [
        "X_train, X_test, y_train, y_test = train_test_split(\n",
        "    features, labels, test_size=0.33, random_state=0)\n",
        "\n",
        "# scale feature image data and create TensorFlow tensors\n",
        "\n",
        "from sklearn.preprocessing import StandardScaler\n",
        "\n",
        "scaler = StandardScaler()\n",
        "X_train_std = scaler.fit_transform(X_train)\n",
        "X_test_std = scaler.fit_transform(X_test)"
      ],
      "execution_count": 78,
      "outputs": []
    },
    {
      "cell_type": "markdown",
      "metadata": {
        "colab_type": "text",
        "id": "mo7EWNvQLj2K"
      },
      "source": [
        "This is for non-image data!!! So, we use StandardScaler. The idea is to transform continuous feature data to **mean of 0** and **standard deviation of 1** before applying machine learning techniques."
      ]
    },
    {
      "cell_type": "markdown",
      "metadata": {
        "colab_type": "text",
        "id": "0BrDIj1E7v47"
      },
      "source": [
        "## Prepare Train and Test Sets for TensorFlow Consumption"
      ]
    },
    {
      "cell_type": "code",
      "metadata": {
        "colab_type": "code",
        "id": "pVjKSakvbAgJ",
        "colab": {}
      },
      "source": [
        "train_wine = tf.data.Dataset.from_tensor_slices(\n",
        "    (X_train_std, y_train))\n",
        "test_wine = tf.data.Dataset.from_tensor_slices(\n",
        "    (X_test_std, y_test))"
      ],
      "execution_count": 79,
      "outputs": []
    },
    {
      "cell_type": "markdown",
      "metadata": {
        "colab_type": "text",
        "id": "w3PjqxG679aD"
      },
      "source": [
        "Let's view the first **n** tensors:"
      ]
    },
    {
      "cell_type": "code",
      "metadata": {
        "colab_type": "code",
        "id": "3S5Up-Tc88E0",
        "colab": {}
      },
      "source": [
        "def see_samples(data, num):\n",
        "  for feat, targ in data.take(num):\n",
        "    print ('Features: {}'.format(feat))\n",
        "    print ('Target: {}'.format(targ), br)"
      ],
      "execution_count": 82,
      "outputs": []
    },
    {
      "cell_type": "code",
      "metadata": {
        "id": "tllIlxnIa5-S",
        "colab_type": "code",
        "colab": {
          "base_uri": "https://localhost:8080/",
          "height": 230
        },
        "outputId": "120750ca-7d3e-41e4-facb-38de749ce7d0"
      },
      "source": [
        "n = 3\n",
        "see_samples(train_wine, n)"
      ],
      "execution_count": 83,
      "outputs": [
        {
          "output_type": "stream",
          "text": [
            "Features: [ 3.79780175 -1.73659008  0.8570712  -0.23338227 -0.25461043 -0.58015323\n",
            " -0.67883538  1.73432547 -1.55136219  1.01399624 -1.14014938]\n",
            "Target: 7 \n",
            "\n",
            "Features: [-0.36423038 -1.46457323  0.14233674 -0.56361403 -0.57266001  0.34350384\n",
            " -0.26605017 -0.96681652 -0.12478467 -1.08185338  0.35801792]\n",
            "Target: 6 \n",
            "\n",
            "Features: [ 2.60050484 -0.97494291  1.1123335   2.14428637 -0.43351332 -1.04198176\n",
            " -0.35450415  2.44239181 -0.70838456 -0.00560628  1.4816434 ]\n",
            "Target: 7 \n",
            "\n"
          ],
          "name": "stdout"
        }
      ]
    },
    {
      "cell_type": "markdown",
      "metadata": {
        "colab_type": "text",
        "id": "vxb535LyCzA7"
      },
      "source": [
        "Now, we can shuffle and batch the data:"
      ]
    },
    {
      "cell_type": "code",
      "metadata": {
        "colab_type": "code",
        "id": "bjEDQimD-A6W",
        "colab": {
          "base_uri": "https://localhost:8080/",
          "height": 52
        },
        "outputId": "5393a98a-be38-49a9-95ff-f48997cd0ede"
      },
      "source": [
        "BATCH_SIZE = 16\n",
        "SHUFFLE_BUFFER_SIZE = 100\n",
        "\n",
        "train_wine_ds = train_wine.shuffle(\n",
        "    SHUFFLE_BUFFER_SIZE).batch(BATCH_SIZE).prefetch(1)\n",
        "test_wine_ds = test_wine.batch(BATCH_SIZE).prefetch(1)\n",
        "train_wine_ds, test_wine_ds"
      ],
      "execution_count": 84,
      "outputs": [
        {
          "output_type": "execute_result",
          "data": {
            "text/plain": [
              "(<PrefetchDataset shapes: ((None, 11), (None,)), types: (tf.float64, tf.int64)>,\n",
              " <PrefetchDataset shapes: ((None, 11), (None,)), types: (tf.float64, tf.int64)>)"
            ]
          },
          "metadata": {
            "tags": []
          },
          "execution_count": 84
        }
      ]
    },
    {
      "cell_type": "markdown",
      "metadata": {
        "colab_type": "text",
        "id": "JdbTgu4CF4hG"
      },
      "source": [
        "We set batch size at 16. But, you can try higher or lower ones to see what happens! Higher batch sizes seem to work better and run faster!"
      ]
    },
    {
      "cell_type": "markdown",
      "metadata": {
        "colab_type": "text",
        "id": "p0nmVtFuMBwn"
      },
      "source": [
        "## Build the Model"
      ]
    },
    {
      "cell_type": "code",
      "metadata": {
        "colab_type": "code",
        "id": "s6ZlBTRZM60M",
        "colab": {}
      },
      "source": [
        "# clear previous model and plant a seed\n",
        "\n",
        "keras.backend.clear_session()\n",
        "np.random.seed(0)\n",
        "tf.random.set_seed(0)"
      ],
      "execution_count": 85,
      "outputs": []
    },
    {
      "cell_type": "code",
      "metadata": {
        "id": "1NSb_5DxbrM2",
        "colab_type": "code",
        "colab": {}
      },
      "source": [
        "model = Sequential([\n",
        "  Dense(30, activation='relu', input_shape=[11,]),\n",
        "  Dense(11, activation='softmax')\n",
        "])"
      ],
      "execution_count": 86,
      "outputs": []
    },
    {
      "cell_type": "markdown",
      "metadata": {
        "id": "TJF_JzRVmLlA",
        "colab_type": "text"
      },
      "source": [
        "## Model Summary"
      ]
    },
    {
      "cell_type": "code",
      "metadata": {
        "colab_type": "code",
        "id": "0nCrjyUbaz0P",
        "colab": {
          "base_uri": "https://localhost:8080/",
          "height": 230
        },
        "outputId": "7109d6f2-b5bd-4fda-e054-29367ac78bcb"
      },
      "source": [
        "model.summary()"
      ],
      "execution_count": 87,
      "outputs": [
        {
          "output_type": "stream",
          "text": [
            "Model: \"sequential\"\n",
            "_________________________________________________________________\n",
            "Layer (type)                 Output Shape              Param #   \n",
            "=================================================================\n",
            "dense (Dense)                (None, 30)                360       \n",
            "_________________________________________________________________\n",
            "dense_1 (Dense)              (None, 11)                341       \n",
            "=================================================================\n",
            "Total params: 701\n",
            "Trainable params: 701\n",
            "Non-trainable params: 0\n",
            "_________________________________________________________________\n"
          ],
          "name": "stdout"
        }
      ]
    },
    {
      "cell_type": "markdown",
      "metadata": {
        "id": "DvbHN5J-mJNg",
        "colab_type": "text"
      },
      "source": [
        "## Compile the Model"
      ]
    },
    {
      "cell_type": "code",
      "metadata": {
        "colab_type": "code",
        "id": "2IlxHtJhQaib",
        "colab": {}
      },
      "source": [
        "model.compile(optimizer='adam',\n",
        "              loss='sparse_categorical_crossentropy',\n",
        "              metrics=['accuracy'])"
      ],
      "execution_count": 88,
      "outputs": []
    },
    {
      "cell_type": "markdown",
      "metadata": {
        "id": "5vnzYieVmNs5",
        "colab_type": "text"
      },
      "source": [
        "## Train the Model"
      ]
    },
    {
      "cell_type": "code",
      "metadata": {
        "colab_type": "code",
        "id": "uK6mrPAl-Y9E",
        "colab": {
          "base_uri": "https://localhost:8080/",
          "height": 372
        },
        "outputId": "542ac0a4-797a-418a-914f-c0199e036048"
      },
      "source": [
        "history = model.fit(train_wine_ds, epochs=10,\n",
        "                    validation_data=test_wine_ds)"
      ],
      "execution_count": 89,
      "outputs": [
        {
          "output_type": "stream",
          "text": [
            "Epoch 1/10\n",
            "67/67 [==============================] - 0s 5ms/step - loss: 2.3061 - accuracy: 0.1755 - val_loss: 1.8832 - val_accuracy: 0.4754\n",
            "Epoch 2/10\n",
            "67/67 [==============================] - 0s 4ms/step - loss: 1.6365 - accuracy: 0.5322 - val_loss: 1.4151 - val_accuracy: 0.5682\n",
            "Epoch 3/10\n",
            "67/67 [==============================] - 0s 4ms/step - loss: 1.3104 - accuracy: 0.5621 - val_loss: 1.2116 - val_accuracy: 0.5871\n",
            "Epoch 4/10\n",
            "67/67 [==============================] - 0s 4ms/step - loss: 1.1627 - accuracy: 0.5808 - val_loss: 1.1236 - val_accuracy: 0.5890\n",
            "Epoch 5/10\n",
            "67/67 [==============================] - 0s 4ms/step - loss: 1.0894 - accuracy: 0.5882 - val_loss: 1.0786 - val_accuracy: 0.5871\n",
            "Epoch 6/10\n",
            "67/67 [==============================] - 0s 4ms/step - loss: 1.0463 - accuracy: 0.5920 - val_loss: 1.0549 - val_accuracy: 0.5890\n",
            "Epoch 7/10\n",
            "67/67 [==============================] - 0s 4ms/step - loss: 1.0178 - accuracy: 0.5948 - val_loss: 1.0385 - val_accuracy: 0.5852\n",
            "Epoch 8/10\n",
            "67/67 [==============================] - 0s 4ms/step - loss: 0.9978 - accuracy: 0.5985 - val_loss: 1.0253 - val_accuracy: 0.5852\n",
            "Epoch 9/10\n",
            "67/67 [==============================] - 0s 4ms/step - loss: 0.9806 - accuracy: 0.5994 - val_loss: 1.0176 - val_accuracy: 0.5814\n",
            "Epoch 10/10\n",
            "67/67 [==============================] - 0s 4ms/step - loss: 0.9672 - accuracy: 0.5985 - val_loss: 1.0086 - val_accuracy: 0.5852\n"
          ],
          "name": "stdout"
        }
      ]
    },
    {
      "cell_type": "markdown",
      "metadata": {
        "id": "BBtP4kRDAsP8",
        "colab_type": "text"
      },
      "source": [
        "# Get Abalone Data from GitHub\n",
        "\n",
        "In the next section, we work with the Abalone dataset. We show you how to load it from GitHub."
      ]
    },
    {
      "cell_type": "markdown",
      "metadata": {
        "id": "7M9SzKRmCbB_",
        "colab_type": "text"
      },
      "source": [
        "\n",
        "We’ve already located the appropriate URL and assigned it to a variable:"
      ]
    },
    {
      "cell_type": "code",
      "metadata": {
        "id": "5plBaBiBAsdL",
        "colab_type": "code",
        "colab": {}
      },
      "source": [
        "url = 'https://raw.githubusercontent.com/paperd/tensorflow/\\\n",
        "master/chapter4/data/abalone.data'"
      ],
      "execution_count": 90,
      "outputs": []
    },
    {
      "cell_type": "markdown",
      "metadata": {
        "id": "Wg6F268uCjvt",
        "colab_type": "text"
      },
      "source": [
        "Read the dataset into a Pandas DataFrame:"
      ]
    },
    {
      "cell_type": "code",
      "metadata": {
        "id": "anWTDw51Cj4a",
        "colab_type": "code",
        "colab": {}
      },
      "source": [
        "# add column headings\n",
        "\n",
        "cols = ['Sex', 'Length', 'Diameter', 'Height', 'Whole',\n",
        "        'Shucked', 'Viscera', 'Shell', 'Rings']\n",
        "\n",
        "abd = pd.read_csv(url, names=cols)"
      ],
      "execution_count": 93,
      "outputs": []
    },
    {
      "cell_type": "markdown",
      "metadata": {
        "id": "e4EI2hDNEQ5y",
        "colab_type": "text"
      },
      "source": [
        "Verify data:"
      ]
    },
    {
      "cell_type": "code",
      "metadata": {
        "id": "jd467BItERAY",
        "colab_type": "code",
        "colab": {
          "base_uri": "https://localhost:8080/",
          "height": 197
        },
        "outputId": "07ace5ab-404d-476b-d4c0-d2944eec1c9e"
      },
      "source": [
        "abd.head()"
      ],
      "execution_count": 94,
      "outputs": [
        {
          "output_type": "execute_result",
          "data": {
            "text/html": [
              "<div>\n",
              "<style scoped>\n",
              "    .dataframe tbody tr th:only-of-type {\n",
              "        vertical-align: middle;\n",
              "    }\n",
              "\n",
              "    .dataframe tbody tr th {\n",
              "        vertical-align: top;\n",
              "    }\n",
              "\n",
              "    .dataframe thead th {\n",
              "        text-align: right;\n",
              "    }\n",
              "</style>\n",
              "<table border=\"1\" class=\"dataframe\">\n",
              "  <thead>\n",
              "    <tr style=\"text-align: right;\">\n",
              "      <th></th>\n",
              "      <th>Sex</th>\n",
              "      <th>Length</th>\n",
              "      <th>Diameter</th>\n",
              "      <th>Height</th>\n",
              "      <th>Whole</th>\n",
              "      <th>Shucked</th>\n",
              "      <th>Viscera</th>\n",
              "      <th>Shell</th>\n",
              "      <th>Rings</th>\n",
              "    </tr>\n",
              "  </thead>\n",
              "  <tbody>\n",
              "    <tr>\n",
              "      <th>0</th>\n",
              "      <td>M</td>\n",
              "      <td>0.455</td>\n",
              "      <td>0.365</td>\n",
              "      <td>0.095</td>\n",
              "      <td>0.5140</td>\n",
              "      <td>0.2245</td>\n",
              "      <td>0.1010</td>\n",
              "      <td>0.150</td>\n",
              "      <td>15</td>\n",
              "    </tr>\n",
              "    <tr>\n",
              "      <th>1</th>\n",
              "      <td>M</td>\n",
              "      <td>0.350</td>\n",
              "      <td>0.265</td>\n",
              "      <td>0.090</td>\n",
              "      <td>0.2255</td>\n",
              "      <td>0.0995</td>\n",
              "      <td>0.0485</td>\n",
              "      <td>0.070</td>\n",
              "      <td>7</td>\n",
              "    </tr>\n",
              "    <tr>\n",
              "      <th>2</th>\n",
              "      <td>F</td>\n",
              "      <td>0.530</td>\n",
              "      <td>0.420</td>\n",
              "      <td>0.135</td>\n",
              "      <td>0.6770</td>\n",
              "      <td>0.2565</td>\n",
              "      <td>0.1415</td>\n",
              "      <td>0.210</td>\n",
              "      <td>9</td>\n",
              "    </tr>\n",
              "    <tr>\n",
              "      <th>3</th>\n",
              "      <td>M</td>\n",
              "      <td>0.440</td>\n",
              "      <td>0.365</td>\n",
              "      <td>0.125</td>\n",
              "      <td>0.5160</td>\n",
              "      <td>0.2155</td>\n",
              "      <td>0.1140</td>\n",
              "      <td>0.155</td>\n",
              "      <td>10</td>\n",
              "    </tr>\n",
              "    <tr>\n",
              "      <th>4</th>\n",
              "      <td>I</td>\n",
              "      <td>0.330</td>\n",
              "      <td>0.255</td>\n",
              "      <td>0.080</td>\n",
              "      <td>0.2050</td>\n",
              "      <td>0.0895</td>\n",
              "      <td>0.0395</td>\n",
              "      <td>0.055</td>\n",
              "      <td>7</td>\n",
              "    </tr>\n",
              "  </tbody>\n",
              "</table>\n",
              "</div>"
            ],
            "text/plain": [
              "  Sex  Length  Diameter  Height   Whole  Shucked  Viscera  Shell  Rings\n",
              "0   M   0.455     0.365   0.095  0.5140   0.2245   0.1010  0.150     15\n",
              "1   M   0.350     0.265   0.090  0.2255   0.0995   0.0485  0.070      7\n",
              "2   F   0.530     0.420   0.135  0.6770   0.2565   0.1415  0.210      9\n",
              "3   M   0.440     0.365   0.125  0.5160   0.2155   0.1140  0.155     10\n",
              "4   I   0.330     0.255   0.080  0.2050   0.0895   0.0395  0.055      7"
            ]
          },
          "metadata": {
            "tags": []
          },
          "execution_count": 94
        }
      ]
    },
    {
      "cell_type": "markdown",
      "metadata": {
        "colab_type": "text",
        "id": "5MdHx62SEMbh"
      },
      "source": [
        "# Abalone DATA\n",
        "\n",
        "When working with **UCI Machine Learning Repository** data, you may come across data with the **.data** extension. The data contained in this type of file is text data. We can read this data into Pandas with the **read_csv** method just as we did with CSV files. However, we must download the data and read it.\n",
        "\n",
        "The general site for this dataset is located at the following URL:\n",
        "\n",
        "* https://archive.ics.uci.edu/ml/datasets/Abalone\n",
        "\n",
        "The dataset is *abalone.data* and it can be accessed at the following URL:\n",
        "\n",
        "* https://archive.ics.uci.edu/ml/machine-learning-databases/abalone/\n",
        "\n",
        "After you browse to this URL, all you have to do is click on the **abalone.data** link to download the DATA file. Since we are working within the Colab environment, you must copy the file to the **Colab Notebooks** directory on your *Google Drive*. The easiest way is to *drag and drop* the DATA file from your **Downloads** directory into Google Drive.\n",
        "\n",
        "If you want to open the file to view its contents, we recommend using **Notepad** as the editor. We do all of our work within the Windows 10 enviroment.\n",
        "\n",
        "The other file of interest is *abalone.names*, which provides an in-depth description of the dataset. It can be also be accessed at the following URL:\n",
        "\n",
        "* https://archive.ics.uci.edu/ml/datasets/Abalone\n",
        "\n",
        "After you browse to this URL, all you have to do is click on the **abalone.names** link to download the NAMES file.\n",
        "\n",
        "## Dataset Characteristics\n",
        "\n",
        "The dataset is used for predicting the age of abalone from physical measurements. The age of abalone is partially determined by cutting the shell through the cone, staining it, and counting the number of rings through a microscope. Other measurements supplement age prediction.\n",
        "\n",
        "Feature variables include:\n",
        "\n",
        "* sex\n",
        "* length\n",
        "* diameter\n",
        "* height\n",
        "* whole\n",
        "* shucked\n",
        "* viscera\n",
        "* shell\n",
        "\n",
        "The target variable is:\n",
        "\n",
        "* rings\n",
        "\n",
        "The target variable (rings) can take on a score between 1 and 29. Such scores represent the number of rings for an abalone shell. So, the **number of rings** is the value to predict. The interesting thing about this dataset is that we can use it either as a continuous value experiment or as a classification problem."
      ]
    },
    {
      "cell_type": "markdown",
      "metadata": {
        "colab_type": "text",
        "id": "ndJIVYkH1tax"
      },
      "source": [
        "## Mount Google Drive to Colab\n",
        "\n",
        "If you want to work from data on your Google Drive, we must mount Colab."
      ]
    },
    {
      "cell_type": "code",
      "metadata": {
        "id": "XeK_wU9vU5pS",
        "colab_type": "code",
        "colab": {
          "base_uri": "https://localhost:8080/",
          "height": 125
        },
        "outputId": "c5fd0511-c897-432c-badf-f273c9c72094"
      },
      "source": [
        "from google.colab import drive\n",
        "drive.mount('/content/gdrive')"
      ],
      "execution_count": 96,
      "outputs": [
        {
          "output_type": "stream",
          "text": [
            "Go to this URL in a browser: https://accounts.google.com/o/oauth2/auth?client_id=947318989803-6bn6qk8qdgf4n4g3pfee6491hc0brc4i.apps.googleusercontent.com&redirect_uri=urn%3aietf%3awg%3aoauth%3a2.0%3aoob&scope=email%20https%3a%2f%2fwww.googleapis.com%2fauth%2fdocs.test%20https%3a%2f%2fwww.googleapis.com%2fauth%2fdrive%20https%3a%2f%2fwww.googleapis.com%2fauth%2fdrive.photos.readonly%20https%3a%2f%2fwww.googleapis.com%2fauth%2fpeopleapi.readonly&response_type=code\n",
            "\n",
            "Enter your authorization code:\n",
            "··········\n",
            "Mounted at /content/gdrive\n"
          ],
          "name": "stdout"
        }
      ]
    },
    {
      "cell_type": "code",
      "metadata": {
        "colab_type": "code",
        "id": "j3sshLzLNS-4",
        "colab": {
          "base_uri": "https://localhost:8080/",
          "height": 35
        },
        "outputId": "85d7668f-4597-4503-cf04-1238d79d8d76"
      },
      "source": [
        "# establish path (be sure to copy file to Google Drive)\n",
        "\n",
        "path = 'gdrive/My Drive/Colab Notebooks/'\n",
        "abalone = path + 'abalone.data'\n",
        "abalone"
      ],
      "execution_count": 97,
      "outputs": [
        {
          "output_type": "execute_result",
          "data": {
            "application/vnd.google.colaboratory.intrinsic+json": {
              "type": "string"
            },
            "text/plain": [
              "'gdrive/My Drive/Colab Notebooks/abalone.data'"
            ]
          },
          "metadata": {
            "tags": []
          },
          "execution_count": 97
        }
      ]
    },
    {
      "cell_type": "markdown",
      "metadata": {
        "colab_type": "text",
        "id": "Cg_5sblU10ow"
      },
      "source": [
        "## Read Data into Pandas"
      ]
    },
    {
      "cell_type": "code",
      "metadata": {
        "colab_type": "code",
        "id": "bKbTSs-bNmOS",
        "colab": {}
      },
      "source": [
        "cols = ['Sex', 'Length', 'Diameter', 'Height', 'Whole',\n",
        "        'Shucked', 'Viscera', 'Shell', 'Rings']\n",
        "\n",
        "ab_data = pd.read_csv(abalone, names=cols)"
      ],
      "execution_count": 99,
      "outputs": []
    },
    {
      "cell_type": "markdown",
      "metadata": {
        "colab_type": "text",
        "id": "QxWlvHVR142n"
      },
      "source": [
        "Display some records:"
      ]
    },
    {
      "cell_type": "code",
      "metadata": {
        "colab_type": "code",
        "id": "RgRfN9bkNyUi",
        "colab": {
          "base_uri": "https://localhost:8080/",
          "height": 137
        },
        "outputId": "dbec9198-7d34-490b-97eb-65ebe9a04ed2"
      },
      "source": [
        "ab_data.head(3)"
      ],
      "execution_count": 100,
      "outputs": [
        {
          "output_type": "execute_result",
          "data": {
            "text/html": [
              "<div>\n",
              "<style scoped>\n",
              "    .dataframe tbody tr th:only-of-type {\n",
              "        vertical-align: middle;\n",
              "    }\n",
              "\n",
              "    .dataframe tbody tr th {\n",
              "        vertical-align: top;\n",
              "    }\n",
              "\n",
              "    .dataframe thead th {\n",
              "        text-align: right;\n",
              "    }\n",
              "</style>\n",
              "<table border=\"1\" class=\"dataframe\">\n",
              "  <thead>\n",
              "    <tr style=\"text-align: right;\">\n",
              "      <th></th>\n",
              "      <th>Sex</th>\n",
              "      <th>Length</th>\n",
              "      <th>Diameter</th>\n",
              "      <th>Height</th>\n",
              "      <th>Whole</th>\n",
              "      <th>Shucked</th>\n",
              "      <th>Viscera</th>\n",
              "      <th>Shell</th>\n",
              "      <th>Rings</th>\n",
              "    </tr>\n",
              "  </thead>\n",
              "  <tbody>\n",
              "    <tr>\n",
              "      <th>0</th>\n",
              "      <td>M</td>\n",
              "      <td>0.455</td>\n",
              "      <td>0.365</td>\n",
              "      <td>0.095</td>\n",
              "      <td>0.5140</td>\n",
              "      <td>0.2245</td>\n",
              "      <td>0.1010</td>\n",
              "      <td>0.15</td>\n",
              "      <td>15</td>\n",
              "    </tr>\n",
              "    <tr>\n",
              "      <th>1</th>\n",
              "      <td>M</td>\n",
              "      <td>0.350</td>\n",
              "      <td>0.265</td>\n",
              "      <td>0.090</td>\n",
              "      <td>0.2255</td>\n",
              "      <td>0.0995</td>\n",
              "      <td>0.0485</td>\n",
              "      <td>0.07</td>\n",
              "      <td>7</td>\n",
              "    </tr>\n",
              "    <tr>\n",
              "      <th>2</th>\n",
              "      <td>F</td>\n",
              "      <td>0.530</td>\n",
              "      <td>0.420</td>\n",
              "      <td>0.135</td>\n",
              "      <td>0.6770</td>\n",
              "      <td>0.2565</td>\n",
              "      <td>0.1415</td>\n",
              "      <td>0.21</td>\n",
              "      <td>9</td>\n",
              "    </tr>\n",
              "  </tbody>\n",
              "</table>\n",
              "</div>"
            ],
            "text/plain": [
              "  Sex  Length  Diameter  Height   Whole  Shucked  Viscera  Shell  Rings\n",
              "0   M   0.455     0.365   0.095  0.5140   0.2245   0.1010   0.15     15\n",
              "1   M   0.350     0.265   0.090  0.2255   0.0995   0.0485   0.07      7\n",
              "2   F   0.530     0.420   0.135  0.6770   0.2565   0.1415   0.21      9"
            ]
          },
          "metadata": {
            "tags": []
          },
          "execution_count": 100
        }
      ]
    },
    {
      "cell_type": "markdown",
      "metadata": {
        "id": "1VAnAEPj2ATr",
        "colab_type": "text"
      },
      "source": [
        "Display records from end of dataset:"
      ]
    },
    {
      "cell_type": "code",
      "metadata": {
        "id": "I3AQqLgE2AcR",
        "colab_type": "code",
        "colab": {
          "base_uri": "https://localhost:8080/",
          "height": 137
        },
        "outputId": "f76b53c9-fb68-4309-b6e7-438165c9e024"
      },
      "source": [
        "ab_data.tail(3)"
      ],
      "execution_count": 101,
      "outputs": [
        {
          "output_type": "execute_result",
          "data": {
            "text/html": [
              "<div>\n",
              "<style scoped>\n",
              "    .dataframe tbody tr th:only-of-type {\n",
              "        vertical-align: middle;\n",
              "    }\n",
              "\n",
              "    .dataframe tbody tr th {\n",
              "        vertical-align: top;\n",
              "    }\n",
              "\n",
              "    .dataframe thead th {\n",
              "        text-align: right;\n",
              "    }\n",
              "</style>\n",
              "<table border=\"1\" class=\"dataframe\">\n",
              "  <thead>\n",
              "    <tr style=\"text-align: right;\">\n",
              "      <th></th>\n",
              "      <th>Sex</th>\n",
              "      <th>Length</th>\n",
              "      <th>Diameter</th>\n",
              "      <th>Height</th>\n",
              "      <th>Whole</th>\n",
              "      <th>Shucked</th>\n",
              "      <th>Viscera</th>\n",
              "      <th>Shell</th>\n",
              "      <th>Rings</th>\n",
              "    </tr>\n",
              "  </thead>\n",
              "  <tbody>\n",
              "    <tr>\n",
              "      <th>4174</th>\n",
              "      <td>M</td>\n",
              "      <td>0.600</td>\n",
              "      <td>0.475</td>\n",
              "      <td>0.205</td>\n",
              "      <td>1.1760</td>\n",
              "      <td>0.5255</td>\n",
              "      <td>0.2875</td>\n",
              "      <td>0.308</td>\n",
              "      <td>9</td>\n",
              "    </tr>\n",
              "    <tr>\n",
              "      <th>4175</th>\n",
              "      <td>F</td>\n",
              "      <td>0.625</td>\n",
              "      <td>0.485</td>\n",
              "      <td>0.150</td>\n",
              "      <td>1.0945</td>\n",
              "      <td>0.5310</td>\n",
              "      <td>0.2610</td>\n",
              "      <td>0.296</td>\n",
              "      <td>10</td>\n",
              "    </tr>\n",
              "    <tr>\n",
              "      <th>4176</th>\n",
              "      <td>M</td>\n",
              "      <td>0.710</td>\n",
              "      <td>0.555</td>\n",
              "      <td>0.195</td>\n",
              "      <td>1.9485</td>\n",
              "      <td>0.9455</td>\n",
              "      <td>0.3765</td>\n",
              "      <td>0.495</td>\n",
              "      <td>12</td>\n",
              "    </tr>\n",
              "  </tbody>\n",
              "</table>\n",
              "</div>"
            ],
            "text/plain": [
              "     Sex  Length  Diameter  Height   Whole  Shucked  Viscera  Shell  Rings\n",
              "4174   M   0.600     0.475   0.205  1.1760   0.5255   0.2875  0.308      9\n",
              "4175   F   0.625     0.485   0.150  1.0945   0.5310   0.2610  0.296     10\n",
              "4176   M   0.710     0.555   0.195  1.9485   0.9455   0.3765  0.495     12"
            ]
          },
          "metadata": {
            "tags": []
          },
          "execution_count": 101
        }
      ]
    },
    {
      "cell_type": "markdown",
      "metadata": {
        "id": "S30x9C2s2adT",
        "colab_type": "text"
      },
      "source": [
        "Number of records:"
      ]
    },
    {
      "cell_type": "code",
      "metadata": {
        "id": "cBsfVRwS2akp",
        "colab_type": "code",
        "colab": {
          "base_uri": "https://localhost:8080/",
          "height": 34
        },
        "outputId": "207e86e8-30b0-43d4-e99e-18db08cdc35d"
      },
      "source": [
        "len(ab_data)"
      ],
      "execution_count": 102,
      "outputs": [
        {
          "output_type": "execute_result",
          "data": {
            "text/plain": [
              "4177"
            ]
          },
          "metadata": {
            "tags": []
          },
          "execution_count": 102
        }
      ]
    },
    {
      "cell_type": "markdown",
      "metadata": {
        "colab_type": "text",
        "id": "9l4moPWecyBg"
      },
      "source": [
        "Identify classes in 'Rings' column:"
      ]
    },
    {
      "cell_type": "code",
      "metadata": {
        "colab_type": "code",
        "id": "r7BEw37TcxDa",
        "colab": {
          "base_uri": "https://localhost:8080/",
          "height": 87
        },
        "outputId": "0b66fd46-bcf2-40c1-f18b-7b18e9e47401"
      },
      "source": [
        "# classes that represent the 'Rings' feature\n",
        "\n",
        "print ('classes:', br)\n",
        "print (np.sort(ab_data['Rings'].unique()))"
      ],
      "execution_count": 103,
      "outputs": [
        {
          "output_type": "stream",
          "text": [
            "classes: \n",
            "\n",
            "[ 1  2  3  4  5  6  7  8  9 10 11 12 13 14 15 16 17 18 19 20 21 22 23 24\n",
            " 25 26 27 29]\n"
          ],
          "name": "stdout"
        }
      ]
    },
    {
      "cell_type": "markdown",
      "metadata": {
        "colab_type": "text",
        "id": "14A0Mo-dit6t"
      },
      "source": [
        "So, we have 28 classes ranging from 1 to 27, and 29. Each class represents the age of an Abalone shell in years."
      ]
    },
    {
      "cell_type": "markdown",
      "metadata": {
        "id": "jvDT1Yfo2r61",
        "colab_type": "text"
      },
      "source": [
        "Number of output classes:"
      ]
    },
    {
      "cell_type": "code",
      "metadata": {
        "id": "mB5KZw3t2sCK",
        "colab_type": "code",
        "colab": {
          "base_uri": "https://localhost:8080/",
          "height": 34
        },
        "outputId": "a922e504-a8b3-4e9b-e81b-323dee47d31d"
      },
      "source": [
        "# number of classes\n",
        "\n",
        "print ('number of classes:', len(ab_data['Rings'].unique()))"
      ],
      "execution_count": 104,
      "outputs": [
        {
          "output_type": "stream",
          "text": [
            "number of classes: 28\n"
          ],
          "name": "stdout"
        }
      ]
    },
    {
      "cell_type": "markdown",
      "metadata": {
        "colab_type": "text",
        "id": "t0jXtQD_gUsS"
      },
      "source": [
        "Display class distribution:"
      ]
    },
    {
      "cell_type": "code",
      "metadata": {
        "colab_type": "code",
        "id": "Ec3HShbagb_Y",
        "colab": {
          "base_uri": "https://localhost:8080/",
          "height": 514
        },
        "outputId": "806ab683-67d8-4e67-bdb8-d36a454480c1"
      },
      "source": [
        "instance = ab_data['Rings'].value_counts()\n",
        "instance.to_dict()"
      ],
      "execution_count": 105,
      "outputs": [
        {
          "output_type": "execute_result",
          "data": {
            "text/plain": [
              "{1: 1,\n",
              " 2: 1,\n",
              " 3: 15,\n",
              " 4: 57,\n",
              " 5: 115,\n",
              " 6: 259,\n",
              " 7: 391,\n",
              " 8: 568,\n",
              " 9: 689,\n",
              " 10: 634,\n",
              " 11: 487,\n",
              " 12: 267,\n",
              " 13: 203,\n",
              " 14: 126,\n",
              " 15: 103,\n",
              " 16: 67,\n",
              " 17: 58,\n",
              " 18: 42,\n",
              " 19: 32,\n",
              " 20: 26,\n",
              " 21: 14,\n",
              " 22: 6,\n",
              " 23: 9,\n",
              " 24: 2,\n",
              " 25: 1,\n",
              " 26: 1,\n",
              " 27: 2,\n",
              " 29: 1}"
            ]
          },
          "metadata": {
            "tags": []
          },
          "execution_count": 105
        }
      ]
    },
    {
      "cell_type": "markdown",
      "metadata": {
        "colab_type": "text",
        "id": "67fWch29iHa2"
      },
      "source": [
        "So, we have '1' abalone shell '1' year of age, '1' abalone shell '2' years of age, '15' abalone shells '3' years of ages, and so on..."
      ]
    },
    {
      "cell_type": "markdown",
      "metadata": {
        "colab_type": "text",
        "id": "Rvct6Wh33L4b"
      },
      "source": [
        "Display datatypes:"
      ]
    },
    {
      "cell_type": "code",
      "metadata": {
        "colab_type": "code",
        "id": "56goJoHd3QNq",
        "colab": {
          "base_uri": "https://localhost:8080/",
          "height": 194
        },
        "outputId": "328536b7-68a9-46ef-927b-53165f4c549e"
      },
      "source": [
        "ab_data.dtypes"
      ],
      "execution_count": 106,
      "outputs": [
        {
          "output_type": "execute_result",
          "data": {
            "text/plain": [
              "Sex          object\n",
              "Length      float64\n",
              "Diameter    float64\n",
              "Height      float64\n",
              "Whole       float64\n",
              "Shucked     float64\n",
              "Viscera     float64\n",
              "Shell       float64\n",
              "Rings         int64\n",
              "dtype: object"
            ]
          },
          "metadata": {
            "tags": []
          },
          "execution_count": 106
        }
      ]
    },
    {
      "cell_type": "markdown",
      "metadata": {
        "colab_type": "text",
        "id": "ws2mBxZdlM8b"
      },
      "source": [
        "Display information about all columns:"
      ]
    },
    {
      "cell_type": "code",
      "metadata": {
        "colab_type": "code",
        "id": "A2f2w4TXk8rz",
        "colab": {
          "base_uri": "https://localhost:8080/",
          "height": 301
        },
        "outputId": "c9598fa5-2999-464c-ad6f-4e2e530cd707"
      },
      "source": [
        "ab_data.info(verbose=True)"
      ],
      "execution_count": 107,
      "outputs": [
        {
          "output_type": "stream",
          "text": [
            "<class 'pandas.core.frame.DataFrame'>\n",
            "RangeIndex: 4177 entries, 0 to 4176\n",
            "Data columns (total 9 columns):\n",
            " #   Column    Non-Null Count  Dtype  \n",
            "---  ------    --------------  -----  \n",
            " 0   Sex       4177 non-null   object \n",
            " 1   Length    4177 non-null   float64\n",
            " 2   Diameter  4177 non-null   float64\n",
            " 3   Height    4177 non-null   float64\n",
            " 4   Whole     4177 non-null   float64\n",
            " 5   Shucked   4177 non-null   float64\n",
            " 6   Viscera   4177 non-null   float64\n",
            " 7   Shell     4177 non-null   float64\n",
            " 8   Rings     4177 non-null   int64  \n",
            "dtypes: float64(7), int64(1), object(1)\n",
            "memory usage: 293.8+ KB\n"
          ],
          "name": "stdout"
        }
      ]
    },
    {
      "cell_type": "markdown",
      "metadata": {
        "colab_type": "text",
        "id": "O9E_LJP04qOw"
      },
      "source": [
        "Display shape of the DataFrame:"
      ]
    },
    {
      "cell_type": "code",
      "metadata": {
        "colab_type": "code",
        "id": "-zJRK5UX4qWI",
        "colab": {
          "base_uri": "https://localhost:8080/",
          "height": 34
        },
        "outputId": "6aeab0bd-7afb-49a6-c540-748c72e89c79"
      },
      "source": [
        "ab_data.shape"
      ],
      "execution_count": 108,
      "outputs": [
        {
          "output_type": "execute_result",
          "data": {
            "text/plain": [
              "(4177, 9)"
            ]
          },
          "metadata": {
            "tags": []
          },
          "execution_count": 108
        }
      ]
    },
    {
      "cell_type": "markdown",
      "metadata": {
        "colab_type": "text",
        "id": "E9iysMSK4zTP"
      },
      "source": [
        "So, we have 4177 examples and 9 attributes."
      ]
    },
    {
      "cell_type": "markdown",
      "metadata": {
        "colab_type": "text",
        "id": "kLJhjrHW35Jy"
      },
      "source": [
        "## Create Train and Test Sets"
      ]
    },
    {
      "cell_type": "code",
      "metadata": {
        "colab_type": "code",
        "id": "7K9tImRi35R8",
        "colab": {
          "base_uri": "https://localhost:8080/",
          "height": 52
        },
        "outputId": "a3bd4422-6ec4-4423-f4d7-d3db299816c1"
      },
      "source": [
        "train, test = train_test_split(ab_data)\n",
        "\n",
        "print(len(train), 'train examples')\n",
        "print(len(test), 'test examples')"
      ],
      "execution_count": 109,
      "outputs": [
        {
          "output_type": "stream",
          "text": [
            "3132 train examples\n",
            "1045 test examples\n"
          ],
          "name": "stdout"
        }
      ]
    },
    {
      "cell_type": "markdown",
      "metadata": {
        "colab_type": "text",
        "id": "Q4Hr4Vfr4_5Z"
      },
      "source": [
        "If you don't specify test size, the default is 0.25 (or 25%)."
      ]
    },
    {
      "cell_type": "markdown",
      "metadata": {
        "colab_type": "text",
        "id": "S2bb6J2P5PdB"
      },
      "source": [
        "## Create Feature and Target Sets"
      ]
    },
    {
      "cell_type": "markdown",
      "metadata": {
        "id": "x_HMjV_f7Z2K",
        "colab_type": "text"
      },
      "source": [
        "Create a copy and place column into target:"
      ]
    },
    {
      "cell_type": "code",
      "metadata": {
        "id": "61fLuNjc7dId",
        "colab_type": "code",
        "colab": {}
      },
      "source": [
        "train_copy, test_copy = train.copy(), test.copy()\n",
        "\n",
        "# create the target\n",
        "\n",
        "train_target, test_target = train_copy.pop('Rings'),\\\n",
        "test_copy.pop('Rings')"
      ],
      "execution_count": 110,
      "outputs": []
    },
    {
      "cell_type": "markdown",
      "metadata": {
        "id": "vBel2dFORMyV",
        "colab_type": "text"
      },
      "source": [
        "Verify targets:"
      ]
    },
    {
      "cell_type": "code",
      "metadata": {
        "id": "fUrm8KAzRM6D",
        "colab_type": "code",
        "colab": {
          "base_uri": "https://localhost:8080/",
          "height": 34
        },
        "outputId": "23d43913-479a-4bf6-e341-0f0f62d27b61"
      },
      "source": [
        "len(train_target), len(test_target)"
      ],
      "execution_count": 111,
      "outputs": [
        {
          "output_type": "execute_result",
          "data": {
            "text/plain": [
              "(3132, 1045)"
            ]
          },
          "metadata": {
            "tags": []
          },
          "execution_count": 111
        }
      ]
    },
    {
      "cell_type": "markdown",
      "metadata": {
        "id": "OZlMBOahK1Wc",
        "colab_type": "text"
      },
      "source": [
        "Verify train feature data:"
      ]
    },
    {
      "cell_type": "code",
      "metadata": {
        "id": "6cebC0nOK1eL",
        "colab_type": "code",
        "colab": {
          "base_uri": "https://localhost:8080/",
          "height": 137
        },
        "outputId": "3809a1c8-8e68-4fb7-ebf8-73eece5ae954"
      },
      "source": [
        "train_copy.head(3)"
      ],
      "execution_count": 112,
      "outputs": [
        {
          "output_type": "execute_result",
          "data": {
            "text/html": [
              "<div>\n",
              "<style scoped>\n",
              "    .dataframe tbody tr th:only-of-type {\n",
              "        vertical-align: middle;\n",
              "    }\n",
              "\n",
              "    .dataframe tbody tr th {\n",
              "        vertical-align: top;\n",
              "    }\n",
              "\n",
              "    .dataframe thead th {\n",
              "        text-align: right;\n",
              "    }\n",
              "</style>\n",
              "<table border=\"1\" class=\"dataframe\">\n",
              "  <thead>\n",
              "    <tr style=\"text-align: right;\">\n",
              "      <th></th>\n",
              "      <th>Sex</th>\n",
              "      <th>Length</th>\n",
              "      <th>Diameter</th>\n",
              "      <th>Height</th>\n",
              "      <th>Whole</th>\n",
              "      <th>Shucked</th>\n",
              "      <th>Viscera</th>\n",
              "      <th>Shell</th>\n",
              "    </tr>\n",
              "  </thead>\n",
              "  <tbody>\n",
              "    <tr>\n",
              "      <th>940</th>\n",
              "      <td>I</td>\n",
              "      <td>0.460</td>\n",
              "      <td>0.345</td>\n",
              "      <td>0.105</td>\n",
              "      <td>0.449</td>\n",
              "      <td>0.1960</td>\n",
              "      <td>0.0945</td>\n",
              "      <td>0.1265</td>\n",
              "    </tr>\n",
              "    <tr>\n",
              "      <th>2688</th>\n",
              "      <td>M</td>\n",
              "      <td>0.630</td>\n",
              "      <td>0.465</td>\n",
              "      <td>0.150</td>\n",
              "      <td>1.027</td>\n",
              "      <td>0.5370</td>\n",
              "      <td>0.1880</td>\n",
              "      <td>0.1760</td>\n",
              "    </tr>\n",
              "    <tr>\n",
              "      <th>1948</th>\n",
              "      <td>M</td>\n",
              "      <td>0.635</td>\n",
              "      <td>0.515</td>\n",
              "      <td>0.165</td>\n",
              "      <td>1.229</td>\n",
              "      <td>0.5055</td>\n",
              "      <td>0.2975</td>\n",
              "      <td>0.3535</td>\n",
              "    </tr>\n",
              "  </tbody>\n",
              "</table>\n",
              "</div>"
            ],
            "text/plain": [
              "     Sex  Length  Diameter  Height  Whole  Shucked  Viscera   Shell\n",
              "940    I   0.460     0.345   0.105  0.449   0.1960   0.0945  0.1265\n",
              "2688   M   0.630     0.465   0.150  1.027   0.5370   0.1880  0.1760\n",
              "1948   M   0.635     0.515   0.165  1.229   0.5055   0.2975  0.3535"
            ]
          },
          "metadata": {
            "tags": []
          },
          "execution_count": 112
        }
      ]
    },
    {
      "cell_type": "markdown",
      "metadata": {
        "id": "mepibO4n8jkA",
        "colab_type": "text"
      },
      "source": [
        "## Convert Feature Data to Numpy Values"
      ]
    },
    {
      "cell_type": "code",
      "metadata": {
        "id": "OPcx-VE48jsU",
        "colab_type": "code",
        "colab": {}
      },
      "source": [
        "train_features, test_features = train_copy.values,\\\n",
        "test_copy.values"
      ],
      "execution_count": 113,
      "outputs": []
    },
    {
      "cell_type": "markdown",
      "metadata": {
        "id": "Gc4kDWvS9n7B",
        "colab_type": "text"
      },
      "source": [
        "## Scale Features\n",
        "\n",
        "We can only scale continuous values. Since the sex feature is not continuous, it cannot be scaled. So, we slice off the continuous values to scale. We then recreate train and test sets with the sex feature and scaled continuous values."
      ]
    },
    {
      "cell_type": "markdown",
      "metadata": {
        "id": "OIQl6ovX-Gbq",
        "colab_type": "text"
      },
      "source": [
        "Display a sample so we can verify slicing:"
      ]
    },
    {
      "cell_type": "code",
      "metadata": {
        "id": "gO4cCDNK-KCw",
        "colab_type": "code",
        "colab": {
          "base_uri": "https://localhost:8080/",
          "height": 87
        },
        "outputId": "95acbafe-2221-49a4-96d9-f7e56aaac44c"
      },
      "source": [
        "train_features[0], test_features[0]"
      ],
      "execution_count": 115,
      "outputs": [
        {
          "output_type": "execute_result",
          "data": {
            "text/plain": [
              "(array(['I', 0.46, 0.345, 0.105, 0.449, 0.196, 0.0945, 0.1265],\n",
              "       dtype=object),\n",
              " array(['M', 0.55, 0.425, 0.155, 0.9175, 0.2775, 0.243, 0.335],\n",
              "       dtype=object))"
            ]
          },
          "metadata": {
            "tags": []
          },
          "execution_count": 115
        }
      ]
    },
    {
      "cell_type": "markdown",
      "metadata": {
        "id": "oOCvvl8R_nRN",
        "colab_type": "text"
      },
      "source": [
        "Create two train sets (one with sex and the other with continous values):"
      ]
    },
    {
      "cell_type": "code",
      "metadata": {
        "id": "m4hf6EN8_niR",
        "colab_type": "code",
        "colab": {
          "base_uri": "https://localhost:8080/",
          "height": 34
        },
        "outputId": "aec872e6-887e-44c5-9db0-70ad3a93748b"
      },
      "source": [
        "train_sex = [row[0] for row in train_features]\n",
        "train_f = [row[1:] for row in train_features]\n",
        "train_sex[0], train_f[0]"
      ],
      "execution_count": 116,
      "outputs": [
        {
          "output_type": "execute_result",
          "data": {
            "text/plain": [
              "('I', array([0.46, 0.345, 0.105, 0.449, 0.196, 0.0945, 0.1265], dtype=object))"
            ]
          },
          "metadata": {
            "tags": []
          },
          "execution_count": 116
        }
      ]
    },
    {
      "cell_type": "markdown",
      "metadata": {
        "id": "fIY8_MD0BVx1",
        "colab_type": "text"
      },
      "source": [
        "Create two test sets (one with sex and the other with continous values):"
      ]
    },
    {
      "cell_type": "code",
      "metadata": {
        "id": "GLA0jazVBV3J",
        "colab_type": "code",
        "colab": {
          "base_uri": "https://localhost:8080/",
          "height": 34
        },
        "outputId": "f21c922e-573e-4212-d8f8-eca14636283c"
      },
      "source": [
        "test_sex = [row[0] for row in test_features]\n",
        "test_f = [row[1:] for row in test_features]\n",
        "test_sex[0], test_f[0]"
      ],
      "execution_count": 117,
      "outputs": [
        {
          "output_type": "execute_result",
          "data": {
            "text/plain": [
              "('M', array([0.55, 0.425, 0.155, 0.9175, 0.2775, 0.243, 0.335], dtype=object))"
            ]
          },
          "metadata": {
            "tags": []
          },
          "execution_count": 117
        }
      ]
    },
    {
      "cell_type": "markdown",
      "metadata": {
        "id": "yfSgUwhi-P93",
        "colab_type": "text"
      },
      "source": [
        "Scale continuous values:"
      ]
    },
    {
      "cell_type": "code",
      "metadata": {
        "id": "bnjsqIxc9oKH",
        "colab_type": "code",
        "colab": {}
      },
      "source": [
        "train_sc = scaler.fit_transform(train_f)\n",
        "test_sc = scaler.fit_transform(test_f)"
      ],
      "execution_count": 118,
      "outputs": []
    },
    {
      "cell_type": "markdown",
      "metadata": {
        "id": "M3koChqgCBPs",
        "colab_type": "text"
      },
      "source": [
        "Create train and test sets with sex and scaled values:"
      ]
    },
    {
      "cell_type": "code",
      "metadata": {
        "id": "lIROjqBGCBYT",
        "colab_type": "code",
        "colab": {
          "base_uri": "https://localhost:8080/",
          "height": 158
        },
        "outputId": "0cfc9142-c5c4-42f8-c7e9-105846462fef"
      },
      "source": [
        "train_ds = [np.append(train_sex[i], row)\n",
        "for i, row in enumerate(train_sc)]\n",
        "\n",
        "test_ds = [np.append(test_sex[i], row)\n",
        "for i, row in enumerate(test_sc)]\n",
        "\n",
        "train_ds[0], test_ds[0]"
      ],
      "execution_count": 119,
      "outputs": [
        {
          "output_type": "execute_result",
          "data": {
            "text/plain": [
              "(array(['I', '-0.5539720150785379', '-0.6559333602766398',\n",
              "        '-0.8211004378454012', '-0.7927915873345437',\n",
              "        '-0.7526317555313695', '-0.8016001909009411',\n",
              "        '-0.8252762430150634'], dtype='<U32'),\n",
              " array(['M', '0.2614317441034712', '0.21602505424971047',\n",
              "        '0.44367952533410815', '0.23087500908915165',\n",
              "        '-0.32043732600158525', '0.6054586014932206', '0.7419788416599444'],\n",
              "       dtype='<U32'))"
            ]
          },
          "metadata": {
            "tags": []
          },
          "execution_count": 119
        }
      ]
    },
    {
      "cell_type": "markdown",
      "metadata": {
        "id": "9qo76o0MMqcO",
        "colab_type": "text"
      },
      "source": [
        "Convert numpy feature sets into pandas DataFrames"
      ]
    },
    {
      "cell_type": "code",
      "metadata": {
        "id": "YtkuuYmjMqjM",
        "colab_type": "code",
        "colab": {}
      },
      "source": [
        "col = ['Sex', 'Length', 'Diameter', 'Height', 'Whole',\n",
        "       'Shucked', 'Viscera', 'Shell']\n",
        "\n",
        "train_ab = pd.DataFrame(train_ds, columns=col)\n",
        "test_ab = pd.DataFrame(test_ds, columns=col)"
      ],
      "execution_count": 121,
      "outputs": []
    },
    {
      "cell_type": "markdown",
      "metadata": {
        "id": "hNbSAcmnSEvH",
        "colab_type": "text"
      },
      "source": [
        "Verify train features:"
      ]
    },
    {
      "cell_type": "code",
      "metadata": {
        "id": "M9gKF65ESE8U",
        "colab_type": "code",
        "colab": {
          "base_uri": "https://localhost:8080/",
          "height": 137
        },
        "outputId": "a23ac673-5a2f-494b-f0f7-4eb0ee50db37"
      },
      "source": [
        "train_ab.tail(3)"
      ],
      "execution_count": 122,
      "outputs": [
        {
          "output_type": "execute_result",
          "data": {
            "text/html": [
              "<div>\n",
              "<style scoped>\n",
              "    .dataframe tbody tr th:only-of-type {\n",
              "        vertical-align: middle;\n",
              "    }\n",
              "\n",
              "    .dataframe tbody tr th {\n",
              "        vertical-align: top;\n",
              "    }\n",
              "\n",
              "    .dataframe thead th {\n",
              "        text-align: right;\n",
              "    }\n",
              "</style>\n",
              "<table border=\"1\" class=\"dataframe\">\n",
              "  <thead>\n",
              "    <tr style=\"text-align: right;\">\n",
              "      <th></th>\n",
              "      <th>Sex</th>\n",
              "      <th>Length</th>\n",
              "      <th>Diameter</th>\n",
              "      <th>Height</th>\n",
              "      <th>Whole</th>\n",
              "      <th>Shucked</th>\n",
              "      <th>Viscera</th>\n",
              "      <th>Shell</th>\n",
              "    </tr>\n",
              "  </thead>\n",
              "  <tbody>\n",
              "    <tr>\n",
              "      <th>3129</th>\n",
              "      <td>M</td>\n",
              "      <td>0.5789990955701353</td>\n",
              "      <td>0.41185984745829424</td>\n",
              "      <td>0.11456868033972055</td>\n",
              "      <td>0.24918336699361837</td>\n",
              "      <td>0.4509756980247627</td>\n",
              "      <td>0.22340827110437553</td>\n",
              "      <td>0.08812680029658754</td>\n",
              "    </tr>\n",
              "    <tr>\n",
              "      <th>3130</th>\n",
              "      <td>F</td>\n",
              "      <td>0.8307704534920629</td>\n",
              "      <td>0.8186382123096974</td>\n",
              "      <td>0.5824032394322819</td>\n",
              "      <td>0.5924221754781892</td>\n",
              "      <td>0.5140862012074815</td>\n",
              "      <td>0.49796410914151396</td>\n",
              "      <td>0.5556165468734168</td>\n",
              "    </tr>\n",
              "    <tr>\n",
              "      <th>3131</th>\n",
              "      <td>I</td>\n",
              "      <td>-0.9735909449484174</td>\n",
              "      <td>-0.8593225427023411</td>\n",
              "      <td>-0.7041417980722608</td>\n",
              "      <td>-1.0440914292607475</td>\n",
              "      <td>-1.038882966395843</td>\n",
              "      <td>-0.9800614856250811</td>\n",
              "      <td>-1.008676066672127</td>\n",
              "    </tr>\n",
              "  </tbody>\n",
              "</table>\n",
              "</div>"
            ],
            "text/plain": [
              "     Sex               Length  ...              Viscera                Shell\n",
              "3129   M   0.5789990955701353  ...  0.22340827110437553  0.08812680029658754\n",
              "3130   F   0.8307704534920629  ...  0.49796410914151396   0.5556165468734168\n",
              "3131   I  -0.9735909449484174  ...  -0.9800614856250811   -1.008676066672127\n",
              "\n",
              "[3 rows x 8 columns]"
            ]
          },
          "metadata": {
            "tags": []
          },
          "execution_count": 122
        }
      ]
    },
    {
      "cell_type": "markdown",
      "metadata": {
        "id": "OHk-JGqjbA0E",
        "colab_type": "text"
      },
      "source": [
        "Verify test features:"
      ]
    },
    {
      "cell_type": "code",
      "metadata": {
        "id": "PDgGDXVKbA8o",
        "colab_type": "code",
        "colab": {
          "base_uri": "https://localhost:8080/",
          "height": 137
        },
        "outputId": "9935a2bf-6d39-4e3d-ea3a-08a04e7ecc51"
      },
      "source": [
        "test_ab.tail(3)"
      ],
      "execution_count": 123,
      "outputs": [
        {
          "output_type": "execute_result",
          "data": {
            "text/html": [
              "<div>\n",
              "<style scoped>\n",
              "    .dataframe tbody tr th:only-of-type {\n",
              "        vertical-align: middle;\n",
              "    }\n",
              "\n",
              "    .dataframe tbody tr th {\n",
              "        vertical-align: top;\n",
              "    }\n",
              "\n",
              "    .dataframe thead th {\n",
              "        text-align: right;\n",
              "    }\n",
              "</style>\n",
              "<table border=\"1\" class=\"dataframe\">\n",
              "  <thead>\n",
              "    <tr style=\"text-align: right;\">\n",
              "      <th></th>\n",
              "      <th>Sex</th>\n",
              "      <th>Length</th>\n",
              "      <th>Diameter</th>\n",
              "      <th>Height</th>\n",
              "      <th>Whole</th>\n",
              "      <th>Shucked</th>\n",
              "      <th>Viscera</th>\n",
              "      <th>Shell</th>\n",
              "    </tr>\n",
              "  </thead>\n",
              "  <tbody>\n",
              "    <tr>\n",
              "      <th>1042</th>\n",
              "      <td>M</td>\n",
              "      <td>-0.18716624044189956</td>\n",
              "      <td>-0.02977871501307618</td>\n",
              "      <td>-0.45710197003615755</td>\n",
              "      <td>-0.2913686639789352</td>\n",
              "      <td>-0.3970492055291762</td>\n",
              "      <td>-0.1367960937670394</td>\n",
              "      <td>-0.2984126317100943</td>\n",
              "    </tr>\n",
              "    <tr>\n",
              "      <th>1043</th>\n",
              "      <td>M</td>\n",
              "      <td>0.9955011733595315</td>\n",
              "      <td>1.0517578697431864</td>\n",
              "      <td>0.8297287376356508</td>\n",
              "      <td>1.1534377622911416</td>\n",
              "      <td>0.9842179165418012</td>\n",
              "      <td>1.184779339257326</td>\n",
              "      <td>1.2729372487591362</td>\n",
              "    </tr>\n",
              "    <tr>\n",
              "      <th>1044</th>\n",
              "      <td>F</td>\n",
              "      <td>0.7100297286488411</td>\n",
              "      <td>0.7076325927752842</td>\n",
              "      <td>0.7010456668684699</td>\n",
              "      <td>0.5123176111122258</td>\n",
              "      <td>0.38033604261843734</td>\n",
              "      <td>0.3927392680954632</td>\n",
              "      <td>0.8998313410678125</td>\n",
              "    </tr>\n",
              "  </tbody>\n",
              "</table>\n",
              "</div>"
            ],
            "text/plain": [
              "     Sex                Length  ...              Viscera                Shell\n",
              "1042   M  -0.18716624044189956  ...  -0.1367960937670394  -0.2984126317100943\n",
              "1043   M    0.9955011733595315  ...    1.184779339257326   1.2729372487591362\n",
              "1044   F    0.7100297286488411  ...   0.3927392680954632   0.8998313410678125\n",
              "\n",
              "[3 rows x 8 columns]"
            ]
          },
          "metadata": {
            "tags": []
          },
          "execution_count": 123
        }
      ]
    },
    {
      "cell_type": "markdown",
      "metadata": {
        "id": "7zWnGOoxSMh3",
        "colab_type": "text"
      },
      "source": [
        "## Build Input Pipeline"
      ]
    },
    {
      "cell_type": "markdown",
      "metadata": {
        "id": "6snrzyT1S_zU",
        "colab_type": "text"
      },
      "source": [
        "Prepare train and test data for TensorFlow consumption:"
      ]
    },
    {
      "cell_type": "code",
      "metadata": {
        "id": "dt7fJwq-UhDX",
        "colab_type": "code",
        "colab": {}
      },
      "source": [
        "train_ds = tf.data.Dataset.from_tensor_slices(\n",
        "    (dict(train_ab), train_target))\n",
        "test_ds = tf.data.Dataset.from_tensor_slices(\n",
        "    (dict(test_ab), test_target))"
      ],
      "execution_count": 125,
      "outputs": []
    },
    {
      "cell_type": "markdown",
      "metadata": {
        "id": "Ee6YBcNlTUMa",
        "colab_type": "text"
      },
      "source": [
        "Shuffle, Batch, and Prefetch:"
      ]
    },
    {
      "cell_type": "code",
      "metadata": {
        "id": "A9pZS_VuTb1C",
        "colab_type": "code",
        "colab": {
          "base_uri": "https://localhost:8080/",
          "height": 72
        },
        "outputId": "629405da-78ce-467f-fc02-1c66fcfdeaf6"
      },
      "source": [
        "BATCH_SIZE = 32\n",
        "SHUFFLE_BUFFER_SIZE = 100\n",
        "\n",
        "train_ads = train_ds.shuffle(\n",
        "    SHUFFLE_BUFFER_SIZE).batch(BATCH_SIZE).prefetch(1)\n",
        "test_ads = test_ds.batch(BATCH_SIZE).prefetch(1)\n",
        "train_ads, test_ads"
      ],
      "execution_count": 126,
      "outputs": [
        {
          "output_type": "execute_result",
          "data": {
            "text/plain": [
              "(<PrefetchDataset shapes: ({Sex: (None,), Length: (None,), Diameter: (None,), Height: (None,), Whole: (None,), Shucked: (None,), Viscera: (None,), Shell: (None,)}, (None,)), types: ({Sex: tf.string, Length: tf.string, Diameter: tf.string, Height: tf.string, Whole: tf.string, Shucked: tf.string, Viscera: tf.string, Shell: tf.string}, tf.int64)>,\n",
              " <PrefetchDataset shapes: ({Sex: (None,), Length: (None,), Diameter: (None,), Height: (None,), Whole: (None,), Shucked: (None,), Viscera: (None,), Shell: (None,)}, (None,)), types: ({Sex: tf.string, Length: tf.string, Diameter: tf.string, Height: tf.string, Whole: tf.string, Shucked: tf.string, Viscera: tf.string, Shell: tf.string}, tf.int64)>)"
            ]
          },
          "metadata": {
            "tags": []
          },
          "execution_count": 126
        }
      ]
    },
    {
      "cell_type": "markdown",
      "metadata": {
        "id": "QDBmxyYYTxnq",
        "colab_type": "text"
      },
      "source": [
        "## Explore a Batch"
      ]
    },
    {
      "cell_type": "code",
      "metadata": {
        "id": "0TqXARHITxuR",
        "colab_type": "code",
        "colab": {
          "base_uri": "https://localhost:8080/",
          "height": 176
        },
        "outputId": "544ab652-0c47-4d9f-c97a-a9142bbbcd47"
      },
      "source": [
        "def see_format(data, num, feature, indx):\n",
        "  for feature_batch, label_batch in data.take(num):\n",
        "    print('Every feature:', list(feature_batch.keys()))\n",
        "    print('One example from a batch of ' + feature + ':',\n",
        "          feature_batch[feature][indx])\n",
        "    print('One example from a batch of targets:',\n",
        "          label_batch[indx])\n",
        "\n",
        "print ('train sample:')\n",
        "see_format(train_ads, 1, 'Height', 0)\n",
        "print ()\n",
        "print ('test sample:')\n",
        "see_format(test_ads, 1, 'Sex', 0)"
      ],
      "execution_count": 127,
      "outputs": [
        {
          "output_type": "stream",
          "text": [
            "train sample:\n",
            "Every feature: ['Sex', 'Length', 'Diameter', 'Height', 'Whole', 'Shucked', 'Viscera', 'Shell']\n",
            "One example from a batch of Height: tf.Tensor(b'-0.47022451852598046', shape=(), dtype=string)\n",
            "One example from a batch of targets: tf.Tensor(7, shape=(), dtype=int64)\n",
            "\n",
            "test sample:\n",
            "Every feature: ['Sex', 'Length', 'Diameter', 'Height', 'Whole', 'Shucked', 'Viscera', 'Shell']\n",
            "One example from a batch of Sex: tf.Tensor(b'M', shape=(), dtype=string)\n",
            "One example from a batch of targets: tf.Tensor(13, shape=(), dtype=int64)\n"
          ],
          "name": "stdout"
        }
      ]
    },
    {
      "cell_type": "markdown",
      "metadata": {
        "id": "TqhKikoHVoDs",
        "colab_type": "text"
      },
      "source": [
        "## Categorical Columns\n",
        "\n",
        "TensorFlow consumption is limited to numeric data. So, we must convert any categorical data. The only culprit in this scenario is the 'Sex' feature because it is represented by string values of either 'M', 'F' or 'I'. So, sex for the abalone shell is either male, female or infant.\n",
        "\n",
        "Since we cannot feed strings directly to a model, we must first map them to numeric values. The categorical vocabulary columns provide a way to represent strings as a **one-hot vector**. This process is called one-hot encoding.\n",
        "\n",
        "Here is how the strings are converted:\n",
        "\n",
        "1. 'M' => 1 0 0\n",
        "2. 'F' => 0 1 0\n",
        "3. 'I' => 0 0 1"
      ]
    },
    {
      "cell_type": "markdown",
      "metadata": {
        "id": "fAurrx6HWNj2",
        "colab_type": "text"
      },
      "source": [
        "One-Hot encode the Sex feature for TensorFlow consumption:"
      ]
    },
    {
      "cell_type": "code",
      "metadata": {
        "id": "O_sKxokvWTAM",
        "colab_type": "code",
        "colab": {
          "base_uri": "https://localhost:8080/",
          "height": 34
        },
        "outputId": "a108d047-305b-4328-a202-7415d5f0b84f"
      },
      "source": [
        "from tensorflow import feature_column\n",
        "\n",
        "sex_one_hot =\\\n",
        "feature_column.categorical_column_with_vocabulary_list(\n",
        "    'Sex', ['M', 'F', 'I'])\n",
        "\n",
        "print (type(sex_one_hot))\n",
        "\n",
        "feature_columns =\\\n",
        "[tf.feature_column.indicator_column(sex_one_hot)]\n",
        "\n",
        "feature_layer = tf.keras.layers.DenseFeatures(feature_columns)"
      ],
      "execution_count": 128,
      "outputs": [
        {
          "output_type": "stream",
          "text": [
            "<class 'tensorflow.python.feature_column.feature_column_v2.VocabularyListCategoricalColumn'>\n"
          ],
          "name": "stdout"
        }
      ]
    },
    {
      "cell_type": "markdown",
      "metadata": {
        "id": "8uGvlGD3V0Zn",
        "colab_type": "text"
      },
      "source": [
        "Import the feature_column module. One-hot encode 'Sex'. Create the **feature_columns** list. We create a list so we can have multiple categorical features in a training dataset. Finally, create the **feature_layer** for the model.\n",
        "\n",
        "For a comprehensive example, we recommend that you peruse the following URL:\n",
        "\n",
        "* https://www.tensorflow.org/tutorials/structured_data/feature_columns"
      ]
    },
    {
      "cell_type": "markdown",
      "metadata": {
        "id": "YsvKTnxOcIgk",
        "colab_type": "text"
      },
      "source": [
        "# Build the Model"
      ]
    },
    {
      "cell_type": "code",
      "metadata": {
        "id": "-To2FB7kcIob",
        "colab_type": "code",
        "colab": {}
      },
      "source": [
        "# clear previous model and plant a seed\n",
        "\n",
        "keras.backend.clear_session()\n",
        "\n",
        "model = tf.keras.Sequential([\n",
        "  feature_layer,\n",
        "  Dense(128, activation='relu'),\n",
        "  Dense(128, activation='relu'),\n",
        "  Dense(29, activation='sigmoid')\n",
        "])"
      ],
      "execution_count": 129,
      "outputs": []
    },
    {
      "cell_type": "markdown",
      "metadata": {
        "id": "zkUXzTHMc754",
        "colab_type": "text"
      },
      "source": [
        "Notice that we included the **feature_layer** as the first layer in the neural network model. We only run the model for one epoch for demonstration purposes."
      ]
    },
    {
      "cell_type": "markdown",
      "metadata": {
        "id": "Cmf69pi_cIvT",
        "colab_type": "text"
      },
      "source": [
        "# Compile the Model"
      ]
    },
    {
      "cell_type": "code",
      "metadata": {
        "id": "88B3RxjbcI0s",
        "colab_type": "code",
        "colab": {}
      },
      "source": [
        "model.compile(optimizer='adam',\n",
        "              loss='sparse_categorical_crossentropy',\n",
        "              metrics=['accuracy'])"
      ],
      "execution_count": 130,
      "outputs": []
    },
    {
      "cell_type": "markdown",
      "metadata": {
        "id": "MyWDj5lucmCs",
        "colab_type": "text"
      },
      "source": [
        "# Train the Model"
      ]
    },
    {
      "cell_type": "code",
      "metadata": {
        "id": "7feuMf3McmMs",
        "colab_type": "code",
        "colab": {
          "base_uri": "https://localhost:8080/",
          "height": 178
        },
        "outputId": "00ecb7f4-9ebd-4f59-b8bd-edeca90a28f5"
      },
      "source": [
        "model.fit(train_ads,\n",
        "          validation_data=test_ads,\n",
        "          epochs=1)"
      ],
      "execution_count": 131,
      "outputs": [
        {
          "output_type": "stream",
          "text": [
            "WARNING:tensorflow:Layers in a Sequential model should only have a single input tensor, but we receive a <class 'dict'> input: {'Sex': <tf.Tensor 'ExpandDims_3:0' shape=(None, 1) dtype=string>, 'Length': <tf.Tensor 'ExpandDims_2:0' shape=(None, 1) dtype=string>, 'Diameter': <tf.Tensor 'ExpandDims:0' shape=(None, 1) dtype=string>, 'Height': <tf.Tensor 'ExpandDims_1:0' shape=(None, 1) dtype=string>, 'Whole': <tf.Tensor 'ExpandDims_7:0' shape=(None, 1) dtype=string>, 'Shucked': <tf.Tensor 'ExpandDims_5:0' shape=(None, 1) dtype=string>, 'Viscera': <tf.Tensor 'ExpandDims_6:0' shape=(None, 1) dtype=string>, 'Shell': <tf.Tensor 'ExpandDims_4:0' shape=(None, 1) dtype=string>}\n",
            "Consider rewriting this model with the Functional API.\n",
            "WARNING:tensorflow:Layers in a Sequential model should only have a single input tensor, but we receive a <class 'dict'> input: {'Sex': <tf.Tensor 'ExpandDims_3:0' shape=(None, 1) dtype=string>, 'Length': <tf.Tensor 'ExpandDims_2:0' shape=(None, 1) dtype=string>, 'Diameter': <tf.Tensor 'ExpandDims:0' shape=(None, 1) dtype=string>, 'Height': <tf.Tensor 'ExpandDims_1:0' shape=(None, 1) dtype=string>, 'Whole': <tf.Tensor 'ExpandDims_7:0' shape=(None, 1) dtype=string>, 'Shucked': <tf.Tensor 'ExpandDims_5:0' shape=(None, 1) dtype=string>, 'Viscera': <tf.Tensor 'ExpandDims_6:0' shape=(None, 1) dtype=string>, 'Shell': <tf.Tensor 'ExpandDims_4:0' shape=(None, 1) dtype=string>}\n",
            "Consider rewriting this model with the Functional API.\n",
            "95/98 [============================>.] - ETA: 0s - loss: 2.8067 - accuracy: 0.1836WARNING:tensorflow:Layers in a Sequential model should only have a single input tensor, but we receive a <class 'dict'> input: {'Sex': <tf.Tensor 'ExpandDims_3:0' shape=(None, 1) dtype=string>, 'Length': <tf.Tensor 'ExpandDims_2:0' shape=(None, 1) dtype=string>, 'Diameter': <tf.Tensor 'ExpandDims:0' shape=(None, 1) dtype=string>, 'Height': <tf.Tensor 'ExpandDims_1:0' shape=(None, 1) dtype=string>, 'Whole': <tf.Tensor 'ExpandDims_7:0' shape=(None, 1) dtype=string>, 'Shucked': <tf.Tensor 'ExpandDims_5:0' shape=(None, 1) dtype=string>, 'Viscera': <tf.Tensor 'ExpandDims_6:0' shape=(None, 1) dtype=string>, 'Shell': <tf.Tensor 'ExpandDims_4:0' shape=(None, 1) dtype=string>}\n",
            "Consider rewriting this model with the Functional API.\n",
            "98/98 [==============================] - 1s 6ms/step - loss: 2.7932 - accuracy: 0.1845 - val_loss: nan - val_accuracy: 0.1770\n"
          ],
          "name": "stdout"
        },
        {
          "output_type": "execute_result",
          "data": {
            "text/plain": [
              "<tensorflow.python.keras.callbacks.History at 0x7f10c8dd2080>"
            ]
          },
          "metadata": {
            "tags": []
          },
          "execution_count": 131
        }
      ]
    },
    {
      "cell_type": "markdown",
      "metadata": {
        "colab_type": "text",
        "id": "52XtP3S5aqk6"
      },
      "source": [
        "## Unbalanced and Irregular Data\n",
        "\n",
        "The Abalone dataset is **not** a good dataset to make predictions for two reasons:\n",
        "\n",
        "1. the dataset is unbalanced\n",
        "2. the dataset is irregular\n",
        "\n",
        "An **unbalanced dataset** is one where the classes are not represented equally. That is, classes don't have the same number of examples. This dataset is especially unbalanced because some classes have one example while others have hundreds of examples. Training with an unbalanced dataset won't produce good results. So, we won't learn much.\n",
        "\n",
        "An **irregular dataset** is one with too many target (or label) classes, but not enough data. We should always check the number of samples (or examples) per label in our dataset. A class label with not enough samples is harder to learn from.\n",
        "\n",
        "We only introduced this example to show you how to work with datasets with datatype 'DATA'."
      ]
    },
    {
      "cell_type": "markdown",
      "metadata": {
        "id": "S-98NwcpHQq4",
        "colab_type": "text"
      },
      "source": [
        "## Dealing with Unbalanced Data\n",
        "\n",
        "We can deal with unbalanced data in a variety of ways. We can change the algorithm. Some algorithms may work better than others. So, try a variety of them. Oversample by adding more instances to the minority class or classes. We can also under-sample by removing observations from the majority class or classes. Finally, we can augment the data.\n",
        "\n",
        "For a more detailed explanation, consult the following URL:\n",
        "\n",
        "https://towardsdatascience.com/methods-for-dealing-with-imbalanced-data-5b761be45a18\n"
      ]
    }
  ]
}