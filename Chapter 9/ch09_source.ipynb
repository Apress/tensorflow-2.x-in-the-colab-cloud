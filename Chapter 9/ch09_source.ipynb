{
  "nbformat": 4,
  "nbformat_minor": 0,
  "metadata": {
    "accelerator": "GPU",
    "colab": {
      "name": "ch09.ipynb",
      "provenance": [],
      "collapsed_sections": []
    },
    "kernelspec": {
      "display_name": "Python 3",
      "language": "python",
      "name": "python3"
    },
    "language_info": {
      "codemirror_mode": {
        "name": "ipython",
        "version": 3
      },
      "file_extension": ".py",
      "mimetype": "text/x-python",
      "name": "python",
      "nbconvert_exporter": "python",
      "pygments_lexer": "ipython3",
      "version": "3.7.3"
    },
    "widgets": {
      "application/vnd.jupyter.widget-state+json": {
        "fdbaf9ca4c734b36876f7fbd1c1aedc9": {
          "model_module": "@jupyter-widgets/controls",
          "model_name": "HBoxModel",
          "state": {
            "_view_name": "HBoxView",
            "_dom_classes": [],
            "_model_name": "HBoxModel",
            "_view_module": "@jupyter-widgets/controls",
            "_model_module_version": "1.5.0",
            "_view_count": null,
            "_view_module_version": "1.5.0",
            "box_style": "",
            "layout": "IPY_MODEL_0c4ff637fc18475cb13b5cdf2cda7809",
            "_model_module": "@jupyter-widgets/controls",
            "children": [
              "IPY_MODEL_5e8e7fd00daf49f799832a61a0bcd376",
              "IPY_MODEL_cd6940d5f1aa4f6598ee5f02974907d3"
            ]
          }
        },
        "0c4ff637fc18475cb13b5cdf2cda7809": {
          "model_module": "@jupyter-widgets/base",
          "model_name": "LayoutModel",
          "state": {
            "_view_name": "LayoutView",
            "grid_template_rows": null,
            "right": null,
            "justify_content": null,
            "_view_module": "@jupyter-widgets/base",
            "overflow": null,
            "_model_module_version": "1.2.0",
            "_view_count": null,
            "flex_flow": null,
            "width": null,
            "min_width": null,
            "border": null,
            "align_items": null,
            "bottom": null,
            "_model_module": "@jupyter-widgets/base",
            "top": null,
            "grid_column": null,
            "overflow_y": null,
            "overflow_x": null,
            "grid_auto_flow": null,
            "grid_area": null,
            "grid_template_columns": null,
            "flex": null,
            "_model_name": "LayoutModel",
            "justify_items": null,
            "grid_row": null,
            "max_height": null,
            "align_content": null,
            "visibility": null,
            "align_self": null,
            "height": null,
            "min_height": null,
            "padding": null,
            "grid_auto_rows": null,
            "grid_gap": null,
            "max_width": null,
            "order": null,
            "_view_module_version": "1.2.0",
            "grid_template_areas": null,
            "object_position": null,
            "object_fit": null,
            "grid_auto_columns": null,
            "margin": null,
            "display": null,
            "left": null
          }
        },
        "5e8e7fd00daf49f799832a61a0bcd376": {
          "model_module": "@jupyter-widgets/controls",
          "model_name": "FloatProgressModel",
          "state": {
            "_view_name": "ProgressView",
            "style": "IPY_MODEL_95dac46df8ab4ff5bbff2bc08cda8b29",
            "_dom_classes": [],
            "description": "Dl Completed...: 100%",
            "_model_name": "FloatProgressModel",
            "bar_style": "success",
            "max": 1,
            "_view_module": "@jupyter-widgets/controls",
            "_model_module_version": "1.5.0",
            "value": 1,
            "_view_count": null,
            "_view_module_version": "1.5.0",
            "orientation": "horizontal",
            "min": 0,
            "description_tooltip": null,
            "_model_module": "@jupyter-widgets/controls",
            "layout": "IPY_MODEL_8c0c85280f694a8bb1ebd462d64d9d01"
          }
        },
        "cd6940d5f1aa4f6598ee5f02974907d3": {
          "model_module": "@jupyter-widgets/controls",
          "model_name": "HTMLModel",
          "state": {
            "_view_name": "HTMLView",
            "style": "IPY_MODEL_54a5e7cd7c254656bb2f5355bb9cf6c9",
            "_dom_classes": [],
            "description": "",
            "_model_name": "HTMLModel",
            "placeholder": "​",
            "_view_module": "@jupyter-widgets/controls",
            "_model_module_version": "1.5.0",
            "value": " 1/1 [09:48&lt;00:00, 588.44s/ url]",
            "_view_count": null,
            "_view_module_version": "1.5.0",
            "description_tooltip": null,
            "_model_module": "@jupyter-widgets/controls",
            "layout": "IPY_MODEL_7f3c7bbbd2794bd292c341ef3f28eacd"
          }
        },
        "95dac46df8ab4ff5bbff2bc08cda8b29": {
          "model_module": "@jupyter-widgets/controls",
          "model_name": "ProgressStyleModel",
          "state": {
            "_view_name": "StyleView",
            "_model_name": "ProgressStyleModel",
            "description_width": "initial",
            "_view_module": "@jupyter-widgets/base",
            "_model_module_version": "1.5.0",
            "_view_count": null,
            "_view_module_version": "1.2.0",
            "bar_color": null,
            "_model_module": "@jupyter-widgets/controls"
          }
        },
        "8c0c85280f694a8bb1ebd462d64d9d01": {
          "model_module": "@jupyter-widgets/base",
          "model_name": "LayoutModel",
          "state": {
            "_view_name": "LayoutView",
            "grid_template_rows": null,
            "right": null,
            "justify_content": null,
            "_view_module": "@jupyter-widgets/base",
            "overflow": null,
            "_model_module_version": "1.2.0",
            "_view_count": null,
            "flex_flow": null,
            "width": null,
            "min_width": null,
            "border": null,
            "align_items": null,
            "bottom": null,
            "_model_module": "@jupyter-widgets/base",
            "top": null,
            "grid_column": null,
            "overflow_y": null,
            "overflow_x": null,
            "grid_auto_flow": null,
            "grid_area": null,
            "grid_template_columns": null,
            "flex": null,
            "_model_name": "LayoutModel",
            "justify_items": null,
            "grid_row": null,
            "max_height": null,
            "align_content": null,
            "visibility": null,
            "align_self": null,
            "height": null,
            "min_height": null,
            "padding": null,
            "grid_auto_rows": null,
            "grid_gap": null,
            "max_width": null,
            "order": null,
            "_view_module_version": "1.2.0",
            "grid_template_areas": null,
            "object_position": null,
            "object_fit": null,
            "grid_auto_columns": null,
            "margin": null,
            "display": null,
            "left": null
          }
        },
        "54a5e7cd7c254656bb2f5355bb9cf6c9": {
          "model_module": "@jupyter-widgets/controls",
          "model_name": "DescriptionStyleModel",
          "state": {
            "_view_name": "StyleView",
            "_model_name": "DescriptionStyleModel",
            "description_width": "",
            "_view_module": "@jupyter-widgets/base",
            "_model_module_version": "1.5.0",
            "_view_count": null,
            "_view_module_version": "1.2.0",
            "_model_module": "@jupyter-widgets/controls"
          }
        },
        "7f3c7bbbd2794bd292c341ef3f28eacd": {
          "model_module": "@jupyter-widgets/base",
          "model_name": "LayoutModel",
          "state": {
            "_view_name": "LayoutView",
            "grid_template_rows": null,
            "right": null,
            "justify_content": null,
            "_view_module": "@jupyter-widgets/base",
            "overflow": null,
            "_model_module_version": "1.2.0",
            "_view_count": null,
            "flex_flow": null,
            "width": null,
            "min_width": null,
            "border": null,
            "align_items": null,
            "bottom": null,
            "_model_module": "@jupyter-widgets/base",
            "top": null,
            "grid_column": null,
            "overflow_y": null,
            "overflow_x": null,
            "grid_auto_flow": null,
            "grid_area": null,
            "grid_template_columns": null,
            "flex": null,
            "_model_name": "LayoutModel",
            "justify_items": null,
            "grid_row": null,
            "max_height": null,
            "align_content": null,
            "visibility": null,
            "align_self": null,
            "height": null,
            "min_height": null,
            "padding": null,
            "grid_auto_rows": null,
            "grid_gap": null,
            "max_width": null,
            "order": null,
            "_view_module_version": "1.2.0",
            "grid_template_areas": null,
            "object_position": null,
            "object_fit": null,
            "grid_auto_columns": null,
            "margin": null,
            "display": null,
            "left": null
          }
        },
        "e25fdc24a8c940deb79a62ab718c64db": {
          "model_module": "@jupyter-widgets/controls",
          "model_name": "HBoxModel",
          "state": {
            "_view_name": "HBoxView",
            "_dom_classes": [],
            "_model_name": "HBoxModel",
            "_view_module": "@jupyter-widgets/controls",
            "_model_module_version": "1.5.0",
            "_view_count": null,
            "_view_module_version": "1.5.0",
            "box_style": "",
            "layout": "IPY_MODEL_99223da097cf46a5b0f237a62eab9434",
            "_model_module": "@jupyter-widgets/controls",
            "children": [
              "IPY_MODEL_24eded7592e7494da6824551095ef911",
              "IPY_MODEL_031d007a53ea4aca9f54f031effc5346"
            ]
          }
        },
        "99223da097cf46a5b0f237a62eab9434": {
          "model_module": "@jupyter-widgets/base",
          "model_name": "LayoutModel",
          "state": {
            "_view_name": "LayoutView",
            "grid_template_rows": null,
            "right": null,
            "justify_content": null,
            "_view_module": "@jupyter-widgets/base",
            "overflow": null,
            "_model_module_version": "1.2.0",
            "_view_count": null,
            "flex_flow": null,
            "width": null,
            "min_width": null,
            "border": null,
            "align_items": null,
            "bottom": null,
            "_model_module": "@jupyter-widgets/base",
            "top": null,
            "grid_column": null,
            "overflow_y": null,
            "overflow_x": null,
            "grid_auto_flow": null,
            "grid_area": null,
            "grid_template_columns": null,
            "flex": null,
            "_model_name": "LayoutModel",
            "justify_items": null,
            "grid_row": null,
            "max_height": null,
            "align_content": null,
            "visibility": null,
            "align_self": null,
            "height": null,
            "min_height": null,
            "padding": null,
            "grid_auto_rows": null,
            "grid_gap": null,
            "max_width": null,
            "order": null,
            "_view_module_version": "1.2.0",
            "grid_template_areas": null,
            "object_position": null,
            "object_fit": null,
            "grid_auto_columns": null,
            "margin": null,
            "display": null,
            "left": null
          }
        },
        "24eded7592e7494da6824551095ef911": {
          "model_module": "@jupyter-widgets/controls",
          "model_name": "FloatProgressModel",
          "state": {
            "_view_name": "ProgressView",
            "style": "IPY_MODEL_cb0c91a374fc4df28946e53a97ef0ac2",
            "_dom_classes": [],
            "description": "Dl Size...: 100%",
            "_model_name": "FloatProgressModel",
            "bar_style": "success",
            "max": 1,
            "_view_module": "@jupyter-widgets/controls",
            "_model_module_version": "1.5.0",
            "value": 1,
            "_view_count": null,
            "_view_module_version": "1.5.0",
            "orientation": "horizontal",
            "min": 0,
            "description_tooltip": null,
            "_model_module": "@jupyter-widgets/controls",
            "layout": "IPY_MODEL_5210e88172294c3a8ec092d169ae57fe"
          }
        },
        "031d007a53ea4aca9f54f031effc5346": {
          "model_module": "@jupyter-widgets/controls",
          "model_name": "HTMLModel",
          "state": {
            "_view_name": "HTMLView",
            "style": "IPY_MODEL_e495744381c241bcb9a2058b6ff4bbef",
            "_dom_classes": [],
            "description": "",
            "_model_name": "HTMLModel",
            "placeholder": "​",
            "_view_module": "@jupyter-widgets/controls",
            "_model_module_version": "1.5.0",
            "value": " 80/80 [09:48&lt;00:00,  7.36s/ MiB]",
            "_view_count": null,
            "_view_module_version": "1.5.0",
            "description_tooltip": null,
            "_model_module": "@jupyter-widgets/controls",
            "layout": "IPY_MODEL_dc63db5bfc0448cd951a31f7ee4e47d3"
          }
        },
        "cb0c91a374fc4df28946e53a97ef0ac2": {
          "model_module": "@jupyter-widgets/controls",
          "model_name": "ProgressStyleModel",
          "state": {
            "_view_name": "StyleView",
            "_model_name": "ProgressStyleModel",
            "description_width": "initial",
            "_view_module": "@jupyter-widgets/base",
            "_model_module_version": "1.5.0",
            "_view_count": null,
            "_view_module_version": "1.2.0",
            "bar_color": null,
            "_model_module": "@jupyter-widgets/controls"
          }
        },
        "5210e88172294c3a8ec092d169ae57fe": {
          "model_module": "@jupyter-widgets/base",
          "model_name": "LayoutModel",
          "state": {
            "_view_name": "LayoutView",
            "grid_template_rows": null,
            "right": null,
            "justify_content": null,
            "_view_module": "@jupyter-widgets/base",
            "overflow": null,
            "_model_module_version": "1.2.0",
            "_view_count": null,
            "flex_flow": null,
            "width": null,
            "min_width": null,
            "border": null,
            "align_items": null,
            "bottom": null,
            "_model_module": "@jupyter-widgets/base",
            "top": null,
            "grid_column": null,
            "overflow_y": null,
            "overflow_x": null,
            "grid_auto_flow": null,
            "grid_area": null,
            "grid_template_columns": null,
            "flex": null,
            "_model_name": "LayoutModel",
            "justify_items": null,
            "grid_row": null,
            "max_height": null,
            "align_content": null,
            "visibility": null,
            "align_self": null,
            "height": null,
            "min_height": null,
            "padding": null,
            "grid_auto_rows": null,
            "grid_gap": null,
            "max_width": null,
            "order": null,
            "_view_module_version": "1.2.0",
            "grid_template_areas": null,
            "object_position": null,
            "object_fit": null,
            "grid_auto_columns": null,
            "margin": null,
            "display": null,
            "left": null
          }
        },
        "e495744381c241bcb9a2058b6ff4bbef": {
          "model_module": "@jupyter-widgets/controls",
          "model_name": "DescriptionStyleModel",
          "state": {
            "_view_name": "StyleView",
            "_model_name": "DescriptionStyleModel",
            "description_width": "",
            "_view_module": "@jupyter-widgets/base",
            "_model_module_version": "1.5.0",
            "_view_count": null,
            "_view_module_version": "1.2.0",
            "_model_module": "@jupyter-widgets/controls"
          }
        },
        "dc63db5bfc0448cd951a31f7ee4e47d3": {
          "model_module": "@jupyter-widgets/base",
          "model_name": "LayoutModel",
          "state": {
            "_view_name": "LayoutView",
            "grid_template_rows": null,
            "right": null,
            "justify_content": null,
            "_view_module": "@jupyter-widgets/base",
            "overflow": null,
            "_model_module_version": "1.2.0",
            "_view_count": null,
            "flex_flow": null,
            "width": null,
            "min_width": null,
            "border": null,
            "align_items": null,
            "bottom": null,
            "_model_module": "@jupyter-widgets/base",
            "top": null,
            "grid_column": null,
            "overflow_y": null,
            "overflow_x": null,
            "grid_auto_flow": null,
            "grid_area": null,
            "grid_template_columns": null,
            "flex": null,
            "_model_name": "LayoutModel",
            "justify_items": null,
            "grid_row": null,
            "max_height": null,
            "align_content": null,
            "visibility": null,
            "align_self": null,
            "height": null,
            "min_height": null,
            "padding": null,
            "grid_auto_rows": null,
            "grid_gap": null,
            "max_width": null,
            "order": null,
            "_view_module_version": "1.2.0",
            "grid_template_areas": null,
            "object_position": null,
            "object_fit": null,
            "grid_auto_columns": null,
            "margin": null,
            "display": null,
            "left": null
          }
        },
        "63ef44c49803414fad2658b8a9f1d79f": {
          "model_module": "@jupyter-widgets/controls",
          "model_name": "HBoxModel",
          "state": {
            "_view_name": "HBoxView",
            "_dom_classes": [],
            "_model_name": "HBoxModel",
            "_view_module": "@jupyter-widgets/controls",
            "_model_module_version": "1.5.0",
            "_view_count": null,
            "_view_module_version": "1.5.0",
            "box_style": "",
            "layout": "IPY_MODEL_6bb42e2a7819419c9a49a264e8fd9094",
            "_model_module": "@jupyter-widgets/controls",
            "children": [
              "IPY_MODEL_cc07bf817f894e1991ccd5da6736f802",
              "IPY_MODEL_8271235bbc1042cb8cd39d2d57b9e991"
            ]
          }
        },
        "6bb42e2a7819419c9a49a264e8fd9094": {
          "model_module": "@jupyter-widgets/base",
          "model_name": "LayoutModel",
          "state": {
            "_view_name": "LayoutView",
            "grid_template_rows": null,
            "right": null,
            "justify_content": null,
            "_view_module": "@jupyter-widgets/base",
            "overflow": null,
            "_model_module_version": "1.2.0",
            "_view_count": null,
            "flex_flow": null,
            "width": null,
            "min_width": null,
            "border": null,
            "align_items": null,
            "bottom": null,
            "_model_module": "@jupyter-widgets/base",
            "top": null,
            "grid_column": null,
            "overflow_y": null,
            "overflow_x": null,
            "grid_auto_flow": null,
            "grid_area": null,
            "grid_template_columns": null,
            "flex": null,
            "_model_name": "LayoutModel",
            "justify_items": null,
            "grid_row": null,
            "max_height": null,
            "align_content": null,
            "visibility": null,
            "align_self": null,
            "height": null,
            "min_height": null,
            "padding": null,
            "grid_auto_rows": null,
            "grid_gap": null,
            "max_width": null,
            "order": null,
            "_view_module_version": "1.2.0",
            "grid_template_areas": null,
            "object_position": null,
            "object_fit": null,
            "grid_auto_columns": null,
            "margin": null,
            "display": null,
            "left": null
          }
        },
        "cc07bf817f894e1991ccd5da6736f802": {
          "model_module": "@jupyter-widgets/controls",
          "model_name": "FloatProgressModel",
          "state": {
            "_view_name": "ProgressView",
            "style": "IPY_MODEL_3b918510ce40438ab29b792810bc6426",
            "_dom_classes": [],
            "description": "",
            "_model_name": "FloatProgressModel",
            "bar_style": "info",
            "max": 1,
            "_view_module": "@jupyter-widgets/controls",
            "_model_module_version": "1.5.0",
            "value": 1,
            "_view_count": null,
            "_view_module_version": "1.5.0",
            "orientation": "horizontal",
            "min": 0,
            "description_tooltip": null,
            "_model_module": "@jupyter-widgets/controls",
            "layout": "IPY_MODEL_153c2a24cad840eda226f5ae64ffe39a"
          }
        },
        "8271235bbc1042cb8cd39d2d57b9e991": {
          "model_module": "@jupyter-widgets/controls",
          "model_name": "HTMLModel",
          "state": {
            "_view_name": "HTMLView",
            "style": "IPY_MODEL_07938ed9894746f18132101cb1447bb5",
            "_dom_classes": [],
            "description": "",
            "_model_name": "HTMLModel",
            "placeholder": "​",
            "_view_module": "@jupyter-widgets/controls",
            "_model_module_version": "1.5.0",
            "value": " 25000/0 [00:30&lt;00:00, 1020.47 examples/s]",
            "_view_count": null,
            "_view_module_version": "1.5.0",
            "description_tooltip": null,
            "_model_module": "@jupyter-widgets/controls",
            "layout": "IPY_MODEL_59e40236f25f4bf9834c9bf29099d8e7"
          }
        },
        "3b918510ce40438ab29b792810bc6426": {
          "model_module": "@jupyter-widgets/controls",
          "model_name": "ProgressStyleModel",
          "state": {
            "_view_name": "StyleView",
            "_model_name": "ProgressStyleModel",
            "description_width": "initial",
            "_view_module": "@jupyter-widgets/base",
            "_model_module_version": "1.5.0",
            "_view_count": null,
            "_view_module_version": "1.2.0",
            "bar_color": null,
            "_model_module": "@jupyter-widgets/controls"
          }
        },
        "153c2a24cad840eda226f5ae64ffe39a": {
          "model_module": "@jupyter-widgets/base",
          "model_name": "LayoutModel",
          "state": {
            "_view_name": "LayoutView",
            "grid_template_rows": null,
            "right": null,
            "justify_content": null,
            "_view_module": "@jupyter-widgets/base",
            "overflow": null,
            "_model_module_version": "1.2.0",
            "_view_count": null,
            "flex_flow": null,
            "width": null,
            "min_width": null,
            "border": null,
            "align_items": null,
            "bottom": null,
            "_model_module": "@jupyter-widgets/base",
            "top": null,
            "grid_column": null,
            "overflow_y": null,
            "overflow_x": null,
            "grid_auto_flow": null,
            "grid_area": null,
            "grid_template_columns": null,
            "flex": null,
            "_model_name": "LayoutModel",
            "justify_items": null,
            "grid_row": null,
            "max_height": null,
            "align_content": null,
            "visibility": null,
            "align_self": null,
            "height": null,
            "min_height": null,
            "padding": null,
            "grid_auto_rows": null,
            "grid_gap": null,
            "max_width": null,
            "order": null,
            "_view_module_version": "1.2.0",
            "grid_template_areas": null,
            "object_position": null,
            "object_fit": null,
            "grid_auto_columns": null,
            "margin": null,
            "display": null,
            "left": null
          }
        },
        "07938ed9894746f18132101cb1447bb5": {
          "model_module": "@jupyter-widgets/controls",
          "model_name": "DescriptionStyleModel",
          "state": {
            "_view_name": "StyleView",
            "_model_name": "DescriptionStyleModel",
            "description_width": "",
            "_view_module": "@jupyter-widgets/base",
            "_model_module_version": "1.5.0",
            "_view_count": null,
            "_view_module_version": "1.2.0",
            "_model_module": "@jupyter-widgets/controls"
          }
        },
        "59e40236f25f4bf9834c9bf29099d8e7": {
          "model_module": "@jupyter-widgets/base",
          "model_name": "LayoutModel",
          "state": {
            "_view_name": "LayoutView",
            "grid_template_rows": null,
            "right": null,
            "justify_content": null,
            "_view_module": "@jupyter-widgets/base",
            "overflow": null,
            "_model_module_version": "1.2.0",
            "_view_count": null,
            "flex_flow": null,
            "width": null,
            "min_width": null,
            "border": null,
            "align_items": null,
            "bottom": null,
            "_model_module": "@jupyter-widgets/base",
            "top": null,
            "grid_column": null,
            "overflow_y": null,
            "overflow_x": null,
            "grid_auto_flow": null,
            "grid_area": null,
            "grid_template_columns": null,
            "flex": null,
            "_model_name": "LayoutModel",
            "justify_items": null,
            "grid_row": null,
            "max_height": null,
            "align_content": null,
            "visibility": null,
            "align_self": null,
            "height": null,
            "min_height": null,
            "padding": null,
            "grid_auto_rows": null,
            "grid_gap": null,
            "max_width": null,
            "order": null,
            "_view_module_version": "1.2.0",
            "grid_template_areas": null,
            "object_position": null,
            "object_fit": null,
            "grid_auto_columns": null,
            "margin": null,
            "display": null,
            "left": null
          }
        },
        "c55c15300a3e4843b4f2902aa838ecd7": {
          "model_module": "@jupyter-widgets/controls",
          "model_name": "HBoxModel",
          "state": {
            "_view_name": "HBoxView",
            "_dom_classes": [],
            "_model_name": "HBoxModel",
            "_view_module": "@jupyter-widgets/controls",
            "_model_module_version": "1.5.0",
            "_view_count": null,
            "_view_module_version": "1.5.0",
            "box_style": "",
            "layout": "IPY_MODEL_7ef2b30a093340789c843d7453dce4c9",
            "_model_module": "@jupyter-widgets/controls",
            "children": [
              "IPY_MODEL_90c5899faef24e1b8d8f3bb6afc3e472",
              "IPY_MODEL_41239d22adf1489599c6e1574cba862f"
            ]
          }
        },
        "7ef2b30a093340789c843d7453dce4c9": {
          "model_module": "@jupyter-widgets/base",
          "model_name": "LayoutModel",
          "state": {
            "_view_name": "LayoutView",
            "grid_template_rows": null,
            "right": null,
            "justify_content": null,
            "_view_module": "@jupyter-widgets/base",
            "overflow": null,
            "_model_module_version": "1.2.0",
            "_view_count": null,
            "flex_flow": null,
            "width": null,
            "min_width": null,
            "border": null,
            "align_items": null,
            "bottom": null,
            "_model_module": "@jupyter-widgets/base",
            "top": null,
            "grid_column": null,
            "overflow_y": null,
            "overflow_x": null,
            "grid_auto_flow": null,
            "grid_area": null,
            "grid_template_columns": null,
            "flex": null,
            "_model_name": "LayoutModel",
            "justify_items": null,
            "grid_row": null,
            "max_height": null,
            "align_content": null,
            "visibility": null,
            "align_self": null,
            "height": null,
            "min_height": null,
            "padding": null,
            "grid_auto_rows": null,
            "grid_gap": null,
            "max_width": null,
            "order": null,
            "_view_module_version": "1.2.0",
            "grid_template_areas": null,
            "object_position": null,
            "object_fit": null,
            "grid_auto_columns": null,
            "margin": null,
            "display": null,
            "left": null
          }
        },
        "90c5899faef24e1b8d8f3bb6afc3e472": {
          "model_module": "@jupyter-widgets/controls",
          "model_name": "FloatProgressModel",
          "state": {
            "_view_name": "ProgressView",
            "style": "IPY_MODEL_9776bb55bfed4541afb9cd5e0ad94fe3",
            "_dom_classes": [],
            "description": " 55%",
            "_model_name": "FloatProgressModel",
            "bar_style": "danger",
            "max": 25000,
            "_view_module": "@jupyter-widgets/controls",
            "_model_module_version": "1.5.0",
            "value": 13664,
            "_view_count": null,
            "_view_module_version": "1.5.0",
            "orientation": "horizontal",
            "min": 0,
            "description_tooltip": null,
            "_model_module": "@jupyter-widgets/controls",
            "layout": "IPY_MODEL_d406450e3bdf447292ec9e55cca4ba99"
          }
        },
        "41239d22adf1489599c6e1574cba862f": {
          "model_module": "@jupyter-widgets/controls",
          "model_name": "HTMLModel",
          "state": {
            "_view_name": "HTMLView",
            "style": "IPY_MODEL_65d07f4ee5584e3099fd2eeccbf1f0bd",
            "_dom_classes": [],
            "description": "",
            "_model_name": "HTMLModel",
            "placeholder": "​",
            "_view_module": "@jupyter-widgets/controls",
            "_model_module_version": "1.5.0",
            "value": " 13664/25000 [00:00&lt;00:00, 136638.83 examples/s]",
            "_view_count": null,
            "_view_module_version": "1.5.0",
            "description_tooltip": null,
            "_model_module": "@jupyter-widgets/controls",
            "layout": "IPY_MODEL_531828ea69234cff8eb8442c8f7e0072"
          }
        },
        "9776bb55bfed4541afb9cd5e0ad94fe3": {
          "model_module": "@jupyter-widgets/controls",
          "model_name": "ProgressStyleModel",
          "state": {
            "_view_name": "StyleView",
            "_model_name": "ProgressStyleModel",
            "description_width": "initial",
            "_view_module": "@jupyter-widgets/base",
            "_model_module_version": "1.5.0",
            "_view_count": null,
            "_view_module_version": "1.2.0",
            "bar_color": null,
            "_model_module": "@jupyter-widgets/controls"
          }
        },
        "d406450e3bdf447292ec9e55cca4ba99": {
          "model_module": "@jupyter-widgets/base",
          "model_name": "LayoutModel",
          "state": {
            "_view_name": "LayoutView",
            "grid_template_rows": null,
            "right": null,
            "justify_content": null,
            "_view_module": "@jupyter-widgets/base",
            "overflow": null,
            "_model_module_version": "1.2.0",
            "_view_count": null,
            "flex_flow": null,
            "width": null,
            "min_width": null,
            "border": null,
            "align_items": null,
            "bottom": null,
            "_model_module": "@jupyter-widgets/base",
            "top": null,
            "grid_column": null,
            "overflow_y": null,
            "overflow_x": null,
            "grid_auto_flow": null,
            "grid_area": null,
            "grid_template_columns": null,
            "flex": null,
            "_model_name": "LayoutModel",
            "justify_items": null,
            "grid_row": null,
            "max_height": null,
            "align_content": null,
            "visibility": null,
            "align_self": null,
            "height": null,
            "min_height": null,
            "padding": null,
            "grid_auto_rows": null,
            "grid_gap": null,
            "max_width": null,
            "order": null,
            "_view_module_version": "1.2.0",
            "grid_template_areas": null,
            "object_position": null,
            "object_fit": null,
            "grid_auto_columns": null,
            "margin": null,
            "display": null,
            "left": null
          }
        },
        "65d07f4ee5584e3099fd2eeccbf1f0bd": {
          "model_module": "@jupyter-widgets/controls",
          "model_name": "DescriptionStyleModel",
          "state": {
            "_view_name": "StyleView",
            "_model_name": "DescriptionStyleModel",
            "description_width": "",
            "_view_module": "@jupyter-widgets/base",
            "_model_module_version": "1.5.0",
            "_view_count": null,
            "_view_module_version": "1.2.0",
            "_model_module": "@jupyter-widgets/controls"
          }
        },
        "531828ea69234cff8eb8442c8f7e0072": {
          "model_module": "@jupyter-widgets/base",
          "model_name": "LayoutModel",
          "state": {
            "_view_name": "LayoutView",
            "grid_template_rows": null,
            "right": null,
            "justify_content": null,
            "_view_module": "@jupyter-widgets/base",
            "overflow": null,
            "_model_module_version": "1.2.0",
            "_view_count": null,
            "flex_flow": null,
            "width": null,
            "min_width": null,
            "border": null,
            "align_items": null,
            "bottom": null,
            "_model_module": "@jupyter-widgets/base",
            "top": null,
            "grid_column": null,
            "overflow_y": null,
            "overflow_x": null,
            "grid_auto_flow": null,
            "grid_area": null,
            "grid_template_columns": null,
            "flex": null,
            "_model_name": "LayoutModel",
            "justify_items": null,
            "grid_row": null,
            "max_height": null,
            "align_content": null,
            "visibility": null,
            "align_self": null,
            "height": null,
            "min_height": null,
            "padding": null,
            "grid_auto_rows": null,
            "grid_gap": null,
            "max_width": null,
            "order": null,
            "_view_module_version": "1.2.0",
            "grid_template_areas": null,
            "object_position": null,
            "object_fit": null,
            "grid_auto_columns": null,
            "margin": null,
            "display": null,
            "left": null
          }
        },
        "da36947843d44657918b2e25abf97cc0": {
          "model_module": "@jupyter-widgets/controls",
          "model_name": "HBoxModel",
          "state": {
            "_view_name": "HBoxView",
            "_dom_classes": [],
            "_model_name": "HBoxModel",
            "_view_module": "@jupyter-widgets/controls",
            "_model_module_version": "1.5.0",
            "_view_count": null,
            "_view_module_version": "1.5.0",
            "box_style": "",
            "layout": "IPY_MODEL_5c58a253d71c4522957228da55f97810",
            "_model_module": "@jupyter-widgets/controls",
            "children": [
              "IPY_MODEL_7f7100de771545a6aa831313be93386b",
              "IPY_MODEL_cdf6691bdc7b443c88d9f9a12c2ebc0c"
            ]
          }
        },
        "5c58a253d71c4522957228da55f97810": {
          "model_module": "@jupyter-widgets/base",
          "model_name": "LayoutModel",
          "state": {
            "_view_name": "LayoutView",
            "grid_template_rows": null,
            "right": null,
            "justify_content": null,
            "_view_module": "@jupyter-widgets/base",
            "overflow": null,
            "_model_module_version": "1.2.0",
            "_view_count": null,
            "flex_flow": null,
            "width": null,
            "min_width": null,
            "border": null,
            "align_items": null,
            "bottom": null,
            "_model_module": "@jupyter-widgets/base",
            "top": null,
            "grid_column": null,
            "overflow_y": null,
            "overflow_x": null,
            "grid_auto_flow": null,
            "grid_area": null,
            "grid_template_columns": null,
            "flex": null,
            "_model_name": "LayoutModel",
            "justify_items": null,
            "grid_row": null,
            "max_height": null,
            "align_content": null,
            "visibility": null,
            "align_self": null,
            "height": null,
            "min_height": null,
            "padding": null,
            "grid_auto_rows": null,
            "grid_gap": null,
            "max_width": null,
            "order": null,
            "_view_module_version": "1.2.0",
            "grid_template_areas": null,
            "object_position": null,
            "object_fit": null,
            "grid_auto_columns": null,
            "margin": null,
            "display": null,
            "left": null
          }
        },
        "7f7100de771545a6aa831313be93386b": {
          "model_module": "@jupyter-widgets/controls",
          "model_name": "FloatProgressModel",
          "state": {
            "_view_name": "ProgressView",
            "style": "IPY_MODEL_5867691effaf44de81ca84463eb3872a",
            "_dom_classes": [],
            "description": "",
            "_model_name": "FloatProgressModel",
            "bar_style": "info",
            "max": 1,
            "_view_module": "@jupyter-widgets/controls",
            "_model_module_version": "1.5.0",
            "value": 1,
            "_view_count": null,
            "_view_module_version": "1.5.0",
            "orientation": "horizontal",
            "min": 0,
            "description_tooltip": null,
            "_model_module": "@jupyter-widgets/controls",
            "layout": "IPY_MODEL_8310fca8d1314effa66d9a478150187d"
          }
        },
        "cdf6691bdc7b443c88d9f9a12c2ebc0c": {
          "model_module": "@jupyter-widgets/controls",
          "model_name": "HTMLModel",
          "state": {
            "_view_name": "HTMLView",
            "style": "IPY_MODEL_d81797a867f4405ba80b9b9d6575dced",
            "_dom_classes": [],
            "description": "",
            "_model_name": "HTMLModel",
            "placeholder": "​",
            "_view_module": "@jupyter-widgets/controls",
            "_model_module_version": "1.5.0",
            "value": " 25000/0 [00:28&lt;00:00, 1115.63 examples/s]",
            "_view_count": null,
            "_view_module_version": "1.5.0",
            "description_tooltip": null,
            "_model_module": "@jupyter-widgets/controls",
            "layout": "IPY_MODEL_c157160943834a31a8309f97d318abf7"
          }
        },
        "5867691effaf44de81ca84463eb3872a": {
          "model_module": "@jupyter-widgets/controls",
          "model_name": "ProgressStyleModel",
          "state": {
            "_view_name": "StyleView",
            "_model_name": "ProgressStyleModel",
            "description_width": "initial",
            "_view_module": "@jupyter-widgets/base",
            "_model_module_version": "1.5.0",
            "_view_count": null,
            "_view_module_version": "1.2.0",
            "bar_color": null,
            "_model_module": "@jupyter-widgets/controls"
          }
        },
        "8310fca8d1314effa66d9a478150187d": {
          "model_module": "@jupyter-widgets/base",
          "model_name": "LayoutModel",
          "state": {
            "_view_name": "LayoutView",
            "grid_template_rows": null,
            "right": null,
            "justify_content": null,
            "_view_module": "@jupyter-widgets/base",
            "overflow": null,
            "_model_module_version": "1.2.0",
            "_view_count": null,
            "flex_flow": null,
            "width": null,
            "min_width": null,
            "border": null,
            "align_items": null,
            "bottom": null,
            "_model_module": "@jupyter-widgets/base",
            "top": null,
            "grid_column": null,
            "overflow_y": null,
            "overflow_x": null,
            "grid_auto_flow": null,
            "grid_area": null,
            "grid_template_columns": null,
            "flex": null,
            "_model_name": "LayoutModel",
            "justify_items": null,
            "grid_row": null,
            "max_height": null,
            "align_content": null,
            "visibility": null,
            "align_self": null,
            "height": null,
            "min_height": null,
            "padding": null,
            "grid_auto_rows": null,
            "grid_gap": null,
            "max_width": null,
            "order": null,
            "_view_module_version": "1.2.0",
            "grid_template_areas": null,
            "object_position": null,
            "object_fit": null,
            "grid_auto_columns": null,
            "margin": null,
            "display": null,
            "left": null
          }
        },
        "d81797a867f4405ba80b9b9d6575dced": {
          "model_module": "@jupyter-widgets/controls",
          "model_name": "DescriptionStyleModel",
          "state": {
            "_view_name": "StyleView",
            "_model_name": "DescriptionStyleModel",
            "description_width": "",
            "_view_module": "@jupyter-widgets/base",
            "_model_module_version": "1.5.0",
            "_view_count": null,
            "_view_module_version": "1.2.0",
            "_model_module": "@jupyter-widgets/controls"
          }
        },
        "c157160943834a31a8309f97d318abf7": {
          "model_module": "@jupyter-widgets/base",
          "model_name": "LayoutModel",
          "state": {
            "_view_name": "LayoutView",
            "grid_template_rows": null,
            "right": null,
            "justify_content": null,
            "_view_module": "@jupyter-widgets/base",
            "overflow": null,
            "_model_module_version": "1.2.0",
            "_view_count": null,
            "flex_flow": null,
            "width": null,
            "min_width": null,
            "border": null,
            "align_items": null,
            "bottom": null,
            "_model_module": "@jupyter-widgets/base",
            "top": null,
            "grid_column": null,
            "overflow_y": null,
            "overflow_x": null,
            "grid_auto_flow": null,
            "grid_area": null,
            "grid_template_columns": null,
            "flex": null,
            "_model_name": "LayoutModel",
            "justify_items": null,
            "grid_row": null,
            "max_height": null,
            "align_content": null,
            "visibility": null,
            "align_self": null,
            "height": null,
            "min_height": null,
            "padding": null,
            "grid_auto_rows": null,
            "grid_gap": null,
            "max_width": null,
            "order": null,
            "_view_module_version": "1.2.0",
            "grid_template_areas": null,
            "object_position": null,
            "object_fit": null,
            "grid_auto_columns": null,
            "margin": null,
            "display": null,
            "left": null
          }
        },
        "3e2b2982e69f42fd845b2139b2608696": {
          "model_module": "@jupyter-widgets/controls",
          "model_name": "HBoxModel",
          "state": {
            "_view_name": "HBoxView",
            "_dom_classes": [],
            "_model_name": "HBoxModel",
            "_view_module": "@jupyter-widgets/controls",
            "_model_module_version": "1.5.0",
            "_view_count": null,
            "_view_module_version": "1.5.0",
            "box_style": "",
            "layout": "IPY_MODEL_b70a57d7245845849025196339568dfc",
            "_model_module": "@jupyter-widgets/controls",
            "children": [
              "IPY_MODEL_8fd0b7358355466badca9af04cc6d41e",
              "IPY_MODEL_9645719b0f8c40aba11fba97fda427d3"
            ]
          }
        },
        "b70a57d7245845849025196339568dfc": {
          "model_module": "@jupyter-widgets/base",
          "model_name": "LayoutModel",
          "state": {
            "_view_name": "LayoutView",
            "grid_template_rows": null,
            "right": null,
            "justify_content": null,
            "_view_module": "@jupyter-widgets/base",
            "overflow": null,
            "_model_module_version": "1.2.0",
            "_view_count": null,
            "flex_flow": null,
            "width": null,
            "min_width": null,
            "border": null,
            "align_items": null,
            "bottom": null,
            "_model_module": "@jupyter-widgets/base",
            "top": null,
            "grid_column": null,
            "overflow_y": null,
            "overflow_x": null,
            "grid_auto_flow": null,
            "grid_area": null,
            "grid_template_columns": null,
            "flex": null,
            "_model_name": "LayoutModel",
            "justify_items": null,
            "grid_row": null,
            "max_height": null,
            "align_content": null,
            "visibility": null,
            "align_self": null,
            "height": null,
            "min_height": null,
            "padding": null,
            "grid_auto_rows": null,
            "grid_gap": null,
            "max_width": null,
            "order": null,
            "_view_module_version": "1.2.0",
            "grid_template_areas": null,
            "object_position": null,
            "object_fit": null,
            "grid_auto_columns": null,
            "margin": null,
            "display": null,
            "left": null
          }
        },
        "8fd0b7358355466badca9af04cc6d41e": {
          "model_module": "@jupyter-widgets/controls",
          "model_name": "FloatProgressModel",
          "state": {
            "_view_name": "ProgressView",
            "style": "IPY_MODEL_7df896d543d04a3e869a500b4eec874c",
            "_dom_classes": [],
            "description": " 85%",
            "_model_name": "FloatProgressModel",
            "bar_style": "danger",
            "max": 25000,
            "_view_module": "@jupyter-widgets/controls",
            "_model_module_version": "1.5.0",
            "value": 21358,
            "_view_count": null,
            "_view_module_version": "1.5.0",
            "orientation": "horizontal",
            "min": 0,
            "description_tooltip": null,
            "_model_module": "@jupyter-widgets/controls",
            "layout": "IPY_MODEL_791c3b7f5ab0438e935ecafae39e6eb7"
          }
        },
        "9645719b0f8c40aba11fba97fda427d3": {
          "model_module": "@jupyter-widgets/controls",
          "model_name": "HTMLModel",
          "state": {
            "_view_name": "HTMLView",
            "style": "IPY_MODEL_408cc0596cf541afbf5eca3b37375378",
            "_dom_classes": [],
            "description": "",
            "_model_name": "HTMLModel",
            "placeholder": "​",
            "_view_module": "@jupyter-widgets/controls",
            "_model_module_version": "1.5.0",
            "value": " 21358/25000 [00:00&lt;00:00, 213574.60 examples/s]",
            "_view_count": null,
            "_view_module_version": "1.5.0",
            "description_tooltip": null,
            "_model_module": "@jupyter-widgets/controls",
            "layout": "IPY_MODEL_fb1282a231884d41aaa0c0bf9de27057"
          }
        },
        "7df896d543d04a3e869a500b4eec874c": {
          "model_module": "@jupyter-widgets/controls",
          "model_name": "ProgressStyleModel",
          "state": {
            "_view_name": "StyleView",
            "_model_name": "ProgressStyleModel",
            "description_width": "initial",
            "_view_module": "@jupyter-widgets/base",
            "_model_module_version": "1.5.0",
            "_view_count": null,
            "_view_module_version": "1.2.0",
            "bar_color": null,
            "_model_module": "@jupyter-widgets/controls"
          }
        },
        "791c3b7f5ab0438e935ecafae39e6eb7": {
          "model_module": "@jupyter-widgets/base",
          "model_name": "LayoutModel",
          "state": {
            "_view_name": "LayoutView",
            "grid_template_rows": null,
            "right": null,
            "justify_content": null,
            "_view_module": "@jupyter-widgets/base",
            "overflow": null,
            "_model_module_version": "1.2.0",
            "_view_count": null,
            "flex_flow": null,
            "width": null,
            "min_width": null,
            "border": null,
            "align_items": null,
            "bottom": null,
            "_model_module": "@jupyter-widgets/base",
            "top": null,
            "grid_column": null,
            "overflow_y": null,
            "overflow_x": null,
            "grid_auto_flow": null,
            "grid_area": null,
            "grid_template_columns": null,
            "flex": null,
            "_model_name": "LayoutModel",
            "justify_items": null,
            "grid_row": null,
            "max_height": null,
            "align_content": null,
            "visibility": null,
            "align_self": null,
            "height": null,
            "min_height": null,
            "padding": null,
            "grid_auto_rows": null,
            "grid_gap": null,
            "max_width": null,
            "order": null,
            "_view_module_version": "1.2.0",
            "grid_template_areas": null,
            "object_position": null,
            "object_fit": null,
            "grid_auto_columns": null,
            "margin": null,
            "display": null,
            "left": null
          }
        },
        "408cc0596cf541afbf5eca3b37375378": {
          "model_module": "@jupyter-widgets/controls",
          "model_name": "DescriptionStyleModel",
          "state": {
            "_view_name": "StyleView",
            "_model_name": "DescriptionStyleModel",
            "description_width": "",
            "_view_module": "@jupyter-widgets/base",
            "_model_module_version": "1.5.0",
            "_view_count": null,
            "_view_module_version": "1.2.0",
            "_model_module": "@jupyter-widgets/controls"
          }
        },
        "fb1282a231884d41aaa0c0bf9de27057": {
          "model_module": "@jupyter-widgets/base",
          "model_name": "LayoutModel",
          "state": {
            "_view_name": "LayoutView",
            "grid_template_rows": null,
            "right": null,
            "justify_content": null,
            "_view_module": "@jupyter-widgets/base",
            "overflow": null,
            "_model_module_version": "1.2.0",
            "_view_count": null,
            "flex_flow": null,
            "width": null,
            "min_width": null,
            "border": null,
            "align_items": null,
            "bottom": null,
            "_model_module": "@jupyter-widgets/base",
            "top": null,
            "grid_column": null,
            "overflow_y": null,
            "overflow_x": null,
            "grid_auto_flow": null,
            "grid_area": null,
            "grid_template_columns": null,
            "flex": null,
            "_model_name": "LayoutModel",
            "justify_items": null,
            "grid_row": null,
            "max_height": null,
            "align_content": null,
            "visibility": null,
            "align_self": null,
            "height": null,
            "min_height": null,
            "padding": null,
            "grid_auto_rows": null,
            "grid_gap": null,
            "max_width": null,
            "order": null,
            "_view_module_version": "1.2.0",
            "grid_template_areas": null,
            "object_position": null,
            "object_fit": null,
            "grid_auto_columns": null,
            "margin": null,
            "display": null,
            "left": null
          }
        },
        "7afe24428b0849ac9960123a93707be4": {
          "model_module": "@jupyter-widgets/controls",
          "model_name": "HBoxModel",
          "state": {
            "_view_name": "HBoxView",
            "_dom_classes": [],
            "_model_name": "HBoxModel",
            "_view_module": "@jupyter-widgets/controls",
            "_model_module_version": "1.5.0",
            "_view_count": null,
            "_view_module_version": "1.5.0",
            "box_style": "",
            "layout": "IPY_MODEL_a2ad9edd3f874f29bc0358e2df9a9e80",
            "_model_module": "@jupyter-widgets/controls",
            "children": [
              "IPY_MODEL_7c3747fb0a334c5a809b86b8cf15a0ce",
              "IPY_MODEL_f6481c715c954527a8f6fca767b91aa9"
            ]
          }
        },
        "a2ad9edd3f874f29bc0358e2df9a9e80": {
          "model_module": "@jupyter-widgets/base",
          "model_name": "LayoutModel",
          "state": {
            "_view_name": "LayoutView",
            "grid_template_rows": null,
            "right": null,
            "justify_content": null,
            "_view_module": "@jupyter-widgets/base",
            "overflow": null,
            "_model_module_version": "1.2.0",
            "_view_count": null,
            "flex_flow": null,
            "width": null,
            "min_width": null,
            "border": null,
            "align_items": null,
            "bottom": null,
            "_model_module": "@jupyter-widgets/base",
            "top": null,
            "grid_column": null,
            "overflow_y": null,
            "overflow_x": null,
            "grid_auto_flow": null,
            "grid_area": null,
            "grid_template_columns": null,
            "flex": null,
            "_model_name": "LayoutModel",
            "justify_items": null,
            "grid_row": null,
            "max_height": null,
            "align_content": null,
            "visibility": null,
            "align_self": null,
            "height": null,
            "min_height": null,
            "padding": null,
            "grid_auto_rows": null,
            "grid_gap": null,
            "max_width": null,
            "order": null,
            "_view_module_version": "1.2.0",
            "grid_template_areas": null,
            "object_position": null,
            "object_fit": null,
            "grid_auto_columns": null,
            "margin": null,
            "display": null,
            "left": null
          }
        },
        "7c3747fb0a334c5a809b86b8cf15a0ce": {
          "model_module": "@jupyter-widgets/controls",
          "model_name": "FloatProgressModel",
          "state": {
            "_view_name": "ProgressView",
            "style": "IPY_MODEL_0480807f5d844576945855f0e3c8bde0",
            "_dom_classes": [],
            "description": "",
            "_model_name": "FloatProgressModel",
            "bar_style": "info",
            "max": 1,
            "_view_module": "@jupyter-widgets/controls",
            "_model_module_version": "1.5.0",
            "value": 1,
            "_view_count": null,
            "_view_module_version": "1.5.0",
            "orientation": "horizontal",
            "min": 0,
            "description_tooltip": null,
            "_model_module": "@jupyter-widgets/controls",
            "layout": "IPY_MODEL_4d915bd7862f4427b1e9a66d327d9317"
          }
        },
        "f6481c715c954527a8f6fca767b91aa9": {
          "model_module": "@jupyter-widgets/controls",
          "model_name": "HTMLModel",
          "state": {
            "_view_name": "HTMLView",
            "style": "IPY_MODEL_5545c6290b4a425c83835056910e36fe",
            "_dom_classes": [],
            "description": "",
            "_model_name": "HTMLModel",
            "placeholder": "​",
            "_view_module": "@jupyter-widgets/controls",
            "_model_module_version": "1.5.0",
            "value": " 50000/0 [00:51&lt;00:00, 1029.76 examples/s]",
            "_view_count": null,
            "_view_module_version": "1.5.0",
            "description_tooltip": null,
            "_model_module": "@jupyter-widgets/controls",
            "layout": "IPY_MODEL_328c3074283b4374b621c5ef69b5715c"
          }
        },
        "0480807f5d844576945855f0e3c8bde0": {
          "model_module": "@jupyter-widgets/controls",
          "model_name": "ProgressStyleModel",
          "state": {
            "_view_name": "StyleView",
            "_model_name": "ProgressStyleModel",
            "description_width": "initial",
            "_view_module": "@jupyter-widgets/base",
            "_model_module_version": "1.5.0",
            "_view_count": null,
            "_view_module_version": "1.2.0",
            "bar_color": null,
            "_model_module": "@jupyter-widgets/controls"
          }
        },
        "4d915bd7862f4427b1e9a66d327d9317": {
          "model_module": "@jupyter-widgets/base",
          "model_name": "LayoutModel",
          "state": {
            "_view_name": "LayoutView",
            "grid_template_rows": null,
            "right": null,
            "justify_content": null,
            "_view_module": "@jupyter-widgets/base",
            "overflow": null,
            "_model_module_version": "1.2.0",
            "_view_count": null,
            "flex_flow": null,
            "width": null,
            "min_width": null,
            "border": null,
            "align_items": null,
            "bottom": null,
            "_model_module": "@jupyter-widgets/base",
            "top": null,
            "grid_column": null,
            "overflow_y": null,
            "overflow_x": null,
            "grid_auto_flow": null,
            "grid_area": null,
            "grid_template_columns": null,
            "flex": null,
            "_model_name": "LayoutModel",
            "justify_items": null,
            "grid_row": null,
            "max_height": null,
            "align_content": null,
            "visibility": null,
            "align_self": null,
            "height": null,
            "min_height": null,
            "padding": null,
            "grid_auto_rows": null,
            "grid_gap": null,
            "max_width": null,
            "order": null,
            "_view_module_version": "1.2.0",
            "grid_template_areas": null,
            "object_position": null,
            "object_fit": null,
            "grid_auto_columns": null,
            "margin": null,
            "display": null,
            "left": null
          }
        },
        "5545c6290b4a425c83835056910e36fe": {
          "model_module": "@jupyter-widgets/controls",
          "model_name": "DescriptionStyleModel",
          "state": {
            "_view_name": "StyleView",
            "_model_name": "DescriptionStyleModel",
            "description_width": "",
            "_view_module": "@jupyter-widgets/base",
            "_model_module_version": "1.5.0",
            "_view_count": null,
            "_view_module_version": "1.2.0",
            "_model_module": "@jupyter-widgets/controls"
          }
        },
        "328c3074283b4374b621c5ef69b5715c": {
          "model_module": "@jupyter-widgets/base",
          "model_name": "LayoutModel",
          "state": {
            "_view_name": "LayoutView",
            "grid_template_rows": null,
            "right": null,
            "justify_content": null,
            "_view_module": "@jupyter-widgets/base",
            "overflow": null,
            "_model_module_version": "1.2.0",
            "_view_count": null,
            "flex_flow": null,
            "width": null,
            "min_width": null,
            "border": null,
            "align_items": null,
            "bottom": null,
            "_model_module": "@jupyter-widgets/base",
            "top": null,
            "grid_column": null,
            "overflow_y": null,
            "overflow_x": null,
            "grid_auto_flow": null,
            "grid_area": null,
            "grid_template_columns": null,
            "flex": null,
            "_model_name": "LayoutModel",
            "justify_items": null,
            "grid_row": null,
            "max_height": null,
            "align_content": null,
            "visibility": null,
            "align_self": null,
            "height": null,
            "min_height": null,
            "padding": null,
            "grid_auto_rows": null,
            "grid_gap": null,
            "max_width": null,
            "order": null,
            "_view_module_version": "1.2.0",
            "grid_template_areas": null,
            "object_position": null,
            "object_fit": null,
            "grid_auto_columns": null,
            "margin": null,
            "display": null,
            "left": null
          }
        },
        "2ec06ed8e13b4c3fab94e1cd5bb587af": {
          "model_module": "@jupyter-widgets/controls",
          "model_name": "HBoxModel",
          "state": {
            "_view_name": "HBoxView",
            "_dom_classes": [],
            "_model_name": "HBoxModel",
            "_view_module": "@jupyter-widgets/controls",
            "_model_module_version": "1.5.0",
            "_view_count": null,
            "_view_module_version": "1.5.0",
            "box_style": "",
            "layout": "IPY_MODEL_5e6d7313784c4f3e9c0593539b2ff9f8",
            "_model_module": "@jupyter-widgets/controls",
            "children": [
              "IPY_MODEL_fb8c2f249f0d4f0d9d2dd29cd0a4a4fc",
              "IPY_MODEL_b391217319ee4b90bed94fa52ccc6aa8"
            ]
          }
        },
        "5e6d7313784c4f3e9c0593539b2ff9f8": {
          "model_module": "@jupyter-widgets/base",
          "model_name": "LayoutModel",
          "state": {
            "_view_name": "LayoutView",
            "grid_template_rows": null,
            "right": null,
            "justify_content": null,
            "_view_module": "@jupyter-widgets/base",
            "overflow": null,
            "_model_module_version": "1.2.0",
            "_view_count": null,
            "flex_flow": null,
            "width": null,
            "min_width": null,
            "border": null,
            "align_items": null,
            "bottom": null,
            "_model_module": "@jupyter-widgets/base",
            "top": null,
            "grid_column": null,
            "overflow_y": null,
            "overflow_x": null,
            "grid_auto_flow": null,
            "grid_area": null,
            "grid_template_columns": null,
            "flex": null,
            "_model_name": "LayoutModel",
            "justify_items": null,
            "grid_row": null,
            "max_height": null,
            "align_content": null,
            "visibility": null,
            "align_self": null,
            "height": null,
            "min_height": null,
            "padding": null,
            "grid_auto_rows": null,
            "grid_gap": null,
            "max_width": null,
            "order": null,
            "_view_module_version": "1.2.0",
            "grid_template_areas": null,
            "object_position": null,
            "object_fit": null,
            "grid_auto_columns": null,
            "margin": null,
            "display": null,
            "left": null
          }
        },
        "fb8c2f249f0d4f0d9d2dd29cd0a4a4fc": {
          "model_module": "@jupyter-widgets/controls",
          "model_name": "FloatProgressModel",
          "state": {
            "_view_name": "ProgressView",
            "style": "IPY_MODEL_f34dd6e9723e42e19067543e478c112a",
            "_dom_classes": [],
            "description": " 96%",
            "_model_name": "FloatProgressModel",
            "bar_style": "danger",
            "max": 50000,
            "_view_module": "@jupyter-widgets/controls",
            "_model_module_version": "1.5.0",
            "value": 47879,
            "_view_count": null,
            "_view_module_version": "1.5.0",
            "orientation": "horizontal",
            "min": 0,
            "description_tooltip": null,
            "_model_module": "@jupyter-widgets/controls",
            "layout": "IPY_MODEL_ec0c33ecfded4624aeb855aab48a48eb"
          }
        },
        "b391217319ee4b90bed94fa52ccc6aa8": {
          "model_module": "@jupyter-widgets/controls",
          "model_name": "HTMLModel",
          "state": {
            "_view_name": "HTMLView",
            "style": "IPY_MODEL_67f18ab6b10647d7bce83f004889e9b1",
            "_dom_classes": [],
            "description": "",
            "_model_name": "HTMLModel",
            "placeholder": "​",
            "_view_module": "@jupyter-widgets/controls",
            "_model_module_version": "1.5.0",
            "value": " 47879/50000 [00:00&lt;00:00, 98408.60 examples/s]",
            "_view_count": null,
            "_view_module_version": "1.5.0",
            "description_tooltip": null,
            "_model_module": "@jupyter-widgets/controls",
            "layout": "IPY_MODEL_7d7a487dbd7f4f97aa5199ac5e0f55c5"
          }
        },
        "f34dd6e9723e42e19067543e478c112a": {
          "model_module": "@jupyter-widgets/controls",
          "model_name": "ProgressStyleModel",
          "state": {
            "_view_name": "StyleView",
            "_model_name": "ProgressStyleModel",
            "description_width": "initial",
            "_view_module": "@jupyter-widgets/base",
            "_model_module_version": "1.5.0",
            "_view_count": null,
            "_view_module_version": "1.2.0",
            "bar_color": null,
            "_model_module": "@jupyter-widgets/controls"
          }
        },
        "ec0c33ecfded4624aeb855aab48a48eb": {
          "model_module": "@jupyter-widgets/base",
          "model_name": "LayoutModel",
          "state": {
            "_view_name": "LayoutView",
            "grid_template_rows": null,
            "right": null,
            "justify_content": null,
            "_view_module": "@jupyter-widgets/base",
            "overflow": null,
            "_model_module_version": "1.2.0",
            "_view_count": null,
            "flex_flow": null,
            "width": null,
            "min_width": null,
            "border": null,
            "align_items": null,
            "bottom": null,
            "_model_module": "@jupyter-widgets/base",
            "top": null,
            "grid_column": null,
            "overflow_y": null,
            "overflow_x": null,
            "grid_auto_flow": null,
            "grid_area": null,
            "grid_template_columns": null,
            "flex": null,
            "_model_name": "LayoutModel",
            "justify_items": null,
            "grid_row": null,
            "max_height": null,
            "align_content": null,
            "visibility": null,
            "align_self": null,
            "height": null,
            "min_height": null,
            "padding": null,
            "grid_auto_rows": null,
            "grid_gap": null,
            "max_width": null,
            "order": null,
            "_view_module_version": "1.2.0",
            "grid_template_areas": null,
            "object_position": null,
            "object_fit": null,
            "grid_auto_columns": null,
            "margin": null,
            "display": null,
            "left": null
          }
        },
        "67f18ab6b10647d7bce83f004889e9b1": {
          "model_module": "@jupyter-widgets/controls",
          "model_name": "DescriptionStyleModel",
          "state": {
            "_view_name": "StyleView",
            "_model_name": "DescriptionStyleModel",
            "description_width": "",
            "_view_module": "@jupyter-widgets/base",
            "_model_module_version": "1.5.0",
            "_view_count": null,
            "_view_module_version": "1.2.0",
            "_model_module": "@jupyter-widgets/controls"
          }
        },
        "7d7a487dbd7f4f97aa5199ac5e0f55c5": {
          "model_module": "@jupyter-widgets/base",
          "model_name": "LayoutModel",
          "state": {
            "_view_name": "LayoutView",
            "grid_template_rows": null,
            "right": null,
            "justify_content": null,
            "_view_module": "@jupyter-widgets/base",
            "overflow": null,
            "_model_module_version": "1.2.0",
            "_view_count": null,
            "flex_flow": null,
            "width": null,
            "min_width": null,
            "border": null,
            "align_items": null,
            "bottom": null,
            "_model_module": "@jupyter-widgets/base",
            "top": null,
            "grid_column": null,
            "overflow_y": null,
            "overflow_x": null,
            "grid_auto_flow": null,
            "grid_area": null,
            "grid_template_columns": null,
            "flex": null,
            "_model_name": "LayoutModel",
            "justify_items": null,
            "grid_row": null,
            "max_height": null,
            "align_content": null,
            "visibility": null,
            "align_self": null,
            "height": null,
            "min_height": null,
            "padding": null,
            "grid_auto_rows": null,
            "grid_gap": null,
            "max_width": null,
            "order": null,
            "_view_module_version": "1.2.0",
            "grid_template_areas": null,
            "object_position": null,
            "object_fit": null,
            "grid_auto_columns": null,
            "margin": null,
            "display": null,
            "left": null
          }
        },
        "1476e54640344985a308a8b94d603384": {
          "model_module": "@jupyter-widgets/controls",
          "model_name": "HBoxModel",
          "state": {
            "_view_name": "HBoxView",
            "_dom_classes": [],
            "_model_name": "HBoxModel",
            "_view_module": "@jupyter-widgets/controls",
            "_model_module_version": "1.5.0",
            "_view_count": null,
            "_view_module_version": "1.5.0",
            "box_style": "",
            "layout": "IPY_MODEL_d68d8c75a6a4428193171330e553970d",
            "_model_module": "@jupyter-widgets/controls",
            "children": [
              "IPY_MODEL_5c85ee5f6e434f35b2795b027c7ce5ce",
              "IPY_MODEL_79fa6002fc2b408ca130cde0bafe47e8"
            ]
          }
        },
        "d68d8c75a6a4428193171330e553970d": {
          "model_module": "@jupyter-widgets/base",
          "model_name": "LayoutModel",
          "state": {
            "_view_name": "LayoutView",
            "grid_template_rows": null,
            "right": null,
            "justify_content": null,
            "_view_module": "@jupyter-widgets/base",
            "overflow": null,
            "_model_module_version": "1.2.0",
            "_view_count": null,
            "flex_flow": null,
            "width": null,
            "min_width": null,
            "border": null,
            "align_items": null,
            "bottom": null,
            "_model_module": "@jupyter-widgets/base",
            "top": null,
            "grid_column": null,
            "overflow_y": null,
            "overflow_x": null,
            "grid_auto_flow": null,
            "grid_area": null,
            "grid_template_columns": null,
            "flex": null,
            "_model_name": "LayoutModel",
            "justify_items": null,
            "grid_row": null,
            "max_height": null,
            "align_content": null,
            "visibility": null,
            "align_self": null,
            "height": null,
            "min_height": null,
            "padding": null,
            "grid_auto_rows": null,
            "grid_gap": null,
            "max_width": null,
            "order": null,
            "_view_module_version": "1.2.0",
            "grid_template_areas": null,
            "object_position": null,
            "object_fit": null,
            "grid_auto_columns": null,
            "margin": null,
            "display": null,
            "left": null
          }
        },
        "5c85ee5f6e434f35b2795b027c7ce5ce": {
          "model_module": "@jupyter-widgets/controls",
          "model_name": "FloatProgressModel",
          "state": {
            "_view_name": "ProgressView",
            "style": "IPY_MODEL_6f0cfdc0fab74a5b989728a17d458399",
            "_dom_classes": [],
            "description": "Dl Completed...: ",
            "_model_name": "FloatProgressModel",
            "bar_style": "success",
            "max": 1,
            "_view_module": "@jupyter-widgets/controls",
            "_model_module_version": "1.5.0",
            "value": 0,
            "_view_count": null,
            "_view_module_version": "1.5.0",
            "orientation": "horizontal",
            "min": 0,
            "description_tooltip": null,
            "_model_module": "@jupyter-widgets/controls",
            "layout": "IPY_MODEL_7824c8576ee046268218ab5e955398dd"
          }
        },
        "79fa6002fc2b408ca130cde0bafe47e8": {
          "model_module": "@jupyter-widgets/controls",
          "model_name": "HTMLModel",
          "state": {
            "_view_name": "HTMLView",
            "style": "IPY_MODEL_a9705b1a7d1941e4a984e69d7ecbc9e7",
            "_dom_classes": [],
            "description": "",
            "_model_name": "HTMLModel",
            "placeholder": "​",
            "_view_module": "@jupyter-widgets/controls",
            "_model_module_version": "1.5.0",
            "value": " 0/0 [00:00&lt;?, ? url/s]",
            "_view_count": null,
            "_view_module_version": "1.5.0",
            "description_tooltip": null,
            "_model_module": "@jupyter-widgets/controls",
            "layout": "IPY_MODEL_2864f4a23c57495d94d45af78cc5bd91"
          }
        },
        "6f0cfdc0fab74a5b989728a17d458399": {
          "model_module": "@jupyter-widgets/controls",
          "model_name": "ProgressStyleModel",
          "state": {
            "_view_name": "StyleView",
            "_model_name": "ProgressStyleModel",
            "description_width": "initial",
            "_view_module": "@jupyter-widgets/base",
            "_model_module_version": "1.5.0",
            "_view_count": null,
            "_view_module_version": "1.2.0",
            "bar_color": null,
            "_model_module": "@jupyter-widgets/controls"
          }
        },
        "7824c8576ee046268218ab5e955398dd": {
          "model_module": "@jupyter-widgets/base",
          "model_name": "LayoutModel",
          "state": {
            "_view_name": "LayoutView",
            "grid_template_rows": null,
            "right": null,
            "justify_content": null,
            "_view_module": "@jupyter-widgets/base",
            "overflow": null,
            "_model_module_version": "1.2.0",
            "_view_count": null,
            "flex_flow": null,
            "width": null,
            "min_width": null,
            "border": null,
            "align_items": null,
            "bottom": null,
            "_model_module": "@jupyter-widgets/base",
            "top": null,
            "grid_column": null,
            "overflow_y": null,
            "overflow_x": null,
            "grid_auto_flow": null,
            "grid_area": null,
            "grid_template_columns": null,
            "flex": null,
            "_model_name": "LayoutModel",
            "justify_items": null,
            "grid_row": null,
            "max_height": null,
            "align_content": null,
            "visibility": null,
            "align_self": null,
            "height": null,
            "min_height": null,
            "padding": null,
            "grid_auto_rows": null,
            "grid_gap": null,
            "max_width": null,
            "order": null,
            "_view_module_version": "1.2.0",
            "grid_template_areas": null,
            "object_position": null,
            "object_fit": null,
            "grid_auto_columns": null,
            "margin": null,
            "display": null,
            "left": null
          }
        },
        "a9705b1a7d1941e4a984e69d7ecbc9e7": {
          "model_module": "@jupyter-widgets/controls",
          "model_name": "DescriptionStyleModel",
          "state": {
            "_view_name": "StyleView",
            "_model_name": "DescriptionStyleModel",
            "description_width": "",
            "_view_module": "@jupyter-widgets/base",
            "_model_module_version": "1.5.0",
            "_view_count": null,
            "_view_module_version": "1.2.0",
            "_model_module": "@jupyter-widgets/controls"
          }
        },
        "2864f4a23c57495d94d45af78cc5bd91": {
          "model_module": "@jupyter-widgets/base",
          "model_name": "LayoutModel",
          "state": {
            "_view_name": "LayoutView",
            "grid_template_rows": null,
            "right": null,
            "justify_content": null,
            "_view_module": "@jupyter-widgets/base",
            "overflow": null,
            "_model_module_version": "1.2.0",
            "_view_count": null,
            "flex_flow": null,
            "width": null,
            "min_width": null,
            "border": null,
            "align_items": null,
            "bottom": null,
            "_model_module": "@jupyter-widgets/base",
            "top": null,
            "grid_column": null,
            "overflow_y": null,
            "overflow_x": null,
            "grid_auto_flow": null,
            "grid_area": null,
            "grid_template_columns": null,
            "flex": null,
            "_model_name": "LayoutModel",
            "justify_items": null,
            "grid_row": null,
            "max_height": null,
            "align_content": null,
            "visibility": null,
            "align_self": null,
            "height": null,
            "min_height": null,
            "padding": null,
            "grid_auto_rows": null,
            "grid_gap": null,
            "max_width": null,
            "order": null,
            "_view_module_version": "1.2.0",
            "grid_template_areas": null,
            "object_position": null,
            "object_fit": null,
            "grid_auto_columns": null,
            "margin": null,
            "display": null,
            "left": null
          }
        },
        "5603356398c746309d85e6b9add64d0e": {
          "model_module": "@jupyter-widgets/controls",
          "model_name": "HBoxModel",
          "state": {
            "_view_name": "HBoxView",
            "_dom_classes": [],
            "_model_name": "HBoxModel",
            "_view_module": "@jupyter-widgets/controls",
            "_model_module_version": "1.5.0",
            "_view_count": null,
            "_view_module_version": "1.5.0",
            "box_style": "",
            "layout": "IPY_MODEL_e2e83d0840ed470680e3702f43c822fa",
            "_model_module": "@jupyter-widgets/controls",
            "children": [
              "IPY_MODEL_8715aad3ac66400fa868b751222defe0",
              "IPY_MODEL_90b87f747d4d487b9c2e1654475a4815"
            ]
          }
        },
        "e2e83d0840ed470680e3702f43c822fa": {
          "model_module": "@jupyter-widgets/base",
          "model_name": "LayoutModel",
          "state": {
            "_view_name": "LayoutView",
            "grid_template_rows": null,
            "right": null,
            "justify_content": null,
            "_view_module": "@jupyter-widgets/base",
            "overflow": null,
            "_model_module_version": "1.2.0",
            "_view_count": null,
            "flex_flow": null,
            "width": null,
            "min_width": null,
            "border": null,
            "align_items": null,
            "bottom": null,
            "_model_module": "@jupyter-widgets/base",
            "top": null,
            "grid_column": null,
            "overflow_y": null,
            "overflow_x": null,
            "grid_auto_flow": null,
            "grid_area": null,
            "grid_template_columns": null,
            "flex": null,
            "_model_name": "LayoutModel",
            "justify_items": null,
            "grid_row": null,
            "max_height": null,
            "align_content": null,
            "visibility": null,
            "align_self": null,
            "height": null,
            "min_height": null,
            "padding": null,
            "grid_auto_rows": null,
            "grid_gap": null,
            "max_width": null,
            "order": null,
            "_view_module_version": "1.2.0",
            "grid_template_areas": null,
            "object_position": null,
            "object_fit": null,
            "grid_auto_columns": null,
            "margin": null,
            "display": null,
            "left": null
          }
        },
        "8715aad3ac66400fa868b751222defe0": {
          "model_module": "@jupyter-widgets/controls",
          "model_name": "FloatProgressModel",
          "state": {
            "_view_name": "ProgressView",
            "style": "IPY_MODEL_a6a26a84a61c4452bacede39aff6fbf9",
            "_dom_classes": [],
            "description": "Dl Size...: ",
            "_model_name": "FloatProgressModel",
            "bar_style": "success",
            "max": 1,
            "_view_module": "@jupyter-widgets/controls",
            "_model_module_version": "1.5.0",
            "value": 0,
            "_view_count": null,
            "_view_module_version": "1.5.0",
            "orientation": "horizontal",
            "min": 0,
            "description_tooltip": null,
            "_model_module": "@jupyter-widgets/controls",
            "layout": "IPY_MODEL_94c23e0247d24ee18395f82188396e7a"
          }
        },
        "90b87f747d4d487b9c2e1654475a4815": {
          "model_module": "@jupyter-widgets/controls",
          "model_name": "HTMLModel",
          "state": {
            "_view_name": "HTMLView",
            "style": "IPY_MODEL_d397febffc7744e89cab38b7244adb00",
            "_dom_classes": [],
            "description": "",
            "_model_name": "HTMLModel",
            "placeholder": "​",
            "_view_module": "@jupyter-widgets/controls",
            "_model_module_version": "1.5.0",
            "value": " 0/0 [00:00&lt;?, ? MiB/s]",
            "_view_count": null,
            "_view_module_version": "1.5.0",
            "description_tooltip": null,
            "_model_module": "@jupyter-widgets/controls",
            "layout": "IPY_MODEL_7e48f0c4863b48a0a5d687deca1f6b26"
          }
        },
        "a6a26a84a61c4452bacede39aff6fbf9": {
          "model_module": "@jupyter-widgets/controls",
          "model_name": "ProgressStyleModel",
          "state": {
            "_view_name": "StyleView",
            "_model_name": "ProgressStyleModel",
            "description_width": "initial",
            "_view_module": "@jupyter-widgets/base",
            "_model_module_version": "1.5.0",
            "_view_count": null,
            "_view_module_version": "1.2.0",
            "bar_color": null,
            "_model_module": "@jupyter-widgets/controls"
          }
        },
        "94c23e0247d24ee18395f82188396e7a": {
          "model_module": "@jupyter-widgets/base",
          "model_name": "LayoutModel",
          "state": {
            "_view_name": "LayoutView",
            "grid_template_rows": null,
            "right": null,
            "justify_content": null,
            "_view_module": "@jupyter-widgets/base",
            "overflow": null,
            "_model_module_version": "1.2.0",
            "_view_count": null,
            "flex_flow": null,
            "width": null,
            "min_width": null,
            "border": null,
            "align_items": null,
            "bottom": null,
            "_model_module": "@jupyter-widgets/base",
            "top": null,
            "grid_column": null,
            "overflow_y": null,
            "overflow_x": null,
            "grid_auto_flow": null,
            "grid_area": null,
            "grid_template_columns": null,
            "flex": null,
            "_model_name": "LayoutModel",
            "justify_items": null,
            "grid_row": null,
            "max_height": null,
            "align_content": null,
            "visibility": null,
            "align_self": null,
            "height": null,
            "min_height": null,
            "padding": null,
            "grid_auto_rows": null,
            "grid_gap": null,
            "max_width": null,
            "order": null,
            "_view_module_version": "1.2.0",
            "grid_template_areas": null,
            "object_position": null,
            "object_fit": null,
            "grid_auto_columns": null,
            "margin": null,
            "display": null,
            "left": null
          }
        },
        "d397febffc7744e89cab38b7244adb00": {
          "model_module": "@jupyter-widgets/controls",
          "model_name": "DescriptionStyleModel",
          "state": {
            "_view_name": "StyleView",
            "_model_name": "DescriptionStyleModel",
            "description_width": "",
            "_view_module": "@jupyter-widgets/base",
            "_model_module_version": "1.5.0",
            "_view_count": null,
            "_view_module_version": "1.2.0",
            "_model_module": "@jupyter-widgets/controls"
          }
        },
        "7e48f0c4863b48a0a5d687deca1f6b26": {
          "model_module": "@jupyter-widgets/base",
          "model_name": "LayoutModel",
          "state": {
            "_view_name": "LayoutView",
            "grid_template_rows": null,
            "right": null,
            "justify_content": null,
            "_view_module": "@jupyter-widgets/base",
            "overflow": null,
            "_model_module_version": "1.2.0",
            "_view_count": null,
            "flex_flow": null,
            "width": null,
            "min_width": null,
            "border": null,
            "align_items": null,
            "bottom": null,
            "_model_module": "@jupyter-widgets/base",
            "top": null,
            "grid_column": null,
            "overflow_y": null,
            "overflow_x": null,
            "grid_auto_flow": null,
            "grid_area": null,
            "grid_template_columns": null,
            "flex": null,
            "_model_name": "LayoutModel",
            "justify_items": null,
            "grid_row": null,
            "max_height": null,
            "align_content": null,
            "visibility": null,
            "align_self": null,
            "height": null,
            "min_height": null,
            "padding": null,
            "grid_auto_rows": null,
            "grid_gap": null,
            "max_width": null,
            "order": null,
            "_view_module_version": "1.2.0",
            "grid_template_areas": null,
            "object_position": null,
            "object_fit": null,
            "grid_auto_columns": null,
            "margin": null,
            "display": null,
            "left": null
          }
        },
        "d0efbfa63fcc4e15897009e3f698402a": {
          "model_module": "@jupyter-widgets/controls",
          "model_name": "HBoxModel",
          "state": {
            "_view_name": "HBoxView",
            "_dom_classes": [],
            "_model_name": "HBoxModel",
            "_view_module": "@jupyter-widgets/controls",
            "_model_module_version": "1.5.0",
            "_view_count": null,
            "_view_module_version": "1.5.0",
            "box_style": "",
            "layout": "IPY_MODEL_d0e9d4a77bbc45658ba6dc5682007765",
            "_model_module": "@jupyter-widgets/controls",
            "children": [
              "IPY_MODEL_793978692ac54b8aab41e34c3d420190",
              "IPY_MODEL_a2f3889d7a1043569029a768ebe54e42"
            ]
          }
        },
        "d0e9d4a77bbc45658ba6dc5682007765": {
          "model_module": "@jupyter-widgets/base",
          "model_name": "LayoutModel",
          "state": {
            "_view_name": "LayoutView",
            "grid_template_rows": null,
            "right": null,
            "justify_content": null,
            "_view_module": "@jupyter-widgets/base",
            "overflow": null,
            "_model_module_version": "1.2.0",
            "_view_count": null,
            "flex_flow": null,
            "width": null,
            "min_width": null,
            "border": null,
            "align_items": null,
            "bottom": null,
            "_model_module": "@jupyter-widgets/base",
            "top": null,
            "grid_column": null,
            "overflow_y": null,
            "overflow_x": null,
            "grid_auto_flow": null,
            "grid_area": null,
            "grid_template_columns": null,
            "flex": null,
            "_model_name": "LayoutModel",
            "justify_items": null,
            "grid_row": null,
            "max_height": null,
            "align_content": null,
            "visibility": null,
            "align_self": null,
            "height": null,
            "min_height": null,
            "padding": null,
            "grid_auto_rows": null,
            "grid_gap": null,
            "max_width": null,
            "order": null,
            "_view_module_version": "1.2.0",
            "grid_template_areas": null,
            "object_position": null,
            "object_fit": null,
            "grid_auto_columns": null,
            "margin": null,
            "display": null,
            "left": null
          }
        },
        "793978692ac54b8aab41e34c3d420190": {
          "model_module": "@jupyter-widgets/controls",
          "model_name": "FloatProgressModel",
          "state": {
            "_view_name": "ProgressView",
            "style": "IPY_MODEL_d22676b14ca043fdb95e0c52633a39de",
            "_dom_classes": [],
            "description": "",
            "_model_name": "FloatProgressModel",
            "bar_style": "info",
            "max": 1,
            "_view_module": "@jupyter-widgets/controls",
            "_model_module_version": "1.5.0",
            "value": 1,
            "_view_count": null,
            "_view_module_version": "1.5.0",
            "orientation": "horizontal",
            "min": 0,
            "description_tooltip": null,
            "_model_module": "@jupyter-widgets/controls",
            "layout": "IPY_MODEL_db1209af982a4c97a7fdaccae2a0d4fe"
          }
        },
        "a2f3889d7a1043569029a768ebe54e42": {
          "model_module": "@jupyter-widgets/controls",
          "model_name": "HTMLModel",
          "state": {
            "_view_name": "HTMLView",
            "style": "IPY_MODEL_efea9d2f05aa494c94571ca5bcd6216f",
            "_dom_classes": [],
            "description": "",
            "_model_name": "HTMLModel",
            "placeholder": "​",
            "_view_module": "@jupyter-widgets/controls",
            "_model_module_version": "1.5.0",
            "value": " 25000/0 [00:12&lt;00:00, 3435.51 examples/s]",
            "_view_count": null,
            "_view_module_version": "1.5.0",
            "description_tooltip": null,
            "_model_module": "@jupyter-widgets/controls",
            "layout": "IPY_MODEL_1087a48e730a4b9aac27887ccf4db6fa"
          }
        },
        "d22676b14ca043fdb95e0c52633a39de": {
          "model_module": "@jupyter-widgets/controls",
          "model_name": "ProgressStyleModel",
          "state": {
            "_view_name": "StyleView",
            "_model_name": "ProgressStyleModel",
            "description_width": "initial",
            "_view_module": "@jupyter-widgets/base",
            "_model_module_version": "1.5.0",
            "_view_count": null,
            "_view_module_version": "1.2.0",
            "bar_color": null,
            "_model_module": "@jupyter-widgets/controls"
          }
        },
        "db1209af982a4c97a7fdaccae2a0d4fe": {
          "model_module": "@jupyter-widgets/base",
          "model_name": "LayoutModel",
          "state": {
            "_view_name": "LayoutView",
            "grid_template_rows": null,
            "right": null,
            "justify_content": null,
            "_view_module": "@jupyter-widgets/base",
            "overflow": null,
            "_model_module_version": "1.2.0",
            "_view_count": null,
            "flex_flow": null,
            "width": null,
            "min_width": null,
            "border": null,
            "align_items": null,
            "bottom": null,
            "_model_module": "@jupyter-widgets/base",
            "top": null,
            "grid_column": null,
            "overflow_y": null,
            "overflow_x": null,
            "grid_auto_flow": null,
            "grid_area": null,
            "grid_template_columns": null,
            "flex": null,
            "_model_name": "LayoutModel",
            "justify_items": null,
            "grid_row": null,
            "max_height": null,
            "align_content": null,
            "visibility": null,
            "align_self": null,
            "height": null,
            "min_height": null,
            "padding": null,
            "grid_auto_rows": null,
            "grid_gap": null,
            "max_width": null,
            "order": null,
            "_view_module_version": "1.2.0",
            "grid_template_areas": null,
            "object_position": null,
            "object_fit": null,
            "grid_auto_columns": null,
            "margin": null,
            "display": null,
            "left": null
          }
        },
        "efea9d2f05aa494c94571ca5bcd6216f": {
          "model_module": "@jupyter-widgets/controls",
          "model_name": "DescriptionStyleModel",
          "state": {
            "_view_name": "StyleView",
            "_model_name": "DescriptionStyleModel",
            "description_width": "",
            "_view_module": "@jupyter-widgets/base",
            "_model_module_version": "1.5.0",
            "_view_count": null,
            "_view_module_version": "1.2.0",
            "_model_module": "@jupyter-widgets/controls"
          }
        },
        "1087a48e730a4b9aac27887ccf4db6fa": {
          "model_module": "@jupyter-widgets/base",
          "model_name": "LayoutModel",
          "state": {
            "_view_name": "LayoutView",
            "grid_template_rows": null,
            "right": null,
            "justify_content": null,
            "_view_module": "@jupyter-widgets/base",
            "overflow": null,
            "_model_module_version": "1.2.0",
            "_view_count": null,
            "flex_flow": null,
            "width": null,
            "min_width": null,
            "border": null,
            "align_items": null,
            "bottom": null,
            "_model_module": "@jupyter-widgets/base",
            "top": null,
            "grid_column": null,
            "overflow_y": null,
            "overflow_x": null,
            "grid_auto_flow": null,
            "grid_area": null,
            "grid_template_columns": null,
            "flex": null,
            "_model_name": "LayoutModel",
            "justify_items": null,
            "grid_row": null,
            "max_height": null,
            "align_content": null,
            "visibility": null,
            "align_self": null,
            "height": null,
            "min_height": null,
            "padding": null,
            "grid_auto_rows": null,
            "grid_gap": null,
            "max_width": null,
            "order": null,
            "_view_module_version": "1.2.0",
            "grid_template_areas": null,
            "object_position": null,
            "object_fit": null,
            "grid_auto_columns": null,
            "margin": null,
            "display": null,
            "left": null
          }
        },
        "874320a211a144fe890e349a2110c145": {
          "model_module": "@jupyter-widgets/controls",
          "model_name": "HBoxModel",
          "state": {
            "_view_name": "HBoxView",
            "_dom_classes": [],
            "_model_name": "HBoxModel",
            "_view_module": "@jupyter-widgets/controls",
            "_model_module_version": "1.5.0",
            "_view_count": null,
            "_view_module_version": "1.5.0",
            "box_style": "",
            "layout": "IPY_MODEL_8af56b8d01f24ae69489c45ef61ff88e",
            "_model_module": "@jupyter-widgets/controls",
            "children": [
              "IPY_MODEL_e1235d1daf754931a39aee25b3855911",
              "IPY_MODEL_27557c919a6c4438a6f513e2ff6f7564"
            ]
          }
        },
        "8af56b8d01f24ae69489c45ef61ff88e": {
          "model_module": "@jupyter-widgets/base",
          "model_name": "LayoutModel",
          "state": {
            "_view_name": "LayoutView",
            "grid_template_rows": null,
            "right": null,
            "justify_content": null,
            "_view_module": "@jupyter-widgets/base",
            "overflow": null,
            "_model_module_version": "1.2.0",
            "_view_count": null,
            "flex_flow": null,
            "width": null,
            "min_width": null,
            "border": null,
            "align_items": null,
            "bottom": null,
            "_model_module": "@jupyter-widgets/base",
            "top": null,
            "grid_column": null,
            "overflow_y": null,
            "overflow_x": null,
            "grid_auto_flow": null,
            "grid_area": null,
            "grid_template_columns": null,
            "flex": null,
            "_model_name": "LayoutModel",
            "justify_items": null,
            "grid_row": null,
            "max_height": null,
            "align_content": null,
            "visibility": null,
            "align_self": null,
            "height": null,
            "min_height": null,
            "padding": null,
            "grid_auto_rows": null,
            "grid_gap": null,
            "max_width": null,
            "order": null,
            "_view_module_version": "1.2.0",
            "grid_template_areas": null,
            "object_position": null,
            "object_fit": null,
            "grid_auto_columns": null,
            "margin": null,
            "display": null,
            "left": null
          }
        },
        "e1235d1daf754931a39aee25b3855911": {
          "model_module": "@jupyter-widgets/controls",
          "model_name": "FloatProgressModel",
          "state": {
            "_view_name": "ProgressView",
            "style": "IPY_MODEL_76464caeeaa24952a41b38c08ddeaf78",
            "_dom_classes": [],
            "description": " 55%",
            "_model_name": "FloatProgressModel",
            "bar_style": "danger",
            "max": 25000,
            "_view_module": "@jupyter-widgets/controls",
            "_model_module_version": "1.5.0",
            "value": 13857,
            "_view_count": null,
            "_view_module_version": "1.5.0",
            "orientation": "horizontal",
            "min": 0,
            "description_tooltip": null,
            "_model_module": "@jupyter-widgets/controls",
            "layout": "IPY_MODEL_eb147b2f53bb427a9fd7cb7cfb8190ef"
          }
        },
        "27557c919a6c4438a6f513e2ff6f7564": {
          "model_module": "@jupyter-widgets/controls",
          "model_name": "HTMLModel",
          "state": {
            "_view_name": "HTMLView",
            "style": "IPY_MODEL_f5fe6f670aa34a628c2939b68bf081ca",
            "_dom_classes": [],
            "description": "",
            "_model_name": "HTMLModel",
            "placeholder": "​",
            "_view_module": "@jupyter-widgets/controls",
            "_model_module_version": "1.5.0",
            "value": " 13857/25000 [00:00&lt;00:00, 138567.49 examples/s]",
            "_view_count": null,
            "_view_module_version": "1.5.0",
            "description_tooltip": null,
            "_model_module": "@jupyter-widgets/controls",
            "layout": "IPY_MODEL_71323dca7821416e85a242f69f00fb57"
          }
        },
        "76464caeeaa24952a41b38c08ddeaf78": {
          "model_module": "@jupyter-widgets/controls",
          "model_name": "ProgressStyleModel",
          "state": {
            "_view_name": "StyleView",
            "_model_name": "ProgressStyleModel",
            "description_width": "initial",
            "_view_module": "@jupyter-widgets/base",
            "_model_module_version": "1.5.0",
            "_view_count": null,
            "_view_module_version": "1.2.0",
            "bar_color": null,
            "_model_module": "@jupyter-widgets/controls"
          }
        },
        "eb147b2f53bb427a9fd7cb7cfb8190ef": {
          "model_module": "@jupyter-widgets/base",
          "model_name": "LayoutModel",
          "state": {
            "_view_name": "LayoutView",
            "grid_template_rows": null,
            "right": null,
            "justify_content": null,
            "_view_module": "@jupyter-widgets/base",
            "overflow": null,
            "_model_module_version": "1.2.0",
            "_view_count": null,
            "flex_flow": null,
            "width": null,
            "min_width": null,
            "border": null,
            "align_items": null,
            "bottom": null,
            "_model_module": "@jupyter-widgets/base",
            "top": null,
            "grid_column": null,
            "overflow_y": null,
            "overflow_x": null,
            "grid_auto_flow": null,
            "grid_area": null,
            "grid_template_columns": null,
            "flex": null,
            "_model_name": "LayoutModel",
            "justify_items": null,
            "grid_row": null,
            "max_height": null,
            "align_content": null,
            "visibility": null,
            "align_self": null,
            "height": null,
            "min_height": null,
            "padding": null,
            "grid_auto_rows": null,
            "grid_gap": null,
            "max_width": null,
            "order": null,
            "_view_module_version": "1.2.0",
            "grid_template_areas": null,
            "object_position": null,
            "object_fit": null,
            "grid_auto_columns": null,
            "margin": null,
            "display": null,
            "left": null
          }
        },
        "f5fe6f670aa34a628c2939b68bf081ca": {
          "model_module": "@jupyter-widgets/controls",
          "model_name": "DescriptionStyleModel",
          "state": {
            "_view_name": "StyleView",
            "_model_name": "DescriptionStyleModel",
            "description_width": "",
            "_view_module": "@jupyter-widgets/base",
            "_model_module_version": "1.5.0",
            "_view_count": null,
            "_view_module_version": "1.2.0",
            "_model_module": "@jupyter-widgets/controls"
          }
        },
        "71323dca7821416e85a242f69f00fb57": {
          "model_module": "@jupyter-widgets/base",
          "model_name": "LayoutModel",
          "state": {
            "_view_name": "LayoutView",
            "grid_template_rows": null,
            "right": null,
            "justify_content": null,
            "_view_module": "@jupyter-widgets/base",
            "overflow": null,
            "_model_module_version": "1.2.0",
            "_view_count": null,
            "flex_flow": null,
            "width": null,
            "min_width": null,
            "border": null,
            "align_items": null,
            "bottom": null,
            "_model_module": "@jupyter-widgets/base",
            "top": null,
            "grid_column": null,
            "overflow_y": null,
            "overflow_x": null,
            "grid_auto_flow": null,
            "grid_area": null,
            "grid_template_columns": null,
            "flex": null,
            "_model_name": "LayoutModel",
            "justify_items": null,
            "grid_row": null,
            "max_height": null,
            "align_content": null,
            "visibility": null,
            "align_self": null,
            "height": null,
            "min_height": null,
            "padding": null,
            "grid_auto_rows": null,
            "grid_gap": null,
            "max_width": null,
            "order": null,
            "_view_module_version": "1.2.0",
            "grid_template_areas": null,
            "object_position": null,
            "object_fit": null,
            "grid_auto_columns": null,
            "margin": null,
            "display": null,
            "left": null
          }
        },
        "f08105974ee64064b9c1890db8dcbc0a": {
          "model_module": "@jupyter-widgets/controls",
          "model_name": "HBoxModel",
          "state": {
            "_view_name": "HBoxView",
            "_dom_classes": [],
            "_model_name": "HBoxModel",
            "_view_module": "@jupyter-widgets/controls",
            "_model_module_version": "1.5.0",
            "_view_count": null,
            "_view_module_version": "1.5.0",
            "box_style": "",
            "layout": "IPY_MODEL_697451ca50834474942e0d0d8c73b09f",
            "_model_module": "@jupyter-widgets/controls",
            "children": [
              "IPY_MODEL_343c04cf8fa84fa6aa6a35621389d879",
              "IPY_MODEL_85ed0987278444da886bdddbe1192039"
            ]
          }
        },
        "697451ca50834474942e0d0d8c73b09f": {
          "model_module": "@jupyter-widgets/base",
          "model_name": "LayoutModel",
          "state": {
            "_view_name": "LayoutView",
            "grid_template_rows": null,
            "right": null,
            "justify_content": null,
            "_view_module": "@jupyter-widgets/base",
            "overflow": null,
            "_model_module_version": "1.2.0",
            "_view_count": null,
            "flex_flow": null,
            "width": null,
            "min_width": null,
            "border": null,
            "align_items": null,
            "bottom": null,
            "_model_module": "@jupyter-widgets/base",
            "top": null,
            "grid_column": null,
            "overflow_y": null,
            "overflow_x": null,
            "grid_auto_flow": null,
            "grid_area": null,
            "grid_template_columns": null,
            "flex": null,
            "_model_name": "LayoutModel",
            "justify_items": null,
            "grid_row": null,
            "max_height": null,
            "align_content": null,
            "visibility": null,
            "align_self": null,
            "height": null,
            "min_height": null,
            "padding": null,
            "grid_auto_rows": null,
            "grid_gap": null,
            "max_width": null,
            "order": null,
            "_view_module_version": "1.2.0",
            "grid_template_areas": null,
            "object_position": null,
            "object_fit": null,
            "grid_auto_columns": null,
            "margin": null,
            "display": null,
            "left": null
          }
        },
        "343c04cf8fa84fa6aa6a35621389d879": {
          "model_module": "@jupyter-widgets/controls",
          "model_name": "FloatProgressModel",
          "state": {
            "_view_name": "ProgressView",
            "style": "IPY_MODEL_6e3cb529b73f4e0bb41d29d3280274d9",
            "_dom_classes": [],
            "description": "",
            "_model_name": "FloatProgressModel",
            "bar_style": "info",
            "max": 1,
            "_view_module": "@jupyter-widgets/controls",
            "_model_module_version": "1.5.0",
            "value": 1,
            "_view_count": null,
            "_view_module_version": "1.5.0",
            "orientation": "horizontal",
            "min": 0,
            "description_tooltip": null,
            "_model_module": "@jupyter-widgets/controls",
            "layout": "IPY_MODEL_cc70de51aace47678b89019cd86d6eb8"
          }
        },
        "85ed0987278444da886bdddbe1192039": {
          "model_module": "@jupyter-widgets/controls",
          "model_name": "HTMLModel",
          "state": {
            "_view_name": "HTMLView",
            "style": "IPY_MODEL_5af3ba68dedd4faf81c8f39065bf6bea",
            "_dom_classes": [],
            "description": "",
            "_model_name": "HTMLModel",
            "placeholder": "​",
            "_view_module": "@jupyter-widgets/controls",
            "_model_module_version": "1.5.0",
            "value": " 25000/0 [00:12&lt;00:00, 3610.10 examples/s]",
            "_view_count": null,
            "_view_module_version": "1.5.0",
            "description_tooltip": null,
            "_model_module": "@jupyter-widgets/controls",
            "layout": "IPY_MODEL_cfd9beda099d427abe2dd03ee4bc7462"
          }
        },
        "6e3cb529b73f4e0bb41d29d3280274d9": {
          "model_module": "@jupyter-widgets/controls",
          "model_name": "ProgressStyleModel",
          "state": {
            "_view_name": "StyleView",
            "_model_name": "ProgressStyleModel",
            "description_width": "initial",
            "_view_module": "@jupyter-widgets/base",
            "_model_module_version": "1.5.0",
            "_view_count": null,
            "_view_module_version": "1.2.0",
            "bar_color": null,
            "_model_module": "@jupyter-widgets/controls"
          }
        },
        "cc70de51aace47678b89019cd86d6eb8": {
          "model_module": "@jupyter-widgets/base",
          "model_name": "LayoutModel",
          "state": {
            "_view_name": "LayoutView",
            "grid_template_rows": null,
            "right": null,
            "justify_content": null,
            "_view_module": "@jupyter-widgets/base",
            "overflow": null,
            "_model_module_version": "1.2.0",
            "_view_count": null,
            "flex_flow": null,
            "width": null,
            "min_width": null,
            "border": null,
            "align_items": null,
            "bottom": null,
            "_model_module": "@jupyter-widgets/base",
            "top": null,
            "grid_column": null,
            "overflow_y": null,
            "overflow_x": null,
            "grid_auto_flow": null,
            "grid_area": null,
            "grid_template_columns": null,
            "flex": null,
            "_model_name": "LayoutModel",
            "justify_items": null,
            "grid_row": null,
            "max_height": null,
            "align_content": null,
            "visibility": null,
            "align_self": null,
            "height": null,
            "min_height": null,
            "padding": null,
            "grid_auto_rows": null,
            "grid_gap": null,
            "max_width": null,
            "order": null,
            "_view_module_version": "1.2.0",
            "grid_template_areas": null,
            "object_position": null,
            "object_fit": null,
            "grid_auto_columns": null,
            "margin": null,
            "display": null,
            "left": null
          }
        },
        "5af3ba68dedd4faf81c8f39065bf6bea": {
          "model_module": "@jupyter-widgets/controls",
          "model_name": "DescriptionStyleModel",
          "state": {
            "_view_name": "StyleView",
            "_model_name": "DescriptionStyleModel",
            "description_width": "",
            "_view_module": "@jupyter-widgets/base",
            "_model_module_version": "1.5.0",
            "_view_count": null,
            "_view_module_version": "1.2.0",
            "_model_module": "@jupyter-widgets/controls"
          }
        },
        "cfd9beda099d427abe2dd03ee4bc7462": {
          "model_module": "@jupyter-widgets/base",
          "model_name": "LayoutModel",
          "state": {
            "_view_name": "LayoutView",
            "grid_template_rows": null,
            "right": null,
            "justify_content": null,
            "_view_module": "@jupyter-widgets/base",
            "overflow": null,
            "_model_module_version": "1.2.0",
            "_view_count": null,
            "flex_flow": null,
            "width": null,
            "min_width": null,
            "border": null,
            "align_items": null,
            "bottom": null,
            "_model_module": "@jupyter-widgets/base",
            "top": null,
            "grid_column": null,
            "overflow_y": null,
            "overflow_x": null,
            "grid_auto_flow": null,
            "grid_area": null,
            "grid_template_columns": null,
            "flex": null,
            "_model_name": "LayoutModel",
            "justify_items": null,
            "grid_row": null,
            "max_height": null,
            "align_content": null,
            "visibility": null,
            "align_self": null,
            "height": null,
            "min_height": null,
            "padding": null,
            "grid_auto_rows": null,
            "grid_gap": null,
            "max_width": null,
            "order": null,
            "_view_module_version": "1.2.0",
            "grid_template_areas": null,
            "object_position": null,
            "object_fit": null,
            "grid_auto_columns": null,
            "margin": null,
            "display": null,
            "left": null
          }
        },
        "4b02224ac9274daa834dba768d19ea74": {
          "model_module": "@jupyter-widgets/controls",
          "model_name": "HBoxModel",
          "state": {
            "_view_name": "HBoxView",
            "_dom_classes": [],
            "_model_name": "HBoxModel",
            "_view_module": "@jupyter-widgets/controls",
            "_model_module_version": "1.5.0",
            "_view_count": null,
            "_view_module_version": "1.5.0",
            "box_style": "",
            "layout": "IPY_MODEL_1bd6411e265d458f96b1616f6d472087",
            "_model_module": "@jupyter-widgets/controls",
            "children": [
              "IPY_MODEL_f6c3c981c747432ebc40320032fe97d0",
              "IPY_MODEL_4dce9c7955f74ff0be6ae4eb5b068bd1"
            ]
          }
        },
        "1bd6411e265d458f96b1616f6d472087": {
          "model_module": "@jupyter-widgets/base",
          "model_name": "LayoutModel",
          "state": {
            "_view_name": "LayoutView",
            "grid_template_rows": null,
            "right": null,
            "justify_content": null,
            "_view_module": "@jupyter-widgets/base",
            "overflow": null,
            "_model_module_version": "1.2.0",
            "_view_count": null,
            "flex_flow": null,
            "width": null,
            "min_width": null,
            "border": null,
            "align_items": null,
            "bottom": null,
            "_model_module": "@jupyter-widgets/base",
            "top": null,
            "grid_column": null,
            "overflow_y": null,
            "overflow_x": null,
            "grid_auto_flow": null,
            "grid_area": null,
            "grid_template_columns": null,
            "flex": null,
            "_model_name": "LayoutModel",
            "justify_items": null,
            "grid_row": null,
            "max_height": null,
            "align_content": null,
            "visibility": null,
            "align_self": null,
            "height": null,
            "min_height": null,
            "padding": null,
            "grid_auto_rows": null,
            "grid_gap": null,
            "max_width": null,
            "order": null,
            "_view_module_version": "1.2.0",
            "grid_template_areas": null,
            "object_position": null,
            "object_fit": null,
            "grid_auto_columns": null,
            "margin": null,
            "display": null,
            "left": null
          }
        },
        "f6c3c981c747432ebc40320032fe97d0": {
          "model_module": "@jupyter-widgets/controls",
          "model_name": "FloatProgressModel",
          "state": {
            "_view_name": "ProgressView",
            "style": "IPY_MODEL_7604c7ebc09a403f97d38db78221e9f1",
            "_dom_classes": [],
            "description": " 66%",
            "_model_name": "FloatProgressModel",
            "bar_style": "danger",
            "max": 25000,
            "_view_module": "@jupyter-widgets/controls",
            "_model_module_version": "1.5.0",
            "value": 16378,
            "_view_count": null,
            "_view_module_version": "1.5.0",
            "orientation": "horizontal",
            "min": 0,
            "description_tooltip": null,
            "_model_module": "@jupyter-widgets/controls",
            "layout": "IPY_MODEL_b5d3db81445f4c8ead6ca3f5ceec6be4"
          }
        },
        "4dce9c7955f74ff0be6ae4eb5b068bd1": {
          "model_module": "@jupyter-widgets/controls",
          "model_name": "HTMLModel",
          "state": {
            "_view_name": "HTMLView",
            "style": "IPY_MODEL_a78b86b3c61043eca3c5b962681d9ede",
            "_dom_classes": [],
            "description": "",
            "_model_name": "HTMLModel",
            "placeholder": "​",
            "_view_module": "@jupyter-widgets/controls",
            "_model_module_version": "1.5.0",
            "value": " 16378/25000 [00:00&lt;00:00, 163778.98 examples/s]",
            "_view_count": null,
            "_view_module_version": "1.5.0",
            "description_tooltip": null,
            "_model_module": "@jupyter-widgets/controls",
            "layout": "IPY_MODEL_0cc26d70d06e4729928181b6643378f6"
          }
        },
        "7604c7ebc09a403f97d38db78221e9f1": {
          "model_module": "@jupyter-widgets/controls",
          "model_name": "ProgressStyleModel",
          "state": {
            "_view_name": "StyleView",
            "_model_name": "ProgressStyleModel",
            "description_width": "initial",
            "_view_module": "@jupyter-widgets/base",
            "_model_module_version": "1.5.0",
            "_view_count": null,
            "_view_module_version": "1.2.0",
            "bar_color": null,
            "_model_module": "@jupyter-widgets/controls"
          }
        },
        "b5d3db81445f4c8ead6ca3f5ceec6be4": {
          "model_module": "@jupyter-widgets/base",
          "model_name": "LayoutModel",
          "state": {
            "_view_name": "LayoutView",
            "grid_template_rows": null,
            "right": null,
            "justify_content": null,
            "_view_module": "@jupyter-widgets/base",
            "overflow": null,
            "_model_module_version": "1.2.0",
            "_view_count": null,
            "flex_flow": null,
            "width": null,
            "min_width": null,
            "border": null,
            "align_items": null,
            "bottom": null,
            "_model_module": "@jupyter-widgets/base",
            "top": null,
            "grid_column": null,
            "overflow_y": null,
            "overflow_x": null,
            "grid_auto_flow": null,
            "grid_area": null,
            "grid_template_columns": null,
            "flex": null,
            "_model_name": "LayoutModel",
            "justify_items": null,
            "grid_row": null,
            "max_height": null,
            "align_content": null,
            "visibility": null,
            "align_self": null,
            "height": null,
            "min_height": null,
            "padding": null,
            "grid_auto_rows": null,
            "grid_gap": null,
            "max_width": null,
            "order": null,
            "_view_module_version": "1.2.0",
            "grid_template_areas": null,
            "object_position": null,
            "object_fit": null,
            "grid_auto_columns": null,
            "margin": null,
            "display": null,
            "left": null
          }
        },
        "a78b86b3c61043eca3c5b962681d9ede": {
          "model_module": "@jupyter-widgets/controls",
          "model_name": "DescriptionStyleModel",
          "state": {
            "_view_name": "StyleView",
            "_model_name": "DescriptionStyleModel",
            "description_width": "",
            "_view_module": "@jupyter-widgets/base",
            "_model_module_version": "1.5.0",
            "_view_count": null,
            "_view_module_version": "1.2.0",
            "_model_module": "@jupyter-widgets/controls"
          }
        },
        "0cc26d70d06e4729928181b6643378f6": {
          "model_module": "@jupyter-widgets/base",
          "model_name": "LayoutModel",
          "state": {
            "_view_name": "LayoutView",
            "grid_template_rows": null,
            "right": null,
            "justify_content": null,
            "_view_module": "@jupyter-widgets/base",
            "overflow": null,
            "_model_module_version": "1.2.0",
            "_view_count": null,
            "flex_flow": null,
            "width": null,
            "min_width": null,
            "border": null,
            "align_items": null,
            "bottom": null,
            "_model_module": "@jupyter-widgets/base",
            "top": null,
            "grid_column": null,
            "overflow_y": null,
            "overflow_x": null,
            "grid_auto_flow": null,
            "grid_area": null,
            "grid_template_columns": null,
            "flex": null,
            "_model_name": "LayoutModel",
            "justify_items": null,
            "grid_row": null,
            "max_height": null,
            "align_content": null,
            "visibility": null,
            "align_self": null,
            "height": null,
            "min_height": null,
            "padding": null,
            "grid_auto_rows": null,
            "grid_gap": null,
            "max_width": null,
            "order": null,
            "_view_module_version": "1.2.0",
            "grid_template_areas": null,
            "object_position": null,
            "object_fit": null,
            "grid_auto_columns": null,
            "margin": null,
            "display": null,
            "left": null
          }
        },
        "cdd725d3f2074fff9d67c47409e2ddac": {
          "model_module": "@jupyter-widgets/controls",
          "model_name": "HBoxModel",
          "state": {
            "_view_name": "HBoxView",
            "_dom_classes": [],
            "_model_name": "HBoxModel",
            "_view_module": "@jupyter-widgets/controls",
            "_model_module_version": "1.5.0",
            "_view_count": null,
            "_view_module_version": "1.5.0",
            "box_style": "",
            "layout": "IPY_MODEL_39deba31780040d9ab5dd1b386978686",
            "_model_module": "@jupyter-widgets/controls",
            "children": [
              "IPY_MODEL_27521c9cc14c4ee58f06592e0f331f23",
              "IPY_MODEL_4156ea0d24334ec8a8673e00bf12db8f"
            ]
          }
        },
        "39deba31780040d9ab5dd1b386978686": {
          "model_module": "@jupyter-widgets/base",
          "model_name": "LayoutModel",
          "state": {
            "_view_name": "LayoutView",
            "grid_template_rows": null,
            "right": null,
            "justify_content": null,
            "_view_module": "@jupyter-widgets/base",
            "overflow": null,
            "_model_module_version": "1.2.0",
            "_view_count": null,
            "flex_flow": null,
            "width": null,
            "min_width": null,
            "border": null,
            "align_items": null,
            "bottom": null,
            "_model_module": "@jupyter-widgets/base",
            "top": null,
            "grid_column": null,
            "overflow_y": null,
            "overflow_x": null,
            "grid_auto_flow": null,
            "grid_area": null,
            "grid_template_columns": null,
            "flex": null,
            "_model_name": "LayoutModel",
            "justify_items": null,
            "grid_row": null,
            "max_height": null,
            "align_content": null,
            "visibility": null,
            "align_self": null,
            "height": null,
            "min_height": null,
            "padding": null,
            "grid_auto_rows": null,
            "grid_gap": null,
            "max_width": null,
            "order": null,
            "_view_module_version": "1.2.0",
            "grid_template_areas": null,
            "object_position": null,
            "object_fit": null,
            "grid_auto_columns": null,
            "margin": null,
            "display": null,
            "left": null
          }
        },
        "27521c9cc14c4ee58f06592e0f331f23": {
          "model_module": "@jupyter-widgets/controls",
          "model_name": "FloatProgressModel",
          "state": {
            "_view_name": "ProgressView",
            "style": "IPY_MODEL_fd92263920f943a28f4d992aab368bf5",
            "_dom_classes": [],
            "description": "",
            "_model_name": "FloatProgressModel",
            "bar_style": "info",
            "max": 1,
            "_view_module": "@jupyter-widgets/controls",
            "_model_module_version": "1.5.0",
            "value": 1,
            "_view_count": null,
            "_view_module_version": "1.5.0",
            "orientation": "horizontal",
            "min": 0,
            "description_tooltip": null,
            "_model_module": "@jupyter-widgets/controls",
            "layout": "IPY_MODEL_03b389e50ecd41c18ade5aa91abdbc29"
          }
        },
        "4156ea0d24334ec8a8673e00bf12db8f": {
          "model_module": "@jupyter-widgets/controls",
          "model_name": "HTMLModel",
          "state": {
            "_view_name": "HTMLView",
            "style": "IPY_MODEL_78c3d139745541288cf3231dd6d1a005",
            "_dom_classes": [],
            "description": "",
            "_model_name": "HTMLModel",
            "placeholder": "​",
            "_view_module": "@jupyter-widgets/controls",
            "_model_module_version": "1.5.0",
            "value": " 50000/0 [00:18&lt;00:00, 3450.57 examples/s]",
            "_view_count": null,
            "_view_module_version": "1.5.0",
            "description_tooltip": null,
            "_model_module": "@jupyter-widgets/controls",
            "layout": "IPY_MODEL_95a243dd33f94712bd3cf542967e7d8b"
          }
        },
        "fd92263920f943a28f4d992aab368bf5": {
          "model_module": "@jupyter-widgets/controls",
          "model_name": "ProgressStyleModel",
          "state": {
            "_view_name": "StyleView",
            "_model_name": "ProgressStyleModel",
            "description_width": "initial",
            "_view_module": "@jupyter-widgets/base",
            "_model_module_version": "1.5.0",
            "_view_count": null,
            "_view_module_version": "1.2.0",
            "bar_color": null,
            "_model_module": "@jupyter-widgets/controls"
          }
        },
        "03b389e50ecd41c18ade5aa91abdbc29": {
          "model_module": "@jupyter-widgets/base",
          "model_name": "LayoutModel",
          "state": {
            "_view_name": "LayoutView",
            "grid_template_rows": null,
            "right": null,
            "justify_content": null,
            "_view_module": "@jupyter-widgets/base",
            "overflow": null,
            "_model_module_version": "1.2.0",
            "_view_count": null,
            "flex_flow": null,
            "width": null,
            "min_width": null,
            "border": null,
            "align_items": null,
            "bottom": null,
            "_model_module": "@jupyter-widgets/base",
            "top": null,
            "grid_column": null,
            "overflow_y": null,
            "overflow_x": null,
            "grid_auto_flow": null,
            "grid_area": null,
            "grid_template_columns": null,
            "flex": null,
            "_model_name": "LayoutModel",
            "justify_items": null,
            "grid_row": null,
            "max_height": null,
            "align_content": null,
            "visibility": null,
            "align_self": null,
            "height": null,
            "min_height": null,
            "padding": null,
            "grid_auto_rows": null,
            "grid_gap": null,
            "max_width": null,
            "order": null,
            "_view_module_version": "1.2.0",
            "grid_template_areas": null,
            "object_position": null,
            "object_fit": null,
            "grid_auto_columns": null,
            "margin": null,
            "display": null,
            "left": null
          }
        },
        "78c3d139745541288cf3231dd6d1a005": {
          "model_module": "@jupyter-widgets/controls",
          "model_name": "DescriptionStyleModel",
          "state": {
            "_view_name": "StyleView",
            "_model_name": "DescriptionStyleModel",
            "description_width": "",
            "_view_module": "@jupyter-widgets/base",
            "_model_module_version": "1.5.0",
            "_view_count": null,
            "_view_module_version": "1.2.0",
            "_model_module": "@jupyter-widgets/controls"
          }
        },
        "95a243dd33f94712bd3cf542967e7d8b": {
          "model_module": "@jupyter-widgets/base",
          "model_name": "LayoutModel",
          "state": {
            "_view_name": "LayoutView",
            "grid_template_rows": null,
            "right": null,
            "justify_content": null,
            "_view_module": "@jupyter-widgets/base",
            "overflow": null,
            "_model_module_version": "1.2.0",
            "_view_count": null,
            "flex_flow": null,
            "width": null,
            "min_width": null,
            "border": null,
            "align_items": null,
            "bottom": null,
            "_model_module": "@jupyter-widgets/base",
            "top": null,
            "grid_column": null,
            "overflow_y": null,
            "overflow_x": null,
            "grid_auto_flow": null,
            "grid_area": null,
            "grid_template_columns": null,
            "flex": null,
            "_model_name": "LayoutModel",
            "justify_items": null,
            "grid_row": null,
            "max_height": null,
            "align_content": null,
            "visibility": null,
            "align_self": null,
            "height": null,
            "min_height": null,
            "padding": null,
            "grid_auto_rows": null,
            "grid_gap": null,
            "max_width": null,
            "order": null,
            "_view_module_version": "1.2.0",
            "grid_template_areas": null,
            "object_position": null,
            "object_fit": null,
            "grid_auto_columns": null,
            "margin": null,
            "display": null,
            "left": null
          }
        },
        "6da3f60776614b01903c54dbab84e324": {
          "model_module": "@jupyter-widgets/controls",
          "model_name": "HBoxModel",
          "state": {
            "_view_name": "HBoxView",
            "_dom_classes": [],
            "_model_name": "HBoxModel",
            "_view_module": "@jupyter-widgets/controls",
            "_model_module_version": "1.5.0",
            "_view_count": null,
            "_view_module_version": "1.5.0",
            "box_style": "",
            "layout": "IPY_MODEL_c7965478c98d4f6e8bd974847a328ae1",
            "_model_module": "@jupyter-widgets/controls",
            "children": [
              "IPY_MODEL_3b36200513c44eba8e893946c1aec4d0",
              "IPY_MODEL_80be8befaafe4cf9b17f2c3acacfbe40"
            ]
          }
        },
        "c7965478c98d4f6e8bd974847a328ae1": {
          "model_module": "@jupyter-widgets/base",
          "model_name": "LayoutModel",
          "state": {
            "_view_name": "LayoutView",
            "grid_template_rows": null,
            "right": null,
            "justify_content": null,
            "_view_module": "@jupyter-widgets/base",
            "overflow": null,
            "_model_module_version": "1.2.0",
            "_view_count": null,
            "flex_flow": null,
            "width": null,
            "min_width": null,
            "border": null,
            "align_items": null,
            "bottom": null,
            "_model_module": "@jupyter-widgets/base",
            "top": null,
            "grid_column": null,
            "overflow_y": null,
            "overflow_x": null,
            "grid_auto_flow": null,
            "grid_area": null,
            "grid_template_columns": null,
            "flex": null,
            "_model_name": "LayoutModel",
            "justify_items": null,
            "grid_row": null,
            "max_height": null,
            "align_content": null,
            "visibility": null,
            "align_self": null,
            "height": null,
            "min_height": null,
            "padding": null,
            "grid_auto_rows": null,
            "grid_gap": null,
            "max_width": null,
            "order": null,
            "_view_module_version": "1.2.0",
            "grid_template_areas": null,
            "object_position": null,
            "object_fit": null,
            "grid_auto_columns": null,
            "margin": null,
            "display": null,
            "left": null
          }
        },
        "3b36200513c44eba8e893946c1aec4d0": {
          "model_module": "@jupyter-widgets/controls",
          "model_name": "FloatProgressModel",
          "state": {
            "_view_name": "ProgressView",
            "style": "IPY_MODEL_3cbceba01d224e33aebe9e878726c9c5",
            "_dom_classes": [],
            "description": " 69%",
            "_model_name": "FloatProgressModel",
            "bar_style": "danger",
            "max": 50000,
            "_view_module": "@jupyter-widgets/controls",
            "_model_module_version": "1.5.0",
            "value": 34417,
            "_view_count": null,
            "_view_module_version": "1.5.0",
            "orientation": "horizontal",
            "min": 0,
            "description_tooltip": null,
            "_model_module": "@jupyter-widgets/controls",
            "layout": "IPY_MODEL_e3110f1d25754e7184fee47a334afb2b"
          }
        },
        "80be8befaafe4cf9b17f2c3acacfbe40": {
          "model_module": "@jupyter-widgets/controls",
          "model_name": "HTMLModel",
          "state": {
            "_view_name": "HTMLView",
            "style": "IPY_MODEL_94c731ca82fd48529b5e4922d7f5212d",
            "_dom_classes": [],
            "description": "",
            "_model_name": "HTMLModel",
            "placeholder": "​",
            "_view_module": "@jupyter-widgets/controls",
            "_model_module_version": "1.5.0",
            "value": " 34417/50000 [00:00&lt;00:00, 100703.42 examples/s]",
            "_view_count": null,
            "_view_module_version": "1.5.0",
            "description_tooltip": null,
            "_model_module": "@jupyter-widgets/controls",
            "layout": "IPY_MODEL_2b3f2d82fa214ff1965af5aa2619289d"
          }
        },
        "3cbceba01d224e33aebe9e878726c9c5": {
          "model_module": "@jupyter-widgets/controls",
          "model_name": "ProgressStyleModel",
          "state": {
            "_view_name": "StyleView",
            "_model_name": "ProgressStyleModel",
            "description_width": "initial",
            "_view_module": "@jupyter-widgets/base",
            "_model_module_version": "1.5.0",
            "_view_count": null,
            "_view_module_version": "1.2.0",
            "bar_color": null,
            "_model_module": "@jupyter-widgets/controls"
          }
        },
        "e3110f1d25754e7184fee47a334afb2b": {
          "model_module": "@jupyter-widgets/base",
          "model_name": "LayoutModel",
          "state": {
            "_view_name": "LayoutView",
            "grid_template_rows": null,
            "right": null,
            "justify_content": null,
            "_view_module": "@jupyter-widgets/base",
            "overflow": null,
            "_model_module_version": "1.2.0",
            "_view_count": null,
            "flex_flow": null,
            "width": null,
            "min_width": null,
            "border": null,
            "align_items": null,
            "bottom": null,
            "_model_module": "@jupyter-widgets/base",
            "top": null,
            "grid_column": null,
            "overflow_y": null,
            "overflow_x": null,
            "grid_auto_flow": null,
            "grid_area": null,
            "grid_template_columns": null,
            "flex": null,
            "_model_name": "LayoutModel",
            "justify_items": null,
            "grid_row": null,
            "max_height": null,
            "align_content": null,
            "visibility": null,
            "align_self": null,
            "height": null,
            "min_height": null,
            "padding": null,
            "grid_auto_rows": null,
            "grid_gap": null,
            "max_width": null,
            "order": null,
            "_view_module_version": "1.2.0",
            "grid_template_areas": null,
            "object_position": null,
            "object_fit": null,
            "grid_auto_columns": null,
            "margin": null,
            "display": null,
            "left": null
          }
        },
        "94c731ca82fd48529b5e4922d7f5212d": {
          "model_module": "@jupyter-widgets/controls",
          "model_name": "DescriptionStyleModel",
          "state": {
            "_view_name": "StyleView",
            "_model_name": "DescriptionStyleModel",
            "description_width": "",
            "_view_module": "@jupyter-widgets/base",
            "_model_module_version": "1.5.0",
            "_view_count": null,
            "_view_module_version": "1.2.0",
            "_model_module": "@jupyter-widgets/controls"
          }
        },
        "2b3f2d82fa214ff1965af5aa2619289d": {
          "model_module": "@jupyter-widgets/base",
          "model_name": "LayoutModel",
          "state": {
            "_view_name": "LayoutView",
            "grid_template_rows": null,
            "right": null,
            "justify_content": null,
            "_view_module": "@jupyter-widgets/base",
            "overflow": null,
            "_model_module_version": "1.2.0",
            "_view_count": null,
            "flex_flow": null,
            "width": null,
            "min_width": null,
            "border": null,
            "align_items": null,
            "bottom": null,
            "_model_module": "@jupyter-widgets/base",
            "top": null,
            "grid_column": null,
            "overflow_y": null,
            "overflow_x": null,
            "grid_auto_flow": null,
            "grid_area": null,
            "grid_template_columns": null,
            "flex": null,
            "_model_name": "LayoutModel",
            "justify_items": null,
            "grid_row": null,
            "max_height": null,
            "align_content": null,
            "visibility": null,
            "align_self": null,
            "height": null,
            "min_height": null,
            "padding": null,
            "grid_auto_rows": null,
            "grid_gap": null,
            "max_width": null,
            "order": null,
            "_view_module_version": "1.2.0",
            "grid_template_areas": null,
            "object_position": null,
            "object_fit": null,
            "grid_auto_columns": null,
            "margin": null,
            "display": null,
            "left": null
          }
        }
      }
    }
  },
  "cells": [
    {
      "cell_type": "markdown",
      "metadata": {
        "id": "vk-ckxJ9EMMg"
      },
      "source": [
        "# Sentiment Analysis\n",
        "\n",
        "We've already demonstrated how to train a character-level RNN to create original text. In this chapter, we create a **word-level** to analyze sentiment.\n",
        "\n",
        "Sentiment analysis is a common NLP task. **Sentiment analysis** computationally identifies and categorizes opinions expressed in a text corpus to determine attitude or sentiment. Typically, sentiment analysis is used to determine a positive, negative or neutral opinion towards a particular topic or product. This technique is widely applied to reviews, surveys, and documents."
      ]
    },
    {
      "cell_type": "markdown",
      "metadata": {
        "id": "dpZnSxa4Mz0f"
      },
      "source": [
        "# IMDb Dataset\n",
        "\n",
        "A popular dataset used to practice NLP is the IMDb reviews dataset. **IMDb** is a benchmark dataset for binary sentiment classification. The dataset contains 50,000 movie reviews labeled as either positive (1) or negative (0). Reviews are preprocessed with each encoded as a sequence of word indexes in the form of integers. Words within the reviews are indexed by their overall frequency within the dataset. The 50,000 reviews are split into 25,000 for training and 25,000 for testing. So, we can predict the number of positive and negative reviews using either classification or other deep learning algorithms.\n",
        "\n",
        "IMDb is popular because it is simple to use, relative easy to process, and challenging enough for machine learning aficionados. We enjoy working with IMDb because it's just fun to work with movie data."
      ]
    },
    {
      "cell_type": "markdown",
      "metadata": {
        "id": "czUM6uWXNuqh"
      },
      "source": [
        "As usual, we need to set up the GPU for each notebook. So, click the **Runtime** tab, click **Change runtime type** from the drop-down menu, choose **GPU** from the Hardware Accelerator drop-down menu, and click **Save**."
      ]
    },
    {
      "cell_type": "code",
      "metadata": {
        "id": "jd501k9RNwpG",
        "outputId": "24d43f78-53aa-4876-9217-8625700d6d86",
        "colab": {
          "base_uri": "https://localhost:8080/",
          "height": 34
        }
      },
      "source": [
        "import tensorflow as tf\n",
        "\n",
        "# display tf version and test if GPU is active\n",
        "\n",
        "tf.__version__, tf.test.gpu_device_name()"
      ],
      "execution_count": 1,
      "outputs": [
        {
          "output_type": "execute_result",
          "data": {
            "text/plain": [
              "('2.3.0', '/device:GPU:0')"
            ]
          },
          "metadata": {
            "tags": []
          },
          "execution_count": 1
        }
      ]
    },
    {
      "cell_type": "markdown",
      "metadata": {
        "id": "8SV0qRsG9jf5"
      },
      "source": [
        "Import the tensorflow library. If '/device:GPU:0' is displayed, the GPU is active. If '..' is displayed, the regular CPU is active."
      ]
    },
    {
      "cell_type": "markdown",
      "metadata": {
        "id": "emeoNGQWzawu"
      },
      "source": [
        "# Load IMDb as a TFDS\n",
        "\n",
        "The recommended way to load IMDb is as a TFDS:"
      ]
    },
    {
      "cell_type": "code",
      "metadata": {
        "id": "x_-HinwizvTX",
        "outputId": "4c4fb095-041a-476c-fff6-220bc9f0965b",
        "colab": {
          "base_uri": "https://localhost:8080/",
          "height": 336,
          "referenced_widgets": [
            "fdbaf9ca4c734b36876f7fbd1c1aedc9",
            "0c4ff637fc18475cb13b5cdf2cda7809",
            "5e8e7fd00daf49f799832a61a0bcd376",
            "cd6940d5f1aa4f6598ee5f02974907d3",
            "95dac46df8ab4ff5bbff2bc08cda8b29",
            "8c0c85280f694a8bb1ebd462d64d9d01",
            "54a5e7cd7c254656bb2f5355bb9cf6c9",
            "7f3c7bbbd2794bd292c341ef3f28eacd",
            "e25fdc24a8c940deb79a62ab718c64db",
            "99223da097cf46a5b0f237a62eab9434",
            "24eded7592e7494da6824551095ef911",
            "031d007a53ea4aca9f54f031effc5346",
            "cb0c91a374fc4df28946e53a97ef0ac2",
            "5210e88172294c3a8ec092d169ae57fe",
            "e495744381c241bcb9a2058b6ff4bbef",
            "dc63db5bfc0448cd951a31f7ee4e47d3",
            "63ef44c49803414fad2658b8a9f1d79f",
            "6bb42e2a7819419c9a49a264e8fd9094",
            "cc07bf817f894e1991ccd5da6736f802",
            "8271235bbc1042cb8cd39d2d57b9e991",
            "3b918510ce40438ab29b792810bc6426",
            "153c2a24cad840eda226f5ae64ffe39a",
            "07938ed9894746f18132101cb1447bb5",
            "59e40236f25f4bf9834c9bf29099d8e7",
            "c55c15300a3e4843b4f2902aa838ecd7",
            "7ef2b30a093340789c843d7453dce4c9",
            "90c5899faef24e1b8d8f3bb6afc3e472",
            "41239d22adf1489599c6e1574cba862f",
            "9776bb55bfed4541afb9cd5e0ad94fe3",
            "d406450e3bdf447292ec9e55cca4ba99",
            "65d07f4ee5584e3099fd2eeccbf1f0bd",
            "531828ea69234cff8eb8442c8f7e0072",
            "da36947843d44657918b2e25abf97cc0",
            "5c58a253d71c4522957228da55f97810",
            "7f7100de771545a6aa831313be93386b",
            "cdf6691bdc7b443c88d9f9a12c2ebc0c",
            "5867691effaf44de81ca84463eb3872a",
            "8310fca8d1314effa66d9a478150187d",
            "d81797a867f4405ba80b9b9d6575dced",
            "c157160943834a31a8309f97d318abf7",
            "3e2b2982e69f42fd845b2139b2608696",
            "b70a57d7245845849025196339568dfc",
            "8fd0b7358355466badca9af04cc6d41e",
            "9645719b0f8c40aba11fba97fda427d3",
            "7df896d543d04a3e869a500b4eec874c",
            "791c3b7f5ab0438e935ecafae39e6eb7",
            "408cc0596cf541afbf5eca3b37375378",
            "fb1282a231884d41aaa0c0bf9de27057",
            "7afe24428b0849ac9960123a93707be4",
            "a2ad9edd3f874f29bc0358e2df9a9e80",
            "7c3747fb0a334c5a809b86b8cf15a0ce",
            "f6481c715c954527a8f6fca767b91aa9",
            "0480807f5d844576945855f0e3c8bde0",
            "4d915bd7862f4427b1e9a66d327d9317",
            "5545c6290b4a425c83835056910e36fe",
            "328c3074283b4374b621c5ef69b5715c",
            "2ec06ed8e13b4c3fab94e1cd5bb587af",
            "5e6d7313784c4f3e9c0593539b2ff9f8",
            "fb8c2f249f0d4f0d9d2dd29cd0a4a4fc",
            "b391217319ee4b90bed94fa52ccc6aa8",
            "f34dd6e9723e42e19067543e478c112a",
            "ec0c33ecfded4624aeb855aab48a48eb",
            "67f18ab6b10647d7bce83f004889e9b1",
            "7d7a487dbd7f4f97aa5199ac5e0f55c5"
          ]
        }
      },
      "source": [
        "import tensorflow_datasets as tfds\n",
        "\n",
        "imdb, info = tfds.load(\n",
        "    'imdb_reviews/subwords8k', with_info=True,\n",
        "    as_supervised=True, shuffle_files=True)"
      ],
      "execution_count": 2,
      "outputs": [
        {
          "output_type": "stream",
          "text": [
            "\u001b[1mDownloading and preparing dataset imdb_reviews/subwords8k/1.0.0 (download: 80.23 MiB, generated: Unknown size, total: 80.23 MiB) to /root/tensorflow_datasets/imdb_reviews/subwords8k/1.0.0...\u001b[0m\n"
          ],
          "name": "stdout"
        },
        {
          "output_type": "display_data",
          "data": {
            "application/vnd.jupyter.widget-view+json": {
              "model_id": "fdbaf9ca4c734b36876f7fbd1c1aedc9",
              "version_minor": 0,
              "version_major": 2
            },
            "text/plain": [
              "HBox(children=(FloatProgress(value=1.0, bar_style='info', description='Dl Completed...', max=1.0, style=Progre…"
            ]
          },
          "metadata": {
            "tags": []
          }
        },
        {
          "output_type": "display_data",
          "data": {
            "application/vnd.jupyter.widget-view+json": {
              "model_id": "e25fdc24a8c940deb79a62ab718c64db",
              "version_minor": 0,
              "version_major": 2
            },
            "text/plain": [
              "HBox(children=(FloatProgress(value=1.0, bar_style='info', description='Dl Size...', max=1.0, style=ProgressSty…"
            ]
          },
          "metadata": {
            "tags": []
          }
        },
        {
          "output_type": "stream",
          "text": [
            "\n",
            "\n",
            "\n",
            "\n"
          ],
          "name": "stdout"
        },
        {
          "output_type": "display_data",
          "data": {
            "application/vnd.jupyter.widget-view+json": {
              "model_id": "63ef44c49803414fad2658b8a9f1d79f",
              "version_minor": 0,
              "version_major": 2
            },
            "text/plain": [
              "HBox(children=(FloatProgress(value=1.0, bar_style='info', max=1.0), HTML(value='')))"
            ]
          },
          "metadata": {
            "tags": []
          }
        },
        {
          "output_type": "stream",
          "text": [
            "\rShuffling and writing examples to /root/tensorflow_datasets/imdb_reviews/subwords8k/1.0.0.incompleteUCZLGB/imdb_reviews-train.tfrecord\n"
          ],
          "name": "stdout"
        },
        {
          "output_type": "display_data",
          "data": {
            "application/vnd.jupyter.widget-view+json": {
              "model_id": "c55c15300a3e4843b4f2902aa838ecd7",
              "version_minor": 0,
              "version_major": 2
            },
            "text/plain": [
              "HBox(children=(FloatProgress(value=0.0, max=25000.0), HTML(value='')))"
            ]
          },
          "metadata": {
            "tags": []
          }
        },
        {
          "output_type": "stream",
          "text": [
            "\r"
          ],
          "name": "stdout"
        },
        {
          "output_type": "display_data",
          "data": {
            "application/vnd.jupyter.widget-view+json": {
              "model_id": "da36947843d44657918b2e25abf97cc0",
              "version_minor": 0,
              "version_major": 2
            },
            "text/plain": [
              "HBox(children=(FloatProgress(value=1.0, bar_style='info', max=1.0), HTML(value='')))"
            ]
          },
          "metadata": {
            "tags": []
          }
        },
        {
          "output_type": "stream",
          "text": [
            "\rShuffling and writing examples to /root/tensorflow_datasets/imdb_reviews/subwords8k/1.0.0.incompleteUCZLGB/imdb_reviews-test.tfrecord\n"
          ],
          "name": "stdout"
        },
        {
          "output_type": "display_data",
          "data": {
            "application/vnd.jupyter.widget-view+json": {
              "model_id": "3e2b2982e69f42fd845b2139b2608696",
              "version_minor": 0,
              "version_major": 2
            },
            "text/plain": [
              "HBox(children=(FloatProgress(value=0.0, max=25000.0), HTML(value='')))"
            ]
          },
          "metadata": {
            "tags": []
          }
        },
        {
          "output_type": "stream",
          "text": [
            "\r"
          ],
          "name": "stdout"
        },
        {
          "output_type": "display_data",
          "data": {
            "application/vnd.jupyter.widget-view+json": {
              "model_id": "7afe24428b0849ac9960123a93707be4",
              "version_minor": 0,
              "version_major": 2
            },
            "text/plain": [
              "HBox(children=(FloatProgress(value=1.0, bar_style='info', max=1.0), HTML(value='')))"
            ]
          },
          "metadata": {
            "tags": []
          }
        },
        {
          "output_type": "stream",
          "text": [
            "\rShuffling and writing examples to /root/tensorflow_datasets/imdb_reviews/subwords8k/1.0.0.incompleteUCZLGB/imdb_reviews-unsupervised.tfrecord\n"
          ],
          "name": "stdout"
        },
        {
          "output_type": "display_data",
          "data": {
            "application/vnd.jupyter.widget-view+json": {
              "model_id": "2ec06ed8e13b4c3fab94e1cd5bb587af",
              "version_minor": 0,
              "version_major": 2
            },
            "text/plain": [
              "HBox(children=(FloatProgress(value=0.0, max=50000.0), HTML(value='')))"
            ]
          },
          "metadata": {
            "tags": []
          }
        },
        {
          "output_type": "stream",
          "text": [
            "\u001b[1mDataset imdb_reviews downloaded and prepared to /root/tensorflow_datasets/imdb_reviews/subwords8k/1.0.0. Subsequent calls will reuse this data.\u001b[0m\n",
            "\r"
          ],
          "name": "stdout"
        }
      ]
    },
    {
      "cell_type": "markdown",
      "metadata": {
        "id": "gxzTRhfM0Hum"
      },
      "source": [
        "We use the **imdb_reviews/subwords8k** TFDS so we train the model on a smaller vocabulary. The *subwords8k* subset has a vocabulary size of 8,000, which means that we are training the model on the 8,000 most commonly used words in the reviews. It also means that we don't have to build our own vocabulary dictionary. We can get good performance with this subset and substantially reduce training time. Loading the TFDS also gives us access to the **tfds.features.text.SubwordTextEncoder**, which is the TFDS text encoder.\n",
        "\n",
        "We set **with_info=True** to enable access to information about the dataset and the encoder. We set **as_supervised=True** so the returned TFDS has a 2-tuple structure (input, label) in accordance to builder.info.supervised_keys. If set to *False* (the default), the returned TFDS will have a dictionary with all features included. We set **shuffle_files=True** because shuffling typically improves performance.\n",
        "\n",
        "For more information about all features of a TFDS, peruse the following URL:\n",
        "\n",
        "https://www.tensorflow.org/datasets/api_docs/python/tfds/load\n",
        "\n",
        "For more infor about 'imdb_reviews', peruse the following URL:\n",
        "\n",
        "https://www.tensorflow.org/datasets/catalog/imdb_reviews"
      ]
    },
    {
      "cell_type": "markdown",
      "metadata": {
        "id": "qKMe0Om70H4B"
      },
      "source": [
        "## Display the Keys"
      ]
    },
    {
      "cell_type": "code",
      "metadata": {
        "id": "LjZGCK5I0jKW",
        "outputId": "56a99002-2372-4be7-faf3-8128f257956c",
        "colab": {
          "base_uri": "https://localhost:8080/",
          "height": 34
        }
      },
      "source": [
        "imdb.keys()"
      ],
      "execution_count": 3,
      "outputs": [
        {
          "output_type": "execute_result",
          "data": {
            "text/plain": [
              "dict_keys(['test', 'train', 'unsupervised'])"
            ]
          },
          "metadata": {
            "tags": []
          },
          "execution_count": 3
        }
      ]
    },
    {
      "cell_type": "markdown",
      "metadata": {
        "id": "4ofszLi00umk"
      },
      "source": [
        "By displaying the keys, we know that the dataset is split into test, train, and unsupervised samples."
      ]
    },
    {
      "cell_type": "markdown",
      "metadata": {
        "id": "7iuAUc6c02IS"
      },
      "source": [
        "## Split into Train and Test Sets\n",
        "\n",
        "Since we are building a supervised model, we are only interested in the train and test samples."
      ]
    },
    {
      "cell_type": "code",
      "metadata": {
        "id": "HrmXlhlg1Gop"
      },
      "source": [
        "train, test = imdb['train'], imdb['test']"
      ],
      "execution_count": 4,
      "outputs": []
    },
    {
      "cell_type": "markdown",
      "metadata": {
        "id": "RqCU3L591VaL"
      },
      "source": [
        "## Display the First Sample\n",
        "\n",
        "Display the first review and its label from the training sample."
      ]
    },
    {
      "cell_type": "code",
      "metadata": {
        "id": "gsv9Vk6s1cvv",
        "outputId": "581b4352-3956-48f6-9937-a803a5036704",
        "colab": {
          "base_uri": "https://localhost:8080/",
          "height": 283
        }
      },
      "source": [
        "br ='\\n'\n",
        "\n",
        "for sample, target in train.take(1):\n",
        "  print ('encoded review:')\n",
        "  print (sample, br)\n",
        "  print ('target:', target.numpy())"
      ],
      "execution_count": 5,
      "outputs": [
        {
          "output_type": "stream",
          "text": [
            "encoded review:\n",
            "tf.Tensor(\n",
            "[  12   31   93  867    7 1256 6585 7961  421  365    2   26   14    9\n",
            "  988 1089    7    4 6728    6  276 5760 2587    2   81 6118 8029    2\n",
            "  139 1892 7961    5 5402  246   25    1 1771  350    5  369   56 5397\n",
            "  102    4 2547    3 4001   25   14 7822  209   12 3531 6585 7961   99\n",
            "    1   32   18 4762    3   19  184 3223   18 5855 1045    3 4232 3337\n",
            "   64 1347    5 1190    3 4459    8  614    7 3129    2   26   22   84\n",
            " 7020    6   71   18 4924 1160  161   50 2265    3   12 3983    2   12\n",
            "  264   31 2545  261    6    1   66    2   26  131  393    1 5846    6\n",
            "   15    5  473   56  614    7 1470    6  116  285 4755 2088 7961  273\n",
            "  119  213 3414 7961   23  332 1019    3   12 7667  505   14   32   44\n",
            "  208 7975], shape=(142,), dtype=int64) \n",
            "\n",
            "target: 0\n"
          ],
          "name": "stdout"
        }
      ]
    },
    {
      "cell_type": "markdown",
      "metadata": {
        "id": "G_ZtrZOr1oOO"
      },
      "source": [
        "Each example in both train and test sets contain contain a review tensor and a label tensor. Reviews are already encoded as integers with datatype 'int64'. Labels are either 0 (negative) or 1 (positive) with datatype 'int64'.\n",
        "\n",
        "We know the number of words in the sample review by looking at its shape. We also display the target. Notice, that we convert the target tensor to values with the **numpy()** method."
      ]
    },
    {
      "cell_type": "markdown",
      "metadata": {
        "id": "8DxbzYHX1sCF"
      },
      "source": [
        "## Display Information about the TFDS"
      ]
    },
    {
      "cell_type": "code",
      "metadata": {
        "id": "Ruh5gTNi1toG",
        "outputId": "473fd8d2-f667-4a60-87e3-c02bca1dba37",
        "colab": {
          "base_uri": "https://localhost:8080/",
          "height": 570
        }
      },
      "source": [
        "# see all of the information!\n",
        "\n",
        "info"
      ],
      "execution_count": 6,
      "outputs": [
        {
          "output_type": "execute_result",
          "data": {
            "text/plain": [
              "tfds.core.DatasetInfo(\n",
              "    name='imdb_reviews',\n",
              "    version=1.0.0,\n",
              "    description='Large Movie Review Dataset.\n",
              "This is a dataset for binary sentiment classification containing substantially more data than previous benchmark datasets. We provide a set of 25,000 highly polar movie reviews for training, and 25,000 for testing. There is additional unlabeled data for use as well.',\n",
              "    homepage='http://ai.stanford.edu/~amaas/data/sentiment/',\n",
              "    features=FeaturesDict({\n",
              "        'label': ClassLabel(shape=(), dtype=tf.int64, num_classes=2),\n",
              "        'text': Text(shape=(None,), dtype=tf.int64, encoder=<SubwordTextEncoder vocab_size=8185>),\n",
              "    }),\n",
              "    total_num_examples=100000,\n",
              "    splits={\n",
              "        'test': 25000,\n",
              "        'train': 25000,\n",
              "        'unsupervised': 50000,\n",
              "    },\n",
              "    supervised_keys=('text', 'label'),\n",
              "    citation=\"\"\"@InProceedings{maas-EtAl:2011:ACL-HLT2011,\n",
              "      author    = {Maas, Andrew L.  and  Daly, Raymond E.  and  Pham, Peter T.  and  Huang, Dan  and  Ng, Andrew Y.  and  Potts, Christopher},\n",
              "      title     = {Learning Word Vectors for Sentiment Analysis},\n",
              "      booktitle = {Proceedings of the 49th Annual Meeting of the Association for Computational Linguistics: Human Language Technologies},\n",
              "      month     = {June},\n",
              "      year      = {2011},\n",
              "      address   = {Portland, Oregon, USA},\n",
              "      publisher = {Association for Computational Linguistics},\n",
              "      pages     = {142--150},\n",
              "      url       = {http://www.aclweb.org/anthology/P11-1015}\n",
              "    }\"\"\",\n",
              "    redistribution_info=,\n",
              ")"
            ]
          },
          "metadata": {
            "tags": []
          },
          "execution_count": 6
        }
      ]
    },
    {
      "cell_type": "markdown",
      "metadata": {
        "id": "K2cug_wR25tU"
      },
      "source": [
        "## Peruse Metadata"
      ]
    },
    {
      "cell_type": "markdown",
      "metadata": {
        "id": "LLNMmIuY3BNT"
      },
      "source": [
        "See train and test sample splits:"
      ]
    },
    {
      "cell_type": "code",
      "metadata": {
        "id": "hnrvTNAG1sLw",
        "outputId": "7e60081f-05d3-42d6-be4f-8dc144f702f7",
        "colab": {
          "base_uri": "https://localhost:8080/",
          "height": 34
        }
      },
      "source": [
        "# see the train and test sample splits\n",
        "\n",
        "train_size = info.splits['train'].num_examples\n",
        "test_size = info.splits['test'].num_examples\n",
        "\n",
        "train_size, test_size"
      ],
      "execution_count": 7,
      "outputs": [
        {
          "output_type": "execute_result",
          "data": {
            "text/plain": [
              "(25000, 25000)"
            ]
          },
          "metadata": {
            "tags": []
          },
          "execution_count": 7
        }
      ]
    },
    {
      "cell_type": "markdown",
      "metadata": {
        "id": "61WZ3q7L3E-K"
      },
      "source": [
        "See supervised keys:"
      ]
    },
    {
      "cell_type": "code",
      "metadata": {
        "id": "uoW30lng3NP4",
        "outputId": "75fa1810-fa00-4c97-fdd9-1fb67daaaa5e",
        "colab": {
          "base_uri": "https://localhost:8080/",
          "height": 34
        }
      },
      "source": [
        "info.supervised_keys"
      ],
      "execution_count": 8,
      "outputs": [
        {
          "output_type": "execute_result",
          "data": {
            "text/plain": [
              "('text', 'label')"
            ]
          },
          "metadata": {
            "tags": []
          },
          "execution_count": 8
        }
      ]
    },
    {
      "cell_type": "markdown",
      "metadata": {
        "id": "XDce3wFT3RMc"
      },
      "source": [
        "See feature information:"
      ]
    },
    {
      "cell_type": "code",
      "metadata": {
        "id": "PVck43sF3FHw",
        "outputId": "40e06fdc-0a07-443c-9216-e9121fe5e7c7",
        "colab": {
          "base_uri": "https://localhost:8080/",
          "height": 87
        }
      },
      "source": [
        "info.features"
      ],
      "execution_count": 9,
      "outputs": [
        {
          "output_type": "execute_result",
          "data": {
            "text/plain": [
              "FeaturesDict({\n",
              "    'label': ClassLabel(shape=(), dtype=tf.int64, num_classes=2),\n",
              "    'text': Text(shape=(None,), dtype=tf.int64, encoder=<SubwordTextEncoder vocab_size=8185>),\n",
              "})"
            ]
          },
          "metadata": {
            "tags": []
          },
          "execution_count": 9
        }
      ]
    },
    {
      "cell_type": "markdown",
      "metadata": {
        "id": "RTyerupq3eNR"
      },
      "source": [
        "See TFDS name and a slice of its description:"
      ]
    },
    {
      "cell_type": "code",
      "metadata": {
        "id": "JZOBqjPn3eWl",
        "outputId": "0068aefe-f017-4c7c-f8e2-34bd214e2158",
        "colab": {
          "base_uri": "https://localhost:8080/",
          "height": 34
        }
      },
      "source": [
        "info.name, info.description[0:25]"
      ],
      "execution_count": 10,
      "outputs": [
        {
          "output_type": "execute_result",
          "data": {
            "text/plain": [
              "('imdb_reviews', 'Large Movie Review Datase')"
            ]
          },
          "metadata": {
            "tags": []
          },
          "execution_count": 10
        }
      ]
    },
    {
      "cell_type": "markdown",
      "metadata": {
        "id": "fkzBRFLE3qgp"
      },
      "source": [
        "We can even slice the citation string to get the title:"
      ]
    },
    {
      "cell_type": "code",
      "metadata": {
        "id": "32uoSyHZ3qoL",
        "outputId": "64d1e674-4fc6-40e7-ab3c-56b688f977ca",
        "colab": {
          "base_uri": "https://localhost:8080/",
          "height": 35
        }
      },
      "source": [
        "info.citation[184:242]"
      ],
      "execution_count": 11,
      "outputs": [
        {
          "output_type": "execute_result",
          "data": {
            "application/vnd.google.colaboratory.intrinsic+json": {
              "type": "string"
            },
            "text/plain": [
              "'title     = {Learning Word Vectors for Sentiment Analysis}'"
            ]
          },
          "metadata": {
            "tags": []
          },
          "execution_count": 11
        }
      ]
    },
    {
      "cell_type": "markdown",
      "metadata": {
        "id": "hzabBRKZ4LsL"
      },
      "source": [
        "## Create the Encoder\n",
        "\n",
        "An encoder is built-into the TFDS *SubwordTextEncoder*. With the encoder, we can easily decode (integer to text) and encode (text to integer). We access the encoder from dataset **info**."
      ]
    },
    {
      "cell_type": "markdown",
      "metadata": {
        "id": "XmUCdTlT4ded"
      },
      "source": [
        " Create an encoder based on the IMDb dataset we loaded into memory."
      ]
    },
    {
      "cell_type": "code",
      "metadata": {
        "id": "LrSrIvV04iaD"
      },
      "source": [
        "encoder = info.features['text'].encoder"
      ],
      "execution_count": 12,
      "outputs": []
    },
    {
      "cell_type": "markdown",
      "metadata": {
        "id": "ajk9B33T4rOa"
      },
      "source": [
        "## Test the Encoder"
      ]
    },
    {
      "cell_type": "code",
      "metadata": {
        "id": "B_9pNjK14rXK",
        "outputId": "ddba43cd-cfd0-4328-8640-8668085bf823",
        "colab": {
          "base_uri": "https://localhost:8080/",
          "height": 52
        }
      },
      "source": [
        "sample_string = 'What a Beautiful Day!'\n",
        "\n",
        "encoded_string = encoder.encode(sample_string)\n",
        "print ('Encoded string:', encoded_string)\n",
        "\n",
        "original_string = encoder.decode(encoded_string)\n",
        "print ('Original string:', original_string)"
      ],
      "execution_count": 13,
      "outputs": [
        {
          "output_type": "stream",
          "text": [
            "Encoded string: [274, 4, 6555, 5392, 7961, 2431, 7962]\n",
            "Original string: What a Beautiful Day!\n"
          ],
          "name": "stdout"
        }
      ]
    },
    {
      "cell_type": "markdown",
      "metadata": {
        "id": "PZq177jv4-Fn"
      },
      "source": [
        "## Use the Encoder\n",
        "\n",
        "Create a function that returns the label rating:"
      ]
    },
    {
      "cell_type": "code",
      "metadata": {
        "id": "C2_hNlwA4-Q9"
      },
      "source": [
        "def rev(d):\n",
        "  if tf.math.equal(d, 0): return 'negative review'\n",
        "  elif tf.math.equal(d, 1): return 'positive review'"
      ],
      "execution_count": 14,
      "outputs": []
    },
    {
      "cell_type": "markdown",
      "metadata": {
        "id": "NKG3NrGT5es7"
      },
      "source": [
        "Display the first review:"
      ]
    },
    {
      "cell_type": "code",
      "metadata": {
        "id": "pk75-jhj5e1W",
        "outputId": "ec5b9081-afe4-4063-bea8-8c9b3f6d1c48",
        "colab": {
          "base_uri": "https://localhost:8080/",
          "height": 52
        }
      },
      "source": [
        "for sample, target in train.take(1):\n",
        "  print ('review:', end=' ')\n",
        "  text = encoder.decode(sample)\n",
        "  print (text[0:100])\n",
        "  print ('opinion:', end=' ')\n",
        "  print ('\\'' + rev(target) + '\\'')"
      ],
      "execution_count": 16,
      "outputs": [
        {
          "output_type": "stream",
          "text": [
            "review: This was an absolutely terrible movie. Don't be lured in by Christopher Walken or Michael Ironside. \n",
            "opinion: 'negative review'\n"
          ],
          "name": "stdout"
        }
      ]
    },
    {
      "cell_type": "markdown",
      "metadata": {
        "id": "eTiPqjx05q7D"
      },
      "source": [
        "Display multiple reviews:"
      ]
    },
    {
      "cell_type": "code",
      "metadata": {
        "id": "Re1gvdBO5rEc",
        "outputId": "7f2fc89b-d4d4-4e59-a5b0-ca8a1d809e19",
        "colab": {
          "base_uri": "https://localhost:8080/",
          "height": 265
        }
      },
      "source": [
        "n = 6\n",
        "\n",
        "for i, sample in enumerate(train.take(n)):\n",
        "  if i > 0:\n",
        "    print ('review', str(i+1) +':', end=' ')\n",
        "    text = encoder.decode(sample[0])\n",
        "    print (text[0:100])\n",
        "    print ('opinion:', end=' ')\n",
        "    print ('\\'' + rev(sample[1]) + '\\'')\n",
        "    if i < n-1:\n",
        "      print ()"
      ],
      "execution_count": 17,
      "outputs": [
        {
          "output_type": "stream",
          "text": [
            "review 2: I have been known to fall asleep during films, but this is usually due to a combination of things in\n",
            "opinion: 'negative review'\n",
            "\n",
            "review 3: Mann photographs the Alberta Rocky Mountains in a superb fashion, and Jimmy Stewart and Walter Brenn\n",
            "opinion: 'negative review'\n",
            "\n",
            "review 4: This is the kind of film for a snowy Sunday afternoon when the rest of the world can go ahead with i\n",
            "opinion: 'positive review'\n",
            "\n",
            "review 5: As others have mentioned, all the women that go nude in this film are mostly absolutely gorgeous. Th\n",
            "opinion: 'positive review'\n",
            "\n",
            "review 6: This is a film which should be seen by anybody interested in, effected by, or suffering from an eati\n",
            "opinion: 'positive review'\n"
          ],
          "name": "stdout"
        }
      ]
    },
    {
      "cell_type": "markdown",
      "metadata": {
        "id": "cixf9xqw6AMC"
      },
      "source": [
        "We skip the first review because we've already seen it."
      ]
    },
    {
      "cell_type": "markdown",
      "metadata": {
        "id": "Iv71FW-X4Pl-"
      },
      "source": [
        "Display vocabulary size:"
      ]
    },
    {
      "cell_type": "code",
      "metadata": {
        "id": "UjBDK_JY02QD",
        "outputId": "9b336db4-6d98-4652-9acf-95f832a50493",
        "colab": {
          "base_uri": "https://localhost:8080/",
          "height": 34
        }
      },
      "source": [
        "print('Vocabulary size: {}'.format(encoder.vocab_size))"
      ],
      "execution_count": 18,
      "outputs": [
        {
          "output_type": "stream",
          "text": [
            "Vocabulary size: 8185\n"
          ],
          "name": "stdout"
        }
      ]
    },
    {
      "cell_type": "markdown",
      "metadata": {
        "id": "6_6OhSZg0H0b"
      },
      "source": [
        "## Finish the Input Pipeline\n",
        "\n",
        "Create batches of the encoded strings (or reviews) to greatly enhance performance. Since machine learning algorithms expect batches of the same size, use the **padded_batch** method to zero-pad the sequences so that each review is the same length as the longest string in the batch."
      ]
    },
    {
      "cell_type": "markdown",
      "metadata": {
        "id": "sKvuGt88yO79"
      },
      "source": [
        "Initialize variables:"
      ]
    },
    {
      "cell_type": "code",
      "metadata": {
        "id": "6rM2eo-SyK9J"
      },
      "source": [
        "# initialize variables\n",
        "\n",
        "BUFFER_SIZE = 10000\n",
        "BATCH_SIZE = 64"
      ],
      "execution_count": 19,
      "outputs": []
    },
    {
      "cell_type": "markdown",
      "metadata": {
        "id": "pNPpr7dr0Hrn"
      },
      "source": [
        "Shuffle (where appropriate) and batch train and test sets:"
      ]
    },
    {
      "cell_type": "code",
      "metadata": {
        "id": "OcAdunJIXI3T"
      },
      "source": [
        "train_ds = (train\n",
        "            .shuffle(BUFFER_SIZE)\n",
        "            .padded_batch(BATCH_SIZE)\n",
        "            .cache().prefetch(1))\n",
        "\n",
        "test_ds = (test\n",
        "           .padded_batch(BATCH_SIZE)\n",
        "           .cache().prefetch(1))"
      ],
      "execution_count": 22,
      "outputs": []
    },
    {
      "cell_type": "markdown",
      "metadata": {
        "id": "uNvJGVXCySVh"
      },
      "source": [
        "Consult the following URL for updates on padding character tensors:\n",
        "\n",
        "https://www.tensorflow.org/tutorials/text/text_classification_rnn"
      ]
    },
    {
      "cell_type": "markdown",
      "metadata": {
        "id": "axwMltIZytax"
      },
      "source": [
        "## Create the Model"
      ]
    },
    {
      "cell_type": "code",
      "metadata": {
        "id": "1LKDbNiJySgC"
      },
      "source": [
        "import numpy as np\n",
        "\n",
        "# generate seed for reproducibility\n",
        "tf.random.set_seed(0)\n",
        "np.random.seed(0)\n",
        "\n",
        "# import libraries\n",
        "from tensorflow.keras.models import Sequential\n",
        "from tensorflow.keras.layers import GRU, Dense,\\\n",
        "Embedding\n",
        "\n",
        "# clear any previous models\n",
        "tf.keras.backend.clear_session()\n",
        "\n",
        "# build the model\n",
        "embed_size = 128\n",
        "model = Sequential([\n",
        "  Embedding(encoder.vocab_size, embed_size, mask_zero=True,\n",
        "            input_shape=[None]),\n",
        "  GRU(128, return_sequences=True),\n",
        "  GRU(128),\n",
        "  Dense(1, activation=\"sigmoid\")\n",
        "])"
      ],
      "execution_count": 24,
      "outputs": []
    },
    {
      "cell_type": "markdown",
      "metadata": {
        "id": "3ZPtxjsOy4P0"
      },
      "source": [
        "The first layer is an *Embedding* layer. The **Embedding** layer is used to create word vectors for incoming words. During training, representations of word categories (or word vectors) are learned in a way where similar categories are closer to one another. So, word vectors can store relationships between words like *good* and *great*. Word vectors are dense because our model learns word relationships. As a result, word vectors aren't padded with a huge number of zeros like what we do with one-hot encodings.\n",
        "\n",
        "The Embedding layer accepts the vocabulary size, embedding size, and input shape. We set **mask_zero=True** to inform the model to ignore padding tokens by all downstream layers. Ignoring padding tokens improves performance.\n",
        "\n",
        "The next two layers are GRU layers and the final layer is a single neuron output layer. The output layer uses sigmoid activation to output the estimated probability that the review expresses a positive or negative sentiment regarding the movie."
      ]
    },
    {
      "cell_type": "markdown",
      "metadata": {
        "id": "-Rs-Q6yGxo5r"
      },
      "source": [
        "## Model Summary"
      ]
    },
    {
      "cell_type": "code",
      "metadata": {
        "id": "Rq1hdaF3xpAb",
        "outputId": "6bf2fadf-ee77-499e-cc76-505c73230703",
        "colab": {
          "base_uri": "https://localhost:8080/",
          "height": 301
        }
      },
      "source": [
        "model.summary()"
      ],
      "execution_count": 25,
      "outputs": [
        {
          "output_type": "stream",
          "text": [
            "Model: \"sequential\"\n",
            "_________________________________________________________________\n",
            "Layer (type)                 Output Shape              Param #   \n",
            "=================================================================\n",
            "embedding (Embedding)        (None, None, 128)         1047680   \n",
            "_________________________________________________________________\n",
            "gru (GRU)                    (None, None, 128)         99072     \n",
            "_________________________________________________________________\n",
            "gru_1 (GRU)                  (None, 128)               99072     \n",
            "_________________________________________________________________\n",
            "dense (Dense)                (None, 1)                 129       \n",
            "=================================================================\n",
            "Total params: 1,245,953\n",
            "Trainable params: 1,245,953\n",
            "Non-trainable params: 0\n",
            "_________________________________________________________________\n"
          ],
          "name": "stdout"
        }
      ]
    },
    {
      "cell_type": "markdown",
      "metadata": {
        "id": "RBdes-vy0Buv"
      },
      "source": [
        "## Compile the Model"
      ]
    },
    {
      "cell_type": "code",
      "metadata": {
        "id": "TXTXK5Me0B0V"
      },
      "source": [
        "model.compile(loss='binary_crossentropy', optimizer='adam',\n",
        "              metrics=['accuracy'])"
      ],
      "execution_count": 26,
      "outputs": []
    },
    {
      "cell_type": "markdown",
      "metadata": {
        "id": "-hVVbXG20B61"
      },
      "source": [
        "## Train the Model\n",
        "\n",
        "From multiple experiments, we found that 2 epochs provide good accuracy without tuning. As we increased the number of epochs, we noticed overfitting. Of course, you can experiment to your heart's content. As a caveat, training text models requires a lot of training time!"
      ]
    },
    {
      "cell_type": "code",
      "metadata": {
        "id": "gHnNemIb0B_Y",
        "outputId": "0c9af1af-f357-431b-c5eb-a00d53270e29",
        "colab": {
          "base_uri": "https://localhost:8080/",
          "height": 87
        }
      },
      "source": [
        "# to suppress unuseful error messages\n",
        "\n",
        "tf.compat.v1.logging.set_verbosity(tf.compat.v1.logging.ERROR)\n",
        "\n",
        "history = model.fit(train_ds, epochs=2,\n",
        "                    validation_data=test_ds)"
      ],
      "execution_count": 27,
      "outputs": [
        {
          "output_type": "stream",
          "text": [
            "Epoch 1/2\n",
            "391/391 [==============================] - 73s 187ms/step - loss: 0.5761 - accuracy: 0.6844 - val_loss: 0.3743 - val_accuracy: 0.8342\n",
            "Epoch 2/2\n",
            "391/391 [==============================] - 68s 175ms/step - loss: 0.2679 - accuracy: 0.8882 - val_loss: 0.3146 - val_accuracy: 0.8755\n"
          ],
          "name": "stdout"
        }
      ]
    },
    {
      "cell_type": "markdown",
      "metadata": {
        "id": "ULnM3f1I0CGA"
      },
      "source": [
        "## Generalize on Test Data\n",
        "\n",
        "Although model fit information provides validation loss and accuracy values during training, it is always a good idea to explictly evaluate the model on test data because accuracy and loss values can differ."
      ]
    },
    {
      "cell_type": "code",
      "metadata": {
        "id": "EUWuBjL50CMA",
        "outputId": "6a37ae5f-fbc7-4868-93e2-e9485f97914d",
        "colab": {
          "base_uri": "https://localhost:8080/",
          "height": 34
        }
      },
      "source": [
        "test_loss, test_acc = model.evaluate(test_ds)"
      ],
      "execution_count": 28,
      "outputs": [
        {
          "output_type": "stream",
          "text": [
            "391/391 [==============================] - 21s 55ms/step - loss: 0.3146 - accuracy: 0.8755\n"
          ],
          "name": "stdout"
        }
      ]
    },
    {
      "cell_type": "markdown",
      "metadata": {
        "id": "S6ICurBY0CRj"
      },
      "source": [
        "## Visualize\n",
        "\n",
        "Visualize training performance:"
      ]
    },
    {
      "cell_type": "code",
      "metadata": {
        "id": "xxiTBB8c0CWh",
        "outputId": "fd266aff-3b9e-4a77-9266-ec7bc302a66a",
        "colab": {
          "base_uri": "https://localhost:8080/",
          "height": 1000
        }
      },
      "source": [
        "import matplotlib.pyplot as plt\n",
        "\n",
        "# history.history contains the training record\n",
        "\n",
        "history_dict = history.history\n",
        "\n",
        "acc = history_dict['accuracy']\n",
        "val_acc = history_dict['val_accuracy']\n",
        "loss = history_dict['loss']\n",
        "val_loss = history_dict['val_loss']\n",
        "\n",
        "epochs = range(1, len(acc) + 1)\n",
        "\n",
        "plt.figure(figsize=(12,9))\n",
        "plt.plot(epochs, acc, 'bo', label='Training acc')\n",
        "plt.plot(epochs, val_acc, 'b', label='Validation acc')\n",
        "plt.title('Training and validation accuracy')\n",
        "plt.xlabel('Epochs')\n",
        "plt.ylabel('Accuracy')\n",
        "plt.legend(loc='lower right')\n",
        "plt.ylim((0.5,1))\n",
        "plt.show()\n",
        "\n",
        "# clear previous figure\n",
        "\n",
        "plt.clf()\n",
        "\n",
        "plt.figure(figsize=(12,9))\n",
        "plt.plot(epochs, loss, 'bo', label='Training loss')\n",
        "plt.plot(epochs, val_loss, 'b', label='Validation loss')\n",
        "plt.title('Training and validation loss')\n",
        "plt.xlabel('Epochs')\n",
        "plt.ylabel('Loss')\n",
        "plt.legend()\n",
        "plt.show()"
      ],
      "execution_count": 30,
      "outputs": [
        {
          "output_type": "display_data",
          "data": {
            "image/png": "[encoded data removed]",
            "text/plain": [
              "<Figure size 864x648 with 1 Axes>"
            ]
          },
          "metadata": {
            "tags": [],
            "needs_background": "light"
          }
        },
        {
          "output_type": "display_data",
          "data": {
            "text/plain": [
              "<Figure size 432x288 with 0 Axes>"
            ]
          },
          "metadata": {
            "tags": []
          }
        },
        {
          "output_type": "display_data",
          "data": {
            "image/png": "[encoded data removed]",
            "text/plain": [
              "<Figure size 864x648 with 1 Axes>"
            ]
          },
          "metadata": {
            "tags": [],
            "needs_background": "light"
          }
        }
      ]
    },
    {
      "cell_type": "markdown",
      "metadata": {
        "id": "MadBtoO6y4dz"
      },
      "source": [
        "## Make Predictions from Fabricated Reviews\n",
        "\n",
        "Let's make predictions from reviews that we fabricate. Begin by creating a function that returns the predictions. Since we create our own reviews, the function must convert the text review for TensorFlow consumption."
      ]
    },
    {
      "cell_type": "code",
      "metadata": {
        "id": "-QGV1N-9y4je"
      },
      "source": [
        "def predict_review(text):\n",
        "  encoded_text = encoder.encode(text)\n",
        "  encoded_text = tf.cast(encoded_text, tf.float32)\n",
        "  prediction = model.predict(tf.expand_dims(encoded_text, 0))\n",
        "  return prediction"
      ],
      "execution_count": 31,
      "outputs": []
    },
    {
      "cell_type": "markdown",
      "metadata": {
        "id": "Uzy0JyFq2FG5"
      },
      "source": [
        "The function accepts a text review. It begins by encoding the review. Next, it converts the encoded review to float32. The function then makes the prediction. We add the '1' dimension to the encoded text so it can be consumed by the model."
      ]
    },
    {
      "cell_type": "markdown",
      "metadata": {
        "id": "wZzQWekmy4oQ"
      },
      "source": [
        "Test the function with a fabricated review:"
      ]
    },
    {
      "cell_type": "code",
      "metadata": {
        "id": "4O1Fb9vVy4uS",
        "outputId": "b8844a31-615c-47dd-8f15-9bc772768df9",
        "colab": {
          "base_uri": "https://localhost:8080/",
          "height": 34
        }
      },
      "source": [
        "review = ('Just loved it. My kids thought the movie was cool. '\n",
        "         'Even my wife liked it.')\n",
        "\n",
        "pred = predict_review(review)\n",
        "pred, pred.shape"
      ],
      "execution_count": 32,
      "outputs": [
        {
          "output_type": "execute_result",
          "data": {
            "text/plain": [
              "(array([[0.9924075]], dtype=float32), (1, 1))"
            ]
          },
          "metadata": {
            "tags": []
          },
          "execution_count": 32
        }
      ]
    },
    {
      "cell_type": "markdown",
      "metadata": {
        "id": "xukZXAeZ2obZ"
      },
      "source": [
        "We have a prediction. Predictions greater than 0.5 mean that the review is positive. Otherwise, the review is negative."
      ]
    },
    {
      "cell_type": "markdown",
      "metadata": {
        "id": "sAGN3yXFy4zg"
      },
      "source": [
        " Make the prediction more palatable by creating another function:"
      ]
    },
    {
      "cell_type": "code",
      "metadata": {
        "id": "lCIqDlIV2vHQ"
      },
      "source": [
        "def palatable(pred):\n",
        "  score = tf.squeeze(pred, 0).numpy()\n",
        "  return score[0]"
      ],
      "execution_count": 33,
      "outputs": []
    },
    {
      "cell_type": "markdown",
      "metadata": {
        "id": "i0cusIQE3f7l"
      },
      "source": [
        "Invoke the function:"
      ]
    },
    {
      "cell_type": "code",
      "metadata": {
        "id": "coJXru9p3gD9",
        "outputId": "511cbc02-422d-4ab9-c77e-62bd76dbd87a",
        "colab": {
          "base_uri": "https://localhost:8080/",
          "height": 34
        }
      },
      "source": [
        "score = palatable(pred)\n",
        "score, score.shape"
      ],
      "execution_count": 34,
      "outputs": [
        {
          "output_type": "execute_result",
          "data": {
            "text/plain": [
              "(0.9924075, ())"
            ]
          },
          "metadata": {
            "tags": []
          },
          "execution_count": 34
        }
      ]
    },
    {
      "cell_type": "markdown",
      "metadata": {
        "id": "hNJeqtaA28xq"
      },
      "source": [
        "The function removes the *1* dimension from the prediction. Notice that the new shape is a scalar."
      ]
    },
    {
      "cell_type": "markdown",
      "metadata": {
        "id": "S1-1OZaG3B6d"
      },
      "source": [
        "Let's go function crazy by creating one that returns whether the review is positive or negative."
      ]
    },
    {
      "cell_type": "code",
      "metadata": {
        "id": "L7q7AnCN3CCQ"
      },
      "source": [
        "def impression(score):\n",
        "  if score >= 0.5:\n",
        "    return 'positive impression'\n",
        "  else:\n",
        "    return 'negative impression'"
      ],
      "execution_count": 35,
      "outputs": []
    },
    {
      "cell_type": "markdown",
      "metadata": {
        "id": "oAyyfbkE3QMs"
      },
      "source": [
        "Invoke the function:"
      ]
    },
    {
      "cell_type": "code",
      "metadata": {
        "id": "FmZkeFP73QSW",
        "outputId": "674c107c-b3e9-4ac3-dce8-c2b2eb4aee22",
        "colab": {
          "base_uri": "https://localhost:8080/",
          "height": 35
        }
      },
      "source": [
        "impression(score)"
      ],
      "execution_count": 36,
      "outputs": [
        {
          "output_type": "execute_result",
          "data": {
            "application/vnd.google.colaboratory.intrinsic+json": {
              "type": "string"
            },
            "text/plain": [
              "'positive impression'"
            ]
          },
          "metadata": {
            "tags": []
          },
          "execution_count": 36
        }
      ]
    },
    {
      "cell_type": "markdown",
      "metadata": {
        "id": "zqlXl0RH3QZE"
      },
      "source": [
        "As expected, the review is positive."
      ]
    },
    {
      "cell_type": "markdown",
      "metadata": {
        "id": "d-25exeW3v0_"
      },
      "source": [
        "Let's try another one:"
      ]
    },
    {
      "cell_type": "code",
      "metadata": {
        "id": "wuFcPA3f3QeU",
        "outputId": "55e380c9-51ff-4e1d-ba11-8821e0c0a896",
        "colab": {
          "base_uri": "https://localhost:8080/",
          "height": 34
        }
      },
      "source": [
        "review = ('The movie absolutely sucked. '\n",
        "          'No character development. '\n",
        "          'Dialogue just blows.')\n",
        "\n",
        "pred = predict_review(review)\n",
        "score = palatable(pred)\n",
        "print (impression(score))"
      ],
      "execution_count": 37,
      "outputs": [
        {
          "output_type": "stream",
          "text": [
            "negative impression\n"
          ],
          "name": "stdout"
        }
      ]
    },
    {
      "cell_type": "markdown",
      "metadata": {
        "id": "rE2X9O6m30IK"
      },
      "source": [
        "As expected, the review is negative."
      ]
    },
    {
      "cell_type": "markdown",
      "metadata": {
        "id": "__IcSv193QnJ"
      },
      "source": [
        "## Make Predictions on a Test Data Batch\n",
        "\n",
        "We can also predict from the test set. Let's make predictions on the first test batch with the *predict* method. Since test data is already in tensor form, we don't need to encode."
      ]
    },
    {
      "cell_type": "code",
      "metadata": {
        "id": "SVUtmqtw3Quu",
        "outputId": "9fd9ee8b-6dd4-4bb2-fd6c-3ad747266fa0",
        "colab": {
          "base_uri": "https://localhost:8080/",
          "height": 87
        }
      },
      "source": [
        "# get predictions from 1st test batch\n",
        "for sample, target in test_ds.take(1):\n",
        "  y_pred_64 = model.predict(sample)\n",
        "\n",
        "# display first review from this batch\n",
        "print ('review:', end=' ')\n",
        "print (encoder.decode(sample[0])[177:307])\n",
        "\n",
        "# display first label from this batch\n",
        "print ('label:', end=' ')\n",
        "print (target[0].numpy(), br)\n",
        "\n",
        "# display number of examples in the batch\n",
        "print ('samples and target in first batch:', end=' ')\n",
        "len(sample), len(target)"
      ],
      "execution_count": 38,
      "outputs": [
        {
          "output_type": "stream",
          "text": [
            "review: absolutely amazing DING-A-LING-LESS. Flawless film-making, and as assured and as professional as any of the aforementioned movies.\n",
            "label: 1 \n",
            "\n",
            "samples and target in first batch: "
          ],
          "name": "stdout"
        },
        {
          "output_type": "execute_result",
          "data": {
            "text/plain": [
              "(64, 64)"
            ]
          },
          "metadata": {
            "tags": []
          },
          "execution_count": 38
        }
      ]
    },
    {
      "cell_type": "markdown",
      "metadata": {
        "id": "1hhn41_f3CI2"
      },
      "source": [
        "Variable **y_pred_64** holds 64 predictions because we take the first batch of 64 from the TensorFlow consumable **test_ds**. We then display the first review and its associated label from this batch. Remember that label *1* means the review was positive and label *0* means it was negative. We end by displaying the size of the sample and target to verify that we have 64 examples in our first batch."
      ]
    },
    {
      "cell_type": "markdown",
      "metadata": {
        "id": "qEjiypQT4hxr"
      },
      "source": [
        "Get the first prediction:"
      ]
    },
    {
      "cell_type": "code",
      "metadata": {
        "id": "7gva6ywA4gbP",
        "outputId": "a5c60c01-3b4e-444d-fe34-1e0cef7dc509",
        "colab": {
          "base_uri": "https://localhost:8080/",
          "height": 34
        }
      },
      "source": [
        "print (y_pred_64[0])"
      ],
      "execution_count": 43,
      "outputs": [
        {
          "output_type": "stream",
          "text": [
            "[0.20822671]\n"
          ],
          "name": "stdout"
        }
      ]
    },
    {
      "cell_type": "markdown",
      "metadata": {
        "id": "NJzW8_P14ghW"
      },
      "source": [
        "Make it palatable:"
      ]
    },
    {
      "cell_type": "code",
      "metadata": {
        "id": "CmdtSf3u4goV",
        "outputId": "1b203637-abe4-4706-d024-481c5a0cbb8d",
        "colab": {
          "base_uri": "https://localhost:8080/",
          "height": 35
        }
      },
      "source": [
        "impression(y_pred_64[0])"
      ],
      "execution_count": 44,
      "outputs": [
        {
          "output_type": "execute_result",
          "data": {
            "application/vnd.google.colaboratory.intrinsic+json": {
              "type": "string"
            },
            "text/plain": [
              "'negative impression'"
            ]
          },
          "metadata": {
            "tags": []
          },
          "execution_count": 44
        }
      ]
    },
    {
      "cell_type": "markdown",
      "metadata": {
        "id": "wEhV3_vH4g76"
      },
      "source": [
        "Compare prediction to actual label:"
      ]
    },
    {
      "cell_type": "code",
      "metadata": {
        "id": "0ByJiV4i4g1r",
        "outputId": "329749d6-a667-44f9-a38e-c463626a10ff",
        "colab": {
          "base_uri": "https://localhost:8080/",
          "height": 34
        }
      },
      "source": [
        "impression(y_pred_64[0]), impression(target[0].numpy())"
      ],
      "execution_count": 46,
      "outputs": [
        {
          "output_type": "execute_result",
          "data": {
            "text/plain": [
              "('negative impression', 'positive impression')"
            ]
          },
          "metadata": {
            "tags": []
          },
          "execution_count": 46
        }
      ]
    },
    {
      "cell_type": "markdown",
      "metadata": {
        "id": "4DKDP9s_58Rz"
      },
      "source": [
        "If the prediction matches the actual label, it was correct. Remember that an actual label of *1* is positive and an actual label of *0* is negative."
      ]
    },
    {
      "cell_type": "markdown",
      "metadata": {
        "id": "n3ikNXxF_ekX"
      },
      "source": [
        "Display prediction efficacy for the first five predictions:"
      ]
    },
    {
      "cell_type": "code",
      "metadata": {
        "id": "7333EcJX_iyw",
        "outputId": "7032f33c-7831-4191-cc85-54b79a68c2ae",
        "colab": {
          "base_uri": "https://localhost:8080/",
          "height": 105
        }
      },
      "source": [
        "for i in range(5):\n",
        "  p = impression(y_pred_64[i])\n",
        "  t = impression(target[i].numpy())\n",
        "  print (i, end=': ')\n",
        "  if p == t: print ('correct')\n",
        "  else: print ('incorrect')"
      ],
      "execution_count": 47,
      "outputs": [
        {
          "output_type": "stream",
          "text": [
            "0: incorrect\n",
            "1: correct\n",
            "2: correct\n",
            "3: correct\n",
            "4: correct\n"
          ],
          "name": "stdout"
        }
      ]
    },
    {
      "cell_type": "markdown",
      "metadata": {
        "id": "-DTIianH6NhU"
      },
      "source": [
        "## Prediction Accuracy for the First Batch\n",
        "\n",
        "Create a function to convert an impression back to a label of either 1 or 0:"
      ]
    },
    {
      "cell_type": "code",
      "metadata": {
        "id": "Fw4MGtuu6Np4"
      },
      "source": [
        "def convert_label(feeling):\n",
        "  if feeling == 'positive impression':\n",
        "    return 1\n",
        "  else: return 0"
      ],
      "execution_count": 48,
      "outputs": []
    },
    {
      "cell_type": "markdown",
      "metadata": {
        "id": "ZiOhicAY61NJ"
      },
      "source": [
        "Return prediction accuracy for the entire first batch:"
      ]
    },
    {
      "cell_type": "code",
      "metadata": {
        "id": "tcd8-qfe63bG",
        "outputId": "753d6455-3217-43c6-d4dc-2bb842d3f217",
        "colab": {
          "base_uri": "https://localhost:8080/",
          "height": 34
        }
      },
      "source": [
        "ls = []\n",
        "n = len(target)\n",
        "for i, _ in enumerate(range(n)):\n",
        "  t = target[i].numpy() # labels\n",
        "  p = convert_label(impression(y_pred_64[i])) # predictions\n",
        "  if t == p: ls.append(True)\n",
        "correct = ls.count(True)\n",
        "acc = correct / n\n",
        "batch_accuracy = str(int(np.round(acc, 2) * 100)) + '%'\n",
        "print ('accuracy for the first batch:', batch_accuracy)"
      ],
      "execution_count": 49,
      "outputs": [
        {
          "output_type": "stream",
          "text": [
            "accuracy for the first batch: 77%\n"
          ],
          "name": "stdout"
        }
      ]
    },
    {
      "cell_type": "markdown",
      "metadata": {
        "id": "R1CrZFMh6NxP"
      },
      "source": [
        "We begin by traversing the first batch and comparing labels to predictions. If a prediction is correct, we add this information to a list. We continue by counting the number of correct predictions. We end by dividing correct predictions by the batch size to get overall prediction accuracy."
      ]
    },
    {
      "cell_type": "markdown",
      "metadata": {
        "id": "YPe-t7d07g55"
      },
      "source": [
        "# Leverage Pretrained Embeddings\n",
        "\n",
        "Amazingly, we can reuse modules from pretrained models on the IMDb dataset. The TensorFlow Hub project is a library with hundreds of reusable machine learning modules. A **module** is a self-contained piece of a TensorFlow graph, along with its weights and assets, that can be reused across different tasks in a process known as transfer learning. **Transfer learning** is a machine learning method where a model developed for a task is reused as the starting point for a model on a different task.\n",
        "\n",
        "You can browse the library by perusing the following URL:\n",
        "\n",
        "http://tfhub.dev\n",
        "\n",
        "Once you locate a module, copy the URL into your model. The module is automatically dowloaded along with its pretrained weights. A huge advantage of using pretrained models is that we don't have to create and train our own models from scratch!"
      ]
    },
    {
      "cell_type": "markdown",
      "metadata": {
        "id": "UQnOUrmS7xl1"
      },
      "source": [
        "## Load IMDb Data\n",
        "\n",
        "Since we are using a pretrained model, we can load the *entire* IMDb data:"
      ]
    },
    {
      "cell_type": "code",
      "metadata": {
        "id": "z6WwQacU6N24",
        "outputId": "f0dbe155-9250-4144-a22e-570b08e0e992",
        "colab": {
          "base_uri": "https://localhost:8080/",
          "height": 336,
          "referenced_widgets": [
            "1476e54640344985a308a8b94d603384",
            "d68d8c75a6a4428193171330e553970d",
            "5c85ee5f6e434f35b2795b027c7ce5ce",
            "79fa6002fc2b408ca130cde0bafe47e8",
            "6f0cfdc0fab74a5b989728a17d458399",
            "7824c8576ee046268218ab5e955398dd",
            "a9705b1a7d1941e4a984e69d7ecbc9e7",
            "2864f4a23c57495d94d45af78cc5bd91",
            "5603356398c746309d85e6b9add64d0e",
            "e2e83d0840ed470680e3702f43c822fa",
            "8715aad3ac66400fa868b751222defe0",
            "90b87f747d4d487b9c2e1654475a4815",
            "a6a26a84a61c4452bacede39aff6fbf9",
            "94c23e0247d24ee18395f82188396e7a",
            "d397febffc7744e89cab38b7244adb00",
            "7e48f0c4863b48a0a5d687deca1f6b26",
            "d0efbfa63fcc4e15897009e3f698402a",
            "d0e9d4a77bbc45658ba6dc5682007765",
            "793978692ac54b8aab41e34c3d420190",
            "a2f3889d7a1043569029a768ebe54e42",
            "d22676b14ca043fdb95e0c52633a39de",
            "db1209af982a4c97a7fdaccae2a0d4fe",
            "efea9d2f05aa494c94571ca5bcd6216f",
            "1087a48e730a4b9aac27887ccf4db6fa",
            "874320a211a144fe890e349a2110c145",
            "8af56b8d01f24ae69489c45ef61ff88e",
            "e1235d1daf754931a39aee25b3855911",
            "27557c919a6c4438a6f513e2ff6f7564",
            "76464caeeaa24952a41b38c08ddeaf78",
            "eb147b2f53bb427a9fd7cb7cfb8190ef",
            "f5fe6f670aa34a628c2939b68bf081ca",
            "71323dca7821416e85a242f69f00fb57",
            "f08105974ee64064b9c1890db8dcbc0a",
            "697451ca50834474942e0d0d8c73b09f",
            "343c04cf8fa84fa6aa6a35621389d879",
            "85ed0987278444da886bdddbe1192039",
            "6e3cb529b73f4e0bb41d29d3280274d9",
            "cc70de51aace47678b89019cd86d6eb8",
            "5af3ba68dedd4faf81c8f39065bf6bea",
            "cfd9beda099d427abe2dd03ee4bc7462",
            "4b02224ac9274daa834dba768d19ea74",
            "1bd6411e265d458f96b1616f6d472087",
            "f6c3c981c747432ebc40320032fe97d0",
            "4dce9c7955f74ff0be6ae4eb5b068bd1",
            "7604c7ebc09a403f97d38db78221e9f1",
            "b5d3db81445f4c8ead6ca3f5ceec6be4",
            "a78b86b3c61043eca3c5b962681d9ede",
            "0cc26d70d06e4729928181b6643378f6",
            "cdd725d3f2074fff9d67c47409e2ddac",
            "39deba31780040d9ab5dd1b386978686",
            "27521c9cc14c4ee58f06592e0f331f23",
            "4156ea0d24334ec8a8673e00bf12db8f",
            "fd92263920f943a28f4d992aab368bf5",
            "03b389e50ecd41c18ade5aa91abdbc29",
            "78c3d139745541288cf3231dd6d1a005",
            "95a243dd33f94712bd3cf542967e7d8b",
            "6da3f60776614b01903c54dbab84e324",
            "c7965478c98d4f6e8bd974847a328ae1",
            "3b36200513c44eba8e893946c1aec4d0",
            "80be8befaafe4cf9b17f2c3acacfbe40",
            "3cbceba01d224e33aebe9e878726c9c5",
            "e3110f1d25754e7184fee47a334afb2b",
            "94c731ca82fd48529b5e4922d7f5212d",
            "2b3f2d82fa214ff1965af5aa2619289d"
          ]
        }
      },
      "source": [
        "data, info = tfds.load('imdb_reviews', as_supervised=True,\n",
        "                       with_info=True, shuffle_files=True)"
      ],
      "execution_count": 50,
      "outputs": [
        {
          "output_type": "stream",
          "text": [
            "\u001b[1mDownloading and preparing dataset imdb_reviews/plain_text/1.0.0 (download: 80.23 MiB, generated: Unknown size, total: 80.23 MiB) to /root/tensorflow_datasets/imdb_reviews/plain_text/1.0.0...\u001b[0m\n"
          ],
          "name": "stdout"
        },
        {
          "output_type": "display_data",
          "data": {
            "application/vnd.jupyter.widget-view+json": {
              "model_id": "1476e54640344985a308a8b94d603384",
              "version_minor": 0,
              "version_major": 2
            },
            "text/plain": [
              "HBox(children=(FloatProgress(value=1.0, bar_style='info', description='Dl Completed...', max=1.0, style=Progre…"
            ]
          },
          "metadata": {
            "tags": []
          }
        },
        {
          "output_type": "display_data",
          "data": {
            "application/vnd.jupyter.widget-view+json": {
              "model_id": "5603356398c746309d85e6b9add64d0e",
              "version_minor": 0,
              "version_major": 2
            },
            "text/plain": [
              "HBox(children=(FloatProgress(value=1.0, bar_style='info', description='Dl Size...', max=1.0, style=ProgressSty…"
            ]
          },
          "metadata": {
            "tags": []
          }
        },
        {
          "output_type": "stream",
          "text": [
            "\n",
            "\n",
            "\n",
            "\n"
          ],
          "name": "stdout"
        },
        {
          "output_type": "display_data",
          "data": {
            "application/vnd.jupyter.widget-view+json": {
              "model_id": "d0efbfa63fcc4e15897009e3f698402a",
              "version_minor": 0,
              "version_major": 2
            },
            "text/plain": [
              "HBox(children=(FloatProgress(value=1.0, bar_style='info', max=1.0), HTML(value='')))"
            ]
          },
          "metadata": {
            "tags": []
          }
        },
        {
          "output_type": "stream",
          "text": [
            "\rShuffling and writing examples to /root/tensorflow_datasets/imdb_reviews/plain_text/1.0.0.incompleteU0ODOE/imdb_reviews-train.tfrecord\n"
          ],
          "name": "stdout"
        },
        {
          "output_type": "display_data",
          "data": {
            "application/vnd.jupyter.widget-view+json": {
              "model_id": "874320a211a144fe890e349a2110c145",
              "version_minor": 0,
              "version_major": 2
            },
            "text/plain": [
              "HBox(children=(FloatProgress(value=0.0, max=25000.0), HTML(value='')))"
            ]
          },
          "metadata": {
            "tags": []
          }
        },
        {
          "output_type": "stream",
          "text": [
            "\r"
          ],
          "name": "stdout"
        },
        {
          "output_type": "display_data",
          "data": {
            "application/vnd.jupyter.widget-view+json": {
              "model_id": "f08105974ee64064b9c1890db8dcbc0a",
              "version_minor": 0,
              "version_major": 2
            },
            "text/plain": [
              "HBox(children=(FloatProgress(value=1.0, bar_style='info', max=1.0), HTML(value='')))"
            ]
          },
          "metadata": {
            "tags": []
          }
        },
        {
          "output_type": "stream",
          "text": [
            "\rShuffling and writing examples to /root/tensorflow_datasets/imdb_reviews/plain_text/1.0.0.incompleteU0ODOE/imdb_reviews-test.tfrecord\n"
          ],
          "name": "stdout"
        },
        {
          "output_type": "display_data",
          "data": {
            "application/vnd.jupyter.widget-view+json": {
              "model_id": "4b02224ac9274daa834dba768d19ea74",
              "version_minor": 0,
              "version_major": 2
            },
            "text/plain": [
              "HBox(children=(FloatProgress(value=0.0, max=25000.0), HTML(value='')))"
            ]
          },
          "metadata": {
            "tags": []
          }
        },
        {
          "output_type": "stream",
          "text": [
            "\r"
          ],
          "name": "stdout"
        },
        {
          "output_type": "display_data",
          "data": {
            "application/vnd.jupyter.widget-view+json": {
              "model_id": "cdd725d3f2074fff9d67c47409e2ddac",
              "version_minor": 0,
              "version_major": 2
            },
            "text/plain": [
              "HBox(children=(FloatProgress(value=1.0, bar_style='info', max=1.0), HTML(value='')))"
            ]
          },
          "metadata": {
            "tags": []
          }
        },
        {
          "output_type": "stream",
          "text": [
            "\rShuffling and writing examples to /root/tensorflow_datasets/imdb_reviews/plain_text/1.0.0.incompleteU0ODOE/imdb_reviews-unsupervised.tfrecord\n"
          ],
          "name": "stdout"
        },
        {
          "output_type": "display_data",
          "data": {
            "application/vnd.jupyter.widget-view+json": {
              "model_id": "6da3f60776614b01903c54dbab84e324",
              "version_minor": 0,
              "version_major": 2
            },
            "text/plain": [
              "HBox(children=(FloatProgress(value=0.0, max=50000.0), HTML(value='')))"
            ]
          },
          "metadata": {
            "tags": []
          }
        },
        {
          "output_type": "stream",
          "text": [
            "\u001b[1mDataset imdb_reviews downloaded and prepared to /root/tensorflow_datasets/imdb_reviews/plain_text/1.0.0. Subsequent calls will reuse this data.\u001b[0m\n",
            "\r"
          ],
          "name": "stdout"
        }
      ]
    },
    {
      "cell_type": "markdown",
      "metadata": {
        "id": "YjMQe7Wo_6GV"
      },
      "source": [
        "We use the full vocabulary because we don't have to worry about training with it!"
      ]
    },
    {
      "cell_type": "markdown",
      "metadata": {
        "id": "FtaohKw76N9_"
      },
      "source": [
        "## Build the Input Pipeline"
      ]
    },
    {
      "cell_type": "markdown",
      "metadata": {
        "id": "rMWjF7lw8Mmq"
      },
      "source": [
        "Create train and test sets:"
      ]
    },
    {
      "cell_type": "code",
      "metadata": {
        "id": "6AFrEtH56OEJ"
      },
      "source": [
        "train, test = data['train'], data['test']"
      ],
      "execution_count": 51,
      "outputs": []
    },
    {
      "cell_type": "markdown",
      "metadata": {
        "id": "D2Vtr6Kr8P3x"
      },
      "source": [
        "Batch and prefetch:"
      ]
    },
    {
      "cell_type": "code",
      "metadata": {
        "id": "MOSD1Jkp8QBk"
      },
      "source": [
        "# finalize the input pipeline\n",
        "\n",
        "batch_size = 32\n",
        "train_set = train.repeat().batch(batch_size).prefetch(1)\n",
        "test_set = test.batch(batch_size).prefetch(1)"
      ],
      "execution_count": 54,
      "outputs": []
    },
    {
      "cell_type": "markdown",
      "metadata": {
        "id": "PaQ93Q6m8QHS"
      },
      "source": [
        "## Create the Pretrained Model\n",
        "\n",
        "Import the TF Hub library and create a skeleton model to house the pretrained module."
      ]
    },
    {
      "cell_type": "code",
      "metadata": {
        "id": "TxJdxFXN8QNJ"
      },
      "source": [
        "import tensorflow_hub as hub\n",
        "\n",
        "# clear any previous models\n",
        "tf.keras.backend.clear_session()\n",
        "\n",
        "model = tf.keras.Sequential([\n",
        "  hub.KerasLayer(\n",
        "      'https://tfhub.dev/google/tf2-preview/nnlm-en-dim50/1',\n",
        "      dtype=tf.string, input_shape=[], output_shape=[50]),\n",
        "  Dense(128, activation='relu'),\n",
        "  Dense(1, activation='sigmoid')\n",
        "])"
      ],
      "execution_count": 59,
      "outputs": []
    },
    {
      "cell_type": "markdown",
      "metadata": {
        "id": "Wx7p7Dt-8QTX"
      },
      "source": [
        "The **hub.KerasLayer** downloads the sentence encoder module. Each string input into this layer is automatically encoded as a 50D vector. So, each vector represents 50 words. Each word is embedded based on an embedding matrix pretrained on the 7 billion word Google News corpus. The next two dense layers are added to provide a basic model for sentiment analysis. Using TF Hub is convenient and efficient because we can use what was already learned from the pretrained model."
      ]
    },
    {
      "cell_type": "markdown",
      "metadata": {
        "id": "3LDcKYs59Kq3"
      },
      "source": [
        "## Compile"
      ]
    },
    {
      "cell_type": "code",
      "metadata": {
        "id": "pvgs_vuN8Qdd"
      },
      "source": [
        "model.compile(loss='binary_crossentropy',\n",
        "              optimizer='adam',\n",
        "              metrics=['accuracy'])"
      ],
      "execution_count": 60,
      "outputs": []
    },
    {
      "cell_type": "markdown",
      "metadata": {
        "id": "EInEUQen9QGC"
      },
      "source": [
        "## Train"
      ]
    },
    {
      "cell_type": "code",
      "metadata": {
        "id": "T2xs823j3COB",
        "outputId": "b4896dfc-0e81-40d9-9a30-a49faf6da138",
        "colab": {
          "base_uri": "https://localhost:8080/",
          "height": 194
        }
      },
      "source": [
        "# to suppress unimportant error messages\n",
        "tf.compat.v1.logging.set_verbosity(tf.compat.v1.logging.ERROR)\n",
        "\n",
        "history = model.fit(train_set,\n",
        "                    steps_per_epoch=train_size // batch_size,\n",
        "                    epochs=5, validation_data=test_set)"
      ],
      "execution_count": 61,
      "outputs": [
        {
          "output_type": "stream",
          "text": [
            "Epoch 1/5\n",
            "781/781 [==============================] - 9s 12ms/step - loss: 0.5473 - accuracy: 0.7254 - val_loss: 0.5270 - val_accuracy: 0.7370\n",
            "Epoch 2/5\n",
            "781/781 [==============================] - 9s 11ms/step - loss: 0.5150 - accuracy: 0.7470 - val_loss: 0.5190 - val_accuracy: 0.7434\n",
            "Epoch 3/5\n",
            "781/781 [==============================] - 9s 12ms/step - loss: 0.5099 - accuracy: 0.7513 - val_loss: 0.5156 - val_accuracy: 0.7450\n",
            "Epoch 4/5\n",
            "781/781 [==============================] - 9s 11ms/step - loss: 0.5061 - accuracy: 0.7540 - val_loss: 0.5133 - val_accuracy: 0.7471\n",
            "Epoch 5/5\n",
            "781/781 [==============================] - 9s 11ms/step - loss: 0.5030 - accuracy: 0.7567 - val_loss: 0.5112 - val_accuracy: 0.7479\n"
          ],
          "name": "stdout"
        }
      ]
    },
    {
      "cell_type": "markdown",
      "metadata": {
        "id": "9y7L-Yvb1Emz"
      },
      "source": [
        "As expected, training time is much reduced!"
      ]
    },
    {
      "cell_type": "markdown",
      "metadata": {
        "id": "eJofmh-03CT1"
      },
      "source": [
        "## Predict\n",
        "\n",
        "Let's make predictions on the first batch. Since our batch size is 32, we have 32 predictions in each batch."
      ]
    },
    {
      "cell_type": "code",
      "metadata": {
        "id": "h-hQFxc43Cd1"
      },
      "source": [
        "for sample, target in test_set.take(1):\n",
        "  y_pred_32 = model.predict(sample)"
      ],
      "execution_count": 62,
      "outputs": []
    },
    {
      "cell_type": "markdown",
      "metadata": {
        "id": "CaMV0A3Y-Nj-"
      },
      "source": [
        "Display misclassifications:"
      ]
    },
    {
      "cell_type": "code",
      "metadata": {
        "id": "8vrLvuJOy45e",
        "outputId": "c59ef6a5-46ab-4952-b86a-477d60cd9b18",
        "colab": {
          "base_uri": "https://localhost:8080/",
          "height": 141
        }
      },
      "source": [
        "for i in range(batch_size):\n",
        "  p = convert_label(impression(y_pred_32[i]))\n",
        "  l = target[i].numpy()\n",
        "  if p != l:\n",
        "    print ('pred:', p, 'actual:', l, 'indx:', i)"
      ],
      "execution_count": 63,
      "outputs": [
        {
          "output_type": "stream",
          "text": [
            "pred: 0 actual: 1 indx: 9\n",
            "pred: 1 actual: 0 indx: 13\n",
            "pred: 1 actual: 0 indx: 14\n",
            "pred: 1 actual: 0 indx: 17\n",
            "pred: 0 actual: 1 indx: 21\n",
            "pred: 1 actual: 0 indx: 23\n",
            "pred: 0 actual: 1 indx: 25\n"
          ],
          "name": "stdout"
        }
      ]
    },
    {
      "cell_type": "markdown",
      "metadata": {
        "id": "9HRP9eezAL3p"
      },
      "source": [
        "## Prediction Accuracy for First Batch"
      ]
    },
    {
      "cell_type": "code",
      "metadata": {
        "id": "QJk7B6fSAL-l",
        "outputId": "5e78bfbc-c89c-40eb-9d8a-b00e1ef65fcb",
        "colab": {
          "base_uri": "https://localhost:8080/",
          "height": 34
        }
      },
      "source": [
        "ls = []\n",
        "n = len(target)\n",
        "for i, _ in enumerate(range(n)):\n",
        "  t = target[i].numpy() # labels\n",
        "  p = convert_label(impression(y_pred_32[i])) # predictions\n",
        "  if t == p: ls.append(True)\n",
        "correct = ls.count(True)\n",
        "acc = correct / n\n",
        "batch_accuracy = str(int(np.round(acc, 2) * 100)) + '%'\n",
        "print ('accuracy for the first batch:', batch_accuracy)"
      ],
      "execution_count": 64,
      "outputs": [
        {
          "output_type": "stream",
          "text": [
            "accuracy for the first batch: 78%\n"
          ],
          "name": "stdout"
        }
      ]
    },
    {
      "cell_type": "markdown",
      "metadata": {
        "id": "snnMZBzIwwqJ"
      },
      "source": [
        "# Exploring IMDb with Keras \n",
        "\n",
        "Since **Keras** is very popular in industry, we demonstrate how to train IMDb with *keras.datasets*. Use the **keras.datasets.imdb.load_data()** function to load the dataset in a format ready fashion for use in neural network and deep learning models.\n",
        "\n",
        "Loading Keras IMDb has some advantages. First, words have already been encoded with integers. Second, encoded words are arranged by their absolute popularity in the dataset. So, sentences in each review are comprised of a sequence of integers. Third, calling *imdb.load_data* the first time downloads IMDb to your computer and stores it in your home directory under ~/.keras/datasets/imdb.pkl as a 32 megabyte file. The imdb.load_data function also provides additional arguments including number of top words to load (where words with a lower integer are marked as zero in the returned data), number of top words to skip (to avoid words like *the*), and the maximum length of reviews to support."
      ]
    },
    {
      "cell_type": "markdown",
      "metadata": {
        "id": "mJlAYem0CRXT"
      },
      "source": [
        "Load IMDb:"
      ]
    },
    {
      "cell_type": "code",
      "metadata": {
        "id": "xeLoF7I5PIZv"
      },
      "source": [
        "train, test = tf.keras.datasets.imdb.load_data()"
      ],
      "execution_count": 68,
      "outputs": []
    },
    {
      "cell_type": "markdown",
      "metadata": {
        "id": "3tP4oykwPgKC"
      },
      "source": [
        "This method loads data into train and test tuples. So, **train[0]** contains training reviews and **train[1]** contains training labels. And, **test[0]** contains test reviews and **test[1]** contains test labels. Each review is represented as a numpy array of integers with each integer representing a word. The labels contain lists of integer labels (0 is negative and 1 is positive)."
      ]
    },
    {
      "cell_type": "markdown",
      "metadata": {
        "id": "nC-ErC7CpNEP"
      },
      "source": [
        "For readability, we create variables to represent reviews and labels:"
      ]
    },
    {
      "cell_type": "code",
      "metadata": {
        "id": "JbYvA63YpfsL"
      },
      "source": [
        "train_reviews, train_labels = train[0], train[1]\n",
        "test_reviews, test_labels = test[0], test[1]"
      ],
      "execution_count": 69,
      "outputs": []
    },
    {
      "cell_type": "markdown",
      "metadata": {
        "id": "_giFzRcfiLWg"
      },
      "source": [
        "Let's see the shape of train and test review samples:"
      ]
    },
    {
      "cell_type": "code",
      "metadata": {
        "id": "j4cVDLyAh-A-",
        "outputId": "74cb765d-4372-4b0b-aa80-2d5849b1fb0b",
        "colab": {
          "base_uri": "https://localhost:8080/",
          "height": 34
        }
      },
      "source": [
        "train_reviews.shape, test_reviews.shape"
      ],
      "execution_count": 70,
      "outputs": [
        {
          "output_type": "execute_result",
          "data": {
            "text/plain": [
              "((25000,), (25000,))"
            ]
          },
          "metadata": {
            "tags": []
          },
          "execution_count": 70
        }
      ]
    },
    {
      "cell_type": "markdown",
      "metadata": {
        "id": "fSaETl6V6F5e"
      },
      "source": [
        "As expected, we have 25,000 training and 25,000 test reviews."
      ]
    },
    {
      "cell_type": "markdown",
      "metadata": {
        "id": "tVtS12s7Cqka"
      },
      "source": [
        " Now, let's see the shape of train and test labels:"
      ]
    },
    {
      "cell_type": "code",
      "metadata": {
        "id": "edgC5Erx9o53",
        "outputId": "e50c01d2-ad58-4e6c-f6d0-dddf2c42ea29",
        "colab": {
          "base_uri": "https://localhost:8080/",
          "height": 34
        }
      },
      "source": [
        "train_labels.shape, test_labels.shape"
      ],
      "execution_count": 71,
      "outputs": [
        {
          "output_type": "execute_result",
          "data": {
            "text/plain": [
              "((25000,), (25000,))"
            ]
          },
          "metadata": {
            "tags": []
          },
          "execution_count": 71
        }
      ]
    },
    {
      "cell_type": "markdown",
      "metadata": {
        "id": "k9JvZ9BNiR7_"
      },
      "source": [
        "As expected, we have 25,000 training and 25,000 test labels."
      ]
    },
    {
      "cell_type": "markdown",
      "metadata": {
        "id": "SyEydrXQsT7_"
      },
      "source": [
        "## Explore the Train Sample\n",
        "\n",
        "Display label categories and number of unique words."
      ]
    },
    {
      "cell_type": "code",
      "metadata": {
        "id": "4Nbd_rcdsVp-",
        "outputId": "f678925c-56a0-42fa-8bd8-9817e8e4f856",
        "colab": {
          "base_uri": "https://localhost:8080/",
          "height": 52
        }
      },
      "source": [
        "print ('categories:', np.unique(train_labels))\n",
        "print('number of unique words:',\n",
        "      len(np.unique(np.hstack(train_reviews))))"
      ],
      "execution_count": 72,
      "outputs": [
        {
          "output_type": "stream",
          "text": [
            "categories: [0 1]\n",
            "number of unique words: 88585\n"
          ],
          "name": "stdout"
        }
      ]
    },
    {
      "cell_type": "markdown",
      "metadata": {
        "id": "j_WXHNyhtuNx"
      },
      "source": [
        "We see that the dataset is labeled by two categories that represent the sentiment of each review. And, the train sample contains 88,585 unique words."
      ]
    },
    {
      "cell_type": "markdown",
      "metadata": {
        "id": "a_pmtPLZhhM0"
      },
      "source": [
        "Let's see how many words are in the longest training review."
      ]
    },
    {
      "cell_type": "code",
      "metadata": {
        "id": "_8GSC9-ihU6S",
        "outputId": "01523fed-8339-420e-f4bd-5ea73094ff69",
        "colab": {
          "base_uri": "https://localhost:8080/",
          "height": 34
        }
      },
      "source": [
        "longest = np.amax([len(i) for i in train_reviews])\n",
        "\n",
        "print ('longest review:', longest)"
      ],
      "execution_count": 73,
      "outputs": [
        {
          "output_type": "stream",
          "text": [
            "longest review: 2494\n"
          ],
          "name": "stdout"
        }
      ]
    },
    {
      "cell_type": "markdown",
      "metadata": {
        "id": "fcOco6oZ_jyH"
      },
      "source": [
        "We created a list containing the number of words in each review and then found the maximum number of words in the list."
      ]
    },
    {
      "cell_type": "markdown",
      "metadata": {
        "id": "j4i8-GLuCcIf"
      },
      "source": [
        "Now, let's get the index of the longest review:"
      ]
    },
    {
      "cell_type": "code",
      "metadata": {
        "id": "2iVtBFkz-2WJ",
        "outputId": "163d1f4a-0bda-4e66-fd3b-11712b09353d",
        "colab": {
          "base_uri": "https://localhost:8080/",
          "height": 34
        }
      },
      "source": [
        "mid_result = np.where([len(i) for i in train_reviews] == longest)\n",
        "longest_index = mid_result[0][0]\n",
        "longest_index"
      ],
      "execution_count": 74,
      "outputs": [
        {
          "output_type": "execute_result",
          "data": {
            "text/plain": [
              "17934"
            ]
          },
          "metadata": {
            "tags": []
          },
          "execution_count": 74
        }
      ]
    },
    {
      "cell_type": "markdown",
      "metadata": {
        "id": "5LM5g6FvDLzg"
      },
      "source": [
        "We use the **np.where** function to find the index. We used double indexing because the function returns a tuple containing a list that holds the index we desire."
      ]
    },
    {
      "cell_type": "markdown",
      "metadata": {
        "id": "CduKLaWcBO5S"
      },
      "source": [
        "## Create a Decoding Function\n",
        "\n",
        "Let's create a function that decodes the review into readable form."
      ]
    },
    {
      "cell_type": "code",
      "metadata": {
        "id": "U0FR4OL5BPB4"
      },
      "source": [
        "def readable(review):\n",
        "  index = tf.keras.datasets.imdb.get_word_index()\n",
        "  reverse_index = dict([(value, key)\\\n",
        "                        for (key, value) in index.items()])\n",
        "  return ' '.join( [reverse_index.get(i - 3, '?')\\\n",
        "                    for i in review])"
      ],
      "execution_count": 75,
      "outputs": []
    },
    {
      "cell_type": "markdown",
      "metadata": {
        "id": "dmw__IIzD4NU"
      },
      "source": [
        "The function uses the **get_word_index** function to obtain the dictionary of words and their uniquely assigned integers. It then creates another dictionary containing key, value groupings as value, and key groupings from the first dictionary. Finally, it returns the words based on their IDs (or keys). The indices are offset by 3 because 0, 1 and 2 are reserved indices for *padding*, *start of sequence* and *unknown*."
      ]
    },
    {
      "cell_type": "markdown",
      "metadata": {
        "id": "I2jmn6-fCzYf"
      },
      "source": [
        "## Invoke the Decoding Function\n",
        "\n",
        "Let's see what the longest review looks like. We just slice off a piece of it because it is pretty long."
      ]
    },
    {
      "cell_type": "code",
      "metadata": {
        "id": "OCJmsFwoCziI",
        "outputId": "9b7bde96-bf70-4d37-d3be-5c928b528c08",
        "colab": {
          "base_uri": "https://localhost:8080/",
          "height": 123
        }
      },
      "source": [
        "review = readable(train_reviews[longest_index])\n",
        "print ()\n",
        "print ('review:', end=' ')\n",
        "\n",
        "# just display a slice of the full review\n",
        "print (review[:50] + ' ...', br)\n",
        "\n",
        "label = train_labels[longest_index]\n",
        "idea = impression(label)\n",
        "print (idea, br)\n",
        "\n",
        "# verify length of review\n",
        "print (len(train_reviews[longest_index]))"
      ],
      "execution_count": 77,
      "outputs": [
        {
          "output_type": "stream",
          "text": [
            "\n",
            "review: ? match 1 tag team table match bubba ray and spike ... \n",
            "\n",
            "positive impression \n",
            "\n",
            "2494\n"
          ],
          "name": "stdout"
        }
      ]
    },
    {
      "cell_type": "markdown",
      "metadata": {
        "id": "lHEadDx-lCmz"
      },
      "source": [
        "So, the longest review has a label of '1', which means the review is positive."
      ]
    },
    {
      "cell_type": "markdown",
      "metadata": {
        "id": "laXHwWIXjkBH"
      },
      "source": [
        "## Find the Shortest Training Review\n",
        "\n",
        "Now, let's use similar logic to see how many words are in the shortest review."
      ]
    },
    {
      "cell_type": "code",
      "metadata": {
        "id": "yNkRCkD9jrtm",
        "outputId": "b1d12d18-529d-4fe9-e73f-7b55ff0e754a",
        "colab": {
          "base_uri": "https://localhost:8080/",
          "height": 34
        }
      },
      "source": [
        "shortest = np.amin([len(i) for i in train_reviews])\n",
        "print ('shortest review:', shortest)"
      ],
      "execution_count": 78,
      "outputs": [
        {
          "output_type": "stream",
          "text": [
            "shortest review: 11\n"
          ],
          "name": "stdout"
        }
      ]
    },
    {
      "cell_type": "markdown",
      "metadata": {
        "id": "gKnEKMaWGsM9"
      },
      "source": [
        "Get the index of the shortest review in the train sample."
      ]
    },
    {
      "cell_type": "code",
      "metadata": {
        "id": "v1RZ0BtMGsWL",
        "outputId": "0f8c20c9-a113-4a9b-bcc5-acefb5021e32",
        "colab": {
          "base_uri": "https://localhost:8080/",
          "height": 34
        }
      },
      "source": [
        "result = np.where([len(i) for i in train_reviews] == shortest)\n",
        "shortest_index = result[0][0]\n",
        "shortest_index"
      ],
      "execution_count": 79,
      "outputs": [
        {
          "output_type": "execute_result",
          "data": {
            "text/plain": [
              "6719"
            ]
          },
          "metadata": {
            "tags": []
          },
          "execution_count": 79
        }
      ]
    },
    {
      "cell_type": "markdown",
      "metadata": {
        "id": "omu1DbFTG9Rc"
      },
      "source": [
        "Let's see what the review looks like."
      ]
    },
    {
      "cell_type": "code",
      "metadata": {
        "id": "_y7087gEG9bL",
        "outputId": "9ab6142f-297b-475d-b8a7-c209ad8d3b65",
        "colab": {
          "base_uri": "https://localhost:8080/",
          "height": 105
        }
      },
      "source": [
        "review = readable(train_reviews[shortest_index])\n",
        "print (review[2:], br)\n",
        "\n",
        "label = train_labels[shortest_index]\n",
        "idea = impression(label)\n",
        "print (idea, br)\n",
        "\n",
        "# verify length of review\n",
        "print (len(train_reviews[shortest_index]))"
      ],
      "execution_count": 80,
      "outputs": [
        {
          "output_type": "stream",
          "text": [
            "i wouldn't rent this one even on dollar rental night \n",
            "\n",
            "negative impression \n",
            "\n",
            "11\n"
          ],
          "name": "stdout"
        }
      ]
    },
    {
      "cell_type": "markdown",
      "metadata": {
        "id": "oPSFYBhbwvV9"
      },
      "source": [
        "## Continue Exploring the Training Sample\n",
        "\n",
        "We continue with the average review length."
      ]
    },
    {
      "cell_type": "code",
      "metadata": {
        "id": "E1E2Cgo-uH2C",
        "outputId": "4c158f02-e797-4c61-b946-827a591ea197",
        "colab": {
          "base_uri": "https://localhost:8080/",
          "height": 34
        }
      },
      "source": [
        "length = [len(i) for i in train_reviews]\n",
        "\n",
        "print ('average review length:', np.mean(length))"
      ],
      "execution_count": 81,
      "outputs": [
        {
          "output_type": "stream",
          "text": [
            "average review length: 238.71364\n"
          ],
          "name": "stdout"
        }
      ]
    },
    {
      "cell_type": "markdown",
      "metadata": {
        "id": "BwOdVt29uf1C"
      },
      "source": [
        "The average length of a review is around 238 words."
      ]
    },
    {
      "cell_type": "markdown",
      "metadata": {
        "id": "tUu9j6Nnw1mb"
      },
      "source": [
        " Next, we display the first label and review (encoded as integers)."
      ]
    },
    {
      "cell_type": "code",
      "metadata": {
        "id": "z1FLuS6GugE6",
        "outputId": "0e01c983-c5cd-4c32-df68-43b74b29eee7",
        "colab": {
          "base_uri": "https://localhost:8080/",
          "height": 87
        }
      },
      "source": [
        "first_label = train_labels[0]\n",
        "\n",
        "print('label:', first_label, end=' ')\n",
        "\n",
        "idea = impression(first_label)\n",
        "print ('(' + idea + ')', br)\n",
        "\n",
        "# display slice of first review\n",
        "print (train_reviews[0][:20])\n",
        "\n",
        "# display readable slice of first review\n",
        "print (readable(train_reviews[0][:20]))"
      ],
      "execution_count": 82,
      "outputs": [
        {
          "output_type": "stream",
          "text": [
            "label: 1 (positive impression) \n",
            "\n",
            "[1, 14, 22, 16, 43, 530, 973, 1622, 1385, 65, 458, 4468, 66, 3941, 4, 173, 36, 256, 5, 25]\n",
            "? this film was just brilliant casting location scenery story direction everyone's really suited the part they played and you\n"
          ],
          "name": "stdout"
        }
      ]
    },
    {
      "cell_type": "markdown",
      "metadata": {
        "id": "56c0P8RVvvLa"
      },
      "source": [
        "The first review is positive. The review itself is encoded as a set of integers where each integer represents a word."
      ]
    },
    {
      "cell_type": "markdown",
      "metadata": {
        "id": "3OcNkBnAw7L7"
      },
      "source": [
        "We can display the first review in a readable format by decoding the integer IDs back into words."
      ]
    },
    {
      "cell_type": "code",
      "metadata": {
        "id": "g3X2lGXgv-d4",
        "outputId": "8911e3d6-38f8-41c3-f548-539b4206f9e5",
        "colab": {
          "base_uri": "https://localhost:8080/",
          "height": 34
        }
      },
      "source": [
        "review = readable(train_reviews[0])\n",
        "print (review[2:105] + ' ...')"
      ],
      "execution_count": 83,
      "outputs": [
        {
          "output_type": "stream",
          "text": [
            "this film was just brilliant casting location scenery story direction everyone's really suited the part ...\n"
          ],
          "name": "stdout"
        }
      ]
    },
    {
      "cell_type": "markdown",
      "metadata": {
        "id": "INDhRYM-zaj7"
      },
      "source": [
        "We printed only the first part of the review. To display the full review, just print *review*."
      ]
    },
    {
      "cell_type": "markdown",
      "metadata": {
        "id": "4A_XDCSWLFdN"
      },
      "source": [
        "## Train Keras IMDb Data"
      ]
    },
    {
      "cell_type": "markdown",
      "metadata": {
        "id": "OIwMYQfIBXWm"
      },
      "source": [
        "Limit vocabulary size to improve performance:"
      ]
    },
    {
      "cell_type": "code",
      "metadata": {
        "id": "MoUYm14QBXez"
      },
      "source": [
        "# limit vocabulary to 8000 most commonly used words in reviews\n",
        "vocab_size = 8000"
      ],
      "execution_count": 84,
      "outputs": []
    },
    {
      "cell_type": "markdown",
      "metadata": {
        "id": "UHfDGIduBXmt"
      },
      "source": [
        "Cut text size to 80 words to improve performance:"
      ]
    },
    {
      "cell_type": "code",
      "metadata": {
        "id": "C2lHU8CLBXsR"
      },
      "source": [
        "maxlen = 80"
      ],
      "execution_count": 85,
      "outputs": []
    },
    {
      "cell_type": "markdown",
      "metadata": {
        "id": "75QvoGWJBXyM"
      },
      "source": [
        "## Load Data"
      ]
    },
    {
      "cell_type": "markdown",
      "metadata": {
        "id": "29343yALBn2H"
      },
      "source": [
        "Load data with the limited vocabulary:"
      ]
    },
    {
      "cell_type": "code",
      "metadata": {
        "id": "KFabaoSSBX5S"
      },
      "source": [
        "(x_train, y_train), (x_test, y_test) =\\\n",
        "tf.keras.datasets.imdb.load_data(num_words=vocab_size)"
      ],
      "execution_count": 86,
      "outputs": []
    },
    {
      "cell_type": "markdown",
      "metadata": {
        "id": "K0gxu0czBX-j"
      },
      "source": [
        "Display information about train and test data:"
      ]
    },
    {
      "cell_type": "code",
      "metadata": {
        "id": "JnAzep-XBYEz",
        "outputId": "6fffe481-9906-4534-cc02-cb0bdaa0dbb0",
        "colab": {
          "base_uri": "https://localhost:8080/",
          "height": 141
        }
      },
      "source": [
        "print ('train and test features:')\n",
        "print (len(x_train), 'train sequences')\n",
        "print (len(x_test), 'test sequences', br)\n",
        "print ('sequence shape before padding:')\n",
        "print ('x_train shape:', x_train.shape)\n",
        "print ('x_test shape:', x_test.shape)"
      ],
      "execution_count": 87,
      "outputs": [
        {
          "output_type": "stream",
          "text": [
            "train and test features:\n",
            "25000 train sequences\n",
            "25000 test sequences \n",
            "\n",
            "sequence shape before padding:\n",
            "x_train shape: (25000,)\n",
            "x_test shape: (25000,)\n"
          ],
          "name": "stdout"
        }
      ]
    },
    {
      "cell_type": "markdown",
      "metadata": {
        "id": "8NSUP1h0BYKB"
      },
      "source": [
        "## Pad Samples"
      ]
    },
    {
      "cell_type": "markdown",
      "metadata": {
        "id": "XW1rM5EjB4YA"
      },
      "source": [
        "Convert train and test sets to numpy:"
      ]
    },
    {
      "cell_type": "code",
      "metadata": {
        "id": "Y-0eGkL_BYQs"
      },
      "source": [
        "x_train = np.asarray(x_train)\n",
        "x_test = np.asarray(x_test)"
      ],
      "execution_count": 88,
      "outputs": []
    },
    {
      "cell_type": "markdown",
      "metadata": {
        "id": "_DQPd0OLB8ou"
      },
      "source": [
        "Import appropriate library:"
      ]
    },
    {
      "cell_type": "code",
      "metadata": {
        "id": "92180fN0B8we"
      },
      "source": [
        "from tensorflow.keras.preprocessing.sequence import pad_sequences"
      ],
      "execution_count": 89,
      "outputs": []
    },
    {
      "cell_type": "markdown",
      "metadata": {
        "id": "yMSTkEjfB86W"
      },
      "source": [
        "Pad samples to ensure that all sequences are of the same length:"
      ]
    },
    {
      "cell_type": "code",
      "metadata": {
        "id": "1dgZuwYvB9Bd",
        "outputId": "0ea7be75-74ef-4d76-fd23-82bcf89a9da2",
        "colab": {
          "base_uri": "https://localhost:8080/",
          "height": 70
        }
      },
      "source": [
        "print('padded sequences (samples, maxlen):')\n",
        "x_train = pad_sequences(x_train, maxlen=maxlen)\n",
        "x_test = pad_sequences(x_test, maxlen=maxlen)\n",
        "print('x_train shape:', x_train.shape)\n",
        "print('x_test shape:', x_test.shape)"
      ],
      "execution_count": 90,
      "outputs": [
        {
          "output_type": "stream",
          "text": [
            "padded sequences (samples, maxlen):\n",
            "x_train shape: (25000, 80)\n",
            "x_test shape: (25000, 80)\n"
          ],
          "name": "stdout"
        }
      ]
    },
    {
      "cell_type": "markdown",
      "metadata": {
        "id": "PNVKowW6B9IO"
      },
      "source": [
        "## Build Input Pipeline"
      ]
    },
    {
      "cell_type": "markdown",
      "metadata": {
        "id": "xLllipryCJuj"
      },
      "source": [
        "Initialize pipeline variables:"
      ]
    },
    {
      "cell_type": "code",
      "metadata": {
        "id": "U9EAa-dhCJ3e"
      },
      "source": [
        "buffer_size = 10000\n",
        "batch_size = 512"
      ],
      "execution_count": 91,
      "outputs": []
    },
    {
      "cell_type": "markdown",
      "metadata": {
        "id": "gES8SYOlCJ9g"
      },
      "source": [
        "Prepare train data for TensorFlow consumption:"
      ]
    },
    {
      "cell_type": "code",
      "metadata": {
        "id": "IVEWxWG1CKEZ"
      },
      "source": [
        "train_k = tf.data.Dataset.from_tensor_slices(\n",
        "    (x_train, y_train))\n",
        "train_ks = train_k.shuffle(\n",
        "    buffer_size).batch(batch_size).prefetch(1)"
      ],
      "execution_count": 94,
      "outputs": []
    },
    {
      "cell_type": "markdown",
      "metadata": {
        "id": "mbtakVNUCKKI"
      },
      "source": [
        "Prepare test data for TensorFlow consumption:"
      ]
    },
    {
      "cell_type": "code",
      "metadata": {
        "id": "A3nuQ068CKQE"
      },
      "source": [
        "test_k = tf.data.Dataset.from_tensor_slices(\n",
        "    (x_test, y_test))\n",
        "test_ks = test_k.batch(batch_size).prefetch(1)"
      ],
      "execution_count": 97,
      "outputs": []
    },
    {
      "cell_type": "markdown",
      "metadata": {
        "id": "lIO45euvCKVm"
      },
      "source": [
        "## Build Model"
      ]
    },
    {
      "cell_type": "markdown",
      "metadata": {
        "id": "1L2Yrza1CZp2"
      },
      "source": [
        "Clear any previous models:"
      ]
    },
    {
      "cell_type": "code",
      "metadata": {
        "id": "9CV1G7NWCZxr"
      },
      "source": [
        "tf.keras.backend.clear_session()"
      ],
      "execution_count": 99,
      "outputs": []
    },
    {
      "cell_type": "markdown",
      "metadata": {
        "id": "yGpwXCuCCZ5a"
      },
      "source": [
        "Create model:"
      ]
    },
    {
      "cell_type": "code",
      "metadata": {
        "id": "ntPse37kCZ-H"
      },
      "source": [
        "embed_size = 128\n",
        "model = Sequential([\n",
        "  Embedding(vocab_size, embed_size, mask_zero=True,\n",
        "            input_shape=[None]),\n",
        "  GRU(128, return_sequences=True),\n",
        "  GRU(128),\n",
        "  Dense(1, activation=\"sigmoid\")\n",
        "])"
      ],
      "execution_count": 100,
      "outputs": []
    },
    {
      "cell_type": "markdown",
      "metadata": {
        "id": "nlebxWI2CaDk"
      },
      "source": [
        "## Compile Model"
      ]
    },
    {
      "cell_type": "code",
      "metadata": {
        "id": "vlPFHdiACaKN"
      },
      "source": [
        "model.compile(loss='binary_crossentropy',\n",
        "              optimizer='adam',\n",
        "              metrics=['accuracy'])"
      ],
      "execution_count": 101,
      "outputs": []
    },
    {
      "cell_type": "markdown",
      "metadata": {
        "id": "kBE2R06xCown"
      },
      "source": [
        "## Train Model"
      ]
    },
    {
      "cell_type": "markdown",
      "metadata": {
        "id": "TjEQv4_0CrVi"
      },
      "source": [
        "Suppress error messages:"
      ]
    },
    {
      "cell_type": "code",
      "metadata": {
        "id": "5z3X3oxECrc3"
      },
      "source": [
        "tf.compat.v1.logging.set_verbosity(tf.compat.v1.logging.ERROR)"
      ],
      "execution_count": 102,
      "outputs": []
    },
    {
      "cell_type": "markdown",
      "metadata": {
        "id": "IfTwrwRdCrpf"
      },
      "source": [
        "Train:"
      ]
    },
    {
      "cell_type": "code",
      "metadata": {
        "id": "wiln-hlQCrvn",
        "outputId": "bfce81d3-a014-46d6-c50a-0e69be42ed6b",
        "colab": {
          "base_uri": "https://localhost:8080/",
          "height": 105
        }
      },
      "source": [
        "epochs = 2\n",
        "\n",
        "model.fit(train_ks, batch_size=BATCH_SIZE,\n",
        "          epochs=epochs, validation_data=(test_ks))"
      ],
      "execution_count": 103,
      "outputs": [
        {
          "output_type": "stream",
          "text": [
            "Epoch 1/2\n",
            "49/49 [==============================] - 21s 427ms/step - loss: 0.5425 - accuracy: 0.7097 - val_loss: 0.3797 - val_accuracy: 0.8268\n",
            "Epoch 2/2\n",
            "49/49 [==============================] - 20s 408ms/step - loss: 0.3090 - accuracy: 0.8677 - val_loss: 0.3648 - val_accuracy: 0.8389\n"
          ],
          "name": "stdout"
        },
        {
          "output_type": "execute_result",
          "data": {
            "text/plain": [
              "<tensorflow.python.keras.callbacks.History at 0x7f6beb743668>"
            ]
          },
          "metadata": {
            "tags": []
          },
          "execution_count": 103
        }
      ]
    },
    {
      "cell_type": "markdown",
      "metadata": {
        "id": "twIzOJ86Cr1H"
      },
      "source": [
        "## Predict"
      ]
    },
    {
      "cell_type": "markdown",
      "metadata": {
        "id": "4G-9W5SDC5OU"
      },
      "source": [
        "Get predictions:"
      ]
    },
    {
      "cell_type": "code",
      "metadata": {
        "id": "wX4o7IQCC5lW"
      },
      "source": [
        "k_pred = model.predict(test_ks)"
      ],
      "execution_count": 104,
      "outputs": []
    },
    {
      "cell_type": "markdown",
      "metadata": {
        "id": "yRCSgYpwC5r4"
      },
      "source": [
        "Display first prediction:"
      ]
    },
    {
      "cell_type": "code",
      "metadata": {
        "id": "_QwbgNwIC5xr",
        "outputId": "4a1ba11f-89d9-4a4b-f4be-e11819db7d1d",
        "colab": {
          "base_uri": "https://localhost:8080/",
          "height": 35
        }
      },
      "source": [
        "impression(k_pred[0][0])"
      ],
      "execution_count": 105,
      "outputs": [
        {
          "output_type": "execute_result",
          "data": {
            "application/vnd.google.colaboratory.intrinsic+json": {
              "type": "string"
            },
            "text/plain": [
              "'negative impression'"
            ]
          },
          "metadata": {
            "tags": []
          },
          "execution_count": 105
        }
      ]
    },
    {
      "cell_type": "markdown",
      "metadata": {
        "id": "cBcrW6_OC56j"
      },
      "source": [
        "Display a slice of the review:"
      ]
    },
    {
      "cell_type": "code",
      "metadata": {
        "id": "2BRjgrdgCr6n",
        "outputId": "a1dc0b41-c0db-4fd2-ddb1-000cc92bfa96",
        "colab": {
          "base_uri": "https://localhost:8080/",
          "height": 35
        }
      },
      "source": [
        "pred_first = readable(x_test[0])\n",
        "pred_first[26:53]"
      ],
      "execution_count": 108,
      "outputs": [
        {
          "output_type": "execute_result",
          "data": {
            "application/vnd.google.colaboratory.intrinsic+json": {
              "type": "string"
            },
            "text/plain": [
              "'please give this one a miss'"
            ]
          },
          "metadata": {
            "tags": []
          },
          "execution_count": 108
        }
      ]
    },
    {
      "cell_type": "markdown",
      "metadata": {
        "id": "P3tu220yDMOO"
      },
      "source": [
        "Display the impression:"
      ]
    },
    {
      "cell_type": "code",
      "metadata": {
        "id": "zWn0UWN_CKcW",
        "outputId": "783ac9c9-458e-4700-f654-9aa3a3eff913",
        "colab": {
          "base_uri": "https://localhost:8080/",
          "height": 35
        }
      },
      "source": [
        "impression(y_test[0])"
      ],
      "execution_count": 109,
      "outputs": [
        {
          "output_type": "execute_result",
          "data": {
            "application/vnd.google.colaboratory.intrinsic+json": {
              "type": "string"
            },
            "text/plain": [
              "'negative impression'"
            ]
          },
          "metadata": {
            "tags": []
          },
          "execution_count": 109
        }
      ]
    }
  ]
}