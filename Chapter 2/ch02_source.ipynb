{
  "nbformat": 4,
  "nbformat_minor": 0,
  "metadata": {
    "colab": {
      "name": "ch02.ipynb",
      "provenance": [],
      "collapsed_sections": []
    },
    "kernelspec": {
      "display_name": "Python 3",
      "language": "python",
      "name": "python3"
    },
    "language_info": {
      "codemirror_mode": {
        "name": "ipython",
        "version": 3
      },
      "file_extension": ".py",
      "mimetype": "text/x-python",
      "name": "python",
      "nbconvert_exporter": "python",
      "pygments_lexer": "ipython3",
      "version": "3.7.3"
    },
    "accelerator": "GPU"
  },
  "cells": [
    {
      "cell_type": "markdown",
      "metadata": {
        "id": "zPvLEtxwhKfy",
        "colab_type": "text"
      },
      "source": [
        "# GPU Hardware Accelerator\n",
        "To vastly speed up processing, we can use the Google Colab GPU. However, we must enable the GPU in each newly created notebook:\n",
        "1.\tclick Runtime in the top left menu\n",
        "2.\tclick Change runtime type from the drop-down menu\n",
        "3.\tchoose GPU from the Hardware accelerator drop-down menu\n",
        "4.\tclick SAVE\n",
        "\n",
        "The free GPU has usage limits. Consult the following URL to find out more: https://research.google.com/colaboratory/faq.html#resource-limits\n"
      ]
    },
    {
      "cell_type": "markdown",
      "metadata": {
        "id": "o3aPUqBChb3M",
        "colab_type": "text"
      },
      "source": [
        "Test if GPU is active:"
      ]
    },
    {
      "cell_type": "code",
      "metadata": {
        "id": "hAmt98Xkhb-G",
        "colab_type": "code",
        "colab": {
          "base_uri": "https://localhost:8080/",
          "height": 34
        },
        "outputId": "4f581a7c-3e52-45c2-95fb-624d5ab974ae"
      },
      "source": [
        "import tensorflow as tf\n",
        "\n",
        "# display tf version and test if GPU is active\n",
        "tf.__version__, tf.test.gpu_device_name()"
      ],
      "execution_count": 2,
      "outputs": [
        {
          "output_type": "execute_result",
          "data": {
            "text/plain": [
              "('2.3.0', '/device:GPU:0')"
            ]
          },
          "metadata": {
            "tags": []
          },
          "execution_count": 2
        }
      ]
    },
    {
      "cell_type": "markdown",
      "metadata": {
        "colab_type": "text",
        "id": "qUdBqDRN9LWj"
      },
      "source": [
        "# Tensors in the **load_digits** Dataset\n",
        "\n",
        "Let's explore tensors in context with the **load_digits** dataset. The dataset is part of the Scikit-Learn library, which is a free software machine learning library for the Python programming language. It features various classification, regression and clustering algorithms that are easy to use and manipulate.\n",
        "\n",
        "The load_digits dataset consists of 1797 8x8 images. Each image represents a hand-written digit from 0-9. Image data is contained in the **images** container. The dataset also contains the data flattened into feature vectors of length 64 in the **data** container. The length of 64 is obtained by multiplying the 8X8 image pixels. That is, each image is represented by 8 rows and 8 columns of pixels. So, the flattened data set consists of 1797 flattened vectors of 64 elements. Target values are contained in the **target** container and target names are contained in the **target_names** container. Finally, the **DESCR** holds descriptions of the dataset.\n",
        "\n",
        "The data container of flattened vectors is included to allow us to more easily use Scikit-Learn machine learning algorithms. The image container is included so that we can visualize digits.\n",
        "\n",
        "Now, let's get the data and explore:"
      ]
    },
    {
      "cell_type": "code",
      "metadata": {
        "colab_type": "code",
        "id": "VH1AmPXJAIV8",
        "colab": {
          "base_uri": "https://localhost:8080/",
          "height": 34
        },
        "outputId": "e857991d-862e-4cf9-9ed6-d532f67891ed"
      },
      "source": [
        "import tensorflow as tf\n",
        "from sklearn.datasets import load_digits\n",
        "\n",
        "# get data\n",
        "\n",
        "digits = load_digits()\n",
        "\n",
        "# get available containers (or keys) from dataset\n",
        "\n",
        "br = '\\n' # create a newline variable\n",
        "\n",
        "print (digits.keys())"
      ],
      "execution_count": 3,
      "outputs": [
        {
          "output_type": "stream",
          "text": [
            "dict_keys(['data', 'target', 'target_names', 'images', 'DESCR'])\n"
          ],
          "name": "stdout"
        }
      ]
    },
    {
      "cell_type": "code",
      "metadata": {
        "id": "YrtjOHGuApR2",
        "colab_type": "code",
        "colab": {}
      },
      "source": [
        "# create variables\n",
        "\n",
        "data = digits.data\n",
        "images = digits.images\n",
        "targets = digits.target\n",
        "target_names = digits.target_names"
      ],
      "execution_count": 4,
      "outputs": []
    },
    {
      "cell_type": "code",
      "metadata": {
        "id": "_JbRNw5nApYW",
        "colab_type": "code",
        "colab": {
          "base_uri": "https://localhost:8080/",
          "height": 318
        },
        "outputId": "15f820bf-6fb9-4fe9-928d-19f3be81659a"
      },
      "source": [
        "# display tensor information\n",
        "\n",
        "print ('data container:')\n",
        "print (str(data.ndim) + 'D tensor')\n",
        "print (data.shape)\n",
        "print (data.dtype, br)\n",
        "\n",
        "print ('image container:')\n",
        "print (str(images.ndim) + 'D tensor')\n",
        "print (images.shape)\n",
        "print (images.dtype, br)\n",
        "\n",
        "print ('targets container:')\n",
        "print (str(targets.ndim) + 'D tensor')\n",
        "print (targets.shape)\n",
        "print (targets.dtype, br)\n",
        "\n",
        "print ('target names container:')\n",
        "print (target_names)"
      ],
      "execution_count": 5,
      "outputs": [
        {
          "output_type": "stream",
          "text": [
            "data container:\n",
            "2D tensor\n",
            "(1797, 64)\n",
            "float64 \n",
            "\n",
            "image container:\n",
            "3D tensor\n",
            "(1797, 8, 8)\n",
            "float64 \n",
            "\n",
            "targets container:\n",
            "1D tensor\n",
            "(1797,)\n",
            "int64 \n",
            "\n",
            "target names container:\n",
            "[0 1 2 3 4 5 6 7 8 9]\n"
          ],
          "name": "stdout"
        }
      ]
    },
    {
      "cell_type": "markdown",
      "metadata": {
        "colab_type": "text",
        "id": "NCugdcu5_AM1"
      },
      "source": [
        "So, flattened data is a 2D tensor consisting of 1797 vectors each with 64 float64 elements. Image data is a 3D tensor consisting of 1797 float64 8x8 pixel image matrices. Target data is a 1D tensor with 1797 int64 target values that correspond to each data element. As you can see, target_names range from 0 to 9.\n",
        "\n",
        "Let's look at the 1st data element and visualize the digit between 0 and 9 that it represents:"
      ]
    },
    {
      "cell_type": "code",
      "metadata": {
        "colab_type": "code",
        "id": "W65O8mxrDrCL",
        "colab": {
          "base_uri": "https://localhost:8080/",
          "height": 264
        },
        "outputId": "fff728a8-5fd6-4137-a785-7ebf0f5cc2d6"
      },
      "source": [
        "# first image begins at index 0\n",
        "\n",
        "image = images[0]\n",
        "import matplotlib.pyplot as plt\n",
        "plt.imshow(image, cmap='binary')\n",
        "plt.show()"
      ],
      "execution_count": 6,
      "outputs": [
        {
          "output_type": "display_data",
          "data": {
            "image/png": "[encoded data removed]",
            "text/plain": [
              "<Figure size 432x288 with 1 Axes>"
            ]
          },
          "metadata": {
            "tags": [],
            "needs_background": "light"
          }
        }
      ]
    },
    {
      "cell_type": "code",
      "metadata": {
        "id": "D2YHG21QFHyg",
        "colab_type": "code",
        "colab": {
          "base_uri": "https://localhost:8080/",
          "height": 230
        },
        "outputId": "e36817a2-fd86-44e3-9d60-c5d897cc6252"
      },
      "source": [
        "# first digit begins at index 0\n",
        "\n",
        "target = targets[0]\n",
        "print ('digit is:', target, br)\n",
        "\n",
        "# image matrix of first image\n",
        "\n",
        "print ('image matrix:', br)\n",
        "print (image)"
      ],
      "execution_count": 7,
      "outputs": [
        {
          "output_type": "stream",
          "text": [
            "digit is: 0 \n",
            "\n",
            "image matrix: \n",
            "\n",
            "[[ 0.  0.  5. 13.  9.  1.  0.  0.]\n",
            " [ 0.  0. 13. 15. 10. 15.  5.  0.]\n",
            " [ 0.  3. 15.  2.  0. 11.  8.  0.]\n",
            " [ 0.  4. 12.  0.  0.  8.  8.  0.]\n",
            " [ 0.  5.  8.  0.  0.  9.  8.  0.]\n",
            " [ 0.  4. 11.  0.  1. 12.  7.  0.]\n",
            " [ 0.  2. 14.  5. 10. 12.  0.  0.]\n",
            " [ 0.  0.  6. 13. 10.  0.  0.  0.]]\n"
          ],
          "name": "stdout"
        }
      ]
    },
    {
      "cell_type": "markdown",
      "metadata": {
        "colab_type": "text",
        "id": "7kiTW9HXMMek"
      },
      "source": [
        "# Image Matrix\n",
        "\n",
        "1. The numbers in the matrix we just displayed reprent grayscale intensity\n",
        "2. So, every '0' represents **white** space\n",
        "3. And, higher numbers represent darker shades of **gray** to **black**\n",
        "\n",
        "That is, the lower the number, the lighter the gray (with zero being white). The higher the number, the darker the shade of gray (with high numbers approaching black). So, you can kind of see the digit 0 by looking at the numbers in the matrix."
      ]
    },
    {
      "cell_type": "markdown",
      "metadata": {
        "colab_type": "text",
        "id": "o1wdKGG5Nq51"
      },
      "source": [
        "# Split into Train-Test Data\n",
        "\n",
        "We can use the **images** data directly or reshape the flattened **data**. Let's start by reshaping the flattened data. This is a good exercise because you may have to reshape a dataset in the future.\n",
        "\n",
        "For machine learning and deep learning applications, we split data into a training set and testing set. The **training** set contains a known output and the model learns on this data in order to be generalized to other data later on. The **test** dataset is used to test our model's prediction.\n",
        "\n",
        "The **train_test_split** module is part of the Scikit-Learn library. It allows us to efficiently split arrays or matrices into random train and test subsets. With the *test_size* parameter, we can set the size of the training and test sets. In the case below, the test subset is 33% and the training subset is 67% of the larger dataset. The *random_state* parameter is set to stabilize results. If not set, results can vary widely with each run of our training algorithm. "
      ]
    },
    {
      "cell_type": "code",
      "metadata": {
        "colab_type": "code",
        "id": "CG99ileKOVzj",
        "colab": {}
      },
      "source": [
        "# Input image dimensions\n",
        "\n",
        "img_rows, img_cols = 8, 8"
      ],
      "execution_count": 8,
      "outputs": []
    },
    {
      "cell_type": "code",
      "metadata": {
        "id": "aoA5nPgnKxgu",
        "colab_type": "code",
        "colab": {
          "base_uri": "https://localhost:8080/",
          "height": 52
        },
        "outputId": "66a9bdc9-f89f-4403-f80c-78d79a80130f"
      },
      "source": [
        "# Reshape\n",
        "X = data.reshape(data.shape[0], img_rows, img_cols)\n",
        "print ('X reshaped:', X.shape)\n",
        "print ('number of dimensions:', X.ndim)"
      ],
      "execution_count": 9,
      "outputs": [
        {
          "output_type": "stream",
          "text": [
            "X reshaped: (1797, 8, 8)\n",
            "number of dimensions: 3\n"
          ],
          "name": "stdout"
        }
      ]
    },
    {
      "cell_type": "code",
      "metadata": {
        "id": "tphOCs_kLEuR",
        "colab_type": "code",
        "colab": {
          "base_uri": "https://localhost:8080/",
          "height": 34
        },
        "outputId": "255a3f01-8d79-4990-a389-7d5c0d763fe3"
      },
      "source": [
        "y = targets\n",
        "y.shape"
      ],
      "execution_count": 10,
      "outputs": [
        {
          "output_type": "execute_result",
          "data": {
            "text/plain": [
              "(1797,)"
            ]
          },
          "metadata": {
            "tags": []
          },
          "execution_count": 10
        }
      ]
    },
    {
      "cell_type": "code",
      "metadata": {
        "id": "uqYKR3adKx5K",
        "colab_type": "code",
        "colab": {}
      },
      "source": [
        "from sklearn.model_selection import train_test_split\n",
        "\n",
        "X_train, X_test, y_train, y_test = train_test_split(\n",
        "    X, y, test_size=0.33, random_state=0)"
      ],
      "execution_count": 12,
      "outputs": []
    },
    {
      "cell_type": "markdown",
      "metadata": {
        "colab_type": "text",
        "id": "wxBPQw-JPAeu"
      },
      "source": [
        "Alternatively, we can use the images directly because it is already in matrix form."
      ]
    },
    {
      "cell_type": "code",
      "metadata": {
        "colab_type": "code",
        "id": "AIy67nRbPIGO",
        "colab": {
          "base_uri": "https://localhost:8080/",
          "height": 230
        },
        "outputId": "4430c832-ca61-424f-a72e-64b340c573eb"
      },
      "source": [
        "X_alt = images\n",
        "y_alt = targets\n",
        "\n",
        "print ('X:', X_alt.shape)\n",
        "print ('number of dimensions:', X_alt.ndim, br)\n",
        "\n",
        "X_tra, X_tes, y_tra, y_tes = train_test_split(\n",
        "    X_alt, y_alt, test_size=0.33, random_state=0)\n",
        "\n",
        "print ('X_train:', X_tra.shape)\n",
        "print ('number of dimensions:', X_tra.ndim)\n",
        "train_percent = X_tra.shape[0] / X_alt.shape[0]\n",
        "print ('train data percent of X data:', train_percent, br)\n",
        "\n",
        "print ('X_test:', X_tes.shape)\n",
        "print ('number of dimensions:', X_tes.ndim)\n",
        "test_percent = X_tes.shape[0] / X_alt.shape[0]\n",
        "print ('test data percent of X data:', test_percent, br)\n",
        "\n",
        "num_images = X_tra.shape[0] + X_tes.shape[0]\n",
        "print ('total number of images:', num_images)"
      ],
      "execution_count": 13,
      "outputs": [
        {
          "output_type": "stream",
          "text": [
            "X: (1797, 8, 8)\n",
            "number of dimensions: 3 \n",
            "\n",
            "X_train: (1203, 8, 8)\n",
            "number of dimensions: 3\n",
            "train data percent of X data: 0.669449081803005 \n",
            "\n",
            "X_test: (594, 8, 8)\n",
            "number of dimensions: 3\n",
            "test data percent of X data: 0.330550918196995 \n",
            "\n",
            "total number of images: 1797\n"
          ],
          "name": "stdout"
        }
      ]
    },
    {
      "cell_type": "markdown",
      "metadata": {
        "colab_type": "text",
        "id": "K5BPl2nOyek6"
      },
      "source": [
        "We know that the train_test_split() worked as expected because the training set (X_train) contains 1203 images (two-thirds of X data) while the test set (X_test) contains 594 images (one-third of X data)."
      ]
    },
    {
      "cell_type": "markdown",
      "metadata": {
        "colab_type": "text",
        "id": "Oh74lWrNT9gV"
      },
      "source": [
        "# Load NumPy arrays with tf.data.Dataset\n",
        "\n",
        "Let's build our first neural network with TensorFlow 2.x. Assuming you have an array of examples and a corresponding array of labels, pass the two arrays as a tuple into **tf.data.Dataset.from_tensor_slices** to create a **tf.data.Dataset**.\n",
        "\n",
        "## Build the Input Pipeline\n",
        "\n",
        "* ensure that feature data is float32 or float 64\n",
        "* ensure that target data is int32 or int64\n",
        "* normalize data\n",
        "* create a dataset whose elements are slices of the given tensors\n",
        "* notice that train and test tensors are composed of both images AND labels\n",
        "\n",
        "When training a neural network, it is most common to use either 32-bit precision data. However, 64-bit precision data can also be used.In our case, training data is already 64-bit (float64) precision so we don't have to convert it. Target data should be either int32 or int64. In our case, it is int64.\n",
        "\n",
        "To scale the data, we divide each image by 255. Data values (image pixels) are often stored as integer numbers in the range from 0 to 255, which is the range that a single 8-bit byte can hold. So, this division ensures that input features are scaled between 0.0 and 1.0. Scaling reduces erratic behavior of our neural network during training.\n",
        "\n",
        "To create the data objects that tensorflow requires, we need to take slices from the training and test tensors. The **tf.data.Dataset.from_tensor_slices** method takes slices from the given tensors in the form of tensorflow objects. That is, the method creates a dataset whose elements are slices of the given tensors."
      ]
    },
    {
      "cell_type": "code",
      "metadata": {
        "id": "p3ZjIcP4SV8g",
        "colab_type": "code",
        "colab": {
          "base_uri": "https://localhost:8080/",
          "height": 34
        },
        "outputId": "7f07e3ba-8c9b-45ab-8612-f1fe73545578"
      },
      "source": [
        "# TensorFlow expects feature data as float and label as int\n",
        "\n",
        "X_train.dtype, y_train.dtype"
      ],
      "execution_count": 15,
      "outputs": [
        {
          "output_type": "execute_result",
          "data": {
            "text/plain": [
              "(dtype('float64'), dtype('int64'))"
            ]
          },
          "metadata": {
            "tags": []
          },
          "execution_count": 15
        }
      ]
    },
    {
      "cell_type": "code",
      "metadata": {
        "colab_type": "code",
        "id": "p8leDHzaCK-r",
        "colab": {}
      },
      "source": [
        "# scale by dividing by the number of pixels in an image\n",
        "\n",
        "s_train = X_train / 255.0\n",
        "\n",
        "s_test = X_test / 255.0"
      ],
      "execution_count": 20,
      "outputs": []
    },
    {
      "cell_type": "code",
      "metadata": {
        "id": "QjGcD8onV065",
        "colab_type": "code",
        "colab": {}
      },
      "source": [
        "# create tensors for TensorFlow consumption\n",
        "\n",
        "train_dataset = tf.data.Dataset.from_tensor_slices((s_train,\n",
        "                                                    y_train))\n",
        "test_dataset = tf.data.Dataset.from_tensor_slices((s_test,\n",
        "                                                   y_test))"
      ],
      "execution_count": 25,
      "outputs": []
    },
    {
      "cell_type": "markdown",
      "metadata": {
        "colab_type": "text",
        "id": "f0BtNxBHAeH6"
      },
      "source": [
        "Let's see what our tensor slices look like: "
      ]
    },
    {
      "cell_type": "code",
      "metadata": {
        "colab_type": "code",
        "id": "qvNfgFS_dkmO",
        "colab": {
          "base_uri": "https://localhost:8080/",
          "height": 52
        },
        "outputId": "dad191aa-b816-4262-c317-e29030c02bff"
      },
      "source": [
        "print ('train:', train_dataset)\n",
        "print ('test: ', test_dataset)"
      ],
      "execution_count": 26,
      "outputs": [
        {
          "output_type": "stream",
          "text": [
            "train: <TensorSliceDataset shapes: ((8, 8), ()), types: (tf.float64, tf.int64)>\n",
            "test:  <TensorSliceDataset shapes: ((8, 8), ()), types: (tf.float64, tf.int64)>\n"
          ],
          "name": "stdout"
        }
      ]
    },
    {
      "cell_type": "markdown",
      "metadata": {
        "colab_type": "text",
        "id": "JZsOMQP7AqxB"
      },
      "source": [
        "As you can see, both train and test tensor slices consist of 8x8 images with float64 feature images and int64 scalar target values. Scalar images are represented by '()'."
      ]
    },
    {
      "cell_type": "markdown",
      "metadata": {
        "colab_type": "text",
        "id": "xgTO2vrlkUA0"
      },
      "source": [
        "## Explore TensorFlow Data\n",
        "\n",
        "Let's explore what is actually inside the TensorSliceDataset **train_dataset** that we just created. Use the **take()** method to grab samples starting from the first one in the dataset."
      ]
    },
    {
      "cell_type": "code",
      "metadata": {
        "id": "dPZ0rNULY547",
        "colab_type": "code",
        "colab": {
          "base_uri": "https://localhost:8080/",
          "height": 105
        },
        "outputId": "71d668d2-8de3-41c7-8b34-444bf2d4e600"
      },
      "source": [
        "for feature, label in train_dataset.take(1):\n",
        "  print (feature[0], br)\n",
        "  print (label)"
      ],
      "execution_count": 27,
      "outputs": [
        {
          "output_type": "stream",
          "text": [
            "tf.Tensor(\n",
            "[0.         0.         0.05098039 0.0627451  0.0627451  0.05882353\n",
            " 0.00784314 0.        ], shape=(8,), dtype=float64) \n",
            "\n",
            "tf.Tensor(8, shape=(), dtype=int64)\n"
          ],
          "name": "stdout"
        }
      ]
    },
    {
      "cell_type": "code",
      "metadata": {
        "id": "vQDScysdZbOa",
        "colab_type": "code",
        "colab": {
          "base_uri": "https://localhost:8080/",
          "height": 52
        },
        "outputId": "9998adc1-1035-43f8-e33e-be196da8cbb0"
      },
      "source": [
        "for _, label in test_dataset.take(2):\n",
        "  print (label)"
      ],
      "execution_count": 28,
      "outputs": [
        {
          "output_type": "stream",
          "text": [
            "tf.Tensor(2, shape=(), dtype=int64)\n",
            "tf.Tensor(8, shape=(), dtype=int64)\n"
          ],
          "name": "stdout"
        }
      ]
    },
    {
      "cell_type": "markdown",
      "metadata": {
        "colab_type": "text",
        "id": "gzGq0e3qLa-A"
      },
      "source": [
        "# Shuffle Data\n",
        "\n",
        "We want to shuffle data after each epoch because we want to ensure that each batch of data is representative of the overall dataset. An **epoch** is one complete presentation of the dataset to be learned from a machine learning alogrithm. Neural nets often use iterative algorithms that employ many epochs during their learning phase. A **batch** of data is a group of training samples. Deep learning models don't process an entire dataset at once. They break the data into small batches.\n",
        "\n",
        "Shuffling your data after each epoch ensures that you will not be *stuck* with too many bad batches. Shuffling data also serves the purpose of reducing variance and making sure that models remain general and overfit less. **Overfitting** is when a model trains data too well. Overfitting happens when a model learns the detail and noise in the training data to the extent that it negatively impacts the performance of the model on new data. We will discuss overfitting within the context of this example shortly.\n",
        "\n",
        "Shuffling your data ensures that each data point creates an *independent* change on the model without being biased by the same points before them. By shuffling, we ensure that training data fed to the model contains all flavors of the data.\n",
        "\n",
        "A great metaphor is **shuffling a deck of cards**. We shuffle a deck of cards before playing a card game because we want to make sure that each player gets the same chance of getting a specific card as another. So, just like shuffling a deck of cards removes bias so does shuffling data before each epoch when training a neural net."
      ]
    },
    {
      "cell_type": "code",
      "metadata": {
        "colab_type": "code",
        "id": "7aod_0fnQxbm",
        "colab": {}
      },
      "source": [
        "BATCH_SIZE = 64\n",
        "SHUFFLE_BUFFER_SIZE = 100"
      ],
      "execution_count": 29,
      "outputs": []
    },
    {
      "cell_type": "code",
      "metadata": {
        "id": "l8y7E8EddCQM",
        "colab_type": "code",
        "colab": {}
      },
      "source": [
        "# rename train and test sets\n",
        "\n",
        "train_ds = train_dataset\\\n",
        ".shuffle(SHUFFLE_BUFFER_SIZE)\\\n",
        ".batch(BATCH_SIZE)\n",
        "\n",
        "test_ds = test_dataset.batch(BATCH_SIZE)"
      ],
      "execution_count": 32,
      "outputs": []
    },
    {
      "cell_type": "markdown",
      "metadata": {
        "colab_type": "text",
        "id": "E-kyVJb6Q5Dk"
      },
      "source": [
        "Notice that we only shuffle training data. The reason is because test data is supposed to represent data that our model has not seen. That is, test data is supposed to represent new data. Once we run the shuffle() method on training data, the model **automatically** shuffles the data before each epoch!\n",
        "\n",
        "Deep learning models don't process an entire dataset at once. They break the data up into small batches. So, we arbitrarily set **batch size** to **64** and shuffle buffer size to **100**. You can try different values to see how your results are impacted. We suggest making buffer size relatively large or shuffling won't be very effective.\n",
        "\n",
        "We also recommend renaming train and test sets because we don't want to batch and shuffle more than once!"
      ]
    },
    {
      "cell_type": "markdown",
      "metadata": {
        "id": "zTIun6d_MbHs",
        "colab_type": "text"
      },
      "source": [
        "Let's look at what happened to the data."
      ]
    },
    {
      "cell_type": "code",
      "metadata": {
        "id": "mrrnRRgPMbP7",
        "colab_type": "code",
        "colab": {
          "base_uri": "https://localhost:8080/",
          "height": 52
        },
        "outputId": "6bc6d6ba-6aee-4ee1-9b4f-0de5a6435779"
      },
      "source": [
        "train_ds, test_ds"
      ],
      "execution_count": 33,
      "outputs": [
        {
          "output_type": "execute_result",
          "data": {
            "text/plain": [
              "(<BatchDataset shapes: ((None, 8, 8), (None,)), types: (tf.float64, tf.int64)>,\n",
              " <BatchDataset shapes: ((None, 8, 8), (None,)), types: (tf.float64, tf.int64)>)"
            ]
          },
          "metadata": {
            "tags": []
          },
          "execution_count": 33
        }
      ]
    },
    {
      "cell_type": "markdown",
      "metadata": {
        "id": "B-SSV3otNHK1",
        "colab_type": "text"
      },
      "source": [
        "After batching data, we get **None** as an extra dimension. What happened? The extra dimension tells TensorFlow that batching has occurred. Since TensorFlow models can accept any batch size, 'None' is added."
      ]
    },
    {
      "cell_type": "markdown",
      "metadata": {
        "colab_type": "text",
        "id": "g5YXg94rk0c-"
      },
      "source": [
        "# Feedforward Neural Network\n",
        "\n",
        "Our simple example is a feedforward neural network. A **feedforward** neural network is one where information only travels forward in the network. So, data moves from the input nodes, through the hidden nodes (if any), and to the output nodes. There are no cycles or loops in the network.\n",
        "\n",
        "The layers in our network are **fully-connected**, which means that each layer is fully conected to the next one. Fully connected layers connect every node (or neuron) in the previous layer with every node in the successive layer. That is, each neuron in a **layer** receives an input from all the neurons present in the **previous layer**. Fully connected layers are typically referred to as  **densely** connected.\n",
        "\n"
      ]
    },
    {
      "cell_type": "markdown",
      "metadata": {
        "colab_type": "text",
        "id": "KHDabSVUR78v"
      },
      "source": [
        "# Number of layers\n",
        "\n",
        "* typically more layers increase performance\n",
        "* but, more layers require more computer resources\n",
        "\n",
        "When we don't have very much training data, a simple network with few layers tends to perform as good as or better than a complex one with many layers. Actually, it is a good idea to start with a simple network when you first begin exploring a new dataset. We also suggest drawing a small random sample on the dataset and training it with the simple network to get an idea of its potential performance. Following this suggestion saves time and computing resources upfront. And, we get acquainted with our data. If the simple model doesn't train well on the small sample, we may have to get more data and/or try to find out why we got poor performance before we spend time creating a more complex model."
      ]
    },
    {
      "cell_type": "markdown",
      "metadata": {
        "colab_type": "text",
        "id": "rXrrBDzvoS4N"
      },
      "source": [
        "  \n",
        "\n",
        "# Our Model\n",
        "\n",
        "Our model contains an input layer, a hidden layer, and an output layer. The first layer in a neural net model is always an input layer because it must understand the shape of feature data to operate appropriately.\n",
        "\n",
        "The first layer in our model accepts feature data as flattened vectors. **Flattening** is the process of converting data into a 1D array for inputting into the next layer. When training a fully-connected neural net, the input layer should always accept either 1D vectors or 2D matrices.\n",
        "\n",
        "Simply, the role of a *Flatten* layer is to convert each input into a 1D array. This layer doesn't have any parameters. It exists to do some simple preprocessing. Since this layer is the first layer in our model, we must specify the *input_shape* of the feature instances. So, we set **input_shape=(8, 8)** since each feature image is represented by an 8 X 8 matrix.\n",
        "\n",
        "The second layer is a densely connected hidden layer. It contains 256 neurons (or nodes) and uses the **relu** activation function. The final layer is an output layer. It is also densely connected, contains 10 neurons, and uses the **softmax** activation function. The output layer must always contain the same amount of neurons as it has classes. In our case, we are classifying digits 0-9 so we have 10 classes.\n",
        "\n",
        "Just like the number of layers, we can increase the number of neurons from 256 to a larger number. However, (just like adding layers) more neurons increases processing requirements. With large datasets, adding layers and additional neurons can significantly impact processing time!\n",
        "\n",
        "An **activation function** of a node defines the output of that node given an input or set of inputs. It is actually an algorithm that acts on (or activates) each node in a neural net.\n",
        "\n",
        "**Relu** (rectified linear activation function) is a piecewise linear function that will output the input directly if it is positive, otherwise, it will output zero. It has become the default activation function for many types of neural networks because a model that uses it is easier to train and often achieves better performance.\n",
        "\n",
        "**Softmax** is an activation function frequently used in classifications where classes are mutually exclusive. Softmax output is large if the score is large. Its output is small if the score is small."
      ]
    },
    {
      "cell_type": "markdown",
      "metadata": {
        "id": "5FRfPvnzS9VL",
        "colab_type": "text"
      },
      "source": [
        "Define the input shape:"
      ]
    },
    {
      "cell_type": "code",
      "metadata": {
        "id": "o2mQUGrzS9cp",
        "colab_type": "code",
        "colab": {
          "base_uri": "https://localhost:8080/",
          "height": 34
        },
        "outputId": "fb2ee6c4-6b78-4872-f0a9-9d18a0393ddf"
      },
      "source": [
        "for item in train_ds.take(1):\n",
        "  s = item[0].shape\n",
        "\n",
        "in_shape = s[1:]\n",
        "in_shape"
      ],
      "execution_count": 34,
      "outputs": [
        {
          "output_type": "execute_result",
          "data": {
            "text/plain": [
              "TensorShape([8, 8])"
            ]
          },
          "metadata": {
            "tags": []
          },
          "execution_count": 34
        }
      ]
    },
    {
      "cell_type": "markdown",
      "metadata": {
        "id": "2TFi4M2eVlt_",
        "colab_type": "text"
      },
      "source": [
        "Import libraries:"
      ]
    },
    {
      "cell_type": "code",
      "metadata": {
        "id": "SQL0Vl0cVl0W",
        "colab_type": "code",
        "colab": {}
      },
      "source": [
        "# import libraries to simplify model layout\n",
        "\n",
        "from tensorflow.keras.models import Sequential\n",
        "from tensorflow.keras.layers import Dense, Flatten"
      ],
      "execution_count": 35,
      "outputs": []
    },
    {
      "cell_type": "markdown",
      "metadata": {
        "id": "23-DesarV4Wd",
        "colab_type": "text"
      },
      "source": [
        "Build the model:"
      ]
    },
    {
      "cell_type": "code",
      "metadata": {
        "colab_type": "code",
        "id": "dwEhR2m7TUjv",
        "colab": {}
      },
      "source": [
        "model = Sequential([\n",
        "    Flatten(input_shape=in_shape),\n",
        "    Dense(256, activation='relu'),\n",
        "    Dense(10, activation='softmax')\n",
        "])"
      ],
      "execution_count": 36,
      "outputs": []
    },
    {
      "cell_type": "markdown",
      "metadata": {
        "colab_type": "text",
        "id": "61IO0YpXWMQO"
      },
      "source": [
        "# Model Summary\n",
        "\n",
        "The **summary()** method displays the characteristics of a model. We can see the layers, output shapes, and parameters. The first layer has an output shape of 64, which is the result of flattening an 8 x 8 matrix. That is, multiplying 8 by 8 results in 64 pixels. It has no parameters because it is used soley for preprocessing feature data. The second layer has 256 neurons as expected. It has 16640 parameters. How do we get this number?\n",
        "\n",
        "Remember that each layer receives output from the previous layer. And, each data element in a fully connected neural net visits every other neuron. So, we multiply 64 (neurons from the previous layer) by 256 (neurons at this layer) to get the number of visits. The result is 16384. However, we still have 256 neurons at this layer. So, by adding 256 to this result, we get 16640!\n",
        "\n",
        "The third layer has 10 neurons. Since it is the output layer, it must equal the number of classes. The number of parameters is 2570. We calculate this in the same way. The second layer passes 256 neurons to the third layer. And, the third has 10 neurons. So, we get 2560 parameters. By adding the 10 neurons at this layer, we get 2570.\n",
        "\n",
        "The total number of parameters is easily calculated by summing the parameters for each layer. So, we sum 0, 16640, and 2570 to get 19,210 parameters."
      ]
    },
    {
      "cell_type": "code",
      "metadata": {
        "colab_type": "code",
        "id": "X0HnxjBIWUfz",
        "colab": {
          "base_uri": "https://localhost:8080/",
          "height": 265
        },
        "outputId": "b6b08c0c-c8fc-439c-fae9-20e791cf3288"
      },
      "source": [
        "model.summary()"
      ],
      "execution_count": 37,
      "outputs": [
        {
          "output_type": "stream",
          "text": [
            "Model: \"sequential\"\n",
            "_________________________________________________________________\n",
            "Layer (type)                 Output Shape              Param #   \n",
            "=================================================================\n",
            "flatten (Flatten)            (None, 64)                0         \n",
            "_________________________________________________________________\n",
            "dense (Dense)                (None, 256)               16640     \n",
            "_________________________________________________________________\n",
            "dense_1 (Dense)              (None, 10)                2570      \n",
            "=================================================================\n",
            "Total params: 19,210\n",
            "Trainable params: 19,210\n",
            "Non-trainable params: 0\n",
            "_________________________________________________________________\n"
          ],
          "name": "stdout"
        }
      ]
    },
    {
      "cell_type": "markdown",
      "metadata": {
        "colab_type": "text",
        "id": "Ff3WliOmeeYy"
      },
      "source": [
        "# Compile Our Model\n",
        "\n",
        "After a model is created, we must compile it to specify the loss function and optimizer. Compiling a model configures it for training. We compile neural net models with the **compile()** method.\n",
        "\n",
        "We use **sparse_categorical_crossentropy** because we have sparse labels. In our case, there is just a target class index from 0 to 9 and the classes are exclusive. That is, a digit can only be one of the ten digits. We use the **adam** optimizer because we have had luck with it. We could choose another optimizer to see if our results improve.\n",
        "\n",
        "A list of optimizers can be found by perusing the following URL:\n",
        "\n",
        "https://www.tensorflow.org/api_docs/python/tf/keras/optimizers"
      ]
    },
    {
      "cell_type": "code",
      "metadata": {
        "colab_type": "code",
        "id": "VIr6Hg-kQ4VL",
        "colab": {}
      },
      "source": [
        "model.compile(optimizer='adam',\n",
        "              loss='sparse_categorical_crossentropy',\n",
        "              metrics=['accuracy'])"
      ],
      "execution_count": 38,
      "outputs": []
    },
    {
      "cell_type": "markdown",
      "metadata": {
        "colab_type": "text",
        "id": "W6flPocVgk_p"
      },
      "source": [
        "# Train Our Model\n",
        "\n",
        "Now, we can train the data. Since train_ds and test_ds are composed of both images and labels, we put them as parameters to the **fit()** method.  We have 60 epochs. So, we pass the data to our model 60 times."
      ]
    },
    {
      "cell_type": "code",
      "metadata": {
        "colab_type": "code",
        "id": "NowEhU-0gZYs",
        "colab": {
          "base_uri": "https://localhost:8080/",
          "height": 1000
        },
        "outputId": "612d06c0-ec90-4eb2-9dd6-ab9f8d65ad33"
      },
      "source": [
        "history = model.fit(train_ds, epochs=60,\n",
        "                    validation_data=(test_ds))"
      ],
      "execution_count": 39,
      "outputs": [
        {
          "output_type": "stream",
          "text": [
            "Epoch 1/60\n",
            "19/19 [==============================] - 0s 12ms/step - loss: 2.2846 - accuracy: 0.2926 - val_loss: 2.2610 - val_accuracy: 0.5657\n",
            "Epoch 2/60\n",
            "19/19 [==============================] - 0s 5ms/step - loss: 2.2320 - accuracy: 0.6700 - val_loss: 2.2087 - val_accuracy: 0.6633\n",
            "Epoch 3/60\n",
            "19/19 [==============================] - 0s 5ms/step - loss: 2.1656 - accuracy: 0.7265 - val_loss: 2.1378 - val_accuracy: 0.6768\n",
            "Epoch 4/60\n",
            "19/19 [==============================] - 0s 5ms/step - loss: 2.0788 - accuracy: 0.7440 - val_loss: 2.0478 - val_accuracy: 0.6852\n",
            "Epoch 5/60\n",
            "19/19 [==============================] - 0s 5ms/step - loss: 1.9718 - accuracy: 0.7506 - val_loss: 1.9400 - val_accuracy: 0.6852\n",
            "Epoch 6/60\n",
            "19/19 [==============================] - 0s 5ms/step - loss: 1.8483 - accuracy: 0.7656 - val_loss: 1.8185 - val_accuracy: 0.7088\n",
            "Epoch 7/60\n",
            "19/19 [==============================] - 0s 5ms/step - loss: 1.7111 - accuracy: 0.7756 - val_loss: 1.6846 - val_accuracy: 0.7357\n",
            "Epoch 8/60\n",
            "19/19 [==============================] - 0s 5ms/step - loss: 1.5696 - accuracy: 0.7930 - val_loss: 1.5501 - val_accuracy: 0.7508\n",
            "Epoch 9/60\n",
            "19/19 [==============================] - 0s 5ms/step - loss: 1.4288 - accuracy: 0.8204 - val_loss: 1.4199 - val_accuracy: 0.7710\n",
            "Epoch 10/60\n",
            "19/19 [==============================] - 0s 5ms/step - loss: 1.2961 - accuracy: 0.8354 - val_loss: 1.2943 - val_accuracy: 0.8030\n",
            "Epoch 11/60\n",
            "19/19 [==============================] - 0s 5ms/step - loss: 1.1735 - accuracy: 0.8487 - val_loss: 1.1811 - val_accuracy: 0.8249\n",
            "Epoch 12/60\n",
            "19/19 [==============================] - 0s 5ms/step - loss: 1.0629 - accuracy: 0.8628 - val_loss: 1.0784 - val_accuracy: 0.8283\n",
            "Epoch 13/60\n",
            "19/19 [==============================] - 0s 5ms/step - loss: 0.9660 - accuracy: 0.8728 - val_loss: 0.9897 - val_accuracy: 0.8502\n",
            "Epoch 14/60\n",
            "19/19 [==============================] - 0s 5ms/step - loss: 0.8801 - accuracy: 0.8836 - val_loss: 0.9101 - val_accuracy: 0.8586\n",
            "Epoch 15/60\n",
            "19/19 [==============================] - 0s 5ms/step - loss: 0.8068 - accuracy: 0.8869 - val_loss: 0.8404 - val_accuracy: 0.8670\n",
            "Epoch 16/60\n",
            "19/19 [==============================] - 0s 6ms/step - loss: 0.7414 - accuracy: 0.8911 - val_loss: 0.7807 - val_accuracy: 0.8721\n",
            "Epoch 17/60\n",
            "19/19 [==============================] - 0s 5ms/step - loss: 0.6856 - accuracy: 0.8978 - val_loss: 0.7261 - val_accuracy: 0.8805\n",
            "Epoch 18/60\n",
            "19/19 [==============================] - 0s 5ms/step - loss: 0.6365 - accuracy: 0.9052 - val_loss: 0.6795 - val_accuracy: 0.8973\n",
            "Epoch 19/60\n",
            "19/19 [==============================] - 0s 5ms/step - loss: 0.5925 - accuracy: 0.9102 - val_loss: 0.6374 - val_accuracy: 0.8939\n",
            "Epoch 20/60\n",
            "19/19 [==============================] - 0s 6ms/step - loss: 0.5554 - accuracy: 0.9135 - val_loss: 0.6017 - val_accuracy: 0.9024\n",
            "Epoch 21/60\n",
            "19/19 [==============================] - 0s 5ms/step - loss: 0.5212 - accuracy: 0.9177 - val_loss: 0.5675 - val_accuracy: 0.9007\n",
            "Epoch 22/60\n",
            "19/19 [==============================] - 0s 5ms/step - loss: 0.4913 - accuracy: 0.9185 - val_loss: 0.5378 - val_accuracy: 0.9074\n",
            "Epoch 23/60\n",
            "19/19 [==============================] - 0s 5ms/step - loss: 0.4632 - accuracy: 0.9210 - val_loss: 0.5117 - val_accuracy: 0.9074\n",
            "Epoch 24/60\n",
            "19/19 [==============================] - 0s 5ms/step - loss: 0.4394 - accuracy: 0.9219 - val_loss: 0.4872 - val_accuracy: 0.9125\n",
            "Epoch 25/60\n",
            "19/19 [==============================] - 0s 5ms/step - loss: 0.4170 - accuracy: 0.9244 - val_loss: 0.4643 - val_accuracy: 0.9125\n",
            "Epoch 26/60\n",
            "19/19 [==============================] - 0s 5ms/step - loss: 0.3973 - accuracy: 0.9302 - val_loss: 0.4436 - val_accuracy: 0.9192\n",
            "Epoch 27/60\n",
            "19/19 [==============================] - 0s 5ms/step - loss: 0.3788 - accuracy: 0.9310 - val_loss: 0.4254 - val_accuracy: 0.9226\n",
            "Epoch 28/60\n",
            "19/19 [==============================] - 0s 5ms/step - loss: 0.3623 - accuracy: 0.9327 - val_loss: 0.4088 - val_accuracy: 0.9209\n",
            "Epoch 29/60\n",
            "19/19 [==============================] - 0s 5ms/step - loss: 0.3468 - accuracy: 0.9318 - val_loss: 0.3923 - val_accuracy: 0.9226\n",
            "Epoch 30/60\n",
            "19/19 [==============================] - 0s 5ms/step - loss: 0.3329 - accuracy: 0.9377 - val_loss: 0.3791 - val_accuracy: 0.9259\n",
            "Epoch 31/60\n",
            "19/19 [==============================] - 0s 5ms/step - loss: 0.3196 - accuracy: 0.9352 - val_loss: 0.3653 - val_accuracy: 0.9259\n",
            "Epoch 32/60\n",
            "19/19 [==============================] - 0s 5ms/step - loss: 0.3078 - accuracy: 0.9368 - val_loss: 0.3529 - val_accuracy: 0.9259\n",
            "Epoch 33/60\n",
            "19/19 [==============================] - 0s 5ms/step - loss: 0.2960 - accuracy: 0.9401 - val_loss: 0.3416 - val_accuracy: 0.9276\n",
            "Epoch 34/60\n",
            "19/19 [==============================] - 0s 5ms/step - loss: 0.2859 - accuracy: 0.9401 - val_loss: 0.3306 - val_accuracy: 0.9259\n",
            "Epoch 35/60\n",
            "19/19 [==============================] - 0s 5ms/step - loss: 0.2760 - accuracy: 0.9401 - val_loss: 0.3215 - val_accuracy: 0.9293\n",
            "Epoch 36/60\n",
            "19/19 [==============================] - 0s 5ms/step - loss: 0.2672 - accuracy: 0.9468 - val_loss: 0.3119 - val_accuracy: 0.9293\n",
            "Epoch 37/60\n",
            "19/19 [==============================] - 0s 5ms/step - loss: 0.2578 - accuracy: 0.9443 - val_loss: 0.3035 - val_accuracy: 0.9293\n",
            "Epoch 38/60\n",
            "19/19 [==============================] - 0s 5ms/step - loss: 0.2506 - accuracy: 0.9476 - val_loss: 0.2949 - val_accuracy: 0.9343\n",
            "Epoch 39/60\n",
            "19/19 [==============================] - 0s 5ms/step - loss: 0.2427 - accuracy: 0.9501 - val_loss: 0.2881 - val_accuracy: 0.9310\n",
            "Epoch 40/60\n",
            "19/19 [==============================] - 0s 5ms/step - loss: 0.2358 - accuracy: 0.9501 - val_loss: 0.2807 - val_accuracy: 0.9327\n",
            "Epoch 41/60\n",
            "19/19 [==============================] - 0s 5ms/step - loss: 0.2288 - accuracy: 0.9534 - val_loss: 0.2735 - val_accuracy: 0.9343\n",
            "Epoch 42/60\n",
            "19/19 [==============================] - 0s 5ms/step - loss: 0.2226 - accuracy: 0.9534 - val_loss: 0.2675 - val_accuracy: 0.9360\n",
            "Epoch 43/60\n",
            "19/19 [==============================] - 0s 5ms/step - loss: 0.2169 - accuracy: 0.9568 - val_loss: 0.2617 - val_accuracy: 0.9360\n",
            "Epoch 44/60\n",
            "19/19 [==============================] - 0s 5ms/step - loss: 0.2114 - accuracy: 0.9576 - val_loss: 0.2567 - val_accuracy: 0.9360\n",
            "Epoch 45/60\n",
            "19/19 [==============================] - 0s 6ms/step - loss: 0.2058 - accuracy: 0.9576 - val_loss: 0.2510 - val_accuracy: 0.9377\n",
            "Epoch 46/60\n",
            "19/19 [==============================] - 0s 5ms/step - loss: 0.2010 - accuracy: 0.9576 - val_loss: 0.2453 - val_accuracy: 0.9394\n",
            "Epoch 47/60\n",
            "19/19 [==============================] - 0s 5ms/step - loss: 0.1959 - accuracy: 0.9609 - val_loss: 0.2419 - val_accuracy: 0.9377\n",
            "Epoch 48/60\n",
            "19/19 [==============================] - 0s 5ms/step - loss: 0.1911 - accuracy: 0.9601 - val_loss: 0.2366 - val_accuracy: 0.9394\n",
            "Epoch 49/60\n",
            "19/19 [==============================] - 0s 5ms/step - loss: 0.1868 - accuracy: 0.9593 - val_loss: 0.2328 - val_accuracy: 0.9411\n",
            "Epoch 50/60\n",
            "19/19 [==============================] - 0s 5ms/step - loss: 0.1825 - accuracy: 0.9609 - val_loss: 0.2285 - val_accuracy: 0.9394\n",
            "Epoch 51/60\n",
            "19/19 [==============================] - 0s 5ms/step - loss: 0.1785 - accuracy: 0.9626 - val_loss: 0.2246 - val_accuracy: 0.9394\n",
            "Epoch 52/60\n",
            "19/19 [==============================] - 0s 5ms/step - loss: 0.1749 - accuracy: 0.9651 - val_loss: 0.2215 - val_accuracy: 0.9411\n",
            "Epoch 53/60\n",
            "19/19 [==============================] - 0s 5ms/step - loss: 0.1711 - accuracy: 0.9618 - val_loss: 0.2181 - val_accuracy: 0.9394\n",
            "Epoch 54/60\n",
            "19/19 [==============================] - 0s 5ms/step - loss: 0.1676 - accuracy: 0.9667 - val_loss: 0.2144 - val_accuracy: 0.9411\n",
            "Epoch 55/60\n",
            "19/19 [==============================] - 0s 5ms/step - loss: 0.1645 - accuracy: 0.9676 - val_loss: 0.2114 - val_accuracy: 0.9411\n",
            "Epoch 56/60\n",
            "19/19 [==============================] - 0s 5ms/step - loss: 0.1610 - accuracy: 0.9684 - val_loss: 0.2090 - val_accuracy: 0.9428\n",
            "Epoch 57/60\n",
            "19/19 [==============================] - 0s 5ms/step - loss: 0.1574 - accuracy: 0.9692 - val_loss: 0.2053 - val_accuracy: 0.9411\n",
            "Epoch 58/60\n",
            "19/19 [==============================] - 0s 5ms/step - loss: 0.1549 - accuracy: 0.9676 - val_loss: 0.2032 - val_accuracy: 0.9428\n",
            "Epoch 59/60\n",
            "19/19 [==============================] - 0s 5ms/step - loss: 0.1517 - accuracy: 0.9692 - val_loss: 0.2002 - val_accuracy: 0.9444\n",
            "Epoch 60/60\n",
            "19/19 [==============================] - 0s 5ms/step - loss: 0.1492 - accuracy: 0.9684 - val_loss: 0.1976 - val_accuracy: 0.9444\n"
          ],
          "name": "stdout"
        }
      ]
    },
    {
      "cell_type": "markdown",
      "metadata": {
        "colab_type": "text",
        "id": "WNUBubrsi1fX"
      },
      "source": [
        "At each epoch during training, processing time is displayed. Training loss (loss), training accuracy (accuracy), test loss (val_loss), and test accuracy (val_accuracy) are also displayed."
      ]
    },
    {
      "cell_type": "markdown",
      "metadata": {
        "id": "8U-SMSAGkFtg",
        "colab_type": "text"
      },
      "source": [
        "# Generalize on Test Data\n",
        "\n"
      ]
    },
    {
      "cell_type": "code",
      "metadata": {
        "id": "Rju-MIimkFzo",
        "colab_type": "code",
        "colab": {
          "base_uri": "https://localhost:8080/",
          "height": 52
        },
        "outputId": "da4fd66e-b4fa-4740-bf9e-67f1be508ad9"
      },
      "source": [
        "model.evaluate(test_ds)"
      ],
      "execution_count": 40,
      "outputs": [
        {
          "output_type": "stream",
          "text": [
            "10/10 [==============================] - 0s 3ms/step - loss: 0.1976 - accuracy: 0.9444\n"
          ],
          "name": "stdout"
        },
        {
          "output_type": "execute_result",
          "data": {
            "text/plain": [
              "[0.1975535750389099, 0.9444444179534912]"
            ]
          },
          "metadata": {
            "tags": []
          },
          "execution_count": 40
        }
      ]
    },
    {
      "cell_type": "markdown",
      "metadata": {
        "colab_type": "text",
        "id": "JvzGgcnAKCTC"
      },
      "source": [
        "# Model History\n",
        "\n",
        "The **fit()** method automatically keeps a record of the loss and metric values during training. To access this record, we assigned training results to variable **history**.\n",
        "\n"
      ]
    },
    {
      "cell_type": "code",
      "metadata": {
        "id": "YIWnRzg-U4EJ",
        "colab_type": "code",
        "colab": {}
      },
      "source": [
        "# The returned \"history\" object holds a record\n",
        "# of the loss values and metric values during training\n",
        "\n",
        "# history.history contains the training record\n",
        "\n",
        "history_dict = history.history"
      ],
      "execution_count": 41,
      "outputs": []
    },
    {
      "cell_type": "code",
      "metadata": {
        "id": "_XxIWSdQU4HB",
        "colab_type": "code",
        "colab": {
          "base_uri": "https://localhost:8080/",
          "height": 52
        },
        "outputId": "79ce5d51-9ce8-42c8-ec94-32e592a62ddd"
      },
      "source": [
        "# display list of keys\n",
        "\n",
        "keys = history_dict.keys()\n",
        "print ('keys:', keys, br)"
      ],
      "execution_count": 42,
      "outputs": [
        {
          "output_type": "stream",
          "text": [
            "keys: dict_keys(['loss', 'accuracy', 'val_loss', 'val_accuracy']) \n",
            "\n"
          ],
          "name": "stdout"
        }
      ]
    },
    {
      "cell_type": "code",
      "metadata": {
        "id": "_-itO2shWLJx",
        "colab_type": "code",
        "colab": {}
      },
      "source": [
        "# find final loss and accuracy\n",
        "\n",
        "length = len(history_dict['loss']) - 1  # subract 1 because index starts at 0"
      ],
      "execution_count": 43,
      "outputs": []
    },
    {
      "cell_type": "code",
      "metadata": {
        "colab_type": "code",
        "id": "wSNW1dRFKBI0",
        "colab": {
          "base_uri": "https://localhost:8080/",
          "height": 105
        },
        "outputId": "d6115b07-a017-473d-c186-28840dc593fd"
      },
      "source": [
        "final_loss = history_dict['loss'][length]\n",
        "final_loss_val = history_dict['val_loss'][length]\n",
        "final_acc = history_dict['accuracy'][length]\n",
        "final_acc_val = history_dict['val_accuracy'][length]\n",
        "print ('final loss (train/test):')\n",
        "print (final_loss, final_loss_val, br)\n",
        "print ('final accuracy (train/test):')\n",
        "print (final_acc, final_acc_val)"
      ],
      "execution_count": 44,
      "outputs": [
        {
          "output_type": "stream",
          "text": [
            "final loss (train/test):\n",
            "0.1492365300655365 0.1975535750389099 \n",
            "\n",
            "final accuracy (train/test):\n",
            "0.9684122800827026 0.9444444179534912\n"
          ],
          "name": "stdout"
        }
      ]
    },
    {
      "cell_type": "markdown",
      "metadata": {
        "colab_type": "text",
        "id": "lDJplFk5PQ5A"
      },
      "source": [
        "Let's visualize training results:"
      ]
    },
    {
      "cell_type": "code",
      "metadata": {
        "colab_type": "code",
        "id": "qgfQfTizPVWG",
        "colab": {
          "base_uri": "https://localhost:8080/",
          "height": 1000
        },
        "outputId": "9d989e02-7056-4979-dfc8-d7285c00f0b1"
      },
      "source": [
        "import matplotlib.pyplot as plt\n",
        "\n",
        "acc = history_dict['accuracy']\n",
        "val_acc = history_dict['val_accuracy']\n",
        "loss = history_dict['loss']\n",
        "val_loss = history_dict['val_loss']\n",
        "\n",
        "epochs = range(1, len(acc) + 1)\n",
        "\n",
        "plt.figure(figsize=(12,9))\n",
        "plt.plot(epochs, loss, 'bo', label='Training loss')\n",
        "plt.plot(epochs, val_loss, 'b', label='Validation loss')\n",
        "plt.title('Training and validation loss')\n",
        "plt.xlabel('Epochs')\n",
        "plt.ylabel('Loss')\n",
        "plt.legend()\n",
        "plt.show()\n",
        "\n",
        "# clear previous figure\n",
        "\n",
        "plt.clf()\n",
        "\n",
        "plt.figure(figsize=(12,9))\n",
        "plt.plot(epochs, acc, 'bo', label='Training acc')\n",
        "plt.plot(epochs, val_acc, 'b', label='Validation acc')\n",
        "plt.title('Training and validation accuracy')\n",
        "plt.xlabel('Epochs')\n",
        "plt.ylabel('Accuracy')\n",
        "plt.legend(loc='lower right')\n",
        "plt.ylim((0.5,1))\n",
        "plt.show()"
      ],
      "execution_count": 45,
      "outputs": [
        {
          "output_type": "display_data",
          "data": {
            "image/png": "[encoded data removed]",
            "text/plain": [
              "<Figure size 864x648 with 1 Axes>"
            ]
          },
          "metadata": {
            "tags": [],
            "needs_background": "light"
          }
        },
        {
          "output_type": "display_data",
          "data": {
            "text/plain": [
              "<Figure size 432x288 with 0 Axes>"
            ]
          },
          "metadata": {
            "tags": []
          }
        },
        {
          "output_type": "display_data",
          "data": {
            "image/png": "[encoded data removed]",
            "text/plain": [
              "<Figure size 864x648 with 1 Axes>"
            ]
          },
          "metadata": {
            "tags": [],
            "needs_background": "light"
          }
        }
      ]
    },
    {
      "cell_type": "markdown",
      "metadata": {
        "colab_type": "text",
        "id": "ngtUbuM3Pjx9"
      },
      "source": [
        "Our model is **overfitting** the data because training accuracy is higher than test (validation) accuracy. The visualization is very useful because we can see where the training and validation (or test) accuracy converge or diverge. To be able to generalize our model so that it works with new data, we want the training and test accuracy to be as closely aligned as possible."
      ]
    },
    {
      "cell_type": "markdown",
      "metadata": {
        "colab_type": "text",
        "id": "daiWVnQIQfRK"
      },
      "source": [
        "Earlier, we calculated test accuracy from the history of training. Now, let's use the **evaluate()** method to do the same:"
      ]
    },
    {
      "cell_type": "code",
      "metadata": {
        "colab_type": "code",
        "id": "gFl9faBzQfqo",
        "colab": {
          "base_uri": "https://localhost:8080/",
          "height": 70
        },
        "outputId": "92653760-6d2c-4c52-8453-2f4ce6e11fa6"
      },
      "source": [
        "test_loss, test_acc = model.evaluate(test_ds)\n",
        "\n",
        "print('\\nTest accuracy:', test_acc)"
      ],
      "execution_count": 46,
      "outputs": [
        {
          "output_type": "stream",
          "text": [
            "10/10 [==============================] - 0s 2ms/step - loss: 0.1976 - accuracy: 0.9444\n",
            "\n",
            "Test accuracy: 0.9444444179534912\n"
          ],
          "name": "stdout"
        }
      ]
    },
    {
      "cell_type": "markdown",
      "metadata": {
        "colab_type": "text",
        "id": "DxMrbaqdQx5O"
      },
      "source": [
        "# Predictions\n",
        "\n",
        "We can also make predictions by using the **predict()** method on the test data: \n"
      ]
    },
    {
      "cell_type": "code",
      "metadata": {
        "colab_type": "code",
        "id": "4zGlzXODQ4OJ",
        "colab": {}
      },
      "source": [
        "predictions = model.predict(test_ds)"
      ],
      "execution_count": 47,
      "outputs": []
    },
    {
      "cell_type": "markdown",
      "metadata": {
        "colab_type": "text",
        "id": "LyT-baISREPq"
      },
      "source": [
        "The **predictions** variable holds all of the predictions based on the **test_ds**. Each prediction is represented by an array of values that  provide a set of probabilities based on the predict method. Let's look at the first prediction (at index 0):"
      ]
    },
    {
      "cell_type": "code",
      "metadata": {
        "colab_type": "code",
        "id": "hFahL2AJRKpS",
        "colab": {
          "base_uri": "https://localhost:8080/",
          "height": 70
        },
        "outputId": "24e4af95-db27-4a5d-c04e-8f437a8cd5f0"
      },
      "source": [
        "predictions[0]  # start at index 0 to predict 1st image from the test dataset"
      ],
      "execution_count": 48,
      "outputs": [
        {
          "output_type": "execute_result",
          "data": {
            "text/plain": [
              "array([5.4898460e-06, 4.1426331e-04, 9.9464560e-01, 3.5430170e-03,\n",
              "       2.3784521e-07, 5.4798678e-05, 1.4729109e-06, 2.6393274e-04,\n",
              "       9.9841738e-04, 7.2799943e-05], dtype=float32)"
            ]
          },
          "metadata": {
            "tags": []
          },
          "execution_count": 48
        }
      ]
    },
    {
      "cell_type": "markdown",
      "metadata": {
        "colab_type": "text",
        "id": "4IY8TEvaqFXH"
      },
      "source": [
        "It's difficult to identify the prediction from the float numbers, so let's make it easier to see:"
      ]
    },
    {
      "cell_type": "code",
      "metadata": {
        "colab_type": "code",
        "id": "RQotJJQdqTUe",
        "colab": {
          "base_uri": "https://localhost:8080/",
          "height": 52
        },
        "outputId": "983bdf03-2337-4bb1-9f47-b675c1555032"
      },
      "source": [
        "predictions[0].round(2)"
      ],
      "execution_count": 49,
      "outputs": [
        {
          "output_type": "execute_result",
          "data": {
            "text/plain": [
              "array([0.  , 0.  , 0.99, 0.  , 0.  , 0.  , 0.  , 0.  , 0.  , 0.  ],\n",
              "      dtype=float32)"
            ]
          },
          "metadata": {
            "tags": []
          },
          "execution_count": 49
        }
      ]
    },
    {
      "cell_type": "markdown",
      "metadata": {
        "colab_type": "text",
        "id": "Pdzx8b02qaWA"
      },
      "source": [
        "So, we know from from the array that the prediction is digit '2' because the '0.99' is located at the third position! Remember that we are predicting digits 0-9. That is, digit '0' is at the first position, digit '1' is at the second position, digit '2' is at the third position and so on."
      ]
    },
    {
      "cell_type": "markdown",
      "metadata": {
        "colab_type": "text",
        "id": "dw2MgPrlROxd"
      },
      "source": [
        "We use the following algorithm to elicit the confidence in the prediction:"
      ]
    },
    {
      "cell_type": "code",
      "metadata": {
        "colab_type": "code",
        "id": "bpQuTkysR0xH",
        "colab": {
          "base_uri": "https://localhost:8080/",
          "height": 34
        },
        "outputId": "c8ab1ad2-8a0e-4ffd-c022-e1e15b41f0e4"
      },
      "source": [
        "import numpy as np\n",
        "\n",
        "confidence = 100*np.max(predictions[0])\n",
        "print (str(np.round(confidence, 2)) + '%')"
      ],
      "execution_count": 50,
      "outputs": [
        {
          "output_type": "stream",
          "text": [
            "99.46%\n"
          ],
          "name": "stdout"
        }
      ]
    },
    {
      "cell_type": "markdown",
      "metadata": {
        "colab_type": "text",
        "id": "SsTwi1npR59n"
      },
      "source": [
        "The following algorithm formally predicts the digit based on the first image in the test dataset:"
      ]
    },
    {
      "cell_type": "code",
      "metadata": {
        "colab_type": "code",
        "id": "BBz-xw3tSUwo",
        "colab": {
          "base_uri": "https://localhost:8080/",
          "height": 34
        },
        "outputId": "0fbc5ca0-9818-41f6-e050-8e1242b4563a"
      },
      "source": [
        "first_pred = np.argmax(predictions[0]) # start at index 0\n",
        "print ('predicted:', first_pred)"
      ],
      "execution_count": 51,
      "outputs": [
        {
          "output_type": "stream",
          "text": [
            "predicted: 2\n"
          ],
          "name": "stdout"
        }
      ]
    },
    {
      "cell_type": "markdown",
      "metadata": {
        "colab_type": "text",
        "id": "dIqliRAVThYf"
      },
      "source": [
        "So, we predict that the digit is **2** based on the first image in the test dataset. Were we correct? We can find out by displaying the first image from the target data:"
      ]
    },
    {
      "cell_type": "code",
      "metadata": {
        "colab_type": "code",
        "id": "dJeD6wHbVCpZ",
        "colab": {
          "base_uri": "https://localhost:8080/",
          "height": 34
        },
        "outputId": "486f00a2-7da1-4188-9b6c-8b27d68789ed"
      },
      "source": [
        "print ('actual:', y_test[0])"
      ],
      "execution_count": 52,
      "outputs": [
        {
          "output_type": "stream",
          "text": [
            "actual: 2\n"
          ],
          "name": "stdout"
        }
      ]
    },
    {
      "cell_type": "markdown",
      "metadata": {
        "colab_type": "text",
        "id": "ztQ-NW44Vdoq"
      },
      "source": [
        "We just verified that our prediction was correct. Now, let's make predictions based on the first five images in our test dataset. We begin by displaying the first five predictions. We continue by displaying the confidence we have in each prediction:"
      ]
    },
    {
      "cell_type": "code",
      "metadata": {
        "colab_type": "code",
        "id": "-rTfIj9jVt1M",
        "colab": {
          "base_uri": "https://localhost:8080/",
          "height": 176
        },
        "outputId": "d9e8f596-f4e6-4cae-81bf-50851a3019d6"
      },
      "source": [
        "# first five predictions based on test data:\n",
        "\n",
        "print ('first five preditions:', end=' ')\n",
        "\n",
        "p5 = []\n",
        "for i in range(5):\n",
        "  p = predictions[i]\n",
        "  v = np.max(p)\n",
        "  p5.append(p.tolist().index(v))\n",
        "\n",
        "print (p5)  \n",
        "\n",
        "# confidence in first five predictions:\n",
        "\n",
        "print ()\n",
        "print ('Confidence in our predictions:', br)\n",
        "\n",
        "c = []\n",
        "for i in range(5):\n",
        "  conf = str(round(100*np.max(predictions[i]), 2))\n",
        "  c.append(conf)  \n",
        "  print (conf + '% for prediction:', p5[i])\n"
      ],
      "execution_count": 53,
      "outputs": [
        {
          "output_type": "stream",
          "text": [
            "first five preditions: [2, 8, 2, 6, 6]\n",
            "\n",
            "Confidence in our predictions: \n",
            "\n",
            "99.46% for prediction: 2\n",
            "92.11% for prediction: 8\n",
            "99.8% for prediction: 2\n",
            "98.66% for prediction: 6\n",
            "98.04% for prediction: 6\n"
          ],
          "name": "stdout"
        }
      ]
    },
    {
      "cell_type": "markdown",
      "metadata": {
        "colab_type": "text",
        "id": "zWBYI_36WEss"
      },
      "source": [
        "We continue by comparing our predictions with the actual target values. We also display the confidence we have with each prediction and the actual target images:"
      ]
    },
    {
      "cell_type": "code",
      "metadata": {
        "colab_type": "code",
        "id": "cYaxaBwFWILK",
        "colab": {
          "base_uri": "https://localhost:8080/",
          "height": 1000
        },
        "outputId": "dda3ffd6-faac-46b5-dd9d-724320999688"
      },
      "source": [
        "# first five predictions from test data\n",
        "\n",
        "prediction_5 = [np.argmax(predictions[i])\\\n",
        "                for i, row in enumerate(p5)]\n",
        "\n",
        "# display predicted digits, actual digits, confidences and images\n",
        "\n",
        "for i, row in enumerate(prediction_5):\n",
        "  print ('predicted:', target_names[row])\n",
        "  print ('actual:', target_names[y_test[i]])\n",
        "  print (str(c[i]) + '%')\n",
        "  fig, ax = plt.subplots()\n",
        "  image = ax.imshow(X_test[i], cmap='bone')\n",
        "  plt.title(target_names[y_test[i]])\n",
        "  plt.show()\n",
        "  print (br)"
      ],
      "execution_count": 54,
      "outputs": [
        {
          "output_type": "stream",
          "text": [
            "predicted: 2\n",
            "actual: 2\n",
            "99.46%\n"
          ],
          "name": "stdout"
        },
        {
          "output_type": "display_data",
          "data": {
            "image/png": "[encoded data removed]",
            "text/plain": [
              "<Figure size 432x288 with 1 Axes>"
            ]
          },
          "metadata": {
            "tags": [],
            "needs_background": "light"
          }
        },
        {
          "output_type": "stream",
          "text": [
            "\n",
            "\n",
            "predicted: 8\n",
            "actual: 8\n",
            "92.11%\n"
          ],
          "name": "stdout"
        },
        {
          "output_type": "display_data",
          "data": {
            "image/png": "[encoded data removed]",
            "text/plain": [
              "<Figure size 432x288 with 1 Axes>"
            ]
          },
          "metadata": {
            "tags": [],
            "needs_background": "light"
          }
        },
        {
          "output_type": "stream",
          "text": [
            "\n",
            "\n",
            "predicted: 2\n",
            "actual: 2\n",
            "99.8%\n"
          ],
          "name": "stdout"
        },
        {
          "output_type": "display_data",
          "data": {
            "image/png": "[encoded data removed]",
            "text/plain": [
              "<Figure size 432x288 with 1 Axes>"
            ]
          },
          "metadata": {
            "tags": [],
            "needs_background": "light"
          }
        },
        {
          "output_type": "stream",
          "text": [
            "\n",
            "\n",
            "predicted: 6\n",
            "actual: 6\n",
            "98.66%\n"
          ],
          "name": "stdout"
        },
        {
          "output_type": "display_data",
          "data": {
            "image/png": "[encoded data removed]",
            "text/plain": [
              "<Figure size 432x288 with 1 Axes>"
            ]
          },
          "metadata": {
            "tags": [],
            "needs_background": "light"
          }
        },
        {
          "output_type": "stream",
          "text": [
            "\n",
            "\n",
            "predicted: 6\n",
            "actual: 6\n",
            "98.04%\n"
          ],
          "name": "stdout"
        },
        {
          "output_type": "display_data",
          "data": {
            "image/png": "[encoded data removed]",
            "text/plain": [
              "<Figure size 432x288 with 1 Axes>"
            ]
          },
          "metadata": {
            "tags": [],
            "needs_background": "light"
          }
        },
        {
          "output_type": "stream",
          "text": [
            "\n",
            "\n"
          ],
          "name": "stdout"
        }
      ]
    },
    {
      "cell_type": "markdown",
      "metadata": {
        "id": "6BO7JwGYlM0z",
        "colab_type": "text"
      },
      "source": [
        "# Get an Image\n",
        "\n",
        "To get an image for this book, just follow these simple steps:\n",
        "1.\tgo to the GitHub URL for this book: https://github.com/paperd/tensorflow\n",
        "2.\tlocate the image you want to download and click on it\n",
        "3.\tclick the Download button\n",
        "4.\tright click anywhere inside the image\n",
        "5.\tclick Save image as ...\n",
        "6.\tsave the image on your computer\n",
        "7.\tdrag and drop the image to your Google Drive Colab Notebooks folder\n",
        "\n",
        "For this lesson, go to the book URL, click **chapter2**, click **figures**, click **Figure0201.png**, click the **Download** button, right click inside the image, click **Save image as ...**, and save the image on your computer. Drag and drop the image to your Google Drive **Colab Notebooks** folder.\n",
        "\n"
      ]
    },
    {
      "cell_type": "markdown",
      "metadata": {
        "colab_type": "text",
        "id": "nWr6DWKDe-HV"
      },
      "source": [
        "# Mount Google Drive to Display an Image\n",
        "\n",
        "Now, we will show you how to display an image in Google Colab:\n",
        "\n",
        "1. install Pillow module\n",
        "2. mount the Google Drive\n",
        "3. point to the image"
      ]
    },
    {
      "cell_type": "code",
      "metadata": {
        "colab_type": "code",
        "id": "8nmvVdGvffW9",
        "colab": {
          "base_uri": "https://localhost:8080/",
          "height": 34
        },
        "outputId": "c1459658-b71d-4455-82bd-85e54aefa2d5"
      },
      "source": [
        "!pip install Pillow"
      ],
      "execution_count": 55,
      "outputs": [
        {
          "output_type": "stream",
          "text": [
            "Requirement already satisfied: Pillow in /usr/local/lib/python3.6/dist-packages (7.0.0)\n"
          ],
          "name": "stdout"
        }
      ]
    },
    {
      "cell_type": "markdown",
      "metadata": {
        "colab_type": "text",
        "id": "FF_xUBG2gpZQ"
      },
      "source": [
        "To mount the drive, click on the link, go to your google account, copy the authorization code, paste it, and click 'Enter':"
      ]
    },
    {
      "cell_type": "code",
      "metadata": {
        "colab_type": "code",
        "id": "gncY2JjwgamR",
        "colab": {
          "base_uri": "https://localhost:8080/",
          "height": 125
        },
        "outputId": "3659577c-6bc6-468e-f007-bf4891e166eb"
      },
      "source": [
        "from google.colab import drive\n",
        "drive.mount('/content/gdrive')"
      ],
      "execution_count": 56,
      "outputs": [
        {
          "output_type": "stream",
          "text": [
            "Go to this URL in a browser: https://accounts.google.com/o/oauth2/auth?client_id=947318989803-6bn6qk8qdgf4n4g3pfee6491hc0brc4i.apps.googleusercontent.com&redirect_uri=urn%3aietf%3awg%3aoauth%3a2.0%3aoob&scope=email%20https%3a%2f%2fwww.googleapis.com%2fauth%2fdocs.test%20https%3a%2f%2fwww.googleapis.com%2fauth%2fdrive%20https%3a%2f%2fwww.googleapis.com%2fauth%2fdrive.photos.readonly%20https%3a%2f%2fwww.googleapis.com%2fauth%2fpeopleapi.readonly&response_type=code\n",
            "\n",
            "Enter your authorization code:\n",
            "··········\n",
            "Mounted at /content/gdrive\n"
          ],
          "name": "stdout"
        }
      ]
    },
    {
      "cell_type": "markdown",
      "metadata": {
        "colab_type": "text",
        "id": "gbLDW6iIg9Mp"
      },
      "source": [
        "Point to the image and display it. The image is included on our GitHub site for the book. But, you can use any image you wish. Be sure to copy the image to the directory on your **Google Drive** account that is assigned to the variable **img_path** in the following code snippet:"
      ]
    },
    {
      "cell_type": "code",
      "metadata": {
        "colab_type": "code",
        "id": "4rRLa1Vrg9WZ",
        "colab": {
          "base_uri": "https://localhost:8080/",
          "height": 270
        },
        "outputId": "b4cde962-676b-4d66-f0b1-02d73692f1a1"
      },
      "source": [
        "# Be sure to copy the image to this directory on Google Drive\n",
        "img_path = 'gdrive/My Drive/Colab Notebooks/Figure0201.png'\n",
        "\n",
        "from PIL import Image\n",
        "import matplotlib.pyplot as plt\n",
        "img  = Image.open(img_path)\n",
        "plt.imshow(img)"
      ],
      "execution_count": 58,
      "outputs": [
        {
          "output_type": "execute_result",
          "data": {
            "text/plain": [
              "<matplotlib.image.AxesImage at 0x7fa86a4560b8>"
            ]
          },
          "metadata": {
            "tags": []
          },
          "execution_count": 58
        },
        {
          "output_type": "display_data",
          "data": {
            "image/png": "[encoded data removed]",
            "text/plain": [
              "<Figure size 432x288 with 1 Axes>"
            ]
          },
          "metadata": {
            "tags": [],
            "needs_background": "light"
          }
        }
      ]
    }
  ]
}