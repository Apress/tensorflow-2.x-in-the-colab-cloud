{
  "nbformat": 4,
  "nbformat_minor": 0,
  "metadata": {
    "colab": {
      "name": "ch6.ipynb",
      "provenance": [],
      "collapsed_sections": []
    },
    "kernelspec": {
      "name": "python3",
      "display_name": "Python 3"
    },
    "accelerator": "GPU"
  },
  "cells": [
    {
      "cell_type": "markdown",
      "metadata": {
        "id": "VvC5FVAg2-GM",
        "colab_type": "text"
      },
      "source": [
        "# Regression\n",
        "\n",
        "While classification is the problem of predicting the class of given data points, **regression** is the problem of learning the strength of association between features of a dataset and continuous outcomes. A **continuous** outcome is a real value such as an integer or floating point value often quantified as amounts and sizes. Simply, regression attempts to learn how strong the relationship is between features and outcomes. Formally, regression approximates a mapping function **f** from input variables **X** to a continuos variable **y**. \n",
        "\n",
        "In statistics, regression is typically defined as a measurement that attempts to determine the strength of the relationship between one dependent variable and a series of other changing variables known as independent variables. For those of you familiar with regression, you can think of independent variables as features and dependent variables as outcomes or outcome variables in the machine learning idiom.\n",
        "\n",
        "Since regression is used for predicting continous values, it can be referred to as **regression predictive modeling**. An algorithm capable of learning a regression predictive model is called a regression algorithm. Since regression predicts a quantity, *the performance must be measured as error* in those predictions.\n",
        "\n",
        "Performance of machine learning regression can be gauged in many ways. But, the most common are mean square error (MSE), mean absolute error (MAE), and root mean squared error (RMSE).\n",
        "\n",
        "**MSE** It is one of the most commonly used metrics, but least useful when a single bad prediction would ruin the entire model's predicting abilities. That is, when the dataset contains a lot of noise. It is most useful when the dataset contains outliers or unexpected values. Unexpected values are those that are too high or too low.\n",
        "\n",
        "**MAE** is not very sensitive to outliers in comparison to MSE since it doesn't punish huge errors. It is typically used when performance is measured on continuous variable data. It provides a linear value that averages the weighted individual differences equally.\n",
        "\n",
        "**RMSE** errors are squared before they are averaged. As such, RMSE assigns a higher weight to larger errors. So, RMSE is much more useful when large errors are present and they drastically affect the model's performance. A benefit of RMSE is that units of error score are the same as the predicted value."
      ]
    },
    {
      "cell_type": "markdown",
      "metadata": {
        "id": "hK1Gi7H50Gox",
        "colab_type": "text"
      },
      "source": [
        "Enable the GPU (if not already enabled):\n",
        "1.\tclick **Runtime** in the top left menu\n",
        "2.\tclick **Change runtime type** from the drop-down menu\n",
        "3.\tchoose **GPU** from the *Hardware accelerator* drop-down menu\n",
        "4.\tclick **SAVE**"
      ]
    },
    {
      "cell_type": "code",
      "metadata": {
        "id": "JW7eUCwg0hef",
        "colab_type": "code",
        "colab": {
          "base_uri": "https://localhost:8080/",
          "height": 34
        },
        "outputId": "7e26c04d-5a92-4907-f3aa-d62db7c64dc4"
      },
      "source": [
        "import tensorflow as tf\n",
        "\n",
        "# display tf version and test if GPU is active\n",
        "tf.__version__, tf.test.gpu_device_name()"
      ],
      "execution_count": 2,
      "outputs": [
        {
          "output_type": "execute_result",
          "data": {
            "text/plain": [
              "('2.3.0', '/device:GPU:0')"
            ]
          },
          "metadata": {
            "tags": []
          },
          "execution_count": 2
        }
      ]
    },
    {
      "cell_type": "markdown",
      "metadata": {
        "id": "-zhMawEn0TVZ",
        "colab_type": "text"
      },
      "source": [
        "Import the tensorflow library. If '/device:GPU:0' is displayed, the GPU is active. If '..' is displayed, the regular CPU is active."
      ]
    },
    {
      "cell_type": "markdown",
      "metadata": {
        "id": "LedfTVyqJkJ1",
        "colab_type": "text"
      },
      "source": [
        "# Boston Housing Dataset \n",
        "\n",
        "The first regression dataset we explore is Boston Housing. **Boston Housing** is a dataset derived from information collected by the U.S. Census Service concerning housing in the area of Boston, Massachusetts. It was obtained from the StatLib archive (http://lib.stat.cmu.edu/datasets/boston), and has been used extensively throughout the machine learning literature to benchmark algorithms. The dataset is small in size with only 506 cases.\n",
        "\n",
        "The name for this dataset is simply **boston**. It contains 12 features and 1 outcome (or target). The features are as follows:\n",
        "\n",
        "1. CRIM - per capita crime rate by town\n",
        "2. ZN - proportion of residential land zoned for lots over 25,000 sq.ft.\n",
        "3. INDUS - proportion of non-retail business acres per town.\n",
        "4. CHAS - Charles River dummy variable (1 if tract bounds river; 0 otherwise)\n",
        "5. NOX - nitric oxides concentration (parts per 10 million)\n",
        "6. RM - average number of rooms per dwelling\n",
        "7. AGE - proportion of owner-occupied units built prior to 1940\n",
        "8. DIS - weighted distances to five Boston employment centres\n",
        "9. RAD - index of accessibility to radial highways\n",
        "10. TAX - full-value property-tax rate per $10,000\n",
        "11. PTRATIO - pupil-teacher ratio by town\n",
        "12. LSTAT - % lower status of the population\n",
        "\n",
        "The target is:\n",
        "\n",
        "* MEDV - median value of owner-occupied homes in $1000's\n",
        "\n",
        "Data was collected in the '70s, so don't be shocked by the low median value of homes."
      ]
    },
    {
      "cell_type": "markdown",
      "metadata": {
        "id": "bDv_GGAXqARW",
        "colab_type": "text"
      },
      "source": [
        "## Boston Data\n",
        "\n",
        "You can access any dataset for this book directly from GitHub with a few simple steps:\n",
        "\n",
        "1. visit the book URL: https://github.com/paperd/tensorflow\n",
        "2. locate the dataset and click on it\n",
        "3. click the **Raw** button\n",
        "4. copy the URL to Colab and assign it to a variable\n",
        "5. read the dataset with Pandas **read_csv** method\n",
        "\n",
        "For convenience, we've already located the appropriate URL and assigned to a variable as so:"
      ]
    },
    {
      "cell_type": "code",
      "metadata": {
        "id": "ktRCoDA2sAC6",
        "colab_type": "code",
        "colab": {}
      },
      "source": [
        "url = 'https://raw.githubusercontent.com/paperd/tensorflow/\\\n",
        "master/chapter6/data/boston.csv'"
      ],
      "execution_count": 3,
      "outputs": []
    },
    {
      "cell_type": "markdown",
      "metadata": {
        "id": "slf-ukRAzFvL",
        "colab_type": "text"
      },
      "source": [
        "Read the dataset into a Pandas DataFrame:"
      ]
    },
    {
      "cell_type": "code",
      "metadata": {
        "id": "9UyY0SgjsRpE",
        "colab_type": "code",
        "colab": {}
      },
      "source": [
        "import pandas as pd\n",
        "\n",
        "data = pd.read_csv(url)"
      ],
      "execution_count": 4,
      "outputs": []
    },
    {
      "cell_type": "markdown",
      "metadata": {
        "id": "E_ofnmbczlHL",
        "colab_type": "text"
      },
      "source": [
        "Verify that data was read properly:"
      ]
    },
    {
      "cell_type": "code",
      "metadata": {
        "id": "Vqe-Yv8du5JX",
        "colab_type": "code",
        "colab": {
          "base_uri": "https://localhost:8080/",
          "height": 197
        },
        "outputId": "ad9d3915-a8fb-4860-b2a0-8414c7e446f2"
      },
      "source": [
        "data.head()"
      ],
      "execution_count": 5,
      "outputs": [
        {
          "output_type": "execute_result",
          "data": {
            "text/html": [
              "<div>\n",
              "<style scoped>\n",
              "    .dataframe tbody tr th:only-of-type {\n",
              "        vertical-align: middle;\n",
              "    }\n",
              "\n",
              "    .dataframe tbody tr th {\n",
              "        vertical-align: top;\n",
              "    }\n",
              "\n",
              "    .dataframe thead th {\n",
              "        text-align: right;\n",
              "    }\n",
              "</style>\n",
              "<table border=\"1\" class=\"dataframe\">\n",
              "  <thead>\n",
              "    <tr style=\"text-align: right;\">\n",
              "      <th></th>\n",
              "      <th>CRIM</th>\n",
              "      <th>ZN</th>\n",
              "      <th>INDUS</th>\n",
              "      <th>CHAS</th>\n",
              "      <th>NOX</th>\n",
              "      <th>RM</th>\n",
              "      <th>AGE</th>\n",
              "      <th>DIS</th>\n",
              "      <th>RAD</th>\n",
              "      <th>TAX</th>\n",
              "      <th>PTRATIO</th>\n",
              "      <th>LSTAT</th>\n",
              "      <th>MEDV</th>\n",
              "    </tr>\n",
              "  </thead>\n",
              "  <tbody>\n",
              "    <tr>\n",
              "      <th>0</th>\n",
              "      <td>0.00632</td>\n",
              "      <td>18.0</td>\n",
              "      <td>2.31</td>\n",
              "      <td>0</td>\n",
              "      <td>0.538</td>\n",
              "      <td>6.575</td>\n",
              "      <td>65.2</td>\n",
              "      <td>4.0900</td>\n",
              "      <td>1</td>\n",
              "      <td>296</td>\n",
              "      <td>15.3</td>\n",
              "      <td>4.98</td>\n",
              "      <td>24.0</td>\n",
              "    </tr>\n",
              "    <tr>\n",
              "      <th>1</th>\n",
              "      <td>0.02731</td>\n",
              "      <td>0.0</td>\n",
              "      <td>7.07</td>\n",
              "      <td>0</td>\n",
              "      <td>0.469</td>\n",
              "      <td>6.421</td>\n",
              "      <td>78.9</td>\n",
              "      <td>4.9671</td>\n",
              "      <td>2</td>\n",
              "      <td>242</td>\n",
              "      <td>17.8</td>\n",
              "      <td>9.14</td>\n",
              "      <td>21.6</td>\n",
              "    </tr>\n",
              "    <tr>\n",
              "      <th>2</th>\n",
              "      <td>0.02729</td>\n",
              "      <td>0.0</td>\n",
              "      <td>7.07</td>\n",
              "      <td>0</td>\n",
              "      <td>0.469</td>\n",
              "      <td>7.185</td>\n",
              "      <td>61.1</td>\n",
              "      <td>4.9671</td>\n",
              "      <td>2</td>\n",
              "      <td>242</td>\n",
              "      <td>17.8</td>\n",
              "      <td>4.03</td>\n",
              "      <td>34.7</td>\n",
              "    </tr>\n",
              "    <tr>\n",
              "      <th>3</th>\n",
              "      <td>0.03237</td>\n",
              "      <td>0.0</td>\n",
              "      <td>2.18</td>\n",
              "      <td>0</td>\n",
              "      <td>0.458</td>\n",
              "      <td>6.998</td>\n",
              "      <td>45.8</td>\n",
              "      <td>6.0622</td>\n",
              "      <td>3</td>\n",
              "      <td>222</td>\n",
              "      <td>18.7</td>\n",
              "      <td>2.94</td>\n",
              "      <td>33.4</td>\n",
              "    </tr>\n",
              "    <tr>\n",
              "      <th>4</th>\n",
              "      <td>0.06905</td>\n",
              "      <td>0.0</td>\n",
              "      <td>2.18</td>\n",
              "      <td>0</td>\n",
              "      <td>0.458</td>\n",
              "      <td>7.147</td>\n",
              "      <td>54.2</td>\n",
              "      <td>6.0622</td>\n",
              "      <td>3</td>\n",
              "      <td>222</td>\n",
              "      <td>18.7</td>\n",
              "      <td>5.33</td>\n",
              "      <td>36.2</td>\n",
              "    </tr>\n",
              "  </tbody>\n",
              "</table>\n",
              "</div>"
            ],
            "text/plain": [
              "      CRIM   ZN   INDUS   CHAS    NOX  ...  RAD  TAX  PTRATIO  LSTAT  MEDV\n",
              "0  0.00632  18.0    2.31     0  0.538  ...    1  296     15.3   4.98  24.0\n",
              "1  0.02731   0.0    7.07     0  0.469  ...    2  242     17.8   9.14  21.6\n",
              "2  0.02729   0.0    7.07     0  0.469  ...    2  242     17.8   4.03  34.7\n",
              "3  0.03237   0.0    2.18     0  0.458  ...    3  222     18.7   2.94  33.4\n",
              "4  0.06905   0.0    2.18     0  0.458  ...    3  222     18.7   5.33  36.2\n",
              "\n",
              "[5 rows x 13 columns]"
            ]
          },
          "metadata": {
            "tags": []
          },
          "execution_count": 5
        }
      ]
    },
    {
      "cell_type": "markdown",
      "metadata": {
        "id": "xXa89NmTw68J",
        "colab_type": "text"
      },
      "source": [
        "## Explore the Dataset"
      ]
    },
    {
      "cell_type": "markdown",
      "metadata": {
        "id": "vrqd6hb9z-me",
        "colab_type": "text"
      },
      "source": [
        "Get datatypes:"
      ]
    },
    {
      "cell_type": "code",
      "metadata": {
        "id": "eVcFWvh8wntF",
        "colab_type": "code",
        "colab": {
          "base_uri": "https://localhost:8080/",
          "height": 265
        },
        "outputId": "39ca63d0-e42a-45fa-de5a-13809b6f39a0"
      },
      "source": [
        "data.dtypes"
      ],
      "execution_count": 8,
      "outputs": [
        {
          "output_type": "execute_result",
          "data": {
            "text/plain": [
              "CRIM       float64\n",
              " ZN        float64\n",
              "INDUS      float64\n",
              "CHAS         int64\n",
              "NOX        float64\n",
              "RM         float64\n",
              "AGE        float64\n",
              "DIS        float64\n",
              "RAD          int64\n",
              "TAX          int64\n",
              "PTRATIO    float64\n",
              "LSTAT      float64\n",
              "MEDV       float64\n",
              "dtype: object"
            ]
          },
          "metadata": {
            "tags": []
          },
          "execution_count": 8
        }
      ]
    },
    {
      "cell_type": "markdown",
      "metadata": {
        "id": "WOQC0OnAw-C9",
        "colab_type": "text"
      },
      "source": [
        "Get general information:"
      ]
    },
    {
      "cell_type": "code",
      "metadata": {
        "id": "n4ucq5OMw_n2",
        "colab_type": "code",
        "colab": {
          "base_uri": "https://localhost:8080/",
          "height": 372
        },
        "outputId": "32b912d3-aae8-469b-aece-94801582effe"
      },
      "source": [
        "data.info()"
      ],
      "execution_count": 9,
      "outputs": [
        {
          "output_type": "stream",
          "text": [
            "<class 'pandas.core.frame.DataFrame'>\n",
            "RangeIndex: 506 entries, 0 to 505\n",
            "Data columns (total 13 columns):\n",
            " #   Column   Non-Null Count  Dtype  \n",
            "---  ------   --------------  -----  \n",
            " 0   CRIM     506 non-null    float64\n",
            " 1    ZN      506 non-null    float64\n",
            " 2   INDUS    506 non-null    float64\n",
            " 3   CHAS     506 non-null    int64  \n",
            " 4   NOX      506 non-null    float64\n",
            " 5   RM       506 non-null    float64\n",
            " 6   AGE      506 non-null    float64\n",
            " 7   DIS      506 non-null    float64\n",
            " 8   RAD      506 non-null    int64  \n",
            " 9   TAX      506 non-null    int64  \n",
            " 10  PTRATIO  506 non-null    float64\n",
            " 11  LSTAT    506 non-null    float64\n",
            " 12  MEDV     506 non-null    float64\n",
            "dtypes: float64(10), int64(3)\n",
            "memory usage: 51.5 KB\n"
          ],
          "name": "stdout"
        }
      ]
    },
    {
      "cell_type": "markdown",
      "metadata": {
        "id": "w5322Or9xCq-",
        "colab_type": "text"
      },
      "source": [
        "Create a DataFrame that holds basic statistics with the describe method and transpose it for easier viewing:"
      ]
    },
    {
      "cell_type": "code",
      "metadata": {
        "id": "b0oPawBywvfh",
        "colab_type": "code",
        "colab": {
          "base_uri": "https://localhost:8080/",
          "height": 437
        },
        "outputId": "fb0f33b6-b431-47f7-945e-e5eee3969169"
      },
      "source": [
        "data_t = data.describe()\n",
        "desc = data_t.T\n",
        "desc"
      ],
      "execution_count": 10,
      "outputs": [
        {
          "output_type": "execute_result",
          "data": {
            "text/html": [
              "<div>\n",
              "<style scoped>\n",
              "    .dataframe tbody tr th:only-of-type {\n",
              "        vertical-align: middle;\n",
              "    }\n",
              "\n",
              "    .dataframe tbody tr th {\n",
              "        vertical-align: top;\n",
              "    }\n",
              "\n",
              "    .dataframe thead th {\n",
              "        text-align: right;\n",
              "    }\n",
              "</style>\n",
              "<table border=\"1\" class=\"dataframe\">\n",
              "  <thead>\n",
              "    <tr style=\"text-align: right;\">\n",
              "      <th></th>\n",
              "      <th>count</th>\n",
              "      <th>mean</th>\n",
              "      <th>std</th>\n",
              "      <th>min</th>\n",
              "      <th>25%</th>\n",
              "      <th>50%</th>\n",
              "      <th>75%</th>\n",
              "      <th>max</th>\n",
              "    </tr>\n",
              "  </thead>\n",
              "  <tbody>\n",
              "    <tr>\n",
              "      <th>CRIM</th>\n",
              "      <td>506.0</td>\n",
              "      <td>3.613524</td>\n",
              "      <td>8.601545</td>\n",
              "      <td>0.00632</td>\n",
              "      <td>0.082045</td>\n",
              "      <td>0.25651</td>\n",
              "      <td>3.677082</td>\n",
              "      <td>88.9762</td>\n",
              "    </tr>\n",
              "    <tr>\n",
              "      <th>ZN</th>\n",
              "      <td>506.0</td>\n",
              "      <td>11.363636</td>\n",
              "      <td>23.322453</td>\n",
              "      <td>0.00000</td>\n",
              "      <td>0.000000</td>\n",
              "      <td>0.00000</td>\n",
              "      <td>12.500000</td>\n",
              "      <td>100.0000</td>\n",
              "    </tr>\n",
              "    <tr>\n",
              "      <th>INDUS</th>\n",
              "      <td>506.0</td>\n",
              "      <td>11.136779</td>\n",
              "      <td>6.860353</td>\n",
              "      <td>0.46000</td>\n",
              "      <td>5.190000</td>\n",
              "      <td>9.69000</td>\n",
              "      <td>18.100000</td>\n",
              "      <td>27.7400</td>\n",
              "    </tr>\n",
              "    <tr>\n",
              "      <th>CHAS</th>\n",
              "      <td>506.0</td>\n",
              "      <td>0.069170</td>\n",
              "      <td>0.253994</td>\n",
              "      <td>0.00000</td>\n",
              "      <td>0.000000</td>\n",
              "      <td>0.00000</td>\n",
              "      <td>0.000000</td>\n",
              "      <td>1.0000</td>\n",
              "    </tr>\n",
              "    <tr>\n",
              "      <th>NOX</th>\n",
              "      <td>506.0</td>\n",
              "      <td>0.554695</td>\n",
              "      <td>0.115878</td>\n",
              "      <td>0.38500</td>\n",
              "      <td>0.449000</td>\n",
              "      <td>0.53800</td>\n",
              "      <td>0.624000</td>\n",
              "      <td>0.8710</td>\n",
              "    </tr>\n",
              "    <tr>\n",
              "      <th>RM</th>\n",
              "      <td>506.0</td>\n",
              "      <td>6.284634</td>\n",
              "      <td>0.702617</td>\n",
              "      <td>3.56100</td>\n",
              "      <td>5.885500</td>\n",
              "      <td>6.20850</td>\n",
              "      <td>6.623500</td>\n",
              "      <td>8.7800</td>\n",
              "    </tr>\n",
              "    <tr>\n",
              "      <th>AGE</th>\n",
              "      <td>506.0</td>\n",
              "      <td>68.574901</td>\n",
              "      <td>28.148861</td>\n",
              "      <td>2.90000</td>\n",
              "      <td>45.025000</td>\n",
              "      <td>77.50000</td>\n",
              "      <td>94.075000</td>\n",
              "      <td>100.0000</td>\n",
              "    </tr>\n",
              "    <tr>\n",
              "      <th>DIS</th>\n",
              "      <td>506.0</td>\n",
              "      <td>3.795043</td>\n",
              "      <td>2.105710</td>\n",
              "      <td>1.12960</td>\n",
              "      <td>2.100175</td>\n",
              "      <td>3.20745</td>\n",
              "      <td>5.188425</td>\n",
              "      <td>12.1265</td>\n",
              "    </tr>\n",
              "    <tr>\n",
              "      <th>RAD</th>\n",
              "      <td>506.0</td>\n",
              "      <td>9.549407</td>\n",
              "      <td>8.707259</td>\n",
              "      <td>1.00000</td>\n",
              "      <td>4.000000</td>\n",
              "      <td>5.00000</td>\n",
              "      <td>24.000000</td>\n",
              "      <td>24.0000</td>\n",
              "    </tr>\n",
              "    <tr>\n",
              "      <th>TAX</th>\n",
              "      <td>506.0</td>\n",
              "      <td>408.237154</td>\n",
              "      <td>168.537116</td>\n",
              "      <td>187.00000</td>\n",
              "      <td>279.000000</td>\n",
              "      <td>330.00000</td>\n",
              "      <td>666.000000</td>\n",
              "      <td>711.0000</td>\n",
              "    </tr>\n",
              "    <tr>\n",
              "      <th>PTRATIO</th>\n",
              "      <td>506.0</td>\n",
              "      <td>18.455534</td>\n",
              "      <td>2.164946</td>\n",
              "      <td>12.60000</td>\n",
              "      <td>17.400000</td>\n",
              "      <td>19.05000</td>\n",
              "      <td>20.200000</td>\n",
              "      <td>22.0000</td>\n",
              "    </tr>\n",
              "    <tr>\n",
              "      <th>LSTAT</th>\n",
              "      <td>506.0</td>\n",
              "      <td>12.653063</td>\n",
              "      <td>7.141062</td>\n",
              "      <td>1.73000</td>\n",
              "      <td>6.950000</td>\n",
              "      <td>11.36000</td>\n",
              "      <td>16.955000</td>\n",
              "      <td>37.9700</td>\n",
              "    </tr>\n",
              "    <tr>\n",
              "      <th>MEDV</th>\n",
              "      <td>506.0</td>\n",
              "      <td>22.532806</td>\n",
              "      <td>9.197104</td>\n",
              "      <td>5.00000</td>\n",
              "      <td>17.025000</td>\n",
              "      <td>21.20000</td>\n",
              "      <td>25.000000</td>\n",
              "      <td>50.0000</td>\n",
              "    </tr>\n",
              "  </tbody>\n",
              "</table>\n",
              "</div>"
            ],
            "text/plain": [
              "         count        mean         std  ...        50%         75%       max\n",
              "CRIM     506.0    3.613524    8.601545  ...    0.25651    3.677082   88.9762\n",
              " ZN      506.0   11.363636   23.322453  ...    0.00000   12.500000  100.0000\n",
              "INDUS    506.0   11.136779    6.860353  ...    9.69000   18.100000   27.7400\n",
              "CHAS     506.0    0.069170    0.253994  ...    0.00000    0.000000    1.0000\n",
              "NOX      506.0    0.554695    0.115878  ...    0.53800    0.624000    0.8710\n",
              "RM       506.0    6.284634    0.702617  ...    6.20850    6.623500    8.7800\n",
              "AGE      506.0   68.574901   28.148861  ...   77.50000   94.075000  100.0000\n",
              "DIS      506.0    3.795043    2.105710  ...    3.20745    5.188425   12.1265\n",
              "RAD      506.0    9.549407    8.707259  ...    5.00000   24.000000   24.0000\n",
              "TAX      506.0  408.237154  168.537116  ...  330.00000  666.000000  711.0000\n",
              "PTRATIO  506.0   18.455534    2.164946  ...   19.05000   20.200000   22.0000\n",
              "LSTAT    506.0   12.653063    7.141062  ...   11.36000   16.955000   37.9700\n",
              "MEDV     506.0   22.532806    9.197104  ...   21.20000   25.000000   50.0000\n",
              "\n",
              "[13 rows x 8 columns]"
            ]
          },
          "metadata": {
            "tags": []
          },
          "execution_count": 10
        }
      ]
    },
    {
      "cell_type": "markdown",
      "metadata": {
        "id": "xuxYRUxrbdgx",
        "colab_type": "text"
      },
      "source": [
        "Target specific statistics from the transposed DataFrame:"
      ]
    },
    {
      "cell_type": "code",
      "metadata": {
        "id": "jhUjNG-ubdpX",
        "colab_type": "code",
        "colab": {
          "base_uri": "https://localhost:8080/",
          "height": 437
        },
        "outputId": "bdbe74ac-5445-4a98-a54d-e38b21628178"
      },
      "source": [
        "desc[['mean', 'std']]"
      ],
      "execution_count": 11,
      "outputs": [
        {
          "output_type": "execute_result",
          "data": {
            "text/html": [
              "<div>\n",
              "<style scoped>\n",
              "    .dataframe tbody tr th:only-of-type {\n",
              "        vertical-align: middle;\n",
              "    }\n",
              "\n",
              "    .dataframe tbody tr th {\n",
              "        vertical-align: top;\n",
              "    }\n",
              "\n",
              "    .dataframe thead th {\n",
              "        text-align: right;\n",
              "    }\n",
              "</style>\n",
              "<table border=\"1\" class=\"dataframe\">\n",
              "  <thead>\n",
              "    <tr style=\"text-align: right;\">\n",
              "      <th></th>\n",
              "      <th>mean</th>\n",
              "      <th>std</th>\n",
              "    </tr>\n",
              "  </thead>\n",
              "  <tbody>\n",
              "    <tr>\n",
              "      <th>CRIM</th>\n",
              "      <td>3.613524</td>\n",
              "      <td>8.601545</td>\n",
              "    </tr>\n",
              "    <tr>\n",
              "      <th>ZN</th>\n",
              "      <td>11.363636</td>\n",
              "      <td>23.322453</td>\n",
              "    </tr>\n",
              "    <tr>\n",
              "      <th>INDUS</th>\n",
              "      <td>11.136779</td>\n",
              "      <td>6.860353</td>\n",
              "    </tr>\n",
              "    <tr>\n",
              "      <th>CHAS</th>\n",
              "      <td>0.069170</td>\n",
              "      <td>0.253994</td>\n",
              "    </tr>\n",
              "    <tr>\n",
              "      <th>NOX</th>\n",
              "      <td>0.554695</td>\n",
              "      <td>0.115878</td>\n",
              "    </tr>\n",
              "    <tr>\n",
              "      <th>RM</th>\n",
              "      <td>6.284634</td>\n",
              "      <td>0.702617</td>\n",
              "    </tr>\n",
              "    <tr>\n",
              "      <th>AGE</th>\n",
              "      <td>68.574901</td>\n",
              "      <td>28.148861</td>\n",
              "    </tr>\n",
              "    <tr>\n",
              "      <th>DIS</th>\n",
              "      <td>3.795043</td>\n",
              "      <td>2.105710</td>\n",
              "    </tr>\n",
              "    <tr>\n",
              "      <th>RAD</th>\n",
              "      <td>9.549407</td>\n",
              "      <td>8.707259</td>\n",
              "    </tr>\n",
              "    <tr>\n",
              "      <th>TAX</th>\n",
              "      <td>408.237154</td>\n",
              "      <td>168.537116</td>\n",
              "    </tr>\n",
              "    <tr>\n",
              "      <th>PTRATIO</th>\n",
              "      <td>18.455534</td>\n",
              "      <td>2.164946</td>\n",
              "    </tr>\n",
              "    <tr>\n",
              "      <th>LSTAT</th>\n",
              "      <td>12.653063</td>\n",
              "      <td>7.141062</td>\n",
              "    </tr>\n",
              "    <tr>\n",
              "      <th>MEDV</th>\n",
              "      <td>22.532806</td>\n",
              "      <td>9.197104</td>\n",
              "    </tr>\n",
              "  </tbody>\n",
              "</table>\n",
              "</div>"
            ],
            "text/plain": [
              "               mean         std\n",
              "CRIM       3.613524    8.601545\n",
              " ZN       11.363636   23.322453\n",
              "INDUS     11.136779    6.860353\n",
              "CHAS       0.069170    0.253994\n",
              "NOX        0.554695    0.115878\n",
              "RM         6.284634    0.702617\n",
              "AGE       68.574901   28.148861\n",
              "DIS        3.795043    2.105710\n",
              "RAD        9.549407    8.707259\n",
              "TAX      408.237154  168.537116\n",
              "PTRATIO   18.455534    2.164946\n",
              "LSTAT     12.653063    7.141062\n",
              "MEDV      22.532806    9.197104"
            ]
          },
          "metadata": {
            "tags": []
          },
          "execution_count": 11
        }
      ]
    },
    {
      "cell_type": "markdown",
      "metadata": {
        "id": "csqLKtgOxW95",
        "colab_type": "text"
      },
      "source": [
        "Describe a specific feature:"
      ]
    },
    {
      "cell_type": "code",
      "metadata": {
        "id": "NFFLaTHbxGhu",
        "colab_type": "code",
        "colab": {
          "base_uri": "https://localhost:8080/",
          "height": 176
        },
        "outputId": "0b652e5e-455f-434f-9f46-16a3db848599"
      },
      "source": [
        "data.describe().LSTAT"
      ],
      "execution_count": 12,
      "outputs": [
        {
          "output_type": "execute_result",
          "data": {
            "text/plain": [
              "count    506.000000\n",
              "mean      12.653063\n",
              "std        7.141062\n",
              "min        1.730000\n",
              "25%        6.950000\n",
              "50%       11.360000\n",
              "75%       16.955000\n",
              "max       37.970000\n",
              "Name: LSTAT, dtype: float64"
            ]
          },
          "metadata": {
            "tags": []
          },
          "execution_count": 12
        }
      ]
    },
    {
      "cell_type": "markdown",
      "metadata": {
        "id": "f4S10R1VxsR9",
        "colab_type": "text"
      },
      "source": [
        "Or:"
      ]
    },
    {
      "cell_type": "code",
      "metadata": {
        "id": "oSrZQR8CxoC9",
        "colab_type": "code",
        "colab": {
          "base_uri": "https://localhost:8080/",
          "height": 176
        },
        "outputId": "adbb48f8-87c6-4839-e511-54b845a09ee9"
      },
      "source": [
        "data['LSTAT'].describe()"
      ],
      "execution_count": 13,
      "outputs": [
        {
          "output_type": "execute_result",
          "data": {
            "text/plain": [
              "count    506.000000\n",
              "mean      12.653063\n",
              "std        7.141062\n",
              "min        1.730000\n",
              "25%        6.950000\n",
              "50%       11.360000\n",
              "75%       16.955000\n",
              "max       37.970000\n",
              "Name: LSTAT, dtype: float64"
            ]
          },
          "metadata": {
            "tags": []
          },
          "execution_count": 13
        }
      ]
    },
    {
      "cell_type": "markdown",
      "metadata": {
        "id": "9kX3uwtnvsyT",
        "colab_type": "text"
      },
      "source": [
        "Get columns:"
      ]
    },
    {
      "cell_type": "code",
      "metadata": {
        "id": "Ma0GQx_9wc2N",
        "colab_type": "code",
        "colab": {
          "base_uri": "https://localhost:8080/",
          "height": 247
        },
        "outputId": "e6c287dd-c252-4435-ea72-c1c81b3c1686"
      },
      "source": [
        "cols = list(data)\n",
        "cols"
      ],
      "execution_count": 14,
      "outputs": [
        {
          "output_type": "execute_result",
          "data": {
            "text/plain": [
              "['CRIM',\n",
              " ' ZN ',\n",
              " 'INDUS ',\n",
              " 'CHAS',\n",
              " 'NOX',\n",
              " 'RM',\n",
              " 'AGE',\n",
              " 'DIS',\n",
              " 'RAD',\n",
              " 'TAX',\n",
              " 'PTRATIO',\n",
              " 'LSTAT',\n",
              " 'MEDV']"
            ]
          },
          "metadata": {
            "tags": []
          },
          "execution_count": 14
        }
      ]
    },
    {
      "cell_type": "markdown",
      "metadata": {
        "id": "dI7Nn6Nn2yFe",
        "colab_type": "text"
      },
      "source": [
        "## Create Feature and Target Sets\n",
        "\n",
        "We need to create the feature set and target from the data, so let's do that now:"
      ]
    },
    {
      "cell_type": "code",
      "metadata": {
        "id": "NEjZO7VD0W-T",
        "colab_type": "code",
        "colab": {
          "base_uri": "https://localhost:8080/",
          "height": 123
        },
        "outputId": "f83fcdbd-5e44-492d-a3dc-f15a1f8bea6e"
      },
      "source": [
        "# create a copy of the DataFrame\n",
        "\n",
        "df = data.copy()\n",
        "\n",
        "# create the target\n",
        "\n",
        "target = df.pop('MEDV')\n",
        "print (target.head())"
      ],
      "execution_count": 15,
      "outputs": [
        {
          "output_type": "stream",
          "text": [
            "0    24.0\n",
            "1    21.6\n",
            "2    34.7\n",
            "3    33.4\n",
            "4    36.2\n",
            "Name: MEDV, dtype: float64\n"
          ],
          "name": "stdout"
        }
      ]
    },
    {
      "cell_type": "markdown",
      "metadata": {
        "id": "eqPdXTW63W2R",
        "colab_type": "text"
      },
      "source": [
        "Verify that feature set is as expected:"
      ]
    },
    {
      "cell_type": "code",
      "metadata": {
        "id": "Qa5MK7Hm3clR",
        "colab_type": "code",
        "colab": {
          "base_uri": "https://localhost:8080/",
          "height": 197
        },
        "outputId": "4b096133-8fa3-467a-f6d7-ad35da698d34"
      },
      "source": [
        "df.head()"
      ],
      "execution_count": 16,
      "outputs": [
        {
          "output_type": "execute_result",
          "data": {
            "text/html": [
              "<div>\n",
              "<style scoped>\n",
              "    .dataframe tbody tr th:only-of-type {\n",
              "        vertical-align: middle;\n",
              "    }\n",
              "\n",
              "    .dataframe tbody tr th {\n",
              "        vertical-align: top;\n",
              "    }\n",
              "\n",
              "    .dataframe thead th {\n",
              "        text-align: right;\n",
              "    }\n",
              "</style>\n",
              "<table border=\"1\" class=\"dataframe\">\n",
              "  <thead>\n",
              "    <tr style=\"text-align: right;\">\n",
              "      <th></th>\n",
              "      <th>CRIM</th>\n",
              "      <th>ZN</th>\n",
              "      <th>INDUS</th>\n",
              "      <th>CHAS</th>\n",
              "      <th>NOX</th>\n",
              "      <th>RM</th>\n",
              "      <th>AGE</th>\n",
              "      <th>DIS</th>\n",
              "      <th>RAD</th>\n",
              "      <th>TAX</th>\n",
              "      <th>PTRATIO</th>\n",
              "      <th>LSTAT</th>\n",
              "    </tr>\n",
              "  </thead>\n",
              "  <tbody>\n",
              "    <tr>\n",
              "      <th>0</th>\n",
              "      <td>0.00632</td>\n",
              "      <td>18.0</td>\n",
              "      <td>2.31</td>\n",
              "      <td>0</td>\n",
              "      <td>0.538</td>\n",
              "      <td>6.575</td>\n",
              "      <td>65.2</td>\n",
              "      <td>4.0900</td>\n",
              "      <td>1</td>\n",
              "      <td>296</td>\n",
              "      <td>15.3</td>\n",
              "      <td>4.98</td>\n",
              "    </tr>\n",
              "    <tr>\n",
              "      <th>1</th>\n",
              "      <td>0.02731</td>\n",
              "      <td>0.0</td>\n",
              "      <td>7.07</td>\n",
              "      <td>0</td>\n",
              "      <td>0.469</td>\n",
              "      <td>6.421</td>\n",
              "      <td>78.9</td>\n",
              "      <td>4.9671</td>\n",
              "      <td>2</td>\n",
              "      <td>242</td>\n",
              "      <td>17.8</td>\n",
              "      <td>9.14</td>\n",
              "    </tr>\n",
              "    <tr>\n",
              "      <th>2</th>\n",
              "      <td>0.02729</td>\n",
              "      <td>0.0</td>\n",
              "      <td>7.07</td>\n",
              "      <td>0</td>\n",
              "      <td>0.469</td>\n",
              "      <td>7.185</td>\n",
              "      <td>61.1</td>\n",
              "      <td>4.9671</td>\n",
              "      <td>2</td>\n",
              "      <td>242</td>\n",
              "      <td>17.8</td>\n",
              "      <td>4.03</td>\n",
              "    </tr>\n",
              "    <tr>\n",
              "      <th>3</th>\n",
              "      <td>0.03237</td>\n",
              "      <td>0.0</td>\n",
              "      <td>2.18</td>\n",
              "      <td>0</td>\n",
              "      <td>0.458</td>\n",
              "      <td>6.998</td>\n",
              "      <td>45.8</td>\n",
              "      <td>6.0622</td>\n",
              "      <td>3</td>\n",
              "      <td>222</td>\n",
              "      <td>18.7</td>\n",
              "      <td>2.94</td>\n",
              "    </tr>\n",
              "    <tr>\n",
              "      <th>4</th>\n",
              "      <td>0.06905</td>\n",
              "      <td>0.0</td>\n",
              "      <td>2.18</td>\n",
              "      <td>0</td>\n",
              "      <td>0.458</td>\n",
              "      <td>7.147</td>\n",
              "      <td>54.2</td>\n",
              "      <td>6.0622</td>\n",
              "      <td>3</td>\n",
              "      <td>222</td>\n",
              "      <td>18.7</td>\n",
              "      <td>5.33</td>\n",
              "    </tr>\n",
              "  </tbody>\n",
              "</table>\n",
              "</div>"
            ],
            "text/plain": [
              "      CRIM   ZN   INDUS   CHAS    NOX  ...     DIS  RAD  TAX  PTRATIO  LSTAT\n",
              "0  0.00632  18.0    2.31     0  0.538  ...  4.0900    1  296     15.3   4.98\n",
              "1  0.02731   0.0    7.07     0  0.469  ...  4.9671    2  242     17.8   9.14\n",
              "2  0.02729   0.0    7.07     0  0.469  ...  4.9671    2  242     17.8   4.03\n",
              "3  0.03237   0.0    2.18     0  0.458  ...  6.0622    3  222     18.7   2.94\n",
              "4  0.06905   0.0    2.18     0  0.458  ...  6.0622    3  222     18.7   5.33\n",
              "\n",
              "[5 rows x 12 columns]"
            ]
          },
          "metadata": {
            "tags": []
          },
          "execution_count": 16
        }
      ]
    },
    {
      "cell_type": "markdown",
      "metadata": {
        "id": "b0qDofPL3lYJ",
        "colab_type": "text"
      },
      "source": [
        "## Get Feature Names from the Features DataFrame\n",
        "\n",
        "It is easy to get the features since the target is no longer part of the DataFrame:"
      ]
    },
    {
      "cell_type": "code",
      "metadata": {
        "id": "z2ekWP1K3qxL",
        "colab_type": "code",
        "colab": {
          "base_uri": "https://localhost:8080/",
          "height": 230
        },
        "outputId": "1f4f93d4-c0f7-4c71-8583-4f6d9861c65e"
      },
      "source": [
        "feature_cols = list(df)\n",
        "feature_cols"
      ],
      "execution_count": 17,
      "outputs": [
        {
          "output_type": "execute_result",
          "data": {
            "text/plain": [
              "['CRIM',\n",
              " ' ZN ',\n",
              " 'INDUS ',\n",
              " 'CHAS',\n",
              " 'NOX',\n",
              " 'RM',\n",
              " 'AGE',\n",
              " 'DIS',\n",
              " 'RAD',\n",
              " 'TAX',\n",
              " 'PTRATIO',\n",
              " 'LSTAT']"
            ]
          },
          "metadata": {
            "tags": []
          },
          "execution_count": 17
        }
      ]
    },
    {
      "cell_type": "markdown",
      "metadata": {
        "id": "C1W_h9RN4fCp",
        "colab_type": "text"
      },
      "source": [
        "Get number of features:"
      ]
    },
    {
      "cell_type": "code",
      "metadata": {
        "id": "5P2L_2w_4gpH",
        "colab_type": "code",
        "colab": {
          "base_uri": "https://localhost:8080/",
          "height": 34
        },
        "outputId": "229f2e0a-185e-4c50-e643-ec9195841592"
      },
      "source": [
        "len(feature_cols)"
      ],
      "execution_count": 18,
      "outputs": [
        {
          "output_type": "execute_result",
          "data": {
            "text/plain": [
              "12"
            ]
          },
          "metadata": {
            "tags": []
          },
          "execution_count": 18
        }
      ]
    },
    {
      "cell_type": "markdown",
      "metadata": {
        "id": "N54kSxyv4oKo",
        "colab_type": "text"
      },
      "source": [
        "Or:"
      ]
    },
    {
      "cell_type": "code",
      "metadata": {
        "id": "IXmW7klY4kgg",
        "colab_type": "code",
        "colab": {
          "base_uri": "https://localhost:8080/",
          "height": 34
        },
        "outputId": "3c875abb-e474-479f-f8ba-9b8de6a85cc7"
      },
      "source": [
        "len(df.columns)"
      ],
      "execution_count": 19,
      "outputs": [
        {
          "output_type": "execute_result",
          "data": {
            "text/plain": [
              "12"
            ]
          },
          "metadata": {
            "tags": []
          },
          "execution_count": 19
        }
      ]
    },
    {
      "cell_type": "markdown",
      "metadata": {
        "id": "jEzC5rjb5HPM",
        "colab_type": "text"
      },
      "source": [
        "## Convert Features and Labels to Numpy\n",
        "\n",
        "Convert Pandas DataFrame values to Numpy with the *values* method:"
      ]
    },
    {
      "cell_type": "code",
      "metadata": {
        "id": "F2LPNUWl5Vs8",
        "colab_type": "code",
        "colab": {
          "base_uri": "https://localhost:8080/",
          "height": 34
        },
        "outputId": "c4ab564a-43e5-4513-86af-67d4e81c3156"
      },
      "source": [
        "features = df.values\n",
        "labels = target.values\n",
        "\n",
        "type(features), type(labels)"
      ],
      "execution_count": 20,
      "outputs": [
        {
          "output_type": "execute_result",
          "data": {
            "text/plain": [
              "(numpy.ndarray, numpy.ndarray)"
            ]
          },
          "metadata": {
            "tags": []
          },
          "execution_count": 20
        }
      ]
    },
    {
      "cell_type": "markdown",
      "metadata": {
        "id": "N4TQdMlq5ZrT",
        "colab_type": "text"
      },
      "source": [
        "## Split into train and test sets:"
      ]
    },
    {
      "cell_type": "code",
      "metadata": {
        "id": "bMtTFidt5dfk",
        "colab_type": "code",
        "colab": {
          "base_uri": "https://localhost:8080/",
          "height": 70
        },
        "outputId": "6c98311a-3691-46ca-c127-ab30152ef530"
      },
      "source": [
        "from sklearn.model_selection import train_test_split\n",
        "\n",
        "X_train, X_test, y_train, y_test = train_test_split(\n",
        "    features, labels, test_size=0.33, random_state=0)\n",
        "\n",
        "br = '\\n'\n",
        "\n",
        "print ('X_train shape:', end=' ')\n",
        "print (X_train.shape, br)\n",
        "\n",
        "print ('X_test shape:', end=' ')\n",
        "print (X_test.shape)"
      ],
      "execution_count": 21,
      "outputs": [
        {
          "output_type": "stream",
          "text": [
            "X_train shape: (339, 12) \n",
            "\n",
            "X_test shape: (167, 12)\n"
          ],
          "name": "stdout"
        }
      ]
    },
    {
      "cell_type": "markdown",
      "metadata": {
        "id": "49MtJKvH5yC3",
        "colab_type": "text"
      },
      "source": [
        "## Scale Data and Create TensorFlow Tensors\n",
        "\n",
        "With image data, we scale by dividing each element by 255.0 to ensure that each input parameter (a pixel, in our case) has a similar data distribution. However, features represented by continous values are scaled differently. We rescale continuous data to have a mean (μ) of 0 and standard deviation (σ) of 1. A σ of 1 is called unit variance."
      ]
    },
    {
      "cell_type": "code",
      "metadata": {
        "id": "Wstb8WM756LP",
        "colab_type": "code",
        "colab": {}
      },
      "source": [
        "# scale feature data and create TensorFlow tensors\n",
        "\n",
        "from sklearn.preprocessing import StandardScaler\n",
        "\n",
        "scaler = StandardScaler()\n",
        "X_train_std = scaler.fit_transform(X_train)\n",
        "X_test_std = scaler.fit_transform(X_test)\n",
        "\n",
        "train = tf.data.Dataset.from_tensor_slices(\n",
        "    (X_train_std, y_train))\n",
        "test = tf.data.Dataset.from_tensor_slices(\n",
        "    (X_test_std, y_test))"
      ],
      "execution_count": 25,
      "outputs": []
    },
    {
      "cell_type": "markdown",
      "metadata": {
        "id": "nSGJ74he77B0",
        "colab_type": "text"
      },
      "source": [
        "Let's view the first tensor:"
      ]
    },
    {
      "cell_type": "code",
      "metadata": {
        "id": "b2S9LDDc79Kk",
        "colab_type": "code",
        "colab": {
          "base_uri": "https://localhost:8080/",
          "height": 87
        },
        "outputId": "30870082-4e2d-43aa-88e4-119741aaee6e"
      },
      "source": [
        "def see_samples(data, num):\n",
        "  for feat, targ in data.take(num):\n",
        "    print ('Features: {}'.format(feat), br)\n",
        "    print ('Target: {}'.format(targ))\n",
        "\n",
        "n = 1\n",
        "see_samples(train, n)"
      ],
      "execution_count": 26,
      "outputs": [
        {
          "output_type": "stream",
          "text": [
            "Features: [-0.40069293  0.54888872 -0.899201   -0.2697866  -1.13360708  0.43514224\n",
            "  0.05150692  0.8106114  -0.63095801 -0.72342494  0.24982303 -0.73612695] \n",
            "\n",
            "Target: 23.9\n"
          ],
          "name": "stdout"
        }
      ]
    },
    {
      "cell_type": "markdown",
      "metadata": {
        "id": "YIPqAUdr8xPO",
        "colab_type": "text"
      },
      "source": [
        "The first sample looks exactly as we expect."
      ]
    },
    {
      "cell_type": "markdown",
      "metadata": {
        "id": "3hrGInpK5xNO",
        "colab_type": "text"
      },
      "source": [
        "## Prepare Tensors for Training"
      ]
    },
    {
      "cell_type": "code",
      "metadata": {
        "id": "yXJYOwMQ6gJB",
        "colab_type": "code",
        "colab": {}
      },
      "source": [
        "BATCH_SIZE, SHUFFLE_BUFFER_SIZE  = 16, 100\n",
        "\n",
        "train_bs = train.shuffle(\n",
        "    SHUFFLE_BUFFER_SIZE).batch(BATCH_SIZE).prefetch(1)\n",
        "test_bs = test.batch(BATCH_SIZE).prefetch(1)"
      ],
      "execution_count": 29,
      "outputs": []
    },
    {
      "cell_type": "markdown",
      "metadata": {
        "id": "v1Asble50w05",
        "colab_type": "text"
      },
      "source": [
        "Inspect tensors:"
      ]
    },
    {
      "cell_type": "code",
      "metadata": {
        "id": "JaPcW-OQ0y8X",
        "colab_type": "code",
        "colab": {
          "base_uri": "https://localhost:8080/",
          "height": 52
        },
        "outputId": "80714859-c06e-4157-d943-90400c8d85e7"
      },
      "source": [
        "train_bs, test_bs"
      ],
      "execution_count": 30,
      "outputs": [
        {
          "output_type": "execute_result",
          "data": {
            "text/plain": [
              "(<PrefetchDataset shapes: ((None, 12), (None,)), types: (tf.float64, tf.float64)>,\n",
              " <PrefetchDataset shapes: ((None, 12), (None,)), types: (tf.float64, tf.float64)>)"
            ]
          },
          "metadata": {
            "tags": []
          },
          "execution_count": 30
        }
      ]
    },
    {
      "cell_type": "markdown",
      "metadata": {
        "id": "iNcHvDts7ksK",
        "colab_type": "text"
      },
      "source": [
        "## Create a Model\n",
        "\n",
        "If we don't have a lot of training data, one technique to avoid overfitting is to create a small network with few hidden layers. We do just that!\n",
        "\n",
        "The 64 neuron input layer accommodates our 12 input features. We have one hidden layers with 64 neurons. The output layer has 1 neuron because we are using regression."
      ]
    },
    {
      "cell_type": "code",
      "metadata": {
        "id": "lIDe1Mxv7eSk",
        "colab_type": "code",
        "colab": {}
      },
      "source": [
        "import tensorflow as tf\n",
        "from tensorflow.keras.models import Sequential\n",
        "from tensorflow.keras.layers import Dense, Flatten\n",
        "import numpy as np\n",
        "\n",
        "# clear any previous model\n",
        "tf.keras.backend.clear_session()\n",
        "\n",
        "# generate a seed for replication purposes\n",
        "np.random.seed(0)\n",
        "tf.random.set_seed(0)\n",
        "\n",
        "# notice input shape accommodates 12 features!\n",
        "model = Sequential([\n",
        "  Dense(64, activation='relu', input_shape=[12,]),\n",
        "  Dense(64, activation='relu'),\n",
        "  Dense(1)\n",
        "])"
      ],
      "execution_count": 31,
      "outputs": []
    },
    {
      "cell_type": "markdown",
      "metadata": {
        "id": "UFyAY087wBl0",
        "colab_type": "text"
      },
      "source": [
        "## Inspect the Model"
      ]
    },
    {
      "cell_type": "code",
      "metadata": {
        "id": "mX7BmLnIwBvz",
        "colab_type": "code",
        "colab": {
          "base_uri": "https://localhost:8080/",
          "height": 265
        },
        "outputId": "05005227-d1a9-42fb-e2a0-6607c6808d63"
      },
      "source": [
        "model.summary()"
      ],
      "execution_count": 32,
      "outputs": [
        {
          "output_type": "stream",
          "text": [
            "Model: \"sequential\"\n",
            "_________________________________________________________________\n",
            "Layer (type)                 Output Shape              Param #   \n",
            "=================================================================\n",
            "dense (Dense)                (None, 64)                832       \n",
            "_________________________________________________________________\n",
            "dense_1 (Dense)              (None, 64)                4160      \n",
            "_________________________________________________________________\n",
            "dense_2 (Dense)              (None, 1)                 65        \n",
            "=================================================================\n",
            "Total params: 5,057\n",
            "Trainable params: 5,057\n",
            "Non-trainable params: 0\n",
            "_________________________________________________________________\n"
          ],
          "name": "stdout"
        }
      ]
    },
    {
      "cell_type": "markdown",
      "metadata": {
        "id": "ILxUyoN9bX0K",
        "colab_type": "text"
      },
      "source": [
        "## Compile the Model"
      ]
    },
    {
      "cell_type": "code",
      "metadata": {
        "id": "Qjpdb8QD-E5o",
        "colab_type": "code",
        "colab": {}
      },
      "source": [
        "rmse = tf.keras.metrics.RootMeanSquaredError()\n",
        "\n",
        "model.compile(loss='mse', optimizer='RMSProp',\n",
        "              metrics=[rmse, 'mae', 'mse'])"
      ],
      "execution_count": 33,
      "outputs": []
    },
    {
      "cell_type": "markdown",
      "metadata": {
        "id": "X0kSUzSebW0T",
        "colab_type": "text"
      },
      "source": [
        "Mean Squared Error (MSE) is a common loss function used for regression problems. Mean Absolute Error (MAE) and RMSE are also common metrics. With some experimentation, we found that **RMSProp** performed pretty well with this dataset."
      ]
    },
    {
      "cell_type": "markdown",
      "metadata": {
        "id": "VJpNRr7sbbwS",
        "colab_type": "text"
      },
      "source": [
        "## Train the Model"
      ]
    },
    {
      "cell_type": "code",
      "metadata": {
        "id": "vOHauLH1_264",
        "colab_type": "code",
        "colab": {
          "base_uri": "https://localhost:8080/",
          "height": 1000
        },
        "outputId": "c7845a27-6e8a-41b7-f184-cc60d3b394c1"
      },
      "source": [
        "history = model.fit(train_bs, epochs=50,\n",
        "                    validation_data=test_bs)"
      ],
      "execution_count": 34,
      "outputs": [
        {
          "output_type": "stream",
          "text": [
            "Epoch 1/50\n",
            "22/22 [==============================] - 0s 10ms/step - loss: 529.9891 - root_mean_squared_error: 23.0215 - mae: 21.0938 - mse: 529.9891 - val_loss: 409.3482 - val_root_mean_squared_error: 20.2324 - val_mae: 18.2442 - val_mse: 409.3482\n",
            "Epoch 2/50\n",
            "22/22 [==============================] - 0s 4ms/step - loss: 364.1648 - root_mean_squared_error: 19.0831 - mae: 17.0594 - mse: 364.1648 - val_loss: 245.5480 - val_root_mean_squared_error: 15.6700 - val_mae: 13.5044 - val_mse: 245.5480\n",
            "Epoch 3/50\n",
            "22/22 [==============================] - 0s 4ms/step - loss: 200.8329 - root_mean_squared_error: 14.1716 - mae: 11.9724 - mse: 200.8329 - val_loss: 116.3698 - val_root_mean_squared_error: 10.7875 - val_mae: 8.6716 - val_mse: 116.3698\n",
            "Epoch 4/50\n",
            "22/22 [==============================] - 0s 4ms/step - loss: 92.1791 - root_mean_squared_error: 9.6010 - mae: 7.5593 - mse: 92.1791 - val_loss: 66.3886 - val_root_mean_squared_error: 8.1479 - val_mae: 6.3918 - val_mse: 66.3886\n",
            "Epoch 5/50\n",
            "22/22 [==============================] - 0s 4ms/step - loss: 51.1457 - root_mean_squared_error: 7.1516 - mae: 5.6332 - mse: 51.1457 - val_loss: 48.0122 - val_root_mean_squared_error: 6.9291 - val_mae: 5.3686 - val_mse: 48.0122\n",
            "Epoch 6/50\n",
            "22/22 [==============================] - 0s 4ms/step - loss: 34.7249 - root_mean_squared_error: 5.8928 - mae: 4.6019 - mse: 34.7249 - val_loss: 38.6635 - val_root_mean_squared_error: 6.2180 - val_mae: 4.7732 - val_mse: 38.6635\n",
            "Epoch 7/50\n",
            "22/22 [==============================] - 0s 4ms/step - loss: 26.0125 - root_mean_squared_error: 5.1002 - mae: 3.8517 - mse: 26.0125 - val_loss: 31.3520 - val_root_mean_squared_error: 5.5993 - val_mae: 4.2054 - val_mse: 31.3520\n",
            "Epoch 8/50\n",
            "22/22 [==============================] - 0s 4ms/step - loss: 21.7527 - root_mean_squared_error: 4.6640 - mae: 3.4447 - mse: 21.7527 - val_loss: 28.7186 - val_root_mean_squared_error: 5.3590 - val_mae: 4.0093 - val_mse: 28.7186\n",
            "Epoch 9/50\n",
            "22/22 [==============================] - 0s 4ms/step - loss: 19.5866 - root_mean_squared_error: 4.4257 - mae: 3.2570 - mse: 19.5866 - val_loss: 27.3253 - val_root_mean_squared_error: 5.2274 - val_mae: 3.9360 - val_mse: 27.3253\n",
            "Epoch 10/50\n",
            "22/22 [==============================] - 0s 4ms/step - loss: 17.5318 - root_mean_squared_error: 4.1871 - mae: 2.9897 - mse: 17.5318 - val_loss: 24.3731 - val_root_mean_squared_error: 4.9369 - val_mae: 3.7227 - val_mse: 24.3731\n",
            "Epoch 11/50\n",
            "22/22 [==============================] - 0s 4ms/step - loss: 16.0714 - root_mean_squared_error: 4.0089 - mae: 2.8783 - mse: 16.0714 - val_loss: 23.0750 - val_root_mean_squared_error: 4.8036 - val_mae: 3.5681 - val_mse: 23.0750\n",
            "Epoch 12/50\n",
            "22/22 [==============================] - 0s 4ms/step - loss: 15.2688 - root_mean_squared_error: 3.9075 - mae: 2.7808 - mse: 15.2688 - val_loss: 22.6434 - val_root_mean_squared_error: 4.7585 - val_mae: 3.5320 - val_mse: 22.6434\n",
            "Epoch 13/50\n",
            "22/22 [==============================] - 0s 4ms/step - loss: 14.3088 - root_mean_squared_error: 3.7827 - mae: 2.7026 - mse: 14.3088 - val_loss: 21.8528 - val_root_mean_squared_error: 4.6747 - val_mae: 3.4442 - val_mse: 21.8528\n",
            "Epoch 14/50\n",
            "22/22 [==============================] - 0s 3ms/step - loss: 13.1065 - root_mean_squared_error: 3.6203 - mae: 2.5733 - mse: 13.1065 - val_loss: 21.9652 - val_root_mean_squared_error: 4.6867 - val_mae: 3.5067 - val_mse: 21.9652\n",
            "Epoch 15/50\n",
            "22/22 [==============================] - 0s 4ms/step - loss: 12.8141 - root_mean_squared_error: 3.5797 - mae: 2.5608 - mse: 12.8141 - val_loss: 22.3560 - val_root_mean_squared_error: 4.7282 - val_mae: 3.5919 - val_mse: 22.3560\n",
            "Epoch 16/50\n",
            "22/22 [==============================] - 0s 4ms/step - loss: 12.2875 - root_mean_squared_error: 3.5054 - mae: 2.4937 - mse: 12.2875 - val_loss: 21.2839 - val_root_mean_squared_error: 4.6134 - val_mae: 3.4097 - val_mse: 21.2839\n",
            "Epoch 17/50\n",
            "22/22 [==============================] - 0s 4ms/step - loss: 11.8722 - root_mean_squared_error: 3.4456 - mae: 2.4324 - mse: 11.8722 - val_loss: 21.5580 - val_root_mean_squared_error: 4.6431 - val_mae: 3.4849 - val_mse: 21.5580\n",
            "Epoch 18/50\n",
            "22/22 [==============================] - 0s 4ms/step - loss: 11.2585 - root_mean_squared_error: 3.3554 - mae: 2.3920 - mse: 11.2585 - val_loss: 22.1831 - val_root_mean_squared_error: 4.7099 - val_mae: 3.5567 - val_mse: 22.1831\n",
            "Epoch 19/50\n",
            "22/22 [==============================] - 0s 4ms/step - loss: 11.0416 - root_mean_squared_error: 3.3229 - mae: 2.3601 - mse: 11.0416 - val_loss: 18.5767 - val_root_mean_squared_error: 4.3101 - val_mae: 3.0615 - val_mse: 18.5767\n",
            "Epoch 20/50\n",
            "22/22 [==============================] - 0s 4ms/step - loss: 10.7957 - root_mean_squared_error: 3.2857 - mae: 2.3210 - mse: 10.7957 - val_loss: 18.9683 - val_root_mean_squared_error: 4.3553 - val_mae: 3.1853 - val_mse: 18.9683\n",
            "Epoch 21/50\n",
            "22/22 [==============================] - 0s 4ms/step - loss: 10.4475 - root_mean_squared_error: 3.2323 - mae: 2.3260 - mse: 10.4475 - val_loss: 21.6845 - val_root_mean_squared_error: 4.6567 - val_mae: 3.4698 - val_mse: 21.6845\n",
            "Epoch 22/50\n",
            "22/22 [==============================] - 0s 4ms/step - loss: 10.4360 - root_mean_squared_error: 3.2305 - mae: 2.3138 - mse: 10.4360 - val_loss: 18.8013 - val_root_mean_squared_error: 4.3360 - val_mae: 3.2228 - val_mse: 18.8013\n",
            "Epoch 23/50\n",
            "22/22 [==============================] - 0s 3ms/step - loss: 10.1123 - root_mean_squared_error: 3.1800 - mae: 2.2742 - mse: 10.1123 - val_loss: 18.0110 - val_root_mean_squared_error: 4.2439 - val_mae: 3.1258 - val_mse: 18.0110\n",
            "Epoch 24/50\n",
            "22/22 [==============================] - 0s 4ms/step - loss: 9.8847 - root_mean_squared_error: 3.1440 - mae: 2.2475 - mse: 9.8847 - val_loss: 18.5892 - val_root_mean_squared_error: 4.3115 - val_mae: 3.1701 - val_mse: 18.5892\n",
            "Epoch 25/50\n",
            "22/22 [==============================] - 0s 3ms/step - loss: 9.6222 - root_mean_squared_error: 3.1020 - mae: 2.2241 - mse: 9.6222 - val_loss: 19.8285 - val_root_mean_squared_error: 4.4529 - val_mae: 3.2444 - val_mse: 19.8285\n",
            "Epoch 26/50\n",
            "22/22 [==============================] - 0s 4ms/step - loss: 9.4469 - root_mean_squared_error: 3.0736 - mae: 2.2257 - mse: 9.4469 - val_loss: 17.5794 - val_root_mean_squared_error: 4.1928 - val_mae: 3.0188 - val_mse: 17.5794\n",
            "Epoch 27/50\n",
            "22/22 [==============================] - 0s 4ms/step - loss: 9.2765 - root_mean_squared_error: 3.0457 - mae: 2.2238 - mse: 9.2765 - val_loss: 18.8876 - val_root_mean_squared_error: 4.3460 - val_mae: 3.3039 - val_mse: 18.8876\n",
            "Epoch 28/50\n",
            "22/22 [==============================] - 0s 4ms/step - loss: 9.4603 - root_mean_squared_error: 3.0758 - mae: 2.2346 - mse: 9.4603 - val_loss: 17.4454 - val_root_mean_squared_error: 4.1768 - val_mae: 3.0803 - val_mse: 17.4454\n",
            "Epoch 29/50\n",
            "22/22 [==============================] - 0s 3ms/step - loss: 9.1786 - root_mean_squared_error: 3.0296 - mae: 2.1768 - mse: 9.1786 - val_loss: 19.9252 - val_root_mean_squared_error: 4.4638 - val_mae: 3.3689 - val_mse: 19.9252\n",
            "Epoch 30/50\n",
            "22/22 [==============================] - 0s 3ms/step - loss: 8.7507 - root_mean_squared_error: 2.9582 - mae: 2.1479 - mse: 8.7507 - val_loss: 19.9531 - val_root_mean_squared_error: 4.4669 - val_mae: 3.3952 - val_mse: 19.9531\n",
            "Epoch 31/50\n",
            "22/22 [==============================] - 0s 4ms/step - loss: 8.7608 - root_mean_squared_error: 2.9599 - mae: 2.1322 - mse: 8.7608 - val_loss: 18.4222 - val_root_mean_squared_error: 4.2921 - val_mae: 3.2362 - val_mse: 18.4222\n",
            "Epoch 32/50\n",
            "22/22 [==============================] - 0s 4ms/step - loss: 8.8950 - root_mean_squared_error: 2.9825 - mae: 2.1484 - mse: 8.8950 - val_loss: 19.6429 - val_root_mean_squared_error: 4.4320 - val_mae: 3.3593 - val_mse: 19.6429\n",
            "Epoch 33/50\n",
            "22/22 [==============================] - 0s 4ms/step - loss: 8.7641 - root_mean_squared_error: 2.9604 - mae: 2.1260 - mse: 8.7641 - val_loss: 19.4423 - val_root_mean_squared_error: 4.4093 - val_mae: 3.2244 - val_mse: 19.4423\n",
            "Epoch 34/50\n",
            "22/22 [==============================] - 0s 4ms/step - loss: 8.5069 - root_mean_squared_error: 2.9167 - mae: 2.1200 - mse: 8.5069 - val_loss: 18.0218 - val_root_mean_squared_error: 4.2452 - val_mae: 3.1670 - val_mse: 18.0218\n",
            "Epoch 35/50\n",
            "22/22 [==============================] - 0s 4ms/step - loss: 8.3389 - root_mean_squared_error: 2.8877 - mae: 2.0743 - mse: 8.3389 - val_loss: 16.5029 - val_root_mean_squared_error: 4.0624 - val_mae: 3.0173 - val_mse: 16.5029\n",
            "Epoch 36/50\n",
            "22/22 [==============================] - 0s 4ms/step - loss: 8.4018 - root_mean_squared_error: 2.8986 - mae: 2.0657 - mse: 8.4018 - val_loss: 17.8011 - val_root_mean_squared_error: 4.2191 - val_mae: 3.1563 - val_mse: 17.8011\n",
            "Epoch 37/50\n",
            "22/22 [==============================] - 0s 4ms/step - loss: 8.3503 - root_mean_squared_error: 2.8897 - mae: 2.0698 - mse: 8.3503 - val_loss: 16.3393 - val_root_mean_squared_error: 4.0422 - val_mae: 2.9355 - val_mse: 16.3393\n",
            "Epoch 38/50\n",
            "22/22 [==============================] - 0s 4ms/step - loss: 8.0436 - root_mean_squared_error: 2.8361 - mae: 2.0541 - mse: 8.0436 - val_loss: 16.3709 - val_root_mean_squared_error: 4.0461 - val_mae: 2.9707 - val_mse: 16.3709\n",
            "Epoch 39/50\n",
            "22/22 [==============================] - 0s 4ms/step - loss: 8.0121 - root_mean_squared_error: 2.8306 - mae: 2.0585 - mse: 8.0121 - val_loss: 17.6568 - val_root_mean_squared_error: 4.2020 - val_mae: 3.0334 - val_mse: 17.6568\n",
            "Epoch 40/50\n",
            "22/22 [==============================] - 0s 4ms/step - loss: 7.9668 - root_mean_squared_error: 2.8225 - mae: 2.0156 - mse: 7.9668 - val_loss: 18.2268 - val_root_mean_squared_error: 4.2693 - val_mae: 3.1145 - val_mse: 18.2268\n",
            "Epoch 41/50\n",
            "22/22 [==============================] - 0s 4ms/step - loss: 7.4620 - root_mean_squared_error: 2.7317 - mae: 1.9584 - mse: 7.4620 - val_loss: 17.3603 - val_root_mean_squared_error: 4.1666 - val_mae: 3.1009 - val_mse: 17.3603\n",
            "Epoch 42/50\n",
            "22/22 [==============================] - 0s 4ms/step - loss: 7.6538 - root_mean_squared_error: 2.7665 - mae: 1.9716 - mse: 7.6538 - val_loss: 17.2458 - val_root_mean_squared_error: 4.1528 - val_mae: 3.0924 - val_mse: 17.2458\n",
            "Epoch 43/50\n",
            "22/22 [==============================] - 0s 4ms/step - loss: 7.7524 - root_mean_squared_error: 2.7843 - mae: 2.0198 - mse: 7.7524 - val_loss: 17.2145 - val_root_mean_squared_error: 4.1490 - val_mae: 3.0739 - val_mse: 17.2145\n",
            "Epoch 44/50\n",
            "22/22 [==============================] - 0s 4ms/step - loss: 7.6181 - root_mean_squared_error: 2.7601 - mae: 2.0163 - mse: 7.6181 - val_loss: 17.7799 - val_root_mean_squared_error: 4.2166 - val_mae: 3.0802 - val_mse: 17.7799\n",
            "Epoch 45/50\n",
            "22/22 [==============================] - 0s 5ms/step - loss: 7.2579 - root_mean_squared_error: 2.6941 - mae: 1.9708 - mse: 7.2579 - val_loss: 15.6792 - val_root_mean_squared_error: 3.9597 - val_mae: 2.8473 - val_mse: 15.6792\n",
            "Epoch 46/50\n",
            "22/22 [==============================] - 0s 4ms/step - loss: 7.3145 - root_mean_squared_error: 2.7045 - mae: 1.9904 - mse: 7.3145 - val_loss: 17.9523 - val_root_mean_squared_error: 4.2370 - val_mae: 3.1415 - val_mse: 17.9523\n",
            "Epoch 47/50\n",
            "22/22 [==============================] - 0s 5ms/step - loss: 7.1514 - root_mean_squared_error: 2.6742 - mae: 1.9560 - mse: 7.1514 - val_loss: 16.1665 - val_root_mean_squared_error: 4.0208 - val_mae: 2.8921 - val_mse: 16.1665\n",
            "Epoch 48/50\n",
            "22/22 [==============================] - 0s 4ms/step - loss: 7.0971 - root_mean_squared_error: 2.6640 - mae: 1.9684 - mse: 7.0971 - val_loss: 16.7500 - val_root_mean_squared_error: 4.0927 - val_mae: 3.0120 - val_mse: 16.7500\n",
            "Epoch 49/50\n",
            "22/22 [==============================] - 0s 5ms/step - loss: 7.1313 - root_mean_squared_error: 2.6704 - mae: 1.9270 - mse: 7.1313 - val_loss: 15.2589 - val_root_mean_squared_error: 3.9063 - val_mae: 2.8402 - val_mse: 15.2589\n",
            "Epoch 50/50\n",
            "22/22 [==============================] - 0s 4ms/step - loss: 7.1043 - root_mean_squared_error: 2.6654 - mae: 1.9355 - mse: 7.1043 - val_loss: 17.9229 - val_root_mean_squared_error: 4.2335 - val_mae: 3.1816 - val_mse: 17.9229\n"
          ],
          "name": "stdout"
        }
      ]
    },
    {
      "cell_type": "markdown",
      "metadata": {
        "id": "VdbqyS21Z9py",
        "colab_type": "text"
      },
      "source": [
        "## Visualize Training\n",
        "\n",
        "Let's try a different technique to visualize. Begin by creating variable **hist** that holds the model's history as a Pandas DataFrame. Create another variable **hist['epoch']** to hold epoch history. Display the last five rows to get an idea about performance."
      ]
    },
    {
      "cell_type": "code",
      "metadata": {
        "id": "6642hhv_bE6k",
        "colab_type": "code",
        "colab": {
          "base_uri": "https://localhost:8080/",
          "height": 197
        },
        "outputId": "350cd6a3-6003-40a5-9906-13575b838cee"
      },
      "source": [
        "hist = pd.DataFrame(history.history)\n",
        "hist['epoch'] = history.epoch\n",
        "hist.tail()"
      ],
      "execution_count": 35,
      "outputs": [
        {
          "output_type": "execute_result",
          "data": {
            "text/html": [
              "<div>\n",
              "<style scoped>\n",
              "    .dataframe tbody tr th:only-of-type {\n",
              "        vertical-align: middle;\n",
              "    }\n",
              "\n",
              "    .dataframe tbody tr th {\n",
              "        vertical-align: top;\n",
              "    }\n",
              "\n",
              "    .dataframe thead th {\n",
              "        text-align: right;\n",
              "    }\n",
              "</style>\n",
              "<table border=\"1\" class=\"dataframe\">\n",
              "  <thead>\n",
              "    <tr style=\"text-align: right;\">\n",
              "      <th></th>\n",
              "      <th>loss</th>\n",
              "      <th>root_mean_squared_error</th>\n",
              "      <th>mae</th>\n",
              "      <th>mse</th>\n",
              "      <th>val_loss</th>\n",
              "      <th>val_root_mean_squared_error</th>\n",
              "      <th>val_mae</th>\n",
              "      <th>val_mse</th>\n",
              "      <th>epoch</th>\n",
              "    </tr>\n",
              "  </thead>\n",
              "  <tbody>\n",
              "    <tr>\n",
              "      <th>45</th>\n",
              "      <td>7.314528</td>\n",
              "      <td>2.704538</td>\n",
              "      <td>1.990363</td>\n",
              "      <td>7.314528</td>\n",
              "      <td>17.952265</td>\n",
              "      <td>4.237011</td>\n",
              "      <td>3.141528</td>\n",
              "      <td>17.952265</td>\n",
              "      <td>45</td>\n",
              "    </tr>\n",
              "    <tr>\n",
              "      <th>46</th>\n",
              "      <td>7.151434</td>\n",
              "      <td>2.674217</td>\n",
              "      <td>1.955956</td>\n",
              "      <td>7.151434</td>\n",
              "      <td>16.166458</td>\n",
              "      <td>4.020753</td>\n",
              "      <td>2.892074</td>\n",
              "      <td>16.166458</td>\n",
              "      <td>46</td>\n",
              "    </tr>\n",
              "    <tr>\n",
              "      <th>47</th>\n",
              "      <td>7.097120</td>\n",
              "      <td>2.664042</td>\n",
              "      <td>1.968389</td>\n",
              "      <td>7.097120</td>\n",
              "      <td>16.749985</td>\n",
              "      <td>4.092675</td>\n",
              "      <td>3.012022</td>\n",
              "      <td>16.749985</td>\n",
              "      <td>47</td>\n",
              "    </tr>\n",
              "    <tr>\n",
              "      <th>48</th>\n",
              "      <td>7.131268</td>\n",
              "      <td>2.670443</td>\n",
              "      <td>1.926967</td>\n",
              "      <td>7.131268</td>\n",
              "      <td>15.258863</td>\n",
              "      <td>3.906260</td>\n",
              "      <td>2.840215</td>\n",
              "      <td>15.258863</td>\n",
              "      <td>48</td>\n",
              "    </tr>\n",
              "    <tr>\n",
              "      <th>49</th>\n",
              "      <td>7.104268</td>\n",
              "      <td>2.665383</td>\n",
              "      <td>1.935526</td>\n",
              "      <td>7.104268</td>\n",
              "      <td>17.922867</td>\n",
              "      <td>4.233541</td>\n",
              "      <td>3.181623</td>\n",
              "      <td>17.922867</td>\n",
              "      <td>49</td>\n",
              "    </tr>\n",
              "  </tbody>\n",
              "</table>\n",
              "</div>"
            ],
            "text/plain": [
              "        loss  root_mean_squared_error       mae  ...   val_mae    val_mse  epoch\n",
              "45  7.314528                 2.704538  1.990363  ...  3.141528  17.952265     45\n",
              "46  7.151434                 2.674217  1.955956  ...  2.892074  16.166458     46\n",
              "47  7.097120                 2.664042  1.968389  ...  3.012022  16.749985     47\n",
              "48  7.131268                 2.670443  1.926967  ...  2.840215  15.258863     48\n",
              "49  7.104268                 2.665383  1.935526  ...  3.181623  17.922867     49\n",
              "\n",
              "[5 rows x 9 columns]"
            ]
          },
          "metadata": {
            "tags": []
          },
          "execution_count": 35
        }
      ]
    },
    {
      "cell_type": "markdown",
      "metadata": {
        "id": "PrjulWObh0MT",
        "colab_type": "text"
      },
      "source": [
        "Build the plots:"
      ]
    },
    {
      "cell_type": "code",
      "metadata": {
        "id": "QVCSdFw7h2Ix",
        "colab_type": "code",
        "colab": {
          "base_uri": "https://localhost:8080/",
          "height": 886
        },
        "outputId": "f387f995-84c5-4165-c949-4fae1eb306b3"
      },
      "source": [
        "import matplotlib.pyplot as plt\n",
        "\n",
        "def plot_history(history, limit1, limit2):\n",
        "  hist = pd.DataFrame(history.history)\n",
        "  hist['epoch'] = history.epoch\n",
        "\n",
        "  plt.figure()\n",
        "  plt.xlabel('epoch')\n",
        "  plt.ylabel('MAE [MPG]')\n",
        "  plt.plot(hist['epoch'], hist['mae'],\n",
        "           label='Train Error')\n",
        "  plt.plot(hist['epoch'], hist['val_mae'],\n",
        "           label = 'Val Error')\n",
        "  plt.ylim([0, limit1])\n",
        "  plt.legend()\n",
        "  plt.title('MAE by Epoch')\n",
        "  plt.show()\n",
        "\n",
        "  plt.clf()\n",
        "\n",
        "  plt.figure()\n",
        "  plt.xlabel('Epoch')\n",
        "  plt.ylabel('MSE [MPG]')\n",
        "  plt.plot(hist['epoch'], hist['mse'],\n",
        "           label='Train Error')\n",
        "  plt.plot(hist['epoch'], hist['val_mse'],\n",
        "           label = 'Val Error')\n",
        "  plt.ylim([0, limit2])\n",
        "  plt.legend()\n",
        "  plt.title('MSE by Epoch')\n",
        "  plt.show()\n",
        "\n",
        "  plt.clf()\n",
        "\n",
        "  plt.figure()\n",
        "  plt.xlabel('Epoch')\n",
        "  plt.ylabel('RMSE [MPG]')\n",
        "  plt.plot(hist['epoch'], hist['root_mean_squared_error'],\n",
        "           label='Train Error')\n",
        "  plt.plot(hist['epoch'], hist['val_root_mean_squared_error'],\n",
        "           label = 'Val Error')\n",
        "  plt.ylim([0, limit2])\n",
        "  plt.legend()\n",
        "  plt.title('RMSE by Epoch')\n",
        "  plt.show()\n",
        "\n",
        "# set limits to make plot readable\n",
        "\n",
        "mae_limit, mse_limit = 10, 100\n",
        "plot_history(history, mae_limit, mse_limit)"
      ],
      "execution_count": 37,
      "outputs": [
        {
          "output_type": "display_data",
          "data": {
            "image/png": "[encoded data removed]",
            "text/plain": [
              "<Figure size 432x288 with 1 Axes>"
            ]
          },
          "metadata": {
            "tags": [],
            "needs_background": "light"
          }
        },
        {
          "output_type": "display_data",
          "data": {
            "text/plain": [
              "<Figure size 432x288 with 0 Axes>"
            ]
          },
          "metadata": {
            "tags": []
          }
        },
        {
          "output_type": "display_data",
          "data": {
            "image/png": "[encoded data removed]",
            "text/plain": [
              "<Figure size 432x288 with 1 Axes>"
            ]
          },
          "metadata": {
            "tags": [],
            "needs_background": "light"
          }
        },
        {
          "output_type": "display_data",
          "data": {
            "text/plain": [
              "<Figure size 432x288 with 0 Axes>"
            ]
          },
          "metadata": {
            "tags": []
          }
        },
        {
          "output_type": "display_data",
          "data": {
            "image/png": "[encoded data removed]",
            "text/plain": [
              "<Figure size 432x288 with 1 Axes>"
            ]
          },
          "metadata": {
            "tags": [],
            "needs_background": "light"
          }
        }
      ]
    },
    {
      "cell_type": "markdown",
      "metadata": {
        "id": "WXkMIR1NODys",
        "colab_type": "text"
      },
      "source": [
        "Since the validation error is a worse than the train error (for MAE and MSE at least), the model is overfitting. What can we do? The first step is to estimate when performance begins to degrade. From the visualizations, can you see when this happens?"
      ]
    },
    {
      "cell_type": "markdown",
      "metadata": {
        "id": "KhMb48ROjvRF",
        "colab_type": "text"
      },
      "source": [
        "## Early Stopping\n",
        "\n",
        "With classification, our goal is to maximize accuracy. Of course, we also want to minimize loss. With regression, our goal is to minimize **MSE** or one of the other error metrics. From the visualizations, we see that our model is overfitting because validation error is higher than training error. We also see that once train and validation error cross, performance begins to degrade. \n",
        "\n",
        "There is one simple tuning experiment we can run to make this model more useful. We can stop the model when training and validation error are very close to each other. This technique is called early stopping. **Early stopping** is a widely used approach that stops training at the point when performance on a validation dataset starts to degrade.\n",
        "\n",
        "Let's modify our training experiment to automatically stop training when the validation score doesn't improve. We use an **EarlyStopping** callback that tests a training condition for every epoch. If a set amount of epochs elapse without showing improvement, training is automatically stopped.\n",
        "\n",
        "All we need to do is update our fit() method and rerun training:"
      ]
    },
    {
      "cell_type": "code",
      "metadata": {
        "id": "N5KR6ta4mFCX",
        "colab_type": "code",
        "colab": {
          "base_uri": "https://localhost:8080/",
          "height": 230
        },
        "outputId": "8443c721-0048-44b8-cca1-551feecc95d8"
      },
      "source": [
        "# clear the previous model\n",
        "tf.keras.backend.clear_session()\n",
        "\n",
        "# generate a seed for replication purposes\n",
        "np.random.seed(0)\n",
        "tf.random.set_seed(0)\n",
        "\n",
        "# monitor 'val_loss' for early stopping\n",
        "early_stop = tf.keras.callbacks.EarlyStopping(monitor='val_loss')\n",
        "\n",
        "history = model.fit(train_bs, epochs=50,\n",
        "                    validation_data=test_bs,\n",
        "                    callbacks=[early_stop])"
      ],
      "execution_count": 38,
      "outputs": [
        {
          "output_type": "stream",
          "text": [
            "Epoch 1/50\n",
            "22/22 [==============================] - 0s 5ms/step - loss: 7.0207 - root_mean_squared_error: 2.6497 - mae: 1.9158 - mse: 7.0207 - val_loss: 16.3553 - val_root_mean_squared_error: 4.0442 - val_mae: 2.9740 - val_mse: 16.3553\n",
            "Epoch 2/50\n",
            "22/22 [==============================] - 0s 4ms/step - loss: 7.0130 - root_mean_squared_error: 2.6482 - mae: 1.9419 - mse: 7.0130 - val_loss: 15.9801 - val_root_mean_squared_error: 3.9975 - val_mae: 2.8949 - val_mse: 15.9801\n",
            "Epoch 3/50\n",
            "22/22 [==============================] - 0s 4ms/step - loss: 6.9092 - root_mean_squared_error: 2.6285 - mae: 1.9006 - mse: 6.9092 - val_loss: 15.7523 - val_root_mean_squared_error: 3.9689 - val_mae: 2.9238 - val_mse: 15.7523\n",
            "Epoch 4/50\n",
            "22/22 [==============================] - 0s 4ms/step - loss: 7.0745 - root_mean_squared_error: 2.6598 - mae: 1.9287 - mse: 7.0745 - val_loss: 15.5250 - val_root_mean_squared_error: 3.9402 - val_mae: 2.8926 - val_mse: 15.5250\n",
            "Epoch 5/50\n",
            "22/22 [==============================] - 0s 4ms/step - loss: 6.6867 - root_mean_squared_error: 2.5859 - mae: 1.8767 - mse: 6.6867 - val_loss: 15.1063 - val_root_mean_squared_error: 3.8867 - val_mae: 2.8310 - val_mse: 15.1063\n",
            "Epoch 6/50\n",
            "22/22 [==============================] - 0s 4ms/step - loss: 6.6793 - root_mean_squared_error: 2.5844 - mae: 1.8939 - mse: 6.6793 - val_loss: 18.9159 - val_root_mean_squared_error: 4.3492 - val_mae: 3.2762 - val_mse: 18.9159\n"
          ],
          "name": "stdout"
        }
      ]
    },
    {
      "cell_type": "markdown",
      "metadata": {
        "id": "XYjx3SYewatv",
        "colab_type": "text"
      },
      "source": [
        "Although we can get great results with early stopping, it is a good idea to add some control to ensure the best performance. For added control, we can add a parameter that forces the model to continue to a point that gives us the best performance. The **patience** parameter can be set to a given a number of epochs after which training will be stopped if there is no improvement. Let's try this and see what happens. "
      ]
    },
    {
      "cell_type": "code",
      "metadata": {
        "id": "y9P-M8GiufXW",
        "colab_type": "code",
        "colab": {
          "base_uri": "https://localhost:8080/",
          "height": 407
        },
        "outputId": "f6a7da98-ebcc-4554-be95-1fcf267150a5"
      },
      "source": [
        "# clear the previous model\n",
        "tf.keras.backend.clear_session()\n",
        "\n",
        "# generate a seed for replication purposes\n",
        "np.random.seed(0)\n",
        "tf.random.set_seed(0)\n",
        "\n",
        "# set number of patience epochs\n",
        "n = 4\n",
        "\n",
        "early_stop = tf.keras.callbacks.EarlyStopping(\n",
        "    monitor='val_loss', patience=n)\n",
        "\n",
        "history = model.fit(train_bs, epochs=50,\n",
        "                    validation_data=test_bs,\n",
        "                    callbacks=[early_stop])"
      ],
      "execution_count": 39,
      "outputs": [
        {
          "output_type": "stream",
          "text": [
            "Epoch 1/50\n",
            "22/22 [==============================] - 0s 5ms/step - loss: 6.4632 - root_mean_squared_error: 2.5423 - mae: 1.8781 - mse: 6.4632 - val_loss: 16.2379 - val_root_mean_squared_error: 4.0296 - val_mae: 2.9845 - val_mse: 16.2379\n",
            "Epoch 2/50\n",
            "22/22 [==============================] - 0s 3ms/step - loss: 6.4683 - root_mean_squared_error: 2.5433 - mae: 1.8649 - mse: 6.4683 - val_loss: 19.5514 - val_root_mean_squared_error: 4.4217 - val_mae: 3.3494 - val_mse: 19.5514\n",
            "Epoch 3/50\n",
            "22/22 [==============================] - 0s 4ms/step - loss: 6.4418 - root_mean_squared_error: 2.5381 - mae: 1.8540 - mse: 6.4418 - val_loss: 16.1316 - val_root_mean_squared_error: 4.0164 - val_mae: 2.9737 - val_mse: 16.1316\n",
            "Epoch 4/50\n",
            "22/22 [==============================] - 0s 4ms/step - loss: 6.3404 - root_mean_squared_error: 2.5180 - mae: 1.8257 - mse: 6.3404 - val_loss: 16.8074 - val_root_mean_squared_error: 4.0997 - val_mae: 3.0624 - val_mse: 16.8074\n",
            "Epoch 5/50\n",
            "22/22 [==============================] - 0s 4ms/step - loss: 6.2967 - root_mean_squared_error: 2.5093 - mae: 1.8449 - mse: 6.2967 - val_loss: 16.2047 - val_root_mean_squared_error: 4.0255 - val_mae: 3.0086 - val_mse: 16.2047\n",
            "Epoch 6/50\n",
            "22/22 [==============================] - 0s 4ms/step - loss: 6.4569 - root_mean_squared_error: 2.5410 - mae: 1.8310 - mse: 6.4569 - val_loss: 14.9506 - val_root_mean_squared_error: 3.8666 - val_mae: 2.7797 - val_mse: 14.9506\n",
            "Epoch 7/50\n",
            "22/22 [==============================] - 0s 4ms/step - loss: 6.0332 - root_mean_squared_error: 2.4563 - mae: 1.8218 - mse: 6.0332 - val_loss: 14.7989 - val_root_mean_squared_error: 3.8469 - val_mae: 2.7842 - val_mse: 14.7989\n",
            "Epoch 8/50\n",
            "22/22 [==============================] - 0s 4ms/step - loss: 6.2216 - root_mean_squared_error: 2.4943 - mae: 1.8238 - mse: 6.2216 - val_loss: 16.5894 - val_root_mean_squared_error: 4.0730 - val_mae: 3.0241 - val_mse: 16.5894\n",
            "Epoch 9/50\n",
            "22/22 [==============================] - 0s 4ms/step - loss: 6.2037 - root_mean_squared_error: 2.4907 - mae: 1.8363 - mse: 6.2037 - val_loss: 15.9332 - val_root_mean_squared_error: 3.9916 - val_mae: 2.9618 - val_mse: 15.9332\n",
            "Epoch 10/50\n",
            "22/22 [==============================] - 0s 4ms/step - loss: 6.1285 - root_mean_squared_error: 2.4756 - mae: 1.8289 - mse: 6.1285 - val_loss: 15.1798 - val_root_mean_squared_error: 3.8961 - val_mae: 2.8627 - val_mse: 15.1798\n",
            "Epoch 11/50\n",
            "22/22 [==============================] - 0s 4ms/step - loss: 5.9701 - root_mean_squared_error: 2.4434 - mae: 1.7675 - mse: 5.9701 - val_loss: 15.6979 - val_root_mean_squared_error: 3.9621 - val_mae: 2.8933 - val_mse: 15.6979\n"
          ],
          "name": "stdout"
        }
      ]
    },
    {
      "cell_type": "markdown",
      "metadata": {
        "id": "o_AMHiaEnN-N",
        "colab_type": "text"
      },
      "source": [
        "Now, we have a better model because it stops closer to the ideal performance.\n",
        "\n",
        "Let's plot:"
      ]
    },
    {
      "cell_type": "code",
      "metadata": {
        "id": "gWQNPB0RnP5M",
        "colab_type": "code",
        "colab": {
          "base_uri": "https://localhost:8080/",
          "height": 886
        },
        "outputId": "6e52d996-4e9c-48b9-b011-64808227bc59"
      },
      "source": [
        "hist = pd.DataFrame(history.history)\n",
        "hist['epoch'] = history.epoch\n",
        "\n",
        "train_limit, test_limit = 10, 100\n",
        "plot_history(history, train_limit, test_limit)"
      ],
      "execution_count": 40,
      "outputs": [
        {
          "output_type": "display_data",
          "data": {
            "image/png": "[encoded data removed]",
            "text/plain": [
              "<Figure size 432x288 with 1 Axes>"
            ]
          },
          "metadata": {
            "tags": [],
            "needs_background": "light"
          }
        },
        {
          "output_type": "display_data",
          "data": {
            "text/plain": [
              "<Figure size 432x288 with 0 Axes>"
            ]
          },
          "metadata": {
            "tags": []
          }
        },
        {
          "output_type": "display_data",
          "data": {
            "image/png": "[encoded data removed]",
            "text/plain": [
              "<Figure size 432x288 with 1 Axes>"
            ]
          },
          "metadata": {
            "tags": [],
            "needs_background": "light"
          }
        },
        {
          "output_type": "display_data",
          "data": {
            "text/plain": [
              "<Figure size 432x288 with 0 Axes>"
            ]
          },
          "metadata": {
            "tags": []
          }
        },
        {
          "output_type": "display_data",
          "data": {
            "image/png": "[encoded data removed]",
            "text/plain": [
              "<Figure size 432x288 with 1 Axes>"
            ]
          },
          "metadata": {
            "tags": [],
            "needs_background": "light"
          }
        }
      ]
    },
    {
      "cell_type": "markdown",
      "metadata": {
        "id": "bnGaZrlBnWcb",
        "colab_type": "text"
      },
      "source": [
        "## Remove Bad Data\n",
        "\n",
        "Although early stopping worked as expected, we might be able to squeeze out a bit more performance with this dataset. The boston dataset has some bad data so we can modify it.\n",
        "\n",
        "What is wrong with the data? Prices of homes are capped at $50,000 because the Census Service censored the data. They decided to set the maximum value of the price variable to 50k USD, so no price can go beyond that value.\n",
        "\n",
        "What do we do? While maybe not ideal, we can remove data with prices at or above 50k USD. This is not ideal because we may be removing perfectly good data, but there is no way to know this. Another reason is because the dataset is so small to begin with. Neural nets are meant to perform at their best with larger datasets.\n",
        "\n",
        "Keep in mind that our book is an introduction, so we are not nearly as concerned with performance as we would be if working on real datasets. We are just trying to help you learn how to use TensorFlow 2.x. If you want to explore this topic further, we recommend this URL:\n",
        "\n",
        "https://towardsdatascience.com/things-you-didnt-know-about-the-boston-housing-dataset-2e87a6f960e8"
      ]
    },
    {
      "cell_type": "markdown",
      "metadata": {
        "id": "xVwxZFdHvAP6",
        "colab_type": "text"
      },
      "source": [
        "## Get Data\n",
        "\n",
        "To make this happen, we have to return to the original data because we've processed the heck out of it to ready it for TensorFlow consumption. So let's get started: "
      ]
    },
    {
      "cell_type": "code",
      "metadata": {
        "id": "OMWhR_VEsNFz",
        "colab_type": "code",
        "colab": {}
      },
      "source": [
        "# get the raw data\n",
        "\n",
        "url = 'https://raw.githubusercontent.com/paperd/tensorflow/\\\n",
        "master/chapter6/data/boston.csv'\n",
        "\n",
        "boston = pd.read_csv(url)"
      ],
      "execution_count": 41,
      "outputs": []
    },
    {
      "cell_type": "markdown",
      "metadata": {
        "id": "f1ZF45fpK54_",
        "colab_type": "text"
      },
      "source": [
        "Verify data:"
      ]
    },
    {
      "cell_type": "code",
      "metadata": {
        "id": "mx9YONJKK6AL",
        "colab_type": "code",
        "colab": {
          "base_uri": "https://localhost:8080/",
          "height": 197
        },
        "outputId": "ca9ded36-1d7c-447e-cb99-567ad039a361"
      },
      "source": [
        "boston.head()"
      ],
      "execution_count": 42,
      "outputs": [
        {
          "output_type": "execute_result",
          "data": {
            "text/html": [
              "<div>\n",
              "<style scoped>\n",
              "    .dataframe tbody tr th:only-of-type {\n",
              "        vertical-align: middle;\n",
              "    }\n",
              "\n",
              "    .dataframe tbody tr th {\n",
              "        vertical-align: top;\n",
              "    }\n",
              "\n",
              "    .dataframe thead th {\n",
              "        text-align: right;\n",
              "    }\n",
              "</style>\n",
              "<table border=\"1\" class=\"dataframe\">\n",
              "  <thead>\n",
              "    <tr style=\"text-align: right;\">\n",
              "      <th></th>\n",
              "      <th>CRIM</th>\n",
              "      <th>ZN</th>\n",
              "      <th>INDUS</th>\n",
              "      <th>CHAS</th>\n",
              "      <th>NOX</th>\n",
              "      <th>RM</th>\n",
              "      <th>AGE</th>\n",
              "      <th>DIS</th>\n",
              "      <th>RAD</th>\n",
              "      <th>TAX</th>\n",
              "      <th>PTRATIO</th>\n",
              "      <th>LSTAT</th>\n",
              "      <th>MEDV</th>\n",
              "    </tr>\n",
              "  </thead>\n",
              "  <tbody>\n",
              "    <tr>\n",
              "      <th>0</th>\n",
              "      <td>0.00632</td>\n",
              "      <td>18.0</td>\n",
              "      <td>2.31</td>\n",
              "      <td>0</td>\n",
              "      <td>0.538</td>\n",
              "      <td>6.575</td>\n",
              "      <td>65.2</td>\n",
              "      <td>4.0900</td>\n",
              "      <td>1</td>\n",
              "      <td>296</td>\n",
              "      <td>15.3</td>\n",
              "      <td>4.98</td>\n",
              "      <td>24.0</td>\n",
              "    </tr>\n",
              "    <tr>\n",
              "      <th>1</th>\n",
              "      <td>0.02731</td>\n",
              "      <td>0.0</td>\n",
              "      <td>7.07</td>\n",
              "      <td>0</td>\n",
              "      <td>0.469</td>\n",
              "      <td>6.421</td>\n",
              "      <td>78.9</td>\n",
              "      <td>4.9671</td>\n",
              "      <td>2</td>\n",
              "      <td>242</td>\n",
              "      <td>17.8</td>\n",
              "      <td>9.14</td>\n",
              "      <td>21.6</td>\n",
              "    </tr>\n",
              "    <tr>\n",
              "      <th>2</th>\n",
              "      <td>0.02729</td>\n",
              "      <td>0.0</td>\n",
              "      <td>7.07</td>\n",
              "      <td>0</td>\n",
              "      <td>0.469</td>\n",
              "      <td>7.185</td>\n",
              "      <td>61.1</td>\n",
              "      <td>4.9671</td>\n",
              "      <td>2</td>\n",
              "      <td>242</td>\n",
              "      <td>17.8</td>\n",
              "      <td>4.03</td>\n",
              "      <td>34.7</td>\n",
              "    </tr>\n",
              "    <tr>\n",
              "      <th>3</th>\n",
              "      <td>0.03237</td>\n",
              "      <td>0.0</td>\n",
              "      <td>2.18</td>\n",
              "      <td>0</td>\n",
              "      <td>0.458</td>\n",
              "      <td>6.998</td>\n",
              "      <td>45.8</td>\n",
              "      <td>6.0622</td>\n",
              "      <td>3</td>\n",
              "      <td>222</td>\n",
              "      <td>18.7</td>\n",
              "      <td>2.94</td>\n",
              "      <td>33.4</td>\n",
              "    </tr>\n",
              "    <tr>\n",
              "      <th>4</th>\n",
              "      <td>0.06905</td>\n",
              "      <td>0.0</td>\n",
              "      <td>2.18</td>\n",
              "      <td>0</td>\n",
              "      <td>0.458</td>\n",
              "      <td>7.147</td>\n",
              "      <td>54.2</td>\n",
              "      <td>6.0622</td>\n",
              "      <td>3</td>\n",
              "      <td>222</td>\n",
              "      <td>18.7</td>\n",
              "      <td>5.33</td>\n",
              "      <td>36.2</td>\n",
              "    </tr>\n",
              "  </tbody>\n",
              "</table>\n",
              "</div>"
            ],
            "text/plain": [
              "      CRIM   ZN   INDUS   CHAS    NOX  ...  RAD  TAX  PTRATIO  LSTAT  MEDV\n",
              "0  0.00632  18.0    2.31     0  0.538  ...    1  296     15.3   4.98  24.0\n",
              "1  0.02731   0.0    7.07     0  0.469  ...    2  242     17.8   9.14  21.6\n",
              "2  0.02729   0.0    7.07     0  0.469  ...    2  242     17.8   4.03  34.7\n",
              "3  0.03237   0.0    2.18     0  0.458  ...    3  222     18.7   2.94  33.4\n",
              "4  0.06905   0.0    2.18     0  0.458  ...    3  222     18.7   5.33  36.2\n",
              "\n",
              "[5 rows x 13 columns]"
            ]
          },
          "metadata": {
            "tags": []
          },
          "execution_count": 42
        }
      ]
    },
    {
      "cell_type": "markdown",
      "metadata": {
        "id": "Dq-cW8LNxfc8",
        "colab_type": "text"
      },
      "source": [
        "## Remove Noise"
      ]
    },
    {
      "cell_type": "code",
      "metadata": {
        "id": "BqpBfLBiv3w0",
        "colab_type": "code",
        "colab": {
          "base_uri": "https://localhost:8080/",
          "height": 52
        },
        "outputId": "2b7b9f67-e143-4b0f-fa95-e20b61e089ca"
      },
      "source": [
        "print ('data set before removing noise:', boston.shape)\n",
        "\n",
        "# remove noise\n",
        "\n",
        "noise = boston.loc[boston['MEDV'] >= 50]\n",
        "data = boston.drop(noise.index)\n",
        "\n",
        "print ('data set without noise:', data.shape)"
      ],
      "execution_count": 43,
      "outputs": [
        {
          "output_type": "stream",
          "text": [
            "data set before removing noise: (506, 13)\n",
            "data set without noise: (490, 13)\n"
          ],
          "name": "stdout"
        }
      ]
    },
    {
      "cell_type": "markdown",
      "metadata": {
        "id": "f9D-0FBBwGhb",
        "colab_type": "text"
      },
      "source": [
        "## Create Feature and Target Data\n",
        "\n",
        "So, we now have a dataset without the possibly corrupted data. Split the data into feature and target sets:"
      ]
    },
    {
      "cell_type": "code",
      "metadata": {
        "id": "xQixTaRjwXKE",
        "colab_type": "code",
        "colab": {}
      },
      "source": [
        "# create a copy of the DataFrame\n",
        "\n",
        "df = data.copy()\n",
        "\n",
        "# create feature and target sets\n",
        "\n",
        "target, features = df.pop('MEDV'), df.values\n",
        "labels = target.values"
      ],
      "execution_count": 44,
      "outputs": []
    },
    {
      "cell_type": "markdown",
      "metadata": {
        "id": "Ir-nAuxWwfO0",
        "colab_type": "text"
      },
      "source": [
        "## Build the Input Pipeline"
      ]
    },
    {
      "cell_type": "code",
      "metadata": {
        "id": "6J3pY8azwo4O",
        "colab_type": "code",
        "colab": {}
      },
      "source": [
        "X_train, X_test, y_train, y_test = train_test_split(\n",
        "    features, labels, test_size=0.33, random_state=0)\n",
        "\n",
        "# standardize feature data and create TensorFlow tensors\n",
        "\n",
        "X_train_std = scaler.fit_transform(X_train)\n",
        "X_test_std = scaler.fit_transform(X_test)\n",
        "\n",
        "# slice data for TensorFlow consumption\n",
        "\n",
        "train = tf.data.Dataset.from_tensor_slices(\n",
        "    (X_train_std, y_train))\n",
        "test = tf.data.Dataset.from_tensor_slices(\n",
        "    (X_test_std, y_test))\n",
        "\n",
        "# shuffle, batch, prefetch\n",
        "\n",
        "BATCH_SIZE = 16\n",
        "SHUFFLE_BUFFER_SIZE = 100\n",
        "\n",
        "train_n = train.shuffle(\n",
        "    SHUFFLE_BUFFER_SIZE).batch(BATCH_SIZE).prefetch(1)\n",
        "test_n = test.batch(BATCH_SIZE).prefetch(1)"
      ],
      "execution_count": 47,
      "outputs": []
    },
    {
      "cell_type": "markdown",
      "metadata": {
        "id": "3LNo6kd61an0",
        "colab_type": "text"
      },
      "source": [
        "Inspect tensors:"
      ]
    },
    {
      "cell_type": "code",
      "metadata": {
        "id": "aBRZcldO1b5O",
        "colab_type": "code",
        "colab": {
          "base_uri": "https://localhost:8080/",
          "height": 52
        },
        "outputId": "03661309-b8c1-4555-dd1f-58e8b02811bc"
      },
      "source": [
        "train_n, test_n"
      ],
      "execution_count": 48,
      "outputs": [
        {
          "output_type": "execute_result",
          "data": {
            "text/plain": [
              "(<PrefetchDataset shapes: ((None, 12), (None,)), types: (tf.float64, tf.float64)>,\n",
              " <PrefetchDataset shapes: ((None, 12), (None,)), types: (tf.float64, tf.float64)>)"
            ]
          },
          "metadata": {
            "tags": []
          },
          "execution_count": 48
        }
      ]
    },
    {
      "cell_type": "markdown",
      "metadata": {
        "id": "Nt5KAvKXeS3U",
        "colab_type": "text"
      },
      "source": [
        "## Compile and Train"
      ]
    },
    {
      "cell_type": "code",
      "metadata": {
        "id": "xzY0_Hd5eS-r",
        "colab_type": "code",
        "colab": {
          "base_uri": "https://localhost:8080/",
          "height": 372
        },
        "outputId": "2ff17af4-369d-4f07-9c15-e6114352ae10"
      },
      "source": [
        "rmse = tf.keras.metrics.RootMeanSquaredError()\n",
        "\n",
        "model.compile(loss='mse', optimizer='RMSProp',\n",
        "              metrics=[rmse, 'mae', 'mse'])\n",
        "\n",
        "tf.keras.backend.clear_session()\n",
        "\n",
        "# generate a seed for replication purposes\n",
        "np.random.seed(0)\n",
        "tf.random.set_seed(0)\n",
        "\n",
        "n = 4\n",
        "\n",
        "early_stop = tf.keras.callbacks.EarlyStopping(\n",
        "    monitor='val_loss', patience=n)\n",
        "\n",
        "history = model.fit(train_n, epochs=50,\n",
        "                    validation_data=test_n,\n",
        "                    callbacks=[early_stop])"
      ],
      "execution_count": 49,
      "outputs": [
        {
          "output_type": "stream",
          "text": [
            "Epoch 1/50\n",
            "21/21 [==============================] - 0s 7ms/step - loss: 5.5323 - root_mean_squared_error: 2.3521 - mae: 1.7731 - mse: 5.5323 - val_loss: 12.0862 - val_root_mean_squared_error: 3.4765 - val_mae: 2.5968 - val_mse: 12.0862\n",
            "Epoch 2/50\n",
            "21/21 [==============================] - 0s 4ms/step - loss: 5.2699 - root_mean_squared_error: 2.2956 - mae: 1.7371 - mse: 5.2699 - val_loss: 12.9811 - val_root_mean_squared_error: 3.6029 - val_mae: 2.6923 - val_mse: 12.9811\n",
            "Epoch 3/50\n",
            "21/21 [==============================] - 0s 3ms/step - loss: 4.9677 - root_mean_squared_error: 2.2288 - mae: 1.7315 - mse: 4.9677 - val_loss: 13.8578 - val_root_mean_squared_error: 3.7226 - val_mae: 2.8004 - val_mse: 13.8578\n",
            "Epoch 4/50\n",
            "21/21 [==============================] - 0s 4ms/step - loss: 4.8617 - root_mean_squared_error: 2.2049 - mae: 1.6513 - mse: 4.8617 - val_loss: 11.9244 - val_root_mean_squared_error: 3.4532 - val_mae: 2.5578 - val_mse: 11.9244\n",
            "Epoch 5/50\n",
            "21/21 [==============================] - 0s 3ms/step - loss: 4.8183 - root_mean_squared_error: 2.1951 - mae: 1.6638 - mse: 4.8183 - val_loss: 15.2939 - val_root_mean_squared_error: 3.9107 - val_mae: 2.9713 - val_mse: 15.2939\n",
            "Epoch 6/50\n",
            "21/21 [==============================] - 0s 4ms/step - loss: 4.7767 - root_mean_squared_error: 2.1856 - mae: 1.6560 - mse: 4.7767 - val_loss: 10.9998 - val_root_mean_squared_error: 3.3166 - val_mae: 2.4383 - val_mse: 10.9998\n",
            "Epoch 7/50\n",
            "21/21 [==============================] - 0s 4ms/step - loss: 4.6939 - root_mean_squared_error: 2.1665 - mae: 1.6496 - mse: 4.6939 - val_loss: 12.1021 - val_root_mean_squared_error: 3.4788 - val_mae: 2.6030 - val_mse: 12.1021\n",
            "Epoch 8/50\n",
            "21/21 [==============================] - 0s 4ms/step - loss: 4.6313 - root_mean_squared_error: 2.1520 - mae: 1.6570 - mse: 4.6313 - val_loss: 12.2542 - val_root_mean_squared_error: 3.5006 - val_mae: 2.6010 - val_mse: 12.2542\n",
            "Epoch 9/50\n",
            "21/21 [==============================] - 0s 4ms/step - loss: 4.6987 - root_mean_squared_error: 2.1676 - mae: 1.6538 - mse: 4.6987 - val_loss: 12.0025 - val_root_mean_squared_error: 3.4645 - val_mae: 2.5889 - val_mse: 12.0025\n",
            "Epoch 10/50\n",
            "21/21 [==============================] - 0s 4ms/step - loss: 4.4165 - root_mean_squared_error: 2.1016 - mae: 1.6093 - mse: 4.4165 - val_loss: 11.9687 - val_root_mean_squared_error: 3.4596 - val_mae: 2.5970 - val_mse: 11.9687\n"
          ],
          "name": "stdout"
        }
      ]
    },
    {
      "cell_type": "markdown",
      "metadata": {
        "id": "j9z83OyU0e7t",
        "colab_type": "text"
      },
      "source": [
        "## Let's Visualize"
      ]
    },
    {
      "cell_type": "code",
      "metadata": {
        "id": "yvR2d3XK0fF7",
        "colab_type": "code",
        "colab": {
          "base_uri": "https://localhost:8080/",
          "height": 886
        },
        "outputId": "d493e29d-fafc-44bc-91a3-e4bea172a87e"
      },
      "source": [
        "hist = pd.DataFrame(history.history)\n",
        "hist['epoch'] = history.epoch\n",
        "\n",
        "train_limit, test_limit = 10, 100\n",
        "\n",
        "plot_history(history, train_limit, test_limit)"
      ],
      "execution_count": 50,
      "outputs": [
        {
          "output_type": "display_data",
          "data": {
            "image/png": "[encoded data removed]",
            "text/plain": [
              "<Figure size 432x288 with 1 Axes>"
            ]
          },
          "metadata": {
            "tags": [],
            "needs_background": "light"
          }
        },
        {
          "output_type": "display_data",
          "data": {
            "text/plain": [
              "<Figure size 432x288 with 0 Axes>"
            ]
          },
          "metadata": {
            "tags": []
          }
        },
        {
          "output_type": "display_data",
          "data": {
            "image/png": "[encoded data removed]",
            "text/plain": [
              "<Figure size 432x288 with 1 Axes>"
            ]
          },
          "metadata": {
            "tags": [],
            "needs_background": "light"
          }
        },
        {
          "output_type": "display_data",
          "data": {
            "text/plain": [
              "<Figure size 432x288 with 0 Axes>"
            ]
          },
          "metadata": {
            "tags": []
          }
        },
        {
          "output_type": "display_data",
          "data": {
            "image/png": "[encoded data removed]",
            "text/plain": [
              "<Figure size 432x288 with 1 Axes>"
            ]
          },
          "metadata": {
            "tags": [],
            "needs_background": "light"
          }
        }
      ]
    },
    {
      "cell_type": "markdown",
      "metadata": {
        "id": "C_Jrdzdt0CMl",
        "colab_type": "text"
      },
      "source": [
        "Our model is not perfect, be we did improve performance."
      ]
    },
    {
      "cell_type": "markdown",
      "metadata": {
        "id": "D4t7QFwN6LxV",
        "colab_type": "text"
      },
      "source": [
        "## Generalize on Test Data\n",
        "\n",
        "Let's see how well the model generalizes with test data, which tells us how well we can expect the model to predict when we use it in the real world."
      ]
    },
    {
      "cell_type": "code",
      "metadata": {
        "id": "i5XL06mn6L7X",
        "colab_type": "code",
        "colab": {
          "base_uri": "https://localhost:8080/",
          "height": 70
        },
        "outputId": "b9d21800-cb66-435f-f8f1-79ee761cc494"
      },
      "source": [
        "loss, rmse, mae, mse = model.evaluate(test_n, verbose=2)\n",
        "\n",
        "print ()\n",
        "\n",
        "print('\"Testing set Mean Abs Error: {:5.2f} thousand dollars'.\n",
        "      format(mae))"
      ],
      "execution_count": 51,
      "outputs": [
        {
          "output_type": "stream",
          "text": [
            "11/11 - 0s - loss: 11.9687 - root_mean_squared_error: 3.4596 - mae: 2.5970 - mse: 11.9687\n",
            "\n",
            "\"Testing set Mean Abs Error:  2.60 thousand dollars\n"
          ],
          "name": "stdout"
        }
      ]
    },
    {
      "cell_type": "markdown",
      "metadata": {
        "id": "aljDYGYD7kZd",
        "colab_type": "text"
      },
      "source": [
        "As we know, Mean Square Error (MSE) is a common loss function used for regression problems. Another common regression metric is Mean Absolute Error (MAE). MAE gives us a good idea how well our model performed in an easy to understand way. So, we can expect that our model predictions are off by the MAE value in thousands of dollars."
      ]
    },
    {
      "cell_type": "markdown",
      "metadata": {
        "id": "FqS1sCkb5cFx",
        "colab_type": "text"
      },
      "source": [
        "## Make Predictions"
      ]
    },
    {
      "cell_type": "code",
      "metadata": {
        "id": "32UEqma95do9",
        "colab_type": "code",
        "colab": {}
      },
      "source": [
        "predictions = model.predict(test_n)"
      ],
      "execution_count": 52,
      "outputs": []
    },
    {
      "cell_type": "markdown",
      "metadata": {
        "id": "dV5Ruefl8QOC",
        "colab_type": "text"
      },
      "source": [
        "Display the first prediction:"
      ]
    },
    {
      "cell_type": "code",
      "metadata": {
        "id": "3jE7Qw4p8QXY",
        "colab_type": "code",
        "colab": {
          "base_uri": "https://localhost:8080/",
          "height": 52
        },
        "outputId": "95850abd-3955-46c5-eb95-f05766b4a9ea"
      },
      "source": [
        "# predicted housing price\n",
        "\n",
        "first = predictions[0]\n",
        "print ('predicted price:', first[0], 'thousand')\n",
        "\n",
        "# actual housing price\n",
        "\n",
        "print ('actual price:', y_test[0], 'thousand')"
      ],
      "execution_count": 53,
      "outputs": [
        {
          "output_type": "stream",
          "text": [
            "predicted price: 19.018064 thousand\n",
            "actual price: 24.3 thousand\n"
          ],
          "name": "stdout"
        }
      ]
    },
    {
      "cell_type": "markdown",
      "metadata": {
        "id": "iuW3tnCh9wQF",
        "colab_type": "text"
      },
      "source": [
        "Display the first five predictions:"
      ]
    },
    {
      "cell_type": "code",
      "metadata": {
        "id": "QWDDb3vo8vUl",
        "colab_type": "code",
        "colab": {
          "base_uri": "https://localhost:8080/",
          "height": 123
        },
        "outputId": "6af69614-7cb5-4bb2-9050-eaef234204e1"
      },
      "source": [
        "five = predictions[:5]\n",
        "actuals = y_test[:5]\n",
        "print ('pred', 'actual')\n",
        "for i, p in enumerate(range(5)):\n",
        "  print (np.round(five[i][0],1), actuals[i])"
      ],
      "execution_count": 54,
      "outputs": [
        {
          "output_type": "stream",
          "text": [
            "pred actual\n",
            "19.0 24.3\n",
            "27.7 32.5\n",
            "17.7 17.8\n",
            "20.1 19.5\n",
            "18.5 19.9\n"
          ],
          "name": "stdout"
        }
      ]
    },
    {
      "cell_type": "markdown",
      "metadata": {
        "id": "6GezQCoDAXzF",
        "colab_type": "text"
      },
      "source": [
        "## Visualize Predictions"
      ]
    },
    {
      "cell_type": "code",
      "metadata": {
        "id": "1WSnUbtBAYBD",
        "colab_type": "code",
        "colab": {
          "base_uri": "https://localhost:8080/",
          "height": 278
        },
        "outputId": "a6102605-2523-41bd-cbf4-03616dba0217"
      },
      "source": [
        "fig, ax = plt.subplots()\n",
        "ax.scatter(y_test, predictions)\n",
        "ax.plot([y_test.min(), y_test.max()],\\\n",
        "        [y_test.min(), y_test.max()], 'k--', lw=4)\n",
        "ax.set_xlabel('Measured')\n",
        "ax.set_ylabel('Predicted')\n",
        "plt.show()"
      ],
      "execution_count": 55,
      "outputs": [
        {
          "output_type": "display_data",
          "data": {
            "image/png": "[encoded data removed]",
            "text/plain": [
              "<Figure size 432x288 with 1 Axes>"
            ]
          },
          "metadata": {
            "tags": [],
            "needs_background": "light"
          }
        }
      ]
    },
    {
      "cell_type": "markdown",
      "metadata": {
        "id": "L4bkl8gCC4ED",
        "colab_type": "text"
      },
      "source": [
        "The further a prediciton is away from the diagonal (true values), the more erroneous it is. "
      ]
    },
    {
      "cell_type": "markdown",
      "metadata": {
        "id": "PnYmzbJA0ynT",
        "colab_type": "text"
      },
      "source": [
        "# Load Boston Data from Scikit-Learn\n",
        "\n",
        "Since the Boston dataset is included in **sklearn.datasets**, let's load it from this environment. "
      ]
    },
    {
      "cell_type": "code",
      "metadata": {
        "id": "3Q4SP-dJ1OEK",
        "colab_type": "code",
        "colab": {}
      },
      "source": [
        "from sklearn import datasets\n",
        "\n",
        "dataset = datasets.load_boston()\n",
        "data, target = dataset.data, dataset.target"
      ],
      "execution_count": 57,
      "outputs": []
    },
    {
      "cell_type": "markdown",
      "metadata": {
        "id": "Pyuhb3if1uB0",
        "colab_type": "text"
      },
      "source": [
        "It's easier to load because we don't have to access a CSV file. On the downside, the data is not loaded as a DataFrame. But, we can create a DataFrame with a few simple steps."
      ]
    },
    {
      "cell_type": "markdown",
      "metadata": {
        "id": "Sd7XHVeXMRcA",
        "colab_type": "text"
      },
      "source": [
        "## Build a DataFrame from a **sklearn** dataset"
      ]
    },
    {
      "cell_type": "markdown",
      "metadata": {
        "id": "O7GBBz1bKsNo",
        "colab_type": "text"
      },
      "source": [
        "First, access information about the dataset with the **keys()** function."
      ]
    },
    {
      "cell_type": "code",
      "metadata": {
        "id": "5mGWEh7yK9LY",
        "colab_type": "code",
        "colab": {
          "base_uri": "https://localhost:8080/",
          "height": 34
        },
        "outputId": "d835995b-29ea-4636-bd83-1290ed739012"
      },
      "source": [
        "dataset.keys() "
      ],
      "execution_count": 58,
      "outputs": [
        {
          "output_type": "execute_result",
          "data": {
            "text/plain": [
              "dict_keys(['data', 'target', 'feature_names', 'DESCR', 'filename'])"
            ]
          },
          "metadata": {
            "tags": []
          },
          "execution_count": 58
        }
      ]
    },
    {
      "cell_type": "markdown",
      "metadata": {
        "id": "nS21SwD9LAXn",
        "colab_type": "text"
      },
      "source": [
        "Second, access the feature names."
      ]
    },
    {
      "cell_type": "code",
      "metadata": {
        "id": "mAO2vYiiK-8-",
        "colab_type": "code",
        "colab": {
          "base_uri": "https://localhost:8080/",
          "height": 52
        },
        "outputId": "534859d2-703a-498c-a5a2-76f5766d06cf"
      },
      "source": [
        "feature_names = dataset.feature_names\n",
        "feature_names"
      ],
      "execution_count": 59,
      "outputs": [
        {
          "output_type": "execute_result",
          "data": {
            "text/plain": [
              "array(['CRIM', 'ZN', 'INDUS', 'CHAS', 'NOX', 'RM', 'AGE', 'DIS', 'RAD',\n",
              "       'TAX', 'PTRATIO', 'B', 'LSTAT'], dtype='<U7')"
            ]
          },
          "metadata": {
            "tags": []
          },
          "execution_count": 59
        }
      ]
    },
    {
      "cell_type": "markdown",
      "metadata": {
        "id": "sEEINWNHLiNQ",
        "colab_type": "text"
      },
      "source": [
        "Third, build a dataframe with feature and target data."
      ]
    },
    {
      "cell_type": "code",
      "metadata": {
        "id": "ZDAx1B0DKUlv",
        "colab_type": "code",
        "colab": {
          "base_uri": "https://localhost:8080/",
          "height": 197
        },
        "outputId": "38f947f3-4214-458e-bf4f-53d043febd07"
      },
      "source": [
        "df_sklearn = pd.DataFrame(dataset.data, columns=feature_names)\n",
        "\n",
        "df_sklearn['MEDV'] = dataset.target\n",
        "df_sklearn.head()"
      ],
      "execution_count": 60,
      "outputs": [
        {
          "output_type": "execute_result",
          "data": {
            "text/html": [
              "<div>\n",
              "<style scoped>\n",
              "    .dataframe tbody tr th:only-of-type {\n",
              "        vertical-align: middle;\n",
              "    }\n",
              "\n",
              "    .dataframe tbody tr th {\n",
              "        vertical-align: top;\n",
              "    }\n",
              "\n",
              "    .dataframe thead th {\n",
              "        text-align: right;\n",
              "    }\n",
              "</style>\n",
              "<table border=\"1\" class=\"dataframe\">\n",
              "  <thead>\n",
              "    <tr style=\"text-align: right;\">\n",
              "      <th></th>\n",
              "      <th>CRIM</th>\n",
              "      <th>ZN</th>\n",
              "      <th>INDUS</th>\n",
              "      <th>CHAS</th>\n",
              "      <th>NOX</th>\n",
              "      <th>RM</th>\n",
              "      <th>AGE</th>\n",
              "      <th>DIS</th>\n",
              "      <th>RAD</th>\n",
              "      <th>TAX</th>\n",
              "      <th>PTRATIO</th>\n",
              "      <th>B</th>\n",
              "      <th>LSTAT</th>\n",
              "      <th>MEDV</th>\n",
              "    </tr>\n",
              "  </thead>\n",
              "  <tbody>\n",
              "    <tr>\n",
              "      <th>0</th>\n",
              "      <td>0.00632</td>\n",
              "      <td>18.0</td>\n",
              "      <td>2.31</td>\n",
              "      <td>0.0</td>\n",
              "      <td>0.538</td>\n",
              "      <td>6.575</td>\n",
              "      <td>65.2</td>\n",
              "      <td>4.0900</td>\n",
              "      <td>1.0</td>\n",
              "      <td>296.0</td>\n",
              "      <td>15.3</td>\n",
              "      <td>396.90</td>\n",
              "      <td>4.98</td>\n",
              "      <td>24.0</td>\n",
              "    </tr>\n",
              "    <tr>\n",
              "      <th>1</th>\n",
              "      <td>0.02731</td>\n",
              "      <td>0.0</td>\n",
              "      <td>7.07</td>\n",
              "      <td>0.0</td>\n",
              "      <td>0.469</td>\n",
              "      <td>6.421</td>\n",
              "      <td>78.9</td>\n",
              "      <td>4.9671</td>\n",
              "      <td>2.0</td>\n",
              "      <td>242.0</td>\n",
              "      <td>17.8</td>\n",
              "      <td>396.90</td>\n",
              "      <td>9.14</td>\n",
              "      <td>21.6</td>\n",
              "    </tr>\n",
              "    <tr>\n",
              "      <th>2</th>\n",
              "      <td>0.02729</td>\n",
              "      <td>0.0</td>\n",
              "      <td>7.07</td>\n",
              "      <td>0.0</td>\n",
              "      <td>0.469</td>\n",
              "      <td>7.185</td>\n",
              "      <td>61.1</td>\n",
              "      <td>4.9671</td>\n",
              "      <td>2.0</td>\n",
              "      <td>242.0</td>\n",
              "      <td>17.8</td>\n",
              "      <td>392.83</td>\n",
              "      <td>4.03</td>\n",
              "      <td>34.7</td>\n",
              "    </tr>\n",
              "    <tr>\n",
              "      <th>3</th>\n",
              "      <td>0.03237</td>\n",
              "      <td>0.0</td>\n",
              "      <td>2.18</td>\n",
              "      <td>0.0</td>\n",
              "      <td>0.458</td>\n",
              "      <td>6.998</td>\n",
              "      <td>45.8</td>\n",
              "      <td>6.0622</td>\n",
              "      <td>3.0</td>\n",
              "      <td>222.0</td>\n",
              "      <td>18.7</td>\n",
              "      <td>394.63</td>\n",
              "      <td>2.94</td>\n",
              "      <td>33.4</td>\n",
              "    </tr>\n",
              "    <tr>\n",
              "      <th>4</th>\n",
              "      <td>0.06905</td>\n",
              "      <td>0.0</td>\n",
              "      <td>2.18</td>\n",
              "      <td>0.0</td>\n",
              "      <td>0.458</td>\n",
              "      <td>7.147</td>\n",
              "      <td>54.2</td>\n",
              "      <td>6.0622</td>\n",
              "      <td>3.0</td>\n",
              "      <td>222.0</td>\n",
              "      <td>18.7</td>\n",
              "      <td>396.90</td>\n",
              "      <td>5.33</td>\n",
              "      <td>36.2</td>\n",
              "    </tr>\n",
              "  </tbody>\n",
              "</table>\n",
              "</div>"
            ],
            "text/plain": [
              "      CRIM    ZN  INDUS  CHAS    NOX  ...    TAX  PTRATIO       B  LSTAT  MEDV\n",
              "0  0.00632  18.0   2.31   0.0  0.538  ...  296.0     15.3  396.90   4.98  24.0\n",
              "1  0.02731   0.0   7.07   0.0  0.469  ...  242.0     17.8  396.90   9.14  21.6\n",
              "2  0.02729   0.0   7.07   0.0  0.469  ...  242.0     17.8  392.83   4.03  34.7\n",
              "3  0.03237   0.0   2.18   0.0  0.458  ...  222.0     18.7  394.63   2.94  33.4\n",
              "4  0.06905   0.0   2.18   0.0  0.458  ...  222.0     18.7  396.90   5.33  36.2\n",
              "\n",
              "[5 rows x 14 columns]"
            ]
          },
          "metadata": {
            "tags": []
          },
          "execution_count": 60
        }
      ]
    },
    {
      "cell_type": "markdown",
      "metadata": {
        "id": "L5uk9b2Pnaxm",
        "colab_type": "text"
      },
      "source": [
        "Check information:"
      ]
    },
    {
      "cell_type": "code",
      "metadata": {
        "id": "QacJ8roampKr",
        "colab_type": "code",
        "colab": {
          "base_uri": "https://localhost:8080/",
          "height": 390
        },
        "outputId": "b749931c-99c7-404d-9d63-80d025d6de1d"
      },
      "source": [
        "df_sklearn.info()"
      ],
      "execution_count": 61,
      "outputs": [
        {
          "output_type": "stream",
          "text": [
            "<class 'pandas.core.frame.DataFrame'>\n",
            "RangeIndex: 506 entries, 0 to 505\n",
            "Data columns (total 14 columns):\n",
            " #   Column   Non-Null Count  Dtype  \n",
            "---  ------   --------------  -----  \n",
            " 0   CRIM     506 non-null    float64\n",
            " 1   ZN       506 non-null    float64\n",
            " 2   INDUS    506 non-null    float64\n",
            " 3   CHAS     506 non-null    float64\n",
            " 4   NOX      506 non-null    float64\n",
            " 5   RM       506 non-null    float64\n",
            " 6   AGE      506 non-null    float64\n",
            " 7   DIS      506 non-null    float64\n",
            " 8   RAD      506 non-null    float64\n",
            " 9   TAX      506 non-null    float64\n",
            " 10  PTRATIO  506 non-null    float64\n",
            " 11  B        506 non-null    float64\n",
            " 12  LSTAT    506 non-null    float64\n",
            " 13  MEDV     506 non-null    float64\n",
            "dtypes: float64(14)\n",
            "memory usage: 55.5 KB\n"
          ],
          "name": "stdout"
        }
      ]
    },
    {
      "cell_type": "markdown",
      "metadata": {
        "id": "5su8IOmhKTAp",
        "colab_type": "text"
      },
      "source": [
        "## Remove Noise"
      ]
    },
    {
      "cell_type": "code",
      "metadata": {
        "id": "Q-YiPQnC1p4C",
        "colab_type": "code",
        "colab": {
          "base_uri": "https://localhost:8080/",
          "height": 52
        },
        "outputId": "fb857cc1-7862-4ba9-8b1e-6cdd5e106262"
      },
      "source": [
        "# remove noisy data\n",
        "\n",
        "print ('data set before removing noise:', df_sklearn.shape)\n",
        "\n",
        "noise = df_sklearn.loc[df_sklearn['MEDV'] >= 50]\n",
        "df_clean = df_sklearn.drop(noise.index)\n",
        "\n",
        "print ('data set without noise:', df_clean.shape)"
      ],
      "execution_count": 62,
      "outputs": [
        {
          "output_type": "stream",
          "text": [
            "data set before removing noise: (506, 14)\n",
            "data set without noise: (490, 14)\n"
          ],
          "name": "stdout"
        }
      ]
    },
    {
      "cell_type": "markdown",
      "metadata": {
        "id": "OOcbyYgt2mL1",
        "colab_type": "text"
      },
      "source": [
        "## Build the Input Pipeline"
      ]
    },
    {
      "cell_type": "code",
      "metadata": {
        "id": "tg4fWZWA2mYF",
        "colab_type": "code",
        "colab": {}
      },
      "source": [
        "# create a copy of the DataFrame\n",
        "\n",
        "df = df_clean.copy()\n",
        "\n",
        "# create the target\n",
        "\n",
        "target = df.pop('MEDV')\n",
        "\n",
        "# convert features and target data\n",
        "\n",
        "features = df.values\n",
        "labels = target.values\n",
        "\n",
        "# create train and test sets\n",
        "\n",
        "X_train, X_test, y_train, y_test = train_test_split(\n",
        "    features, labels, test_size=0.33, random_state=0)\n",
        "\n",
        "X_train_std = scaler.fit_transform(X_train)\n",
        "X_test_std = scaler.fit_transform(X_test)\n",
        "\n",
        "# slice data into a TensorFlow consumable form\n",
        "\n",
        "train = tf.data.Dataset.from_tensor_slices(\n",
        "    (X_train_std, y_train))\n",
        "test = tf.data.Dataset.from_tensor_slices(\n",
        "    (X_test_std, y_test))\n",
        "\n",
        "# finalize the pipeline\n",
        "\n",
        "BATCH_SIZE = 16\n",
        "SHUFFLE_BUFFER_SIZE = 100\n",
        "\n",
        "train_sk = train.shuffle(\n",
        "    SHUFFLE_BUFFER_SIZE).batch(BATCH_SIZE).prefetch(1)\n",
        "test_sk = test.batch(BATCH_SIZE).prefetch(1)"
      ],
      "execution_count": 64,
      "outputs": []
    },
    {
      "cell_type": "markdown",
      "metadata": {
        "id": "ZeKpqCRLW85R",
        "colab_type": "text"
      },
      "source": [
        "## Create a New Model and Compile\n",
        "\n",
        "You may not have noticed, but the **sklearn** boston dataset has an extra feature column. So, we can either remove the feature or create a new model that accommodates it. Let's just create a new model and compile. Notice that we changed the input shape to accommodate the extra feature."
      ]
    },
    {
      "cell_type": "code",
      "metadata": {
        "id": "_vcoBFZyXYEh",
        "colab_type": "code",
        "colab": {
          "base_uri": "https://localhost:8080/",
          "height": 656
        },
        "outputId": "aebe07d9-50a8-49d4-91f0-a344274292c0"
      },
      "source": [
        "# clear any previous model\n",
        "tf.keras.backend.clear_session()\n",
        "\n",
        "# generate a seed for replication purposes\n",
        "np.random.seed(0)\n",
        "tf.random.set_seed(0)\n",
        "\n",
        "# new model with 13 input features\n",
        "\n",
        "model = Sequential([\n",
        "  Dense(64, activation='relu', input_shape=[13,]),\n",
        "  Dense(64, activation='relu'),\n",
        "  Dense(1)\n",
        "])\n",
        "\n",
        "# compile the new model\n",
        "\n",
        "rmse = tf.keras.metrics.RootMeanSquaredError()\n",
        "\n",
        "model.compile(loss='mse', optimizer='RMSProp',\n",
        "              metrics=[rmse, 'mae', 'mse'])\n",
        "\n",
        "# train\n",
        "\n",
        "n = 4\n",
        "\n",
        "early_stop = tf.keras.callbacks.EarlyStopping(monitor='val_loss',\n",
        "                                              patience=n)\n",
        "\n",
        "history = model.fit(train_sk, epochs=50,\n",
        "                    validation_data=test_sk,\n",
        "                    callbacks=[early_stop])"
      ],
      "execution_count": 65,
      "outputs": [
        {
          "output_type": "stream",
          "text": [
            "Epoch 1/50\n",
            "21/21 [==============================] - 0s 9ms/step - loss: 444.8763 - root_mean_squared_error: 21.0921 - mae: 19.6456 - mse: 444.8763 - val_loss: 413.4243 - val_root_mean_squared_error: 20.3328 - val_mae: 18.3210 - val_mse: 413.4243\n",
            "Epoch 2/50\n",
            "21/21 [==============================] - 0s 5ms/step - loss: 304.5066 - root_mean_squared_error: 17.4501 - mae: 15.8733 - mse: 304.5066 - val_loss: 267.4167 - val_root_mean_squared_error: 16.3529 - val_mae: 14.1076 - val_mse: 267.4167\n",
            "Epoch 3/50\n",
            "21/21 [==============================] - 0s 5ms/step - loss: 168.0415 - root_mean_squared_error: 12.9631 - mae: 11.4047 - mse: 168.0415 - val_loss: 138.2882 - val_root_mean_squared_error: 11.7596 - val_mae: 9.6074 - val_mse: 138.2882\n",
            "Epoch 4/50\n",
            "21/21 [==============================] - 0s 5ms/step - loss: 75.9102 - root_mean_squared_error: 8.7126 - mae: 7.3573 - mse: 75.9102 - val_loss: 70.4388 - val_root_mean_squared_error: 8.3928 - val_mae: 6.7686 - val_mse: 70.4388\n",
            "Epoch 5/50\n",
            "21/21 [==============================] - 0s 5ms/step - loss: 40.3686 - root_mean_squared_error: 6.3536 - mae: 5.2175 - mse: 40.3686 - val_loss: 44.8567 - val_root_mean_squared_error: 6.6975 - val_mae: 5.3682 - val_mse: 44.8567\n",
            "Epoch 6/50\n",
            "21/21 [==============================] - 0s 4ms/step - loss: 26.2057 - root_mean_squared_error: 5.1191 - mae: 4.1271 - mse: 26.2057 - val_loss: 33.4894 - val_root_mean_squared_error: 5.7870 - val_mae: 4.5764 - val_mse: 33.4894\n",
            "Epoch 7/50\n",
            "21/21 [==============================] - 0s 4ms/step - loss: 19.2579 - root_mean_squared_error: 4.3884 - mae: 3.5038 - mse: 19.2579 - val_loss: 27.7242 - val_root_mean_squared_error: 5.2654 - val_mae: 4.0863 - val_mse: 27.7242\n",
            "Epoch 8/50\n",
            "21/21 [==============================] - 0s 4ms/step - loss: 15.6980 - root_mean_squared_error: 3.9621 - mae: 3.0851 - mse: 15.6980 - val_loss: 23.5725 - val_root_mean_squared_error: 4.8552 - val_mae: 3.7597 - val_mse: 23.5725\n",
            "Epoch 9/50\n",
            "21/21 [==============================] - 0s 4ms/step - loss: 13.4648 - root_mean_squared_error: 3.6694 - mae: 2.8479 - mse: 13.4648 - val_loss: 19.8307 - val_root_mean_squared_error: 4.4532 - val_mae: 3.4437 - val_mse: 19.8307\n",
            "Epoch 10/50\n",
            "21/21 [==============================] - 0s 5ms/step - loss: 11.7129 - root_mean_squared_error: 3.4224 - mae: 2.6862 - mse: 11.7129 - val_loss: 17.3813 - val_root_mean_squared_error: 4.1691 - val_mae: 3.1958 - val_mse: 17.3813\n",
            "Epoch 11/50\n",
            "21/21 [==============================] - 0s 4ms/step - loss: 10.7293 - root_mean_squared_error: 3.2756 - mae: 2.5414 - mse: 10.7293 - val_loss: 16.2086 - val_root_mean_squared_error: 4.0260 - val_mae: 3.0787 - val_mse: 16.2086\n",
            "Epoch 12/50\n",
            "21/21 [==============================] - 0s 4ms/step - loss: 9.6669 - root_mean_squared_error: 3.1092 - mae: 2.4677 - mse: 9.6669 - val_loss: 16.4834 - val_root_mean_squared_error: 4.0600 - val_mae: 3.0598 - val_mse: 16.4834\n",
            "Epoch 13/50\n",
            "21/21 [==============================] - 0s 4ms/step - loss: 8.4528 - root_mean_squared_error: 2.9074 - mae: 2.2917 - mse: 8.4528 - val_loss: 17.1005 - val_root_mean_squared_error: 4.1353 - val_mae: 3.0829 - val_mse: 17.1005\n",
            "Epoch 14/50\n",
            "21/21 [==============================] - 0s 4ms/step - loss: 7.8867 - root_mean_squared_error: 2.8083 - mae: 2.2042 - mse: 7.8867 - val_loss: 13.7325 - val_root_mean_squared_error: 3.7057 - val_mae: 2.7953 - val_mse: 13.7325\n",
            "Epoch 15/50\n",
            "21/21 [==============================] - 0s 3ms/step - loss: 7.5319 - root_mean_squared_error: 2.7444 - mae: 2.1346 - mse: 7.5319 - val_loss: 13.9264 - val_root_mean_squared_error: 3.7318 - val_mae: 2.7804 - val_mse: 13.9264\n",
            "Epoch 16/50\n",
            "21/21 [==============================] - 0s 3ms/step - loss: 7.2071 - root_mean_squared_error: 2.6846 - mae: 2.0732 - mse: 7.2071 - val_loss: 14.9000 - val_root_mean_squared_error: 3.8601 - val_mae: 2.8385 - val_mse: 14.9000\n",
            "Epoch 17/50\n",
            "21/21 [==============================] - 0s 3ms/step - loss: 6.5213 - root_mean_squared_error: 2.5537 - mae: 2.0133 - mse: 6.5213 - val_loss: 18.8183 - val_root_mean_squared_error: 4.3380 - val_mae: 3.1834 - val_mse: 18.8183\n",
            "Epoch 18/50\n",
            "21/21 [==============================] - 0s 3ms/step - loss: 6.5209 - root_mean_squared_error: 2.5536 - mae: 1.9800 - mse: 6.5209 - val_loss: 14.7718 - val_root_mean_squared_error: 3.8434 - val_mae: 2.8222 - val_mse: 14.7718\n"
          ],
          "name": "stdout"
        }
      ]
    },
    {
      "cell_type": "markdown",
      "metadata": {
        "id": "9cd64V-vEIVJ",
        "colab_type": "text"
      },
      "source": [
        "# Read from UCI Irvine Machine Learning Repository\n",
        "\n",
        "We can also read housing data directly from the UCI Irvine Machine Learning Repository."
      ]
    },
    {
      "cell_type": "code",
      "metadata": {
        "id": "9z-kYHTFEIrB",
        "colab_type": "code",
        "colab": {
          "base_uri": "https://localhost:8080/",
          "height": 71
        },
        "outputId": "37a5cd0d-f7f0-471a-8f2b-fda750536ab6"
      },
      "source": [
        "dataset_path = tf.keras.utils.get_file('housing.data', 'https://archive.ics.uci.\\\n",
        "edu/ml/machine-learning-databases/housing/housing.data')\n",
        "dataset_path"
      ],
      "execution_count": 67,
      "outputs": [
        {
          "output_type": "stream",
          "text": [
            "Downloading data from https://archive.ics.uci.edu/ml/machine-learning-databases/housing/housing.data\n",
            "49152/49082 [==============================] - 0s 6us/step\n"
          ],
          "name": "stdout"
        },
        {
          "output_type": "execute_result",
          "data": {
            "application/vnd.google.colaboratory.intrinsic+json": {
              "type": "string"
            },
            "text/plain": [
              "'/root/.keras/datasets/housing.data'"
            ]
          },
          "metadata": {
            "tags": []
          },
          "execution_count": 67
        }
      ]
    },
    {
      "cell_type": "code",
      "metadata": {
        "id": "EkfTV4JeGCiZ",
        "colab_type": "code",
        "colab": {
          "base_uri": "https://localhost:8080/",
          "height": 137
        },
        "outputId": "f6135546-f286-4b4a-92e2-e9154e0cf14e"
      },
      "source": [
        "cols = ['CRIM', 'ZN', 'INDUS', 'CHAS', 'NOX', 'RM', 'AGE', 'DIS',\n",
        "        'RAD', 'TAX', 'PTRATIO', 'B', 'LSTAT', 'MEDV']\n",
        " \n",
        "uci_data = pd.read_csv(dataset_path, names=cols, sep=' ',\n",
        "                       skipinitialspace=True)\n",
        "\n",
        "uci_data.head(3)"
      ],
      "execution_count": 68,
      "outputs": [
        {
          "output_type": "execute_result",
          "data": {
            "text/html": [
              "<div>\n",
              "<style scoped>\n",
              "    .dataframe tbody tr th:only-of-type {\n",
              "        vertical-align: middle;\n",
              "    }\n",
              "\n",
              "    .dataframe tbody tr th {\n",
              "        vertical-align: top;\n",
              "    }\n",
              "\n",
              "    .dataframe thead th {\n",
              "        text-align: right;\n",
              "    }\n",
              "</style>\n",
              "<table border=\"1\" class=\"dataframe\">\n",
              "  <thead>\n",
              "    <tr style=\"text-align: right;\">\n",
              "      <th></th>\n",
              "      <th>CRIM</th>\n",
              "      <th>ZN</th>\n",
              "      <th>INDUS</th>\n",
              "      <th>CHAS</th>\n",
              "      <th>NOX</th>\n",
              "      <th>RM</th>\n",
              "      <th>AGE</th>\n",
              "      <th>DIS</th>\n",
              "      <th>RAD</th>\n",
              "      <th>TAX</th>\n",
              "      <th>PTRATIO</th>\n",
              "      <th>B</th>\n",
              "      <th>LSTAT</th>\n",
              "      <th>MEDV</th>\n",
              "    </tr>\n",
              "  </thead>\n",
              "  <tbody>\n",
              "    <tr>\n",
              "      <th>0</th>\n",
              "      <td>0.00632</td>\n",
              "      <td>18.0</td>\n",
              "      <td>2.31</td>\n",
              "      <td>0</td>\n",
              "      <td>0.538</td>\n",
              "      <td>6.575</td>\n",
              "      <td>65.2</td>\n",
              "      <td>4.0900</td>\n",
              "      <td>1</td>\n",
              "      <td>296.0</td>\n",
              "      <td>15.3</td>\n",
              "      <td>396.90</td>\n",
              "      <td>4.98</td>\n",
              "      <td>24.0</td>\n",
              "    </tr>\n",
              "    <tr>\n",
              "      <th>1</th>\n",
              "      <td>0.02731</td>\n",
              "      <td>0.0</td>\n",
              "      <td>7.07</td>\n",
              "      <td>0</td>\n",
              "      <td>0.469</td>\n",
              "      <td>6.421</td>\n",
              "      <td>78.9</td>\n",
              "      <td>4.9671</td>\n",
              "      <td>2</td>\n",
              "      <td>242.0</td>\n",
              "      <td>17.8</td>\n",
              "      <td>396.90</td>\n",
              "      <td>9.14</td>\n",
              "      <td>21.6</td>\n",
              "    </tr>\n",
              "    <tr>\n",
              "      <th>2</th>\n",
              "      <td>0.02729</td>\n",
              "      <td>0.0</td>\n",
              "      <td>7.07</td>\n",
              "      <td>0</td>\n",
              "      <td>0.469</td>\n",
              "      <td>7.185</td>\n",
              "      <td>61.1</td>\n",
              "      <td>4.9671</td>\n",
              "      <td>2</td>\n",
              "      <td>242.0</td>\n",
              "      <td>17.8</td>\n",
              "      <td>392.83</td>\n",
              "      <td>4.03</td>\n",
              "      <td>34.7</td>\n",
              "    </tr>\n",
              "  </tbody>\n",
              "</table>\n",
              "</div>"
            ],
            "text/plain": [
              "      CRIM    ZN  INDUS  CHAS    NOX  ...    TAX  PTRATIO       B  LSTAT  MEDV\n",
              "0  0.00632  18.0   2.31     0  0.538  ...  296.0     15.3  396.90   4.98  24.0\n",
              "1  0.02731   0.0   7.07     0  0.469  ...  242.0     17.8  396.90   9.14  21.6\n",
              "2  0.02729   0.0   7.07     0  0.469  ...  242.0     17.8  392.83   4.03  34.7\n",
              "\n",
              "[3 rows x 14 columns]"
            ]
          },
          "metadata": {
            "tags": []
          },
          "execution_count": 68
        }
      ]
    },
    {
      "cell_type": "code",
      "metadata": {
        "id": "4pL32EoarTxt",
        "colab_type": "code",
        "colab": {
          "base_uri": "https://localhost:8080/",
          "height": 390
        },
        "outputId": "3521925f-4690-4888-9e24-e2d0fa5a37f4"
      },
      "source": [
        "uci_data.info()"
      ],
      "execution_count": 69,
      "outputs": [
        {
          "output_type": "stream",
          "text": [
            "<class 'pandas.core.frame.DataFrame'>\n",
            "RangeIndex: 506 entries, 0 to 505\n",
            "Data columns (total 14 columns):\n",
            " #   Column   Non-Null Count  Dtype  \n",
            "---  ------   --------------  -----  \n",
            " 0   CRIM     506 non-null    float64\n",
            " 1   ZN       506 non-null    float64\n",
            " 2   INDUS    506 non-null    float64\n",
            " 3   CHAS     506 non-null    int64  \n",
            " 4   NOX      506 non-null    float64\n",
            " 5   RM       506 non-null    float64\n",
            " 6   AGE      506 non-null    float64\n",
            " 7   DIS      506 non-null    float64\n",
            " 8   RAD      506 non-null    int64  \n",
            " 9   TAX      506 non-null    float64\n",
            " 10  PTRATIO  506 non-null    float64\n",
            " 11  B        506 non-null    float64\n",
            " 12  LSTAT    506 non-null    float64\n",
            " 13  MEDV     506 non-null    float64\n",
            "dtypes: float64(12), int64(2)\n",
            "memory usage: 55.5 KB\n"
          ],
          "name": "stdout"
        }
      ]
    },
    {
      "cell_type": "markdown",
      "metadata": {
        "id": "U966zKTUIlIp",
        "colab_type": "text"
      },
      "source": [
        "## Create the Input Pipeline"
      ]
    },
    {
      "cell_type": "code",
      "metadata": {
        "id": "qg9tPVjpIlS4",
        "colab_type": "code",
        "colab": {}
      },
      "source": [
        "# create a copy of the DataFrame\n",
        "\n",
        "df = uci_data.copy()\n",
        "\n",
        "# create the target\n",
        "\n",
        "target = df.pop('MEDV')\n",
        "\n",
        "# prepare features and labels\n",
        "\n",
        "features = df.values\n",
        "labels = target.values\n",
        "\n",
        "# create and train and test data\n",
        "\n",
        "X_train, X_test, y_train, y_test = train_test_split(\n",
        "    features, labels, test_size=0.33, random_state=0)\n",
        "\n",
        "# scale data\n",
        "\n",
        "X_train_std = scaler.fit_transform(X_train)\n",
        "X_test_std = scaler.fit_transform(X_test)\n",
        "\n",
        "# prepare train and test data for TensorFlow consumption\n",
        "\n",
        "train = tf.data.Dataset.from_tensor_slices((X_train_std, y_train))\n",
        "test = tf.data.Dataset.from_tensor_slices((X_test_std, y_test))\n",
        "\n",
        "# shuffle, batch, and prefetch\n",
        "\n",
        "BATCH_SIZE = 16\n",
        "SHUFFLE_BUFFER_SIZE = 100\n",
        "\n",
        "train_ml = train.shuffle(SHUFFLE_BUFFER_SIZE).batch(BATCH_SIZE).prefetch(1)\n",
        "test_ml = test.batch(BATCH_SIZE).prefetch(1)"
      ],
      "execution_count": 72,
      "outputs": []
    },
    {
      "cell_type": "markdown",
      "metadata": {
        "id": "o4M9c2TaJyEr",
        "colab_type": "text"
      },
      "source": [
        "## Compile and Model Data"
      ]
    },
    {
      "cell_type": "code",
      "metadata": {
        "id": "5B4id2LlJkos",
        "colab_type": "code",
        "colab": {
          "base_uri": "https://localhost:8080/",
          "height": 1000
        },
        "outputId": "6ff92f2a-b007-48ef-827b-f35ab952af10"
      },
      "source": [
        "# clear any previous model\n",
        "\n",
        "tf.keras.backend.clear_session()\n",
        "\n",
        "# plant a random seed for replication purposes\n",
        "np.random.seed(0)\n",
        "tf.random.set_seed(0)\n",
        "\n",
        "# new model with 13 input features\n",
        "\n",
        "model = Sequential([\n",
        "  Dense(64, activation='relu', input_shape=[13,]),\n",
        "  Dense(64, activation='relu'),\n",
        "  Dense(1)\n",
        "])\n",
        "\n",
        "# compile the new model\n",
        "\n",
        "rmse = tf.keras.metrics.RootMeanSquaredError()\n",
        "\n",
        "model.compile(loss='mse', optimizer='RMSProp',\n",
        "              metrics=[rmse, 'mae', 'mse'])\n",
        "\n",
        "# train\n",
        "\n",
        "n = 4\n",
        "\n",
        "early_stop = tf.keras.callbacks.EarlyStopping(monitor='val_loss', patience=n)\n",
        "\n",
        "history = model.fit(train_ml, epochs=50,\n",
        "                    validation_data=test_ml,\n",
        "                    callbacks=[early_stop])"
      ],
      "execution_count": 73,
      "outputs": [
        {
          "output_type": "stream",
          "text": [
            "Epoch 1/50\n",
            "22/22 [==============================] - 0s 7ms/step - loss: 533.4176 - root_mean_squared_error: 23.0958 - mae: 21.1018 - mse: 533.4176 - val_loss: 413.0344 - val_root_mean_squared_error: 20.3232 - val_mae: 18.1847 - val_mse: 413.0344\n",
            "Epoch 2/50\n",
            "22/22 [==============================] - 0s 3ms/step - loss: 371.5879 - root_mean_squared_error: 19.2766 - mae: 17.1018 - mse: 371.5879 - val_loss: 255.4941 - val_root_mean_squared_error: 15.9842 - val_mae: 13.7595 - val_mse: 255.4941\n",
            "Epoch 3/50\n",
            "22/22 [==============================] - 0s 4ms/step - loss: 208.4894 - root_mean_squared_error: 14.4392 - mae: 12.1730 - mse: 208.4894 - val_loss: 124.2282 - val_root_mean_squared_error: 11.1458 - val_mae: 8.9763 - val_mse: 124.2282\n",
            "Epoch 4/50\n",
            "22/22 [==============================] - 0s 3ms/step - loss: 99.8197 - root_mean_squared_error: 9.9910 - mae: 7.8224 - mse: 99.8197 - val_loss: 71.8923 - val_root_mean_squared_error: 8.4789 - val_mae: 6.5666 - val_mse: 71.8923\n",
            "Epoch 5/50\n",
            "22/22 [==============================] - 0s 4ms/step - loss: 56.5875 - root_mean_squared_error: 7.5225 - mae: 5.8822 - mse: 56.5875 - val_loss: 51.3489 - val_root_mean_squared_error: 7.1658 - val_mae: 5.4179 - val_mse: 51.3489\n",
            "Epoch 6/50\n",
            "22/22 [==============================] - 0s 4ms/step - loss: 36.8244 - root_mean_squared_error: 6.0683 - mae: 4.6673 - mse: 36.8244 - val_loss: 39.5037 - val_root_mean_squared_error: 6.2852 - val_mae: 4.6544 - val_mse: 39.5037\n",
            "Epoch 7/50\n",
            "22/22 [==============================] - 0s 4ms/step - loss: 27.7994 - root_mean_squared_error: 5.2725 - mae: 3.9619 - mse: 27.7994 - val_loss: 34.0049 - val_root_mean_squared_error: 5.8314 - val_mae: 4.2750 - val_mse: 34.0049\n",
            "Epoch 8/50\n",
            "22/22 [==============================] - 0s 4ms/step - loss: 23.0777 - root_mean_squared_error: 4.8039 - mae: 3.6097 - mse: 23.0777 - val_loss: 30.9005 - val_root_mean_squared_error: 5.5588 - val_mae: 3.9706 - val_mse: 30.9005\n",
            "Epoch 9/50\n",
            "22/22 [==============================] - 0s 4ms/step - loss: 20.2461 - root_mean_squared_error: 4.4996 - mae: 3.2687 - mse: 20.2461 - val_loss: 27.7577 - val_root_mean_squared_error: 5.2686 - val_mae: 3.9118 - val_mse: 27.7577\n",
            "Epoch 10/50\n",
            "22/22 [==============================] - 0s 4ms/step - loss: 17.9722 - root_mean_squared_error: 4.2394 - mae: 3.1080 - mse: 17.9722 - val_loss: 26.2881 - val_root_mean_squared_error: 5.1272 - val_mae: 3.7318 - val_mse: 26.2881\n",
            "Epoch 11/50\n",
            "22/22 [==============================] - 0s 4ms/step - loss: 16.5648 - root_mean_squared_error: 4.0700 - mae: 2.9287 - mse: 16.5648 - val_loss: 24.1760 - val_root_mean_squared_error: 4.9169 - val_mae: 3.5273 - val_mse: 24.1760\n",
            "Epoch 12/50\n",
            "22/22 [==============================] - 0s 3ms/step - loss: 15.0077 - root_mean_squared_error: 3.8740 - mae: 2.7590 - mse: 15.0077 - val_loss: 27.4611 - val_root_mean_squared_error: 5.2403 - val_mae: 3.8260 - val_mse: 27.4611\n",
            "Epoch 13/50\n",
            "22/22 [==============================] - 0s 3ms/step - loss: 14.3631 - root_mean_squared_error: 3.7899 - mae: 2.6938 - mse: 14.3631 - val_loss: 26.1168 - val_root_mean_squared_error: 5.1105 - val_mae: 3.6982 - val_mse: 26.1168\n",
            "Epoch 14/50\n",
            "22/22 [==============================] - 0s 3ms/step - loss: 13.1789 - root_mean_squared_error: 3.6303 - mae: 2.5837 - mse: 13.1789 - val_loss: 22.1499 - val_root_mean_squared_error: 4.7064 - val_mae: 3.3779 - val_mse: 22.1499\n",
            "Epoch 15/50\n",
            "22/22 [==============================] - 0s 4ms/step - loss: 12.5693 - root_mean_squared_error: 3.5453 - mae: 2.4929 - mse: 12.5693 - val_loss: 21.1699 - val_root_mean_squared_error: 4.6011 - val_mae: 3.2408 - val_mse: 21.1699\n",
            "Epoch 16/50\n",
            "22/22 [==============================] - 0s 4ms/step - loss: 11.7847 - root_mean_squared_error: 3.4329 - mae: 2.4186 - mse: 11.7847 - val_loss: 20.3101 - val_root_mean_squared_error: 4.5067 - val_mae: 3.1369 - val_mse: 20.3101\n",
            "Epoch 17/50\n",
            "22/22 [==============================] - 0s 4ms/step - loss: 11.3877 - root_mean_squared_error: 3.3746 - mae: 2.3698 - mse: 11.3877 - val_loss: 19.2717 - val_root_mean_squared_error: 4.3900 - val_mae: 3.0772 - val_mse: 19.2717\n",
            "Epoch 18/50\n",
            "22/22 [==============================] - 0s 4ms/step - loss: 11.1130 - root_mean_squared_error: 3.3336 - mae: 2.3448 - mse: 11.1130 - val_loss: 19.2881 - val_root_mean_squared_error: 4.3918 - val_mae: 3.0968 - val_mse: 19.2881\n",
            "Epoch 19/50\n",
            "22/22 [==============================] - 0s 4ms/step - loss: 10.5633 - root_mean_squared_error: 3.2501 - mae: 2.2827 - mse: 10.5633 - val_loss: 18.5354 - val_root_mean_squared_error: 4.3053 - val_mae: 3.0213 - val_mse: 18.5354\n",
            "Epoch 20/50\n",
            "22/22 [==============================] - 0s 4ms/step - loss: 10.2672 - root_mean_squared_error: 3.2043 - mae: 2.2538 - mse: 10.2672 - val_loss: 18.6697 - val_root_mean_squared_error: 4.3208 - val_mae: 3.1257 - val_mse: 18.6697\n",
            "Epoch 21/50\n",
            "22/22 [==============================] - 0s 4ms/step - loss: 9.9571 - root_mean_squared_error: 3.1555 - mae: 2.2402 - mse: 9.9571 - val_loss: 19.2771 - val_root_mean_squared_error: 4.3906 - val_mae: 3.1292 - val_mse: 19.2771\n",
            "Epoch 22/50\n",
            "22/22 [==============================] - 0s 5ms/step - loss: 9.7088 - root_mean_squared_error: 3.1159 - mae: 2.2473 - mse: 9.7088 - val_loss: 19.5951 - val_root_mean_squared_error: 4.4266 - val_mae: 3.0187 - val_mse: 19.5951\n",
            "Epoch 23/50\n",
            "22/22 [==============================] - 0s 4ms/step - loss: 9.2875 - root_mean_squared_error: 3.0475 - mae: 2.1554 - mse: 9.2875 - val_loss: 17.9329 - val_root_mean_squared_error: 4.2347 - val_mae: 2.9838 - val_mse: 17.9329\n",
            "Epoch 24/50\n",
            "22/22 [==============================] - 0s 4ms/step - loss: 9.2283 - root_mean_squared_error: 3.0378 - mae: 2.1618 - mse: 9.2283 - val_loss: 17.6140 - val_root_mean_squared_error: 4.1969 - val_mae: 2.9502 - val_mse: 17.6140\n",
            "Epoch 25/50\n",
            "22/22 [==============================] - 0s 4ms/step - loss: 9.0632 - root_mean_squared_error: 3.0105 - mae: 2.1542 - mse: 9.0632 - val_loss: 22.4264 - val_root_mean_squared_error: 4.7357 - val_mae: 3.5471 - val_mse: 22.4264\n",
            "Epoch 26/50\n",
            "22/22 [==============================] - 0s 4ms/step - loss: 8.9948 - root_mean_squared_error: 2.9991 - mae: 2.1468 - mse: 8.9948 - val_loss: 17.8741 - val_root_mean_squared_error: 4.2278 - val_mae: 2.9638 - val_mse: 17.8741\n",
            "Epoch 27/50\n",
            "22/22 [==============================] - 0s 3ms/step - loss: 8.7510 - root_mean_squared_error: 2.9582 - mae: 2.0924 - mse: 8.7510 - val_loss: 17.6112 - val_root_mean_squared_error: 4.1966 - val_mae: 3.0037 - val_mse: 17.6112\n",
            "Epoch 28/50\n",
            "22/22 [==============================] - 0s 4ms/step - loss: 8.7461 - root_mean_squared_error: 2.9574 - mae: 2.1000 - mse: 8.7461 - val_loss: 17.0876 - val_root_mean_squared_error: 4.1337 - val_mae: 2.9834 - val_mse: 17.0876\n",
            "Epoch 29/50\n",
            "22/22 [==============================] - 0s 3ms/step - loss: 8.5382 - root_mean_squared_error: 2.9220 - mae: 2.0732 - mse: 8.5382 - val_loss: 19.1311 - val_root_mean_squared_error: 4.3739 - val_mae: 3.2304 - val_mse: 19.1311\n",
            "Epoch 30/50\n",
            "22/22 [==============================] - 0s 4ms/step - loss: 8.2368 - root_mean_squared_error: 2.8700 - mae: 2.0570 - mse: 8.2368 - val_loss: 16.4613 - val_root_mean_squared_error: 4.0573 - val_mae: 2.8991 - val_mse: 16.4613\n",
            "Epoch 31/50\n",
            "22/22 [==============================] - 0s 4ms/step - loss: 8.3888 - root_mean_squared_error: 2.8963 - mae: 2.0735 - mse: 8.3888 - val_loss: 16.3205 - val_root_mean_squared_error: 4.0399 - val_mae: 2.7902 - val_mse: 16.3205\n",
            "Epoch 32/50\n",
            "22/22 [==============================] - 0s 4ms/step - loss: 8.1525 - root_mean_squared_error: 2.8553 - mae: 2.0318 - mse: 8.1525 - val_loss: 19.5955 - val_root_mean_squared_error: 4.4267 - val_mae: 3.2264 - val_mse: 19.5955\n",
            "Epoch 33/50\n",
            "22/22 [==============================] - 0s 4ms/step - loss: 7.9322 - root_mean_squared_error: 2.8164 - mae: 1.9968 - mse: 7.9322 - val_loss: 16.9937 - val_root_mean_squared_error: 4.1223 - val_mae: 2.9668 - val_mse: 16.9937\n",
            "Epoch 34/50\n",
            "22/22 [==============================] - 0s 4ms/step - loss: 7.9109 - root_mean_squared_error: 2.8126 - mae: 2.0158 - mse: 7.9109 - val_loss: 18.2799 - val_root_mean_squared_error: 4.2755 - val_mae: 3.1545 - val_mse: 18.2799\n",
            "Epoch 35/50\n",
            "22/22 [==============================] - 0s 4ms/step - loss: 7.7299 - root_mean_squared_error: 2.7803 - mae: 1.9578 - mse: 7.7299 - val_loss: 16.0473 - val_root_mean_squared_error: 4.0059 - val_mae: 2.7775 - val_mse: 16.0473\n",
            "Epoch 36/50\n",
            "22/22 [==============================] - 0s 4ms/step - loss: 7.5375 - root_mean_squared_error: 2.7455 - mae: 1.9543 - mse: 7.5375 - val_loss: 16.4995 - val_root_mean_squared_error: 4.0620 - val_mae: 2.8692 - val_mse: 16.4995\n",
            "Epoch 37/50\n",
            "22/22 [==============================] - 0s 4ms/step - loss: 7.5821 - root_mean_squared_error: 2.7536 - mae: 1.9785 - mse: 7.5821 - val_loss: 16.2685 - val_root_mean_squared_error: 4.0334 - val_mae: 2.8644 - val_mse: 16.2685\n",
            "Epoch 38/50\n",
            "22/22 [==============================] - 0s 4ms/step - loss: 7.5872 - root_mean_squared_error: 2.7545 - mae: 1.9728 - mse: 7.5872 - val_loss: 15.6462 - val_root_mean_squared_error: 3.9555 - val_mae: 2.7566 - val_mse: 15.6462\n",
            "Epoch 39/50\n",
            "22/22 [==============================] - 0s 4ms/step - loss: 7.5143 - root_mean_squared_error: 2.7412 - mae: 1.9464 - mse: 7.5143 - val_loss: 17.3338 - val_root_mean_squared_error: 4.1634 - val_mae: 3.0508 - val_mse: 17.3338\n",
            "Epoch 40/50\n",
            "22/22 [==============================] - 0s 4ms/step - loss: 7.1347 - root_mean_squared_error: 2.6711 - mae: 1.9106 - mse: 7.1347 - val_loss: 16.4696 - val_root_mean_squared_error: 4.0583 - val_mae: 2.9757 - val_mse: 16.4696\n",
            "Epoch 41/50\n",
            "22/22 [==============================] - 0s 4ms/step - loss: 7.2279 - root_mean_squared_error: 2.6885 - mae: 1.9187 - mse: 7.2279 - val_loss: 16.0242 - val_root_mean_squared_error: 4.0030 - val_mae: 2.8416 - val_mse: 16.0242\n",
            "Epoch 42/50\n",
            "22/22 [==============================] - 0s 4ms/step - loss: 7.1017 - root_mean_squared_error: 2.6649 - mae: 1.9000 - mse: 7.1017 - val_loss: 17.6835 - val_root_mean_squared_error: 4.2052 - val_mae: 3.0816 - val_mse: 17.6835\n"
          ],
          "name": "stdout"
        }
      ]
    },
    {
      "cell_type": "markdown",
      "metadata": {
        "id": "V3BgDTnS4Zv0",
        "colab_type": "text"
      },
      "source": [
        "# Model the Cars Dataset\n",
        "\n",
        "To get more practice, let's try another dataset."
      ]
    },
    {
      "cell_type": "markdown",
      "metadata": {
        "id": "fpE90Z-lUXoF",
        "colab_type": "text"
      },
      "source": [
        "## Get Cars Data from GitHub\n",
        "\n",
        "You can access any free standing dataset for this book directly from GitHub with a few simple steps:\n",
        "\n",
        "1.\tvisit the book URL: https://github.com/paperd/tensorflow\n",
        "2.\tlocate the dataset and click on it\n",
        "3.\tclick the Raw button\n",
        "4.\tcopy the URL to Colab and assign it to a variable\n",
        "5.\tread the dataset with the Pandas read_csv method"
      ]
    },
    {
      "cell_type": "markdown",
      "metadata": {
        "id": "A5oSilX2Up0X",
        "colab_type": "text"
      },
      "source": [
        "We’ve already located the URL and assigned it to a variable:"
      ]
    },
    {
      "cell_type": "code",
      "metadata": {
        "id": "x75xfFCeUsvv",
        "colab_type": "code",
        "colab": {}
      },
      "source": [
        "cars_url = 'https://raw.githubusercontent.com/paperd/tensorflow/\\\n",
        "master/chapter6/data/cars.csv'"
      ],
      "execution_count": 74,
      "outputs": []
    },
    {
      "cell_type": "markdown",
      "metadata": {
        "id": "7LqH7ZHXWwsH",
        "colab_type": "text"
      },
      "source": [
        "Read the dataset into a Pandas DataFrame:"
      ]
    },
    {
      "cell_type": "code",
      "metadata": {
        "id": "1GhATmFIWw0N",
        "colab_type": "code",
        "colab": {}
      },
      "source": [
        "cars = pd.read_csv(cars_url)"
      ],
      "execution_count": 75,
      "outputs": []
    },
    {
      "cell_type": "markdown",
      "metadata": {
        "id": "LzsbvIfHW_eO",
        "colab_type": "text"
      },
      "source": [
        "Verify data:"
      ]
    },
    {
      "cell_type": "code",
      "metadata": {
        "id": "xnfTcEviW_kn",
        "colab_type": "code",
        "colab": {
          "base_uri": "https://localhost:8080/",
          "height": 197
        },
        "outputId": "0671a217-b989-4a25-caa4-5fead115d20f"
      },
      "source": [
        "cars.head()"
      ],
      "execution_count": 76,
      "outputs": [
        {
          "output_type": "execute_result",
          "data": {
            "text/html": [
              "<div>\n",
              "<style scoped>\n",
              "    .dataframe tbody tr th:only-of-type {\n",
              "        vertical-align: middle;\n",
              "    }\n",
              "\n",
              "    .dataframe tbody tr th {\n",
              "        vertical-align: top;\n",
              "    }\n",
              "\n",
              "    .dataframe thead th {\n",
              "        text-align: right;\n",
              "    }\n",
              "</style>\n",
              "<table border=\"1\" class=\"dataframe\">\n",
              "  <thead>\n",
              "    <tr style=\"text-align: right;\">\n",
              "      <th></th>\n",
              "      <th>Car</th>\n",
              "      <th>MPG</th>\n",
              "      <th>Cylinders</th>\n",
              "      <th>Displacement</th>\n",
              "      <th>HP</th>\n",
              "      <th>Weight</th>\n",
              "      <th>Acceleration</th>\n",
              "      <th>Model</th>\n",
              "      <th>Origin</th>\n",
              "    </tr>\n",
              "  </thead>\n",
              "  <tbody>\n",
              "    <tr>\n",
              "      <th>0</th>\n",
              "      <td>Chevrolet Chevelle Malibu</td>\n",
              "      <td>18.0</td>\n",
              "      <td>8</td>\n",
              "      <td>307.0</td>\n",
              "      <td>130</td>\n",
              "      <td>3504</td>\n",
              "      <td>12.0</td>\n",
              "      <td>70</td>\n",
              "      <td>US</td>\n",
              "    </tr>\n",
              "    <tr>\n",
              "      <th>1</th>\n",
              "      <td>Buick Skylark 320</td>\n",
              "      <td>15.0</td>\n",
              "      <td>8</td>\n",
              "      <td>350.0</td>\n",
              "      <td>165</td>\n",
              "      <td>3693</td>\n",
              "      <td>11.5</td>\n",
              "      <td>70</td>\n",
              "      <td>US</td>\n",
              "    </tr>\n",
              "    <tr>\n",
              "      <th>2</th>\n",
              "      <td>Plymouth Satellite</td>\n",
              "      <td>18.0</td>\n",
              "      <td>8</td>\n",
              "      <td>318.0</td>\n",
              "      <td>150</td>\n",
              "      <td>3436</td>\n",
              "      <td>11.0</td>\n",
              "      <td>70</td>\n",
              "      <td>US</td>\n",
              "    </tr>\n",
              "    <tr>\n",
              "      <th>3</th>\n",
              "      <td>AMC Rebel SST</td>\n",
              "      <td>16.0</td>\n",
              "      <td>8</td>\n",
              "      <td>304.0</td>\n",
              "      <td>150</td>\n",
              "      <td>3433</td>\n",
              "      <td>12.0</td>\n",
              "      <td>70</td>\n",
              "      <td>US</td>\n",
              "    </tr>\n",
              "    <tr>\n",
              "      <th>4</th>\n",
              "      <td>Ford Torino</td>\n",
              "      <td>17.0</td>\n",
              "      <td>8</td>\n",
              "      <td>302.0</td>\n",
              "      <td>140</td>\n",
              "      <td>3449</td>\n",
              "      <td>10.5</td>\n",
              "      <td>70</td>\n",
              "      <td>US</td>\n",
              "    </tr>\n",
              "  </tbody>\n",
              "</table>\n",
              "</div>"
            ],
            "text/plain": [
              "                         Car   MPG  Cylinders  ...  Acceleration  Model  Origin\n",
              "0  Chevrolet Chevelle Malibu  18.0          8  ...          12.0     70      US\n",
              "1          Buick Skylark 320  15.0          8  ...          11.5     70      US\n",
              "2         Plymouth Satellite  18.0          8  ...          11.0     70      US\n",
              "3              AMC Rebel SST  16.0          8  ...          12.0     70      US\n",
              "4                Ford Torino  17.0          8  ...          10.5     70      US\n",
              "\n",
              "[5 rows x 9 columns]"
            ]
          },
          "metadata": {
            "tags": []
          },
          "execution_count": 76
        }
      ]
    },
    {
      "cell_type": "markdown",
      "metadata": {
        "id": "qE0z68OZZzy6",
        "colab_type": "text"
      },
      "source": [
        "Get information about dataset:"
      ]
    },
    {
      "cell_type": "code",
      "metadata": {
        "id": "7gwYV3PDna2_",
        "colab_type": "code",
        "colab": {
          "base_uri": "https://localhost:8080/",
          "height": 289
        },
        "outputId": "0b0a86a2-9f31-4f49-d5ff-a866fc96a622"
      },
      "source": [
        "cars.info()"
      ],
      "execution_count": null,
      "outputs": [
        {
          "output_type": "stream",
          "text": [
            "<class 'pandas.core.frame.DataFrame'>\n",
            "RangeIndex: 406 entries, 0 to 405\n",
            "Data columns (total 9 columns):\n",
            " #   Column        Non-Null Count  Dtype  \n",
            "---  ------        --------------  -----  \n",
            " 0   Car           406 non-null    object \n",
            " 1   MPG           406 non-null    float64\n",
            " 2   Cylinders     406 non-null    int64  \n",
            " 3   Displacement  406 non-null    float64\n",
            " 4   HP            406 non-null    int64  \n",
            " 5   Weight        406 non-null    int64  \n",
            " 6   Acceleration  406 non-null    float64\n",
            " 7   Model         406 non-null    int64  \n",
            " 8   Origin        406 non-null    object \n",
            "dtypes: float64(3), int64(4), object(2)\n",
            "memory usage: 28.7+ KB\n"
          ],
          "name": "stdout"
        }
      ]
    },
    {
      "cell_type": "markdown",
      "metadata": {
        "id": "u9rK49_2oFMe",
        "colab_type": "text"
      },
      "source": [
        "## Convert Categorical Column to Numeric \n",
        "\n",
        "Machine learning algorithms can only train numeric data. So, we must convert any non-numeric feature. The 'Origin' column is categorical, not numeric. To remedy, one solution is to encode the data as *one-hot*. **One hot encoding** is a process that converts categorical data into a numeric form for machine learning algorithm consumption.\n",
        "\n",
        "We start by slicing off the 'Origin' feature column from the original DataFrame into its own DataFrame. We then use this DataFrame as a template to build a new feature column in the original DataFrame for each category from the original 'Origin' feature."
      ]
    },
    {
      "cell_type": "code",
      "metadata": {
        "id": "-p9S_pG9qvYK",
        "colab_type": "code",
        "colab": {}
      },
      "source": [
        "# create a copy of DataFrame\n",
        "\n",
        "df = cars.copy()\n",
        "\n",
        "origin = df.pop('Origin')"
      ],
      "execution_count": 77,
      "outputs": []
    },
    {
      "cell_type": "markdown",
      "metadata": {
        "id": "bZWNEtdOrDSw",
        "colab_type": "text"
      },
      "source": [
        "Now, we define a feature column for 'US', 'Europe', and 'Japan' cars:"
      ]
    },
    {
      "cell_type": "code",
      "metadata": {
        "id": "bbSkoUbDoFWM",
        "colab_type": "code",
        "colab": {
          "base_uri": "https://localhost:8080/",
          "height": 287
        },
        "outputId": "b22b8e1a-c3d8-416f-c796-ba30d5c03ea9"
      },
      "source": [
        "df['US'] = (origin == 'US') * 1.0\n",
        "df['Europe'] = (origin == 'Europe') * 1.0\n",
        "df['Japan'] = (origin == 'Japan') * 1.0\n",
        "df.tail(8)"
      ],
      "execution_count": 78,
      "outputs": [
        {
          "output_type": "execute_result",
          "data": {
            "text/html": [
              "<div>\n",
              "<style scoped>\n",
              "    .dataframe tbody tr th:only-of-type {\n",
              "        vertical-align: middle;\n",
              "    }\n",
              "\n",
              "    .dataframe tbody tr th {\n",
              "        vertical-align: top;\n",
              "    }\n",
              "\n",
              "    .dataframe thead th {\n",
              "        text-align: right;\n",
              "    }\n",
              "</style>\n",
              "<table border=\"1\" class=\"dataframe\">\n",
              "  <thead>\n",
              "    <tr style=\"text-align: right;\">\n",
              "      <th></th>\n",
              "      <th>Car</th>\n",
              "      <th>MPG</th>\n",
              "      <th>Cylinders</th>\n",
              "      <th>Displacement</th>\n",
              "      <th>HP</th>\n",
              "      <th>Weight</th>\n",
              "      <th>Acceleration</th>\n",
              "      <th>Model</th>\n",
              "      <th>US</th>\n",
              "      <th>Europe</th>\n",
              "      <th>Japan</th>\n",
              "    </tr>\n",
              "  </thead>\n",
              "  <tbody>\n",
              "    <tr>\n",
              "      <th>398</th>\n",
              "      <td>Toyota Celica GT</td>\n",
              "      <td>32.0</td>\n",
              "      <td>4</td>\n",
              "      <td>144.0</td>\n",
              "      <td>96</td>\n",
              "      <td>2665</td>\n",
              "      <td>13.9</td>\n",
              "      <td>82</td>\n",
              "      <td>0.0</td>\n",
              "      <td>0.0</td>\n",
              "      <td>1.0</td>\n",
              "    </tr>\n",
              "    <tr>\n",
              "      <th>399</th>\n",
              "      <td>Dodge Charger 2.2</td>\n",
              "      <td>36.0</td>\n",
              "      <td>4</td>\n",
              "      <td>135.0</td>\n",
              "      <td>84</td>\n",
              "      <td>2370</td>\n",
              "      <td>13.0</td>\n",
              "      <td>82</td>\n",
              "      <td>1.0</td>\n",
              "      <td>0.0</td>\n",
              "      <td>0.0</td>\n",
              "    </tr>\n",
              "    <tr>\n",
              "      <th>400</th>\n",
              "      <td>Chevrolet Camaro</td>\n",
              "      <td>27.0</td>\n",
              "      <td>4</td>\n",
              "      <td>151.0</td>\n",
              "      <td>90</td>\n",
              "      <td>2950</td>\n",
              "      <td>17.3</td>\n",
              "      <td>82</td>\n",
              "      <td>1.0</td>\n",
              "      <td>0.0</td>\n",
              "      <td>0.0</td>\n",
              "    </tr>\n",
              "    <tr>\n",
              "      <th>401</th>\n",
              "      <td>Ford Mustang GL</td>\n",
              "      <td>27.0</td>\n",
              "      <td>4</td>\n",
              "      <td>140.0</td>\n",
              "      <td>86</td>\n",
              "      <td>2790</td>\n",
              "      <td>15.6</td>\n",
              "      <td>82</td>\n",
              "      <td>1.0</td>\n",
              "      <td>0.0</td>\n",
              "      <td>0.0</td>\n",
              "    </tr>\n",
              "    <tr>\n",
              "      <th>402</th>\n",
              "      <td>Volkswagen Pickup</td>\n",
              "      <td>44.0</td>\n",
              "      <td>4</td>\n",
              "      <td>97.0</td>\n",
              "      <td>52</td>\n",
              "      <td>2130</td>\n",
              "      <td>24.6</td>\n",
              "      <td>82</td>\n",
              "      <td>0.0</td>\n",
              "      <td>1.0</td>\n",
              "      <td>0.0</td>\n",
              "    </tr>\n",
              "    <tr>\n",
              "      <th>403</th>\n",
              "      <td>Dodge Rampage</td>\n",
              "      <td>32.0</td>\n",
              "      <td>4</td>\n",
              "      <td>135.0</td>\n",
              "      <td>84</td>\n",
              "      <td>2295</td>\n",
              "      <td>11.6</td>\n",
              "      <td>82</td>\n",
              "      <td>1.0</td>\n",
              "      <td>0.0</td>\n",
              "      <td>0.0</td>\n",
              "    </tr>\n",
              "    <tr>\n",
              "      <th>404</th>\n",
              "      <td>Ford Ranger</td>\n",
              "      <td>28.0</td>\n",
              "      <td>4</td>\n",
              "      <td>120.0</td>\n",
              "      <td>79</td>\n",
              "      <td>2625</td>\n",
              "      <td>18.6</td>\n",
              "      <td>82</td>\n",
              "      <td>1.0</td>\n",
              "      <td>0.0</td>\n",
              "      <td>0.0</td>\n",
              "    </tr>\n",
              "    <tr>\n",
              "      <th>405</th>\n",
              "      <td>Chevy S-10</td>\n",
              "      <td>31.0</td>\n",
              "      <td>4</td>\n",
              "      <td>119.0</td>\n",
              "      <td>82</td>\n",
              "      <td>2720</td>\n",
              "      <td>19.4</td>\n",
              "      <td>82</td>\n",
              "      <td>1.0</td>\n",
              "      <td>0.0</td>\n",
              "      <td>0.0</td>\n",
              "    </tr>\n",
              "  </tbody>\n",
              "</table>\n",
              "</div>"
            ],
            "text/plain": [
              "                   Car   MPG  Cylinders  ...   US  Europe  Japan\n",
              "398   Toyota Celica GT  32.0          4  ...  0.0     0.0    1.0\n",
              "399  Dodge Charger 2.2  36.0          4  ...  1.0     0.0    0.0\n",
              "400   Chevrolet Camaro  27.0          4  ...  1.0     0.0    0.0\n",
              "401    Ford Mustang GL  27.0          4  ...  1.0     0.0    0.0\n",
              "402  Volkswagen Pickup  44.0          4  ...  0.0     1.0    0.0\n",
              "403      Dodge Rampage  32.0          4  ...  1.0     0.0    0.0\n",
              "404        Ford Ranger  28.0          4  ...  1.0     0.0    0.0\n",
              "405         Chevy S-10  31.0          4  ...  1.0     0.0    0.0\n",
              "\n",
              "[8 rows x 11 columns]"
            ]
          },
          "metadata": {
            "tags": []
          },
          "execution_count": 78
        }
      ]
    },
    {
      "cell_type": "markdown",
      "metadata": {
        "id": "dq2cCot4rOnx",
        "colab_type": "text"
      },
      "source": [
        "So, for each entry in the 'US' feature column, we assign a '1.0' if the car is from the United States. Otherwise, we assign a '0.0'. We follow the same logic for the 'Europe' and 'Japan' feature columns based on the car's origin. Now, the algorithm can process the data properly."
      ]
    },
    {
      "cell_type": "markdown",
      "metadata": {
        "id": "339fLZfpuFv7",
        "colab_type": "text"
      },
      "source": [
        "## Slice Extraneous Data\n",
        "\n",
        "Since the name of each car has no impact on any predictions we might want to make, we can tuck it away into its own DataFrame in case we want to revisit it in the future. "
      ]
    },
    {
      "cell_type": "code",
      "metadata": {
        "id": "evOZ7OnJvYGN",
        "colab_type": "code",
        "colab": {
          "base_uri": "https://localhost:8080/",
          "height": 34
        },
        "outputId": "29eeb98d-f7f8-46c1-bca3-a8d908588be1"
      },
      "source": [
        "try:\n",
        "  name = df.pop('Car')\n",
        "except:\n",
        "  print(\"An exception occurred\")"
      ],
      "execution_count": 80,
      "outputs": [
        {
          "output_type": "stream",
          "text": [
            "An exception occurred\n"
          ],
          "name": "stdout"
        }
      ]
    },
    {
      "cell_type": "markdown",
      "metadata": {
        "id": "0c8psgMcvv-w",
        "colab_type": "text"
      },
      "source": [
        "If an exception occurrs, the *Car* column has already been removed."
      ]
    },
    {
      "cell_type": "markdown",
      "metadata": {
        "id": "pVoMB5PlwL4z",
        "colab_type": "text"
      },
      "source": [
        "Verify:"
      ]
    },
    {
      "cell_type": "code",
      "metadata": {
        "id": "-KwHEouxvaA9",
        "colab_type": "code",
        "colab": {
          "base_uri": "https://localhost:8080/",
          "height": 287
        },
        "outputId": "e064ee91-6554-4c70-89c1-d0e29224d45f"
      },
      "source": [
        "df.tail(8)"
      ],
      "execution_count": 81,
      "outputs": [
        {
          "output_type": "execute_result",
          "data": {
            "text/html": [
              "<div>\n",
              "<style scoped>\n",
              "    .dataframe tbody tr th:only-of-type {\n",
              "        vertical-align: middle;\n",
              "    }\n",
              "\n",
              "    .dataframe tbody tr th {\n",
              "        vertical-align: top;\n",
              "    }\n",
              "\n",
              "    .dataframe thead th {\n",
              "        text-align: right;\n",
              "    }\n",
              "</style>\n",
              "<table border=\"1\" class=\"dataframe\">\n",
              "  <thead>\n",
              "    <tr style=\"text-align: right;\">\n",
              "      <th></th>\n",
              "      <th>MPG</th>\n",
              "      <th>Cylinders</th>\n",
              "      <th>Displacement</th>\n",
              "      <th>HP</th>\n",
              "      <th>Weight</th>\n",
              "      <th>Acceleration</th>\n",
              "      <th>Model</th>\n",
              "      <th>US</th>\n",
              "      <th>Europe</th>\n",
              "      <th>Japan</th>\n",
              "    </tr>\n",
              "  </thead>\n",
              "  <tbody>\n",
              "    <tr>\n",
              "      <th>398</th>\n",
              "      <td>32.0</td>\n",
              "      <td>4</td>\n",
              "      <td>144.0</td>\n",
              "      <td>96</td>\n",
              "      <td>2665</td>\n",
              "      <td>13.9</td>\n",
              "      <td>82</td>\n",
              "      <td>0.0</td>\n",
              "      <td>0.0</td>\n",
              "      <td>1.0</td>\n",
              "    </tr>\n",
              "    <tr>\n",
              "      <th>399</th>\n",
              "      <td>36.0</td>\n",
              "      <td>4</td>\n",
              "      <td>135.0</td>\n",
              "      <td>84</td>\n",
              "      <td>2370</td>\n",
              "      <td>13.0</td>\n",
              "      <td>82</td>\n",
              "      <td>1.0</td>\n",
              "      <td>0.0</td>\n",
              "      <td>0.0</td>\n",
              "    </tr>\n",
              "    <tr>\n",
              "      <th>400</th>\n",
              "      <td>27.0</td>\n",
              "      <td>4</td>\n",
              "      <td>151.0</td>\n",
              "      <td>90</td>\n",
              "      <td>2950</td>\n",
              "      <td>17.3</td>\n",
              "      <td>82</td>\n",
              "      <td>1.0</td>\n",
              "      <td>0.0</td>\n",
              "      <td>0.0</td>\n",
              "    </tr>\n",
              "    <tr>\n",
              "      <th>401</th>\n",
              "      <td>27.0</td>\n",
              "      <td>4</td>\n",
              "      <td>140.0</td>\n",
              "      <td>86</td>\n",
              "      <td>2790</td>\n",
              "      <td>15.6</td>\n",
              "      <td>82</td>\n",
              "      <td>1.0</td>\n",
              "      <td>0.0</td>\n",
              "      <td>0.0</td>\n",
              "    </tr>\n",
              "    <tr>\n",
              "      <th>402</th>\n",
              "      <td>44.0</td>\n",
              "      <td>4</td>\n",
              "      <td>97.0</td>\n",
              "      <td>52</td>\n",
              "      <td>2130</td>\n",
              "      <td>24.6</td>\n",
              "      <td>82</td>\n",
              "      <td>0.0</td>\n",
              "      <td>1.0</td>\n",
              "      <td>0.0</td>\n",
              "    </tr>\n",
              "    <tr>\n",
              "      <th>403</th>\n",
              "      <td>32.0</td>\n",
              "      <td>4</td>\n",
              "      <td>135.0</td>\n",
              "      <td>84</td>\n",
              "      <td>2295</td>\n",
              "      <td>11.6</td>\n",
              "      <td>82</td>\n",
              "      <td>1.0</td>\n",
              "      <td>0.0</td>\n",
              "      <td>0.0</td>\n",
              "    </tr>\n",
              "    <tr>\n",
              "      <th>404</th>\n",
              "      <td>28.0</td>\n",
              "      <td>4</td>\n",
              "      <td>120.0</td>\n",
              "      <td>79</td>\n",
              "      <td>2625</td>\n",
              "      <td>18.6</td>\n",
              "      <td>82</td>\n",
              "      <td>1.0</td>\n",
              "      <td>0.0</td>\n",
              "      <td>0.0</td>\n",
              "    </tr>\n",
              "    <tr>\n",
              "      <th>405</th>\n",
              "      <td>31.0</td>\n",
              "      <td>4</td>\n",
              "      <td>119.0</td>\n",
              "      <td>82</td>\n",
              "      <td>2720</td>\n",
              "      <td>19.4</td>\n",
              "      <td>82</td>\n",
              "      <td>1.0</td>\n",
              "      <td>0.0</td>\n",
              "      <td>0.0</td>\n",
              "    </tr>\n",
              "  </tbody>\n",
              "</table>\n",
              "</div>"
            ],
            "text/plain": [
              "      MPG  Cylinders  Displacement  HP  ...  Model   US  Europe  Japan\n",
              "398  32.0          4         144.0  96  ...     82  0.0     0.0    1.0\n",
              "399  36.0          4         135.0  84  ...     82  1.0     0.0    0.0\n",
              "400  27.0          4         151.0  90  ...     82  1.0     0.0    0.0\n",
              "401  27.0          4         140.0  86  ...     82  1.0     0.0    0.0\n",
              "402  44.0          4          97.0  52  ...     82  0.0     1.0    0.0\n",
              "403  32.0          4         135.0  84  ...     82  1.0     0.0    0.0\n",
              "404  28.0          4         120.0  79  ...     82  1.0     0.0    0.0\n",
              "405  31.0          4         119.0  82  ...     82  1.0     0.0    0.0\n",
              "\n",
              "[8 rows x 10 columns]"
            ]
          },
          "metadata": {
            "tags": []
          },
          "execution_count": 81
        }
      ]
    },
    {
      "cell_type": "markdown",
      "metadata": {
        "id": "JGFD-H8ssvlz",
        "colab_type": "text"
      },
      "source": [
        "## Create Features and Labels\n",
        "\n",
        "Our goal is to predict 'MPG' for cars in this dataset. So, the target is 'MPG' and features are the remaining feature columns."
      ]
    },
    {
      "cell_type": "markdown",
      "metadata": {
        "id": "B3q_-5-UxrqV",
        "colab_type": "text"
      },
      "source": [
        "Create features and targets:"
      ]
    },
    {
      "cell_type": "code",
      "metadata": {
        "id": "ZoFz6ESYxw5G",
        "colab_type": "code",
        "colab": {
          "base_uri": "https://localhost:8080/",
          "height": 70
        },
        "outputId": "322aa075-865d-49ec-9b2a-08734910428c"
      },
      "source": [
        "# create data sets\n",
        "\n",
        "features = df.copy()\n",
        "target = features.pop('MPG')\n",
        "\n",
        "# get feature names\n",
        "\n",
        "feature_cols = list(features)\n",
        "print (feature_cols)\n",
        "\n",
        "# get number of features\n",
        "\n",
        "num_features = len(feature_cols)\n",
        "print (num_features)\n",
        "\n",
        "# convert feature and target data to float\n",
        "\n",
        "features = features.values\n",
        "labels = target.values\n",
        "(type(features), type(labels))"
      ],
      "execution_count": 82,
      "outputs": [
        {
          "output_type": "stream",
          "text": [
            "['Cylinders', 'Displacement', 'HP', 'Weight', 'Acceleration', 'Model', 'US', 'Europe', 'Japan']\n",
            "9\n"
          ],
          "name": "stdout"
        },
        {
          "output_type": "execute_result",
          "data": {
            "text/plain": [
              "(numpy.ndarray, numpy.ndarray)"
            ]
          },
          "metadata": {
            "tags": []
          },
          "execution_count": 82
        }
      ]
    },
    {
      "cell_type": "markdown",
      "metadata": {
        "id": "OHON9vQdsSg6",
        "colab_type": "text"
      },
      "source": [
        "## Build the Input Pipeline"
      ]
    },
    {
      "cell_type": "code",
      "metadata": {
        "id": "7TvDVxnus0-N",
        "colab_type": "code",
        "colab": {
          "base_uri": "https://localhost:8080/",
          "height": 70
        },
        "outputId": "115d408a-dc08-40d9-c2ff-b2b783690110"
      },
      "source": [
        "# split\n",
        "\n",
        "X_train, X_test, y_train, y_test = train_test_split(\n",
        "    features, labels, test_size=0.33, random_state=0)\n",
        "\n",
        "print ('X_train shape:', end=' ')\n",
        "print (X_train.shape, br)\n",
        "\n",
        "print ('X_test shape:', end=' ')\n",
        "print (X_test.shape)\n",
        "\n",
        "# scale\n",
        "\n",
        "X_train_std = scaler.fit_transform(X_train)\n",
        "X_test_std = scaler.fit_transform(X_test)\n",
        "\n",
        "# slice\n",
        "\n",
        "train = tf.data.Dataset.from_tensor_slices(\n",
        "    (X_train_std, y_train))\n",
        "test = tf.data.Dataset.from_tensor_slices(\n",
        "    (X_test_std, y_test))\n",
        "\n",
        "# shuffle, batch, prefetch\n",
        "\n",
        "BATCH_SIZE = 16\n",
        "SHUFFLE_BUFFER_SIZE = 100\n",
        "\n",
        "train_cars = train.shuffle(\n",
        "    SHUFFLE_BUFFER_SIZE).batch(BATCH_SIZE).prefetch(1)\n",
        "test_cars = test.batch(BATCH_SIZE).prefetch(1)"
      ],
      "execution_count": 85,
      "outputs": [
        {
          "output_type": "stream",
          "text": [
            "X_train shape: (272, 9) \n",
            "\n",
            "X_test shape: (134, 9)\n"
          ],
          "name": "stdout"
        }
      ]
    },
    {
      "cell_type": "markdown",
      "metadata": {
        "id": "k8oD8xtO2iHm",
        "colab_type": "text"
      },
      "source": [
        "Inspect tensors:"
      ]
    },
    {
      "cell_type": "code",
      "metadata": {
        "id": "6Afhkdb12iNo",
        "colab_type": "code",
        "colab": {
          "base_uri": "https://localhost:8080/",
          "height": 52
        },
        "outputId": "692525a0-177e-4db7-d076-a1f325314cd6"
      },
      "source": [
        "train_cars, test_cars"
      ],
      "execution_count": 86,
      "outputs": [
        {
          "output_type": "execute_result",
          "data": {
            "text/plain": [
              "(<PrefetchDataset shapes: ((None, 9), (None,)), types: (tf.float64, tf.float64)>,\n",
              " <PrefetchDataset shapes: ((None, 9), (None,)), types: (tf.float64, tf.float64)>)"
            ]
          },
          "metadata": {
            "tags": []
          },
          "execution_count": 86
        }
      ]
    },
    {
      "cell_type": "markdown",
      "metadata": {
        "id": "FX5PjiJkvnDk",
        "colab_type": "text"
      },
      "source": [
        "## Model Data"
      ]
    },
    {
      "cell_type": "code",
      "metadata": {
        "id": "p5mbECFVvnPi",
        "colab_type": "code",
        "colab": {
          "base_uri": "https://localhost:8080/",
          "height": 941
        },
        "outputId": "86626154-d3d0-43f6-f8b2-1fca501c215c"
      },
      "source": [
        "# clear any previous model\n",
        "tf.keras.backend.clear_session()\n",
        "\n",
        "# create the model\n",
        "\n",
        "model = Sequential([\n",
        "  Dense(64, activation='relu', input_shape=[num_features]),\n",
        "  Dense(64, activation='relu'),\n",
        "  Dense(1)\n",
        "])\n",
        "\n",
        "# compile\n",
        "rmse = tf.keras.metrics.RootMeanSquaredError()\n",
        "optimizer = tf.keras.optimizers.RMSprop(0.001)\n",
        "\n",
        "model.compile(loss='mse',\n",
        "              optimizer=optimizer,\n",
        "              metrics=[rmse, 'mae', 'mse'])\n",
        "\n",
        "# train\n",
        "tf.keras.backend.clear_session()\n",
        "\n",
        "n = 4\n",
        "\n",
        "early_stop = tf.keras.callbacks.EarlyStopping(\n",
        "    monitor='val_loss', patience=n)\n",
        "\n",
        "car_history = model.fit(train_cars, epochs=100,\n",
        "                        validation_data=test_cars,\n",
        "                        callbacks=[early_stop])"
      ],
      "execution_count": 87,
      "outputs": [
        {
          "output_type": "stream",
          "text": [
            "Epoch 1/100\n",
            "17/17 [==============================] - 0s 9ms/step - loss: 563.8441 - root_mean_squared_error: 23.7454 - mae: 22.3944 - mse: 563.8441 - val_loss: 530.1664 - val_root_mean_squared_error: 23.0253 - val_mae: 21.3268 - val_mse: 530.1664\n",
            "Epoch 2/100\n",
            "17/17 [==============================] - 0s 4ms/step - loss: 479.4173 - root_mean_squared_error: 21.8956 - mae: 20.5470 - mse: 479.4173 - val_loss: 442.7196 - val_root_mean_squared_error: 21.0409 - val_mae: 19.4312 - val_mse: 442.7196\n",
            "Epoch 3/100\n",
            "17/17 [==============================] - 0s 4ms/step - loss: 383.0551 - root_mean_squared_error: 19.5718 - mae: 18.2422 - mse: 383.0551 - val_loss: 335.5870 - val_root_mean_squared_error: 18.3190 - val_mae: 16.8221 - val_mse: 335.5870\n",
            "Epoch 4/100\n",
            "17/17 [==============================] - 0s 4ms/step - loss: 273.9926 - root_mean_squared_error: 16.5527 - mae: 15.2072 - mse: 273.9926 - val_loss: 223.5784 - val_root_mean_squared_error: 14.9525 - val_mae: 13.5204 - val_mse: 223.5784\n",
            "Epoch 5/100\n",
            "17/17 [==============================] - 0s 4ms/step - loss: 164.6154 - root_mean_squared_error: 12.8303 - mae: 11.5001 - mse: 164.6154 - val_loss: 123.3932 - val_root_mean_squared_error: 11.1083 - val_mae: 9.6890 - val_mse: 123.3932\n",
            "Epoch 6/100\n",
            "17/17 [==============================] - 0s 5ms/step - loss: 82.0055 - root_mean_squared_error: 9.0557 - mae: 7.6223 - mse: 82.0055 - val_loss: 67.4731 - val_root_mean_squared_error: 8.2142 - val_mae: 6.6212 - val_mse: 67.4731\n",
            "Epoch 7/100\n",
            "17/17 [==============================] - 0s 5ms/step - loss: 41.9871 - root_mean_squared_error: 6.4797 - mae: 5.0664 - mse: 41.9871 - val_loss: 46.6470 - val_root_mean_squared_error: 6.8299 - val_mae: 5.2638 - val_mse: 46.6470\n",
            "Epoch 8/100\n",
            "17/17 [==============================] - 0s 5ms/step - loss: 28.6732 - root_mean_squared_error: 5.3547 - mae: 4.0097 - mse: 28.6732 - val_loss: 37.0160 - val_root_mean_squared_error: 6.0841 - val_mae: 4.4338 - val_mse: 37.0160\n",
            "Epoch 9/100\n",
            "17/17 [==============================] - 0s 6ms/step - loss: 23.2319 - root_mean_squared_error: 4.8199 - mae: 3.4907 - mse: 23.2319 - val_loss: 31.3786 - val_root_mean_squared_error: 5.6017 - val_mae: 3.8725 - val_mse: 31.3786\n",
            "Epoch 10/100\n",
            "17/17 [==============================] - 0s 5ms/step - loss: 20.1754 - root_mean_squared_error: 4.4917 - mae: 3.1584 - mse: 20.1754 - val_loss: 28.1445 - val_root_mean_squared_error: 5.3051 - val_mae: 3.5573 - val_mse: 28.1445\n",
            "Epoch 11/100\n",
            "17/17 [==============================] - 0s 5ms/step - loss: 18.6761 - root_mean_squared_error: 4.3216 - mae: 3.0117 - mse: 18.6761 - val_loss: 27.5213 - val_root_mean_squared_error: 5.2461 - val_mae: 3.4415 - val_mse: 27.5213\n",
            "Epoch 12/100\n",
            "17/17 [==============================] - 0s 5ms/step - loss: 17.3988 - root_mean_squared_error: 4.1712 - mae: 2.9033 - mse: 17.3988 - val_loss: 26.8334 - val_root_mean_squared_error: 5.1801 - val_mae: 3.2629 - val_mse: 26.8334\n",
            "Epoch 13/100\n",
            "17/17 [==============================] - 0s 5ms/step - loss: 16.4289 - root_mean_squared_error: 4.0533 - mae: 2.7421 - mse: 16.4289 - val_loss: 26.2298 - val_root_mean_squared_error: 5.1215 - val_mae: 3.2121 - val_mse: 26.2298\n",
            "Epoch 14/100\n",
            "17/17 [==============================] - 0s 5ms/step - loss: 15.5627 - root_mean_squared_error: 3.9450 - mae: 2.6965 - mse: 15.5627 - val_loss: 24.9432 - val_root_mean_squared_error: 4.9943 - val_mae: 3.1004 - val_mse: 24.9432\n",
            "Epoch 15/100\n",
            "17/17 [==============================] - 0s 5ms/step - loss: 15.0089 - root_mean_squared_error: 3.8741 - mae: 2.6261 - mse: 15.0089 - val_loss: 25.3052 - val_root_mean_squared_error: 5.0304 - val_mae: 3.1390 - val_mse: 25.3052\n",
            "Epoch 16/100\n",
            "17/17 [==============================] - 0s 6ms/step - loss: 14.6352 - root_mean_squared_error: 3.8256 - mae: 2.5835 - mse: 14.6352 - val_loss: 25.1156 - val_root_mean_squared_error: 5.0115 - val_mae: 2.9804 - val_mse: 25.1156\n",
            "Epoch 17/100\n",
            "17/17 [==============================] - 0s 5ms/step - loss: 14.1334 - root_mean_squared_error: 3.7594 - mae: 2.5246 - mse: 14.1334 - val_loss: 24.4166 - val_root_mean_squared_error: 4.9413 - val_mae: 2.9560 - val_mse: 24.4166\n",
            "Epoch 18/100\n",
            "17/17 [==============================] - 0s 5ms/step - loss: 13.7954 - root_mean_squared_error: 3.7142 - mae: 2.4897 - mse: 13.7954 - val_loss: 24.7196 - val_root_mean_squared_error: 4.9719 - val_mae: 2.9312 - val_mse: 24.7196\n",
            "Epoch 19/100\n",
            "17/17 [==============================] - 0s 5ms/step - loss: 13.2677 - root_mean_squared_error: 3.6425 - mae: 2.4651 - mse: 13.2677 - val_loss: 24.4253 - val_root_mean_squared_error: 4.9422 - val_mae: 2.9461 - val_mse: 24.4253\n",
            "Epoch 20/100\n",
            "17/17 [==============================] - 0s 5ms/step - loss: 13.4277 - root_mean_squared_error: 3.6644 - mae: 2.4660 - mse: 13.4277 - val_loss: 24.3963 - val_root_mean_squared_error: 4.9393 - val_mae: 2.8950 - val_mse: 24.3963\n",
            "Epoch 21/100\n",
            "17/17 [==============================] - 0s 5ms/step - loss: 12.6076 - root_mean_squared_error: 3.5507 - mae: 2.3702 - mse: 12.6076 - val_loss: 24.6875 - val_root_mean_squared_error: 4.9686 - val_mae: 2.8306 - val_mse: 24.6875\n",
            "Epoch 22/100\n",
            "17/17 [==============================] - 0s 5ms/step - loss: 12.4414 - root_mean_squared_error: 3.5272 - mae: 2.3354 - mse: 12.4414 - val_loss: 24.3839 - val_root_mean_squared_error: 4.9380 - val_mae: 2.9640 - val_mse: 24.3839\n",
            "Epoch 23/100\n",
            "17/17 [==============================] - 0s 5ms/step - loss: 12.3833 - root_mean_squared_error: 3.5190 - mae: 2.3868 - mse: 12.3833 - val_loss: 25.1024 - val_root_mean_squared_error: 5.0102 - val_mae: 2.8497 - val_mse: 25.1024\n",
            "Epoch 24/100\n",
            "17/17 [==============================] - 0s 4ms/step - loss: 12.1076 - root_mean_squared_error: 3.4796 - mae: 2.3762 - mse: 12.1076 - val_loss: 24.7668 - val_root_mean_squared_error: 4.9766 - val_mae: 2.8170 - val_mse: 24.7668\n",
            "Epoch 25/100\n",
            "17/17 [==============================] - 0s 4ms/step - loss: 12.0564 - root_mean_squared_error: 3.4722 - mae: 2.3143 - mse: 12.0564 - val_loss: 24.6438 - val_root_mean_squared_error: 4.9643 - val_mae: 2.8123 - val_mse: 24.6438\n",
            "Epoch 26/100\n",
            "17/17 [==============================] - 0s 4ms/step - loss: 11.6598 - root_mean_squared_error: 3.4146 - mae: 2.3005 - mse: 11.6598 - val_loss: 24.6990 - val_root_mean_squared_error: 4.9698 - val_mae: 2.7893 - val_mse: 24.6990\n"
          ],
          "name": "stdout"
        }
      ]
    },
    {
      "cell_type": "markdown",
      "metadata": {
        "id": "LQbREWjoyzc-",
        "colab_type": "text"
      },
      "source": [
        "## Inspect the Model"
      ]
    },
    {
      "cell_type": "code",
      "metadata": {
        "id": "XiFIJi0cyzll",
        "colab_type": "code",
        "colab": {
          "base_uri": "https://localhost:8080/",
          "height": 265
        },
        "outputId": "07cf4bd1-27b6-4e9d-e83b-a81fa79559a9"
      },
      "source": [
        "model.summary()"
      ],
      "execution_count": 88,
      "outputs": [
        {
          "output_type": "stream",
          "text": [
            "Model: \"sequential\"\n",
            "_________________________________________________________________\n",
            "Layer (type)                 Output Shape              Param #   \n",
            "=================================================================\n",
            "dense (Dense)                (None, 64)                640       \n",
            "_________________________________________________________________\n",
            "dense_1 (Dense)              (None, 64)                4160      \n",
            "_________________________________________________________________\n",
            "dense_2 (Dense)              (None, 1)                 65        \n",
            "=================================================================\n",
            "Total params: 4,865\n",
            "Trainable params: 4,865\n",
            "Non-trainable params: 0\n",
            "_________________________________________________________________\n"
          ],
          "name": "stdout"
        }
      ]
    },
    {
      "cell_type": "markdown",
      "metadata": {
        "id": "joGMOHSXEmXh",
        "colab_type": "text"
      },
      "source": [
        "## Visualize Training"
      ]
    },
    {
      "cell_type": "code",
      "metadata": {
        "id": "C05oagoDEmga",
        "colab_type": "code",
        "colab": {
          "base_uri": "https://localhost:8080/",
          "height": 886
        },
        "outputId": "31c332a8-d2dd-469d-cd31-bcdadf285136"
      },
      "source": [
        "hist = pd.DataFrame(car_history.history)\n",
        "hist['epoch'] = car_history.epoch\n",
        "\n",
        "train_limit, test_limit = 10, 100\n",
        "\n",
        "plot_history(history, train_limit, test_limit)"
      ],
      "execution_count": 89,
      "outputs": [
        {
          "output_type": "display_data",
          "data": {
            "image/png": "[encoded data removed]",
            "text/plain": [
              "<Figure size 432x288 with 1 Axes>"
            ]
          },
          "metadata": {
            "tags": [],
            "needs_background": "light"
          }
        },
        {
          "output_type": "display_data",
          "data": {
            "text/plain": [
              "<Figure size 432x288 with 0 Axes>"
            ]
          },
          "metadata": {
            "tags": []
          }
        },
        {
          "output_type": "display_data",
          "data": {
            "image/png": "[encoded data removed]",
            "text/plain": [
              "<Figure size 432x288 with 1 Axes>"
            ]
          },
          "metadata": {
            "tags": [],
            "needs_background": "light"
          }
        },
        {
          "output_type": "display_data",
          "data": {
            "text/plain": [
              "<Figure size 432x288 with 0 Axes>"
            ]
          },
          "metadata": {
            "tags": []
          }
        },
        {
          "output_type": "display_data",
          "data": {
            "image/png": "[encoded data removed]",
            "text/plain": [
              "<Figure size 432x288 with 1 Axes>"
            ]
          },
          "metadata": {
            "tags": [],
            "needs_background": "light"
          }
        }
      ]
    },
    {
      "cell_type": "markdown",
      "metadata": {
        "id": "4wpHwumxGrU8",
        "colab_type": "text"
      },
      "source": [
        "## Generalize on Test Data"
      ]
    },
    {
      "cell_type": "code",
      "metadata": {
        "id": "E11l_ablGsAk",
        "colab_type": "code",
        "colab": {
          "base_uri": "https://localhost:8080/",
          "height": 70
        },
        "outputId": "38f52d92-4838-4058-d695-3dc84c66dc3a"
      },
      "source": [
        "loss, rmse, mae, mse = model.evaluate(test_cars, verbose=2)\n",
        "\n",
        "print ()\n",
        "\n",
        "print('\"Testing set Mean Abs Error: {:5.2f} MPG'.format(mae))"
      ],
      "execution_count": 91,
      "outputs": [
        {
          "output_type": "stream",
          "text": [
            "9/9 - 0s - loss: 24.6990 - root_mean_squared_error: 4.9698 - mae: 2.7893 - mse: 24.6990\n",
            "\n",
            "\"Testing set Mean Abs Error:  2.79 MPG\n"
          ],
          "name": "stdout"
        }
      ]
    },
    {
      "cell_type": "markdown",
      "metadata": {
        "id": "DhMF55-uG3nM",
        "colab_type": "text"
      },
      "source": [
        "## Make Predictions"
      ]
    },
    {
      "cell_type": "code",
      "metadata": {
        "id": "ip7M-YQ1G30K",
        "colab_type": "code",
        "colab": {}
      },
      "source": [
        "predictions = model.predict(test_cars)"
      ],
      "execution_count": 92,
      "outputs": []
    },
    {
      "cell_type": "markdown",
      "metadata": {
        "id": "Hc9brgz5HCjN",
        "colab_type": "text"
      },
      "source": [
        "## Visualize Predictions"
      ]
    },
    {
      "cell_type": "code",
      "metadata": {
        "id": "spb90N-1HCsF",
        "colab_type": "code",
        "colab": {
          "base_uri": "https://localhost:8080/",
          "height": 278
        },
        "outputId": "eb166990-ab4a-4591-d6be-82bfd922b393"
      },
      "source": [
        "fig, ax = plt.subplots()\n",
        "ax.scatter(y_test, predictions)\n",
        "ax.plot([y_test.min(), y_test.max()],\\\n",
        "        [y_test.min(), y_test.max()], 'k--', lw=4)\n",
        "ax.set_xlabel('Measured')\n",
        "ax.set_ylabel('Predicted')\n",
        "plt.show()"
      ],
      "execution_count": 93,
      "outputs": [
        {
          "output_type": "display_data",
          "data": {
            "image/png": "[encoded data removed]",
            "text/plain": [
              "<Figure size 432x288 with 1 Axes>"
            ]
          },
          "metadata": {
            "tags": [],
            "needs_background": "light"
          }
        }
      ]
    },
    {
      "cell_type": "markdown",
      "metadata": {
        "id": "PSKIfgtPNZNZ",
        "colab_type": "text"
      },
      "source": [
        "# Read from UCI Irvine Machine Learning Repository\n",
        "\n",
        "We can also read car data directly from the UCI Irvine Machine Learning Repository."
      ]
    },
    {
      "cell_type": "code",
      "metadata": {
        "id": "yis3wFh5NZa_",
        "colab_type": "code",
        "colab": {
          "base_uri": "https://localhost:8080/",
          "height": 71
        },
        "outputId": "5c912952-f90d-438c-8510-b7f3f7daae7b"
      },
      "source": [
        "dataset_path = tf.keras.utils.get_file(\"auto-mpg.data\", \"http://archive.ics.uci.\\\n",
        "edu/ml/machine-learning-databases/auto-mpg/auto-mpg.data\")\n",
        "dataset_path"
      ],
      "execution_count": 94,
      "outputs": [
        {
          "output_type": "stream",
          "text": [
            "Downloading data from http://archive.ics.uci.edu/ml/machine-learning-databases/auto-mpg/auto-mpg.data\n",
            "32768/30286 [================================] - 0s 5us/step\n"
          ],
          "name": "stdout"
        },
        {
          "output_type": "execute_result",
          "data": {
            "application/vnd.google.colaboratory.intrinsic+json": {
              "type": "string"
            },
            "text/plain": [
              "'/root/.keras/datasets/auto-mpg.data'"
            ]
          },
          "metadata": {
            "tags": []
          },
          "execution_count": 94
        }
      ]
    },
    {
      "cell_type": "markdown",
      "metadata": {
        "id": "f1YifGCONsf3",
        "colab_type": "text"
      },
      "source": [
        "# Get Data into Pandas"
      ]
    },
    {
      "cell_type": "code",
      "metadata": {
        "id": "N5w6YKACNsql",
        "colab_type": "code",
        "colab": {
          "base_uri": "https://localhost:8080/",
          "height": 197
        },
        "outputId": "3c72e143-c848-4019-f76c-b2804427891c"
      },
      "source": [
        "column_names = ['MPG','Cylinders','Displacement','Horsepower','Weight',\n",
        "                'Acceleration', 'Model Year', 'Origin']\n",
        "\n",
        "uci_cars = pd.read_csv(dataset_path, names=column_names,\n",
        "                       na_values = '?', comment='\\t',\n",
        "                       sep=' ', skipinitialspace=True)\n",
        "\n",
        "uci_cars.head()"
      ],
      "execution_count": 95,
      "outputs": [
        {
          "output_type": "execute_result",
          "data": {
            "text/html": [
              "<div>\n",
              "<style scoped>\n",
              "    .dataframe tbody tr th:only-of-type {\n",
              "        vertical-align: middle;\n",
              "    }\n",
              "\n",
              "    .dataframe tbody tr th {\n",
              "        vertical-align: top;\n",
              "    }\n",
              "\n",
              "    .dataframe thead th {\n",
              "        text-align: right;\n",
              "    }\n",
              "</style>\n",
              "<table border=\"1\" class=\"dataframe\">\n",
              "  <thead>\n",
              "    <tr style=\"text-align: right;\">\n",
              "      <th></th>\n",
              "      <th>MPG</th>\n",
              "      <th>Cylinders</th>\n",
              "      <th>Displacement</th>\n",
              "      <th>Horsepower</th>\n",
              "      <th>Weight</th>\n",
              "      <th>Acceleration</th>\n",
              "      <th>Model Year</th>\n",
              "      <th>Origin</th>\n",
              "    </tr>\n",
              "  </thead>\n",
              "  <tbody>\n",
              "    <tr>\n",
              "      <th>0</th>\n",
              "      <td>18.0</td>\n",
              "      <td>8</td>\n",
              "      <td>307.0</td>\n",
              "      <td>130.0</td>\n",
              "      <td>3504.0</td>\n",
              "      <td>12.0</td>\n",
              "      <td>70</td>\n",
              "      <td>1</td>\n",
              "    </tr>\n",
              "    <tr>\n",
              "      <th>1</th>\n",
              "      <td>15.0</td>\n",
              "      <td>8</td>\n",
              "      <td>350.0</td>\n",
              "      <td>165.0</td>\n",
              "      <td>3693.0</td>\n",
              "      <td>11.5</td>\n",
              "      <td>70</td>\n",
              "      <td>1</td>\n",
              "    </tr>\n",
              "    <tr>\n",
              "      <th>2</th>\n",
              "      <td>18.0</td>\n",
              "      <td>8</td>\n",
              "      <td>318.0</td>\n",
              "      <td>150.0</td>\n",
              "      <td>3436.0</td>\n",
              "      <td>11.0</td>\n",
              "      <td>70</td>\n",
              "      <td>1</td>\n",
              "    </tr>\n",
              "    <tr>\n",
              "      <th>3</th>\n",
              "      <td>16.0</td>\n",
              "      <td>8</td>\n",
              "      <td>304.0</td>\n",
              "      <td>150.0</td>\n",
              "      <td>3433.0</td>\n",
              "      <td>12.0</td>\n",
              "      <td>70</td>\n",
              "      <td>1</td>\n",
              "    </tr>\n",
              "    <tr>\n",
              "      <th>4</th>\n",
              "      <td>17.0</td>\n",
              "      <td>8</td>\n",
              "      <td>302.0</td>\n",
              "      <td>140.0</td>\n",
              "      <td>3449.0</td>\n",
              "      <td>10.5</td>\n",
              "      <td>70</td>\n",
              "      <td>1</td>\n",
              "    </tr>\n",
              "  </tbody>\n",
              "</table>\n",
              "</div>"
            ],
            "text/plain": [
              "    MPG  Cylinders  Displacement  ...  Acceleration  Model Year  Origin\n",
              "0  18.0          8         307.0  ...          12.0          70       1\n",
              "1  15.0          8         350.0  ...          11.5          70       1\n",
              "2  18.0          8         318.0  ...          11.0          70       1\n",
              "3  16.0          8         304.0  ...          12.0          70       1\n",
              "4  17.0          8         302.0  ...          10.5          70       1\n",
              "\n",
              "[5 rows x 8 columns]"
            ]
          },
          "metadata": {
            "tags": []
          },
          "execution_count": 95
        }
      ]
    }
  ]
}